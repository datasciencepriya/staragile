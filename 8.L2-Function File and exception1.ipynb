{
 "cells": [
  {
   "cell_type": "markdown",
   "id": "4f1596de",
   "metadata": {
    "id": "4f1596de"
   },
   "source": [
    "# Functions\n",
    "- Write solution of each question in the cell given below the corresponsing question.\n",
    "- Function taking input refers to input as a parameter / argument being passed."
   ]
  },
  {
   "cell_type": "markdown",
   "id": "6f0d9ac3",
   "metadata": {
    "id": "6f0d9ac3"
   },
   "source": [
    "#### 1. Create a function that takes a list of numbers as input and returns the median."
   ]
  },
  {
   "cell_type": "code",
   "execution_count": 1,
   "id": "0a090145",
   "metadata": {
    "id": "0a090145"
   },
   "outputs": [],
   "source": [
    "def even_median(numbers):\n",
    "        middle1 = numbers[n // 2 - 1]\n",
    "        middle2 = numbers[n // 2]\n",
    "        return (middle1 + middle2) / 2\n",
    "def odd_median(numbers):\n",
    "    return numbers[n // 2]\n",
    "\n"
   ]
  },
  {
   "cell_type": "code",
   "execution_count": 2,
   "id": "5e69ad6c",
   "metadata": {},
   "outputs": [
    {
     "name": "stdout",
     "output_type": "stream",
     "text": [
      "The Median for this list of numbers is : 5.5\n"
     ]
    }
   ],
   "source": [
    "numbers = [1,2,3,4,5,6,7,8,9,10]\n",
    "n = len(numbers)\n",
    "\n",
    "if n % 2 == 0:\n",
    "    median = even_median(numbers)\n",
    "\n",
    "else:\n",
    "    median = odd_median(numbers)\n",
    "\n",
    "print('The Median for this list of numbers is : {}'.format(median))\n",
    "\n",
    "\n"
   ]
  },
  {
   "cell_type": "markdown",
   "id": "18a107c4",
   "metadata": {
    "id": "18a107c4"
   },
   "source": [
    "#### 2. Create a function that takes a list of numbers as input and returns the mean."
   ]
  },
  {
   "cell_type": "code",
   "execution_count": 3,
   "id": "Vy8v3p_hIgsc",
   "metadata": {
    "id": "Vy8v3p_hIgsc"
   },
   "outputs": [],
   "source": [
    "def mean(numbers):\n",
    "    mean = sum(numbers) // len(numbers)\n",
    "    return mean\n"
   ]
  },
  {
   "cell_type": "code",
   "execution_count": 4,
   "id": "9533b14a",
   "metadata": {
    "id": "9533b14a"
   },
   "outputs": [
    {
     "name": "stdout",
     "output_type": "stream",
     "text": [
      "The Mean is : 68\n"
     ]
    }
   ],
   "source": [
    "numbers = [40,70,80,99,44,77,66]\n",
    "mean = mean(numbers)\n",
    "print('The Mean is : {}'.format(mean))"
   ]
  },
  {
   "cell_type": "markdown",
   "id": "34df49cf",
   "metadata": {
    "id": "34df49cf"
   },
   "source": [
    "#### 3. Create a function that takes a list of numbers as input and returns the standard deviation."
   ]
  },
  {
   "cell_type": "code",
   "execution_count": 5,
   "id": "5a089785",
   "metadata": {
    "id": "5a089785"
   },
   "outputs": [
    {
     "name": "stdout",
     "output_type": "stream",
     "text": [
      "The standard deviation is : 18.708286933869708\n"
     ]
    }
   ],
   "source": [
    "import math\n",
    "\n",
    "def stddev(numbers):\n",
    "    count = len(numbers)\n",
    "    total = sum(numbers)\n",
    "    mean = total / count\n",
    "    \n",
    "    sumofsquares = 0\n",
    "    for item in numbers:\n",
    "        sumofsquares += (item - mean) ** 2\n",
    "    \n",
    "    variance = sumofsquares / count\n",
    "    standard_deviation = math.sqrt(variance)\n",
    "    \n",
    "    return standard_deviation\n",
    "\n",
    "numbers = [90, 80, 70, 60, 50, 40, 60, 30]\n",
    "stddev = stddev(numbers)\n",
    "print('The standard deviation is : {}'.format(stddev))\n"
   ]
  },
  {
   "cell_type": "markdown",
   "id": "9cc39352",
   "metadata": {
    "id": "9cc39352"
   },
   "source": [
    "#### 4. Create a function that takes a number as input and return True if the number is prime , False if not."
   ]
  },
  {
   "cell_type": "code",
   "execution_count": 6,
   "id": "722fc2fa",
   "metadata": {
    "id": "722fc2fa"
   },
   "outputs": [
    {
     "name": "stdout",
     "output_type": "stream",
     "text": [
      "Enter the input:5\n",
      "True The input is prime\n"
     ]
    }
   ],
   "source": [
    "def isprime(number):\n",
    "    if number < 2:\n",
    "        return False\n",
    "    for i in range(2, int(number ** 0.5) + 1):\n",
    "        if number % i == 0:\n",
    "            return False\n",
    "    return True\n",
    "\n",
    "number = int(input('Enter the input:'))\n",
    "prime  = isprime(number) \n",
    "if prime is True:\n",
    "    print('True','The input is prime')\n",
    "else:\n",
    "    print('False','The input is  not prime')\n"
   ]
  },
  {
   "cell_type": "markdown",
   "id": "4029f3a8",
   "metadata": {
    "id": "4029f3a8"
   },
   "source": [
    "#### 5. Create a function that takes a list of numbers as input and returns the variance."
   ]
  },
  {
   "cell_type": "code",
   "execution_count": 7,
   "id": "83d19248",
   "metadata": {
    "id": "83d19248"
   },
   "outputs": [
    {
     "name": "stdout",
     "output_type": "stream",
     "text": [
      "The variance is : 350.0\n"
     ]
    }
   ],
   "source": [
    "\n",
    "#creating function to find variance\n",
    "def variance(numbers):\n",
    "# finding length of list as count\n",
    "    count = len(numbers)\n",
    "    total = sum(numbers)\n",
    "    mean = total / count\n",
    "    \n",
    "    sumofsquares = 0\n",
    "    for item in numbers:\n",
    "        sumofsquares += (item - mean) ** 2\n",
    "    \n",
    "    variance = sumofsquares / count\n",
    "\n",
    "    \n",
    "    return variance\n",
    "\n",
    "numbers = [90, 80, 70, 60, 50, 40, 60, 30]\n",
    "variance = variance(numbers)\n",
    "print('The variance is : {}'.format(variance))\n"
   ]
  },
  {
   "cell_type": "markdown",
   "id": "7acad1bf",
   "metadata": {
    "id": "7acad1bf"
   },
   "source": [
    "#### 6. Create a function that takes a number as input and returns the factorial."
   ]
  },
  {
   "cell_type": "code",
   "execution_count": 8,
   "id": "f7c0877a",
   "metadata": {
    "id": "f7c0877a"
   },
   "outputs": [
    {
     "name": "stdout",
     "output_type": "stream",
     "text": [
      "Enter the number: 8\n",
      "The factorial of 8 is 40320\n"
     ]
    }
   ],
   "source": [
    "def factorial(n):\n",
    "    result = 1 \n",
    "    for i in range(1, n + 1):\n",
    "        result *= i\n",
    "    return result\n",
    "\n",
    "n = int(input('Enter the number: '))\n",
    "factorial1 = factorial(n)\n",
    "print(\"The factorial of {} is {}\".format(n, factorial1))\n"
   ]
  },
  {
   "cell_type": "markdown",
   "id": "b1e46b1f",
   "metadata": {
    "id": "b1e46b1f"
   },
   "source": [
    "#### 7. Create a function that takes two lists of same length as input and returns a list consisting of larger element at each position after comparing the corresponding elements in the given lists."
   ]
  },
  {
   "cell_type": "code",
   "execution_count": 9,
   "id": "bc428d22",
   "metadata": {
    "id": "bc428d22"
   },
   "outputs": [
    {
     "name": "stdout",
     "output_type": "stream",
     "text": [
      "Enter the list1 values: 10 20 30 40 50 60\n",
      "Enter the list2 values: 30 20 10 40 70 60\n",
      "The list having the largest number is: [30, 20, 30, 40, 70, 60]\n"
     ]
    }
   ],
   "source": [
    "def comparelist(list1, list2):\n",
    "    if len(list1) != len(list2):\n",
    "        return False\n",
    "    else:\n",
    "        largest = []\n",
    "        for i in range(len(list1)):\n",
    "            if list1[i] > list2[i]:\n",
    "                largest.append(list1[i])\n",
    "            else:\n",
    "                largest.append(list2[i])\n",
    "    return largest\n",
    "\n",
    "list1 = list(map(int, input('Enter the list1 values: ').split()))\n",
    "list2 = list(map(int, input('Enter the list2 values: ').split()))\n",
    "largestlist = comparelist(list1, list2)\n",
    "print(\"The list having the largest number is: {}\".format(largestlist))\n",
    "\n"
   ]
  },
  {
   "cell_type": "markdown",
   "id": "f397889f",
   "metadata": {
    "id": "f397889f"
   },
   "source": [
    "#### 8. Create a function that takes a string and returns a string after joining the words that are having even lengths."
   ]
  },
  {
   "cell_type": "code",
   "execution_count": 10,
   "id": "ebf96e1c",
   "metadata": {
    "id": "ebf96e1c"
   },
   "outputs": [
    {
     "name": "stdout",
     "output_type": "stream",
     "text": [
      "everyone to have nice is even length words in the string\n"
     ]
    }
   ],
   "source": [
    "def joinevenwords(s):\n",
    "    words = s.split()\n",
    "    evenwords = [word for word in words if len(word) % 2 == 0]\n",
    "    result = \" \".join(evenwords)\n",
    "    return result\n",
    "\n",
    "# Example usage:\n",
    "s = \"Hello everyone welcome to the session have a nice day \"\n",
    "evenlengthwords = joinevenwords(s)\n",
    "print(evenlengthwords,'is even length words in the string')\n"
   ]
  },
  {
   "cell_type": "markdown",
   "id": "36c6aae1",
   "metadata": {
    "id": "36c6aae1"
   },
   "source": [
    "#### 9. Create a function that takes a string and a character as input and returns a list after splitting the string based on the given character. By Default split based on whitespace. (Create a function similar to the inbuilt split function without using it)."
   ]
  },
  {
   "cell_type": "code",
   "execution_count": 11,
   "id": "869d7244",
   "metadata": {
    "id": "869d7244"
   },
   "outputs": [
    {
     "data": {
      "text/plain": [
       "['Hello', 'Good', 'day']"
      ]
     },
     "execution_count": 11,
     "metadata": {},
     "output_type": "execute_result"
    }
   ],
   "source": [
    "def split_string(s, c = ' '):\n",
    "    words = []\n",
    "    start = 0\n",
    "    for i in range(len(s)):\n",
    "        if s[i] == c:\n",
    "            words.append(s[start:i])\n",
    "            start = i + 1\n",
    "    words.append(s[start:i+1])\n",
    "    return words\n",
    "\n",
    "split_string('Hello Good day')"
   ]
  },
  {
   "cell_type": "markdown",
   "id": "e62de70b",
   "metadata": {},
   "source": [
    "This function, `split_string`, is designed to split a string into words based on a given delimiter character `c`. If no delimiter is provided, it defaults to a space character.\n",
    "\n",
    "Let's break down the function:\n",
    "\n",
    "1. `def split_string(s, c=' ')`: This line defines the function `split_string` with two parameters: `s`, which is the input string to be split, and `c`, which is the delimiter character. If `c` is not provided, it defaults to a space character.\n",
    "\n",
    "2. `words = []`: This initializes an empty list `words` where the split words will be stored.\n",
    "\n",
    "3. `start = 0`: This initializes a variable `start` to keep track of the starting index of each word in the input string.\n",
    "\n",
    "4. `for i in range(len(s)):`: This loop iterates over each character in the input string `s`.\n",
    "\n",
    "5. `if s[i] == c:`: This condition checks if the current character is equal to the delimiter character `c`.\n",
    "\n",
    "6. `words.append(s[start:i])`: If the current character is the delimiter, it means that a word has ended. So, it appends the substring from the `start` index to `i` (exclusive) to the `words` list. This substring represents the word between the previous delimiter (or start of the string) and the current delimiter.\n",
    "\n",
    "7. `start = i + 1`: It updates the `start` index to the next character after the delimiter.\n",
    "\n",
    "8. After the loop, there might be one more word remaining after the last delimiter or if there are no delimiters in the string. So, `words.append(s[start:i+1])` appends the last word to the `words` list. The substring is from the last delimiter (or start of the string) to the end of the string.\n",
    "\n",
    "9. Finally, the function returns the list of split words `words`.\n",
    "\n",
    "For example, if you call `split_string('Hello Good day')`, it will return `['Hello', 'Good', 'day']`, splitting the input string into words based on the default delimiter, which is a space."
   ]
  },
  {
   "cell_type": "markdown",
   "id": "b8c01afd",
   "metadata": {
    "id": "b8c01afd"
   },
   "source": [
    "#### 10. Create a function which takes a 2-D list of shape m * n where m is number of elements in the original list and where each element is a list having n integers (A list of m lists having n numbers each, a matrix). The function returns the largest element in the given list."
   ]
  },
  {
   "cell_type": "code",
   "execution_count": 12,
   "id": "9c1a3f96",
   "metadata": {},
   "outputs": [
    {
     "name": "stdout",
     "output_type": "stream",
     "text": [
      "9\n"
     ]
    }
   ],
   "source": [
    "def largestelement(list2d):\n",
    "\n",
    "  # Initialize the largest element to the first element in the 2-D list.\n",
    "  largest_element = list2d[0][0]\n",
    "\n",
    "  # Iterate over the 2-D list, comparing each element to the largest element.\n",
    "  for row in list2d:\n",
    "    for element in row:\n",
    "        if element > largest_element:\n",
    "            largest_element = element\n",
    "\n",
    "  # Return the largest element.\n",
    "  return largest_element\n",
    "\n",
    "list2d = [[1, 2, 3], [4, 5, 6], [7, 8, 9]]\n",
    "\n",
    "largest_element = largestelement(list2d)\n",
    "\n",
    "print(largest_element)\n",
    "\n"
   ]
  },
  {
   "cell_type": "code",
   "execution_count": 40,
   "id": "adda1366",
   "metadata": {
    "id": "adda1366"
   },
   "outputs": [
    {
     "name": "stdout",
     "output_type": "stream",
     "text": [
      "Enter the list1 values: 88 90 66 75 59\n",
      "Enter the list2 values: 99 12 55 83 44\n",
      "The list having the largest number is: [99, 90, 66, 83, 59]\n"
     ]
    }
   ],
   "source": [
    "def comparelist(list1, list2):\n",
    "    if len(list1) != len(list2):\n",
    "        return False\n",
    "    else:\n",
    "        largest = []\n",
    "        for i in range(len(list1)):\n",
    "            if list1[i] > list2[i]:\n",
    "                largest.append(list1[i])\n",
    "            else:\n",
    "                largest.append(list2[i])\n",
    "    return largest\n",
    "\n",
    "list1 = list(map(int, input('Enter the list1 values: ').split()))\n",
    "list2 = list(map(int, input('Enter the list2 values: ').split()))\n",
    "largestlist = comparelist(list1, list2)\n",
    "print(\"The list having the largest number is: {}\".format(largestlist))\n",
    "\n"
   ]
  },
  {
   "cell_type": "markdown",
   "id": "d2a2a668",
   "metadata": {
    "id": "d2a2a668"
   },
   "source": [
    "#### 11. Create a function which takes a 2-D list of shape m * n where m is number of elements in the original list and where each element is a list having n integers (A list of m lists having n numbers each). The function also takes a number x as input and returns True is x is in the given 2D list."
   ]
  },
  {
   "cell_type": "code",
   "execution_count": 14,
   "id": "585d5e4b",
   "metadata": {
    "id": "585d5e4b"
   },
   "outputs": [
    {
     "data": {
      "text/plain": [
       "False"
      ]
     },
     "execution_count": 14,
     "metadata": {},
     "output_type": "execute_result"
    }
   ],
   "source": [
    "def search2d(nums,x):\n",
    "    largest = nums[0][0]\n",
    "    m= len(nums)\n",
    "    n= len(nums[0])\n",
    "    \n",
    "    for i in range(m):\n",
    "        for j in range(n):\n",
    "            if nums[i][j] == x:\n",
    "                return True\n",
    "    else:\n",
    "        return False\n",
    "        \n",
    "search2d([[1,2,3],[4,5,6]], 7)\n"
   ]
  },
  {
   "cell_type": "markdown",
   "id": "0d889f51",
   "metadata": {
    "id": "0d889f51"
   },
   "source": [
    "#### 12. Create a function which takes a 2-D list of shape m * n where m is number of elements in the original list and where each element is a list having n integers (A list of m lists having n numbers each). The function returns the sum of all rows in the matrix (2 D list)."
   ]
  },
  {
   "cell_type": "code",
   "execution_count": 15,
   "id": "56d82617",
   "metadata": {
    "id": "56d82617"
   },
   "outputs": [
    {
     "name": "stdout",
     "output_type": "stream",
     "text": [
      "The sum of two list is: [4, 6, 9]\n"
     ]
    }
   ],
   "source": [
    "def sum1(nums1, nums2):\n",
    "    totalsum = []\n",
    "    for i in range(len(nums1)):\n",
    "        total = nums1[i] + nums2[i]\n",
    "        totalsum.append(total)\n",
    "    return totalsum\n",
    "\n",
    "\n",
    "nums1, nums2 = [[1, 2, 3], [3, 4, 6]]\n",
    "result = sum1(nums1, nums2)\n",
    "print('The sum of two list is:',result)\n"
   ]
  },
  {
   "cell_type": "markdown",
   "id": "f89438e1",
   "metadata": {
    "id": "f89438e1"
   },
   "source": [
    "#### 13. Create a function which takes a 2-D list of shape m * n where m is number of elements in the original list and where each element is a list having n integers (A list of m lists having n numbers each). The function also a takes a number x as input and returns a list of all consecutive pairs having sum eaqqual to x."
   ]
  },
  {
   "cell_type": "code",
   "execution_count": 19,
   "id": "9a3a8e86",
   "metadata": {},
   "outputs": [
    {
     "name": "stdout",
     "output_type": "stream",
     "text": [
      "[(2, 4), (5, 1)]\n"
     ]
    }
   ],
   "source": [
    "def consecutive_sum(list2d, x):\n",
    "    pairs = []\n",
    "    for i in range(len(list2d)):\n",
    "        for j in range(len(list2d[i]) - 1):\n",
    "            if list2d[i][j] + list2d[i][j + 1] == x:\n",
    "                pairs.append((list2d[i][j], list2d[i][j + 1]))\n",
    "        return pairs\n",
    "                \n",
    "                \n",
    "list2d = [[1, 3,2,4,5,1],[1,4,2,3,6,3]]\n",
    "x = 6\n",
    "\n",
    "pairs = consecutive_sum(list2d, x)\n",
    "\n",
    "print(pairs)\n"
   ]
  },
  {
   "cell_type": "markdown",
   "id": "976248d9",
   "metadata": {
    "id": "976248d9"
   },
   "source": [
    "#### 14. Create a function that takes a list and a number as input and returns True ifthe number is present in the list otherwise false using Binary search algorithm. (Read about Binary Search)."
   ]
  },
  {
   "cell_type": "code",
   "execution_count": 18,
   "id": "31d3c65f",
   "metadata": {},
   "outputs": [
    {
     "ename": "NameError",
     "evalue": "name 'my_list' is not defined",
     "output_type": "error",
     "traceback": [
      "\u001b[1;31m---------------------------------------------------------------------------\u001b[0m",
      "\u001b[1;31mNameError\u001b[0m                                 Traceback (most recent call last)",
      "Cell \u001b[1;32mIn[18], line 18\u001b[0m\n\u001b[0;32m     16\u001b[0m \u001b[38;5;28mlist\u001b[39m \u001b[38;5;241m=\u001b[39m [\u001b[38;5;241m1\u001b[39m, \u001b[38;5;241m3\u001b[39m, \u001b[38;5;241m5\u001b[39m, \u001b[38;5;241m7\u001b[39m, \u001b[38;5;241m9\u001b[39m, \u001b[38;5;241m11\u001b[39m, \u001b[38;5;241m13\u001b[39m]\n\u001b[0;32m     17\u001b[0m number_to_find \u001b[38;5;241m=\u001b[39m \u001b[38;5;241m7\u001b[39m\n\u001b[1;32m---> 18\u001b[0m result \u001b[38;5;241m=\u001b[39m binary_search(my_list, number_to_find)\n\u001b[0;32m     19\u001b[0m \u001b[38;5;28mprint\u001b[39m(result)\n",
      "\u001b[1;31mNameError\u001b[0m: name 'my_list' is not defined"
     ]
    }
   ],
   "source": [
    "def binary_search(list, x):\n",
    "    left, right = 0, len(list) - 1\n",
    "\n",
    "    while left <= right:\n",
    "        mid = (left + right) // 2\n",
    "        if list[mid] == x :\n",
    "            return True\n",
    "        elif list[mid] < x:\n",
    "            left = mid + 1\n",
    "        else:\n",
    "            right = mid - 1\n",
    "\n",
    "    return False\n",
    "\n",
    "# Example usage:\n",
    "list = [1, 3, 5, 7, 9, 11, 13]\n",
    "number_to_find = 7\n",
    "result = binary_search(my_list, number_to_find)\n",
    "print(result)  # Output will be True\n"
   ]
  },
  {
   "cell_type": "markdown",
   "id": "f12cc8c9",
   "metadata": {
    "id": "f12cc8c9"
   },
   "source": [
    "#### 15. Create a function which takes a txt filename as input and returns the number of words in that file."
   ]
  },
  {
   "cell_type": "code",
   "execution_count": 19,
   "id": "46492494",
   "metadata": {
    "id": "46492494"
   },
   "outputs": [
    {
     "name": "stdout",
     "output_type": "stream",
     "text": [
      "No of words in file filehandling : 188\n"
     ]
    }
   ],
   "source": [
    "def count_words_in_file(filename):\n",
    "\n",
    "  # Open the text file in read mode.\n",
    "  with open(filename, \"r\") as f:\n",
    "\n",
    "    # Read the entire text file into a string.\n",
    "    text = f.read()\n",
    "\n",
    "    # Split the text into words.\n",
    "    words = text.split()\n",
    "\n",
    "  # Return the number of words.\n",
    "  return len(words)\n",
    "\n",
    "filename = 'file/filehandling.txt'\n",
    "result= count_words_in_file('file/filehandling.txt')\n",
    "print('No of words in file filehandling :',result)"
   ]
  },
  {
   "cell_type": "markdown",
   "id": "b2666c95",
   "metadata": {
    "id": "b2666c95"
   },
   "source": [
    "#### 16. Create a function which takes a txt filename as input and returns the number of line in the file."
   ]
  },
  {
   "cell_type": "code",
   "execution_count": null,
   "id": "5ff27d42",
   "metadata": {
    "id": "5ff27d42"
   },
   "outputs": [],
   "source": [
    "def count_words_in_file(filename):\n",
    "    # Open the text file in read mode.\n",
    "    with open(filename, \"r\") as f:\n",
    "\n",
    "        # Read the entire text file into a string.\n",
    "        text = f.read()\n",
    "\n",
    "        # Split the text into words.\n",
    "        words = text.split()\n",
    "\n",
    "    # Return the number of words.\n",
    "    return len(words)\n"
   ]
  },
  {
   "cell_type": "code",
   "execution_count": 50,
   "id": "be237705",
   "metadata": {},
   "outputs": [
    {
     "name": "stdout",
     "output_type": "stream",
     "text": [
      "No of lines in file filehandling : 186\n"
     ]
    }
   ],
   "source": [
    "def count_lines_in_file(filename):\n",
    "    # Open the text file in read mode.\n",
    "    with open(filename, \"r\") as f:\n",
    "        line_count = 0\n",
    "\n",
    "        # Read the file line by line and count the lines.\n",
    "        for _ in f:\n",
    "            line_count += 1\n",
    "\n",
    "    return line_count\n",
    "\n",
    "filename = 'file/filehandling.txt'\n",
    "result= count_words_in_file('file/filehandling.txt')\n",
    "print('No of lines in file filehandling :',result)"
   ]
  },
  {
   "cell_type": "code",
   "execution_count": 80,
   "id": "fdb24556",
   "metadata": {},
   "outputs": [
    {
     "name": "stdout",
     "output_type": "stream",
     "text": [
      "No of lines in file hobby and hobby1 is : 10\n"
     ]
    }
   ],
   "source": [
    "def count_lines_in_file(filename):\n",
    "    # Open the text file in read mode.\n",
    "    with open(filename, \"r\") as f:\n",
    "        line_count = 0\n",
    "        for i in f:\n",
    "            line_count += 1\n",
    "    return line_count\n",
    "\n",
    "filename = 'file/hobby.txt' \n",
    "result1 = count_lines_in_file(filename)\n",
    "filename = 'file/hobby1.txt' \n",
    "result2 = count_lines_in_file(filename)\n",
    "result = result1 + result2\n",
    "\n",
    "print('No of lines in file hobby and hobby1 is :', result)\n"
   ]
  },
  {
   "cell_type": "markdown",
   "id": "6722fb75",
   "metadata": {
    "id": "6722fb75"
   },
   "source": [
    "#### 17. Create a function that takes two txt filenames and returns a file after merging the cintents of two given files. (Print the merged content and then return the filename, content of original files should be unchanged)."
   ]
  },
  {
   "cell_type": "code",
   "execution_count": 34,
   "id": "d20770cd",
   "metadata": {},
   "outputs": [
    {
     "name": "stdout",
     "output_type": "stream",
     "text": [
      "dancing\n",
      "palying cricket\n",
      "playing badminton\n",
      "chess \n",
      "writtingsinging\n",
      "cooking\n",
      "gardening\n",
      "reading\n",
      "fighting\n",
      "\n",
      "merged.txt\n"
     ]
    }
   ],
   "source": [
    "def merge_text_files(a, b):\n",
    "    with open(a, \"r\") as f1, open(b, \"r\") as f2:\n",
    "        text1 = f1.read()\n",
    "        text2 = f2.read()\n",
    "    merged_text = text1 + text2\n",
    "    merged_filename = \"merged.txt\"\n",
    "    with open(merged_filename, \"w\") as f:\n",
    "        f.write(merged_text)\n",
    "    print(merged_text)\n",
    "    return merged_filename\n",
    "\n",
    "file = merge_text_files('file/hobby.txt', 'file/hobby1.txt')\n",
    "\n",
    "print(file)\n"
   ]
  },
  {
   "cell_type": "markdown",
   "id": "faf26668",
   "metadata": {
    "id": "faf26668"
   },
   "source": [
    "#### 18. Write a program that takes a string as input and returns a list of all words having even length in that string (Using Map/Filter and Lambda expression)."
   ]
  },
  {
   "cell_type": "code",
   "execution_count": 8,
   "id": "955cd692",
   "metadata": {
    "id": "955cd692"
   },
   "outputs": [
    {
     "data": {
      "text/plain": [
       "['everyone', 'good', 'to']"
      ]
     },
     "execution_count": 8,
     "metadata": {},
     "output_type": "execute_result"
    }
   ],
   "source": [
    "s = 'Hello everyone good morning welcome to the session'\n",
    "list(filter(lambda word : len(word) % 2 == 0, s.split()))"
   ]
  },
  {
   "cell_type": "code",
   "execution_count": null,
   "id": "e6a66b7d",
   "metadata": {},
   "outputs": [],
   "source": []
  }
 ],
 "metadata": {
  "colab": {
   "provenance": []
  },
  "kernelspec": {
   "display_name": "Python 3 (ipykernel)",
   "language": "python",
   "name": "python3"
  },
  "language_info": {
   "codemirror_mode": {
    "name": "ipython",
    "version": 3
   },
   "file_extension": ".py",
   "mimetype": "text/x-python",
   "name": "python",
   "nbconvert_exporter": "python",
   "pygments_lexer": "ipython3",
   "version": "3.11.4"
  }
 },
 "nbformat": 4,
 "nbformat_minor": 5
}
