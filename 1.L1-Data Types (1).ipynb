{
 "cells": [
  {
   "cell_type": "markdown",
   "id": "9cacd9e4",
   "metadata": {
    "id": "9cacd9e4"
   },
   "source": [
    "# Data Types & Basic Programs\n",
    "- Write solution of each question in the cell given below the corresponsing question."
   ]
  },
  {
   "cell_type": "markdown",
   "id": "a36a3683",
   "metadata": {
    "id": "a36a3683"
   },
   "source": [
    "#### 1. Write a program to take principal amount, rate and interest as input and calculate simple interest."
   ]
  },
  {
   "cell_type": "code",
   "execution_count": 1,
   "id": "iyGa2yN7bkZL",
   "metadata": {
    "colab": {
     "base_uri": "https://localhost:8080/",
     "height": 130
    },
    "executionInfo": {
     "elapsed": 8,
     "status": "error",
     "timestamp": 1682422665028,
     "user": {
      "displayName": "saylee morey",
      "userId": "14399473198527863861"
     },
     "user_tz": -330
    },
    "id": "iyGa2yN7bkZL",
    "outputId": "43c86045-073b-48a6-b7fb-8895e19b4b9c"
   },
   "outputs": [
    {
     "name": "stdout",
     "output_type": "stream",
     "text": [
      "The pricipal is  9\n",
      "The time period is 8\n",
      "The rate of interest is 9\n",
      "The Simple Interest is 6.48\n"
     ]
    },
    {
     "data": {
      "text/plain": [
       "6.48"
      ]
     },
     "execution_count": 1,
     "metadata": {},
     "output_type": "execute_result"
    }
   ],
   "source": [
    "\n",
    " # python code for calculating simple interest using principal amount, rate and interest\n",
    "def simple_interest(p, t, r):\n",
    "    print('The pricipal is ', p)\n",
    "    print('The time period is', t)\n",
    "    print('The rate of interest is', r)\n",
    "    si= (p*t*r)/100\n",
    "    print('The Simple Interest is', si)\n",
    "    return si\n",
    "  # sample amount for code\n",
    "simple_interest(9,8,9)\n",
    " "
   ]
  },
  {
   "cell_type": "code",
   "execution_count": 17,
   "id": "7b59b5d1",
   "metadata": {},
   "outputs": [
    {
     "name": "stdout",
     "output_type": "stream",
     "text": [
      "Enter The Principal Amount : 6\n",
      "Enter The No of Years      : 7\n",
      "Enter The rate of Interest : 8\n",
      "The Simple Interest is     : 3.36    \n"
     ]
    }
   ],
   "source": [
    "# python code for calculating simple interest\n",
    "principal_amount = int(input(\"Enter The Principal Amount : \"))\n",
    "no_of_year       = int(input(\"Enter The No of Years      : \"))\n",
    "rate_of_interest = int(input(\"Enter The rate of Interest : \"))\n",
    "\n",
    "# simple interest calculation using formula :p*n*r/100\n",
    "simple_interest   = (principal_amount * no_of_year * rate_of_interest)/100\n",
    "\n",
    "# result printing\n",
    "print('The Simple Interest is     : {}    '.format(simple_interest))\n",
    "\n"
   ]
  },
  {
   "cell_type": "markdown",
   "id": "3a9994e0",
   "metadata": {
    "id": "3a9994e0"
   },
   "source": [
    "#### 2. Write a program that takes a string as input and prints the number of words in the string."
   ]
  },
  {
   "cell_type": "code",
   "execution_count": 31,
   "id": "9VbTZFFQfHCm",
   "metadata": {
    "id": "9VbTZFFQfHCm"
   },
   "outputs": [
    {
     "name": "stdout",
     "output_type": "stream",
     "text": [
      "The Given Input strings is  :priya kalai lakshmi\n",
      "The Given String is                           : ['priya', 'kalai', 'lakshmi']\n",
      "The  Number of word in given string  is       : 3\n"
     ]
    }
   ],
   "source": [
    "#program to print number words in a given string\n",
    "given_string = list(map(str,input('The Given Input strings is  :').split())) \n",
    "# to get inpiut as more than 1 string\n",
    "print('The Given String is                           :', given_string)\n",
    "word_count   = len(given_string)\n",
    "print('The  Number of word in given string  is       :', word_count)"
   ]
  },
  {
   "cell_type": "code",
   "execution_count": 1,
   "id": "68d2ad6f",
   "metadata": {},
   "outputs": [
    {
     "name": "stdout",
     "output_type": "stream",
     "text": [
      "The Given Input strings is  :hai how are you\n",
      "The Given String is                           : ['hai', 'how', 'are', 'you']\n",
      "The  Number of word in given string  is       : 4\n"
     ]
    }
   ],
   "source": [
    "#program to print number words in a given string\n",
    "given_string = input('The Given Input strings is  :')\n",
    "given_string = given_string.split()\n",
    "# to get inpiut as more than 1 string\n",
    "print('The Given String is                           :', given_string)\n",
    "word_count   = len(given_string)\n",
    "print('The  Number of word in given string  is       :', word_count)"
   ]
  },
  {
   "cell_type": "markdown",
   "id": "8a8d5e27",
   "metadata": {
    "id": "8a8d5e27"
   },
   "source": [
    "#### 3. Write a program to take a list of numbers as input (in a single line) and print the sum, avg, max and min elements."
   ]
  },
  {
   "cell_type": "code",
   "execution_count": 32,
   "id": "OUlGO6fiVlU7",
   "metadata": {
    "id": "OUlGO6fiVlU7"
   },
   "outputs": [
    {
     "name": "stdout",
     "output_type": "stream",
     "text": [
      "Enter the student marks in first subject  : 66\n",
      "Enter the student marks in second subject : 77\n",
      "Enter the student marks in third subject  : 88\n",
      "Enter the student marks in fourth subject : 99\n",
      "Enter the student marks in fifth subject  : 55\n",
      "\n",
      "The Student's Sum          is :  385\n",
      "The Student's Average      is :  77.0\n",
      "The Student's Higest score is :  99\n",
      "The Student's Lowest score is :  55\n"
     ]
    }
   ],
   "source": [
    "# get list of numbers in single line then calculate sum,avg,max,min\n",
    "\n",
    "first_subject  = int(input(\"Enter the student marks in first subject  : \"))\n",
    "second_subject = int(input(\"Enter the student marks in second subject : \"))\n",
    "third_subject  = int(input(\"Enter the student marks in third subject  : \"))\n",
    "forth_subject  = int(input(\"Enter the student marks in fourth subject : \"))\n",
    "fifth_subject  = int(input(\"Enter the student marks in fifth subject  : \"))\n",
    "# total subjects in list\n",
    "total_subject  = [first_subject, second_subject, third_subject, forth_subject, fifth_subject]\n",
    "\n",
    "print()\n",
    "#printing the sum\n",
    "print(\"The Student's Sum          is : \", sum(total_subject))\n",
    "#printing the avg\n",
    "print(\"The Student's Average      is : \", sum(total_subject)/len(total_subject))\n",
    "#printing the max\n",
    "print(\"The Student's Higest score is : \", max(total_subject))\n",
    "#printing the min\n",
    "print(\"The Student's Lowest score is : \", min(total_subject))\n",
    "\n",
    "\n"
   ]
  },
  {
   "cell_type": "code",
   "execution_count": 2,
   "id": "5f218762",
   "metadata": {},
   "outputs": [
    {
     "name": "stdout",
     "output_type": "stream",
     "text": [
      "Enter the marks in 5 subject(seperated by space) :67 54 89 77 100\n",
      "387\n",
      "77.4\n",
      "100\n",
      "54\n"
     ]
    }
   ],
   "source": [
    "num = input ('Enter the marks in 5 subject(seperated by space) :').split()\n",
    "num = list(map(int,num))\n",
    "print(sum(num))\n",
    "print(sum(num)/len(num))\n",
    "print(max(num))\n",
    "print(min(num))"
   ]
  },
  {
   "cell_type": "markdown",
   "id": "17dbd6e8",
   "metadata": {
    "id": "17dbd6e8"
   },
   "source": [
    "#### 4. Write a program to take the marks of 3 students in five subjects each as a list (one list for each input) as input and print the average score of each student.."
   ]
  },
  {
   "cell_type": "code",
   "execution_count": 39,
   "id": "BTd2sM7i9sui",
   "metadata": {
    "id": "BTd2sM7i9sui"
   },
   "outputs": [
    {
     "name": "stdout",
     "output_type": "stream",
     "text": [
      "Enter the Five subject marks of roll no 1 student :99 98 97 96 95\n",
      "Enter the five subject marks of roll no 2 student :89 88 87 86 85\n",
      "Enter the five subject marks of roll no 3 student :98 85 99 84 92\n",
      "\n",
      "Roll no 1 Student Average Mark is : 97.0\n",
      "Roll no 2 Student Average Mark is : 87.0\n",
      "Roll no 3 Student Average Mark is : 91.6\n"
     ]
    }
   ],
   "source": [
    "# get three student five subject marks then find average score of each student\n",
    "student1_score=list(map(int,input(\"Enter the Five subject marks of roll no 1 student :\").split()))\n",
    "student2_score=list(map(int,input(\"Enter the five subject marks of roll no 2 student :\").split()))\n",
    "student3_score=list(map(int,input(\"Enter the five subject marks of roll no 3 student :\").split()))\n",
    "print()\n",
    "#finding avg of each student\n",
    "print(\"Roll no 1 Student Average Mark is :\",sum(student1_score)/len(student1_score))\n",
    "print(\"Roll no 2 Student Average Mark is :\",sum(student2_score)/len(student2_score))\n",
    "print(\"Roll no 3 Student Average Mark is :\",sum(student3_score)/len(student3_score))"
   ]
  },
  {
   "cell_type": "markdown",
   "id": "39fb8526",
   "metadata": {
    "id": "39fb8526"
   },
   "source": [
    "#### 5. Write a program to take a list as input containing results of 10 coin tosses as 'H' or 'T'. Jon gets a point for each 'T' and Tom gets a point for each 'H'. print the points recieved by both."
   ]
  },
  {
   "cell_type": "code",
   "execution_count": 40,
   "id": "Ijvfc63fHr8B",
   "metadata": {
    "id": "Ijvfc63fHr8B"
   },
   "outputs": [
    {
     "name": "stdout",
     "output_type": "stream",
     "text": [
      "Enter The occurence of H or T in  10 Coin Tosses :h t h h t t t h t t\n",
      "\n",
      "Total points of Jon is : 6\n",
      "Total points of Tom is : 4\n"
     ]
    }
   ],
   "source": [
    "# get input as 10 coin H or T occuences when tossed and count no of occurences of H and T\n",
    "\n",
    "ten_coin_results=list(map(str,input(\"Enter The occurence of H or T in  10 Coin Tosses :\").split()))\n",
    "occurence=list(map(str.upper,ten_coin_results))\n",
    "jon_count=occurence.count('T')\n",
    "tom_count=occurence.count('H')\n",
    "\n",
    "print()\n",
    "print('Total points of Jon is :',jon_count)\n",
    "print('Total points of Tom is :',tom_count)\n",
    "\n",
    "\n",
    "\n",
    "  \n",
    "\n"
   ]
  },
  {
   "cell_type": "markdown",
   "id": "4a6dc391",
   "metadata": {
    "id": "4a6dc391"
   },
   "source": [
    "#### 6. Take two numbers as input and print the result after swapping them. (Without using multiple assignment and any extra variable)."
   ]
  },
  {
   "cell_type": "code",
   "execution_count": 41,
   "id": "oiSoXznqZbC_",
   "metadata": {
    "id": "oiSoXznqZbC_"
   },
   "outputs": [
    {
     "name": "stdout",
     "output_type": "stream",
     "text": [
      "Enter the first number:56\n",
      "Enter the second number:78\n",
      "\n",
      "Before swaping:\n",
      "first_number is  = 56\n",
      "second_number is = 78\n",
      "\n",
      "swaping operation without temp variable :\n",
      "first number  = 134\n",
      "second number  = 56\n",
      "first number   = 78\n",
      "\n",
      "After swapping : \n",
      "first_number   = 78\n",
      "second_number  = 56\n"
     ]
    }
   ],
   "source": [
    "# swapping of two numbers without using multiple assignment and any extra variable\n",
    "first_number = int(input('Enter the first number:'))\n",
    "second_number = int(input('Enter the second number:'))\n",
    "print('\\nBefore swaping:')\n",
    "print('first_number is  =', first_number)\n",
    "print('second_number is =', second_number)\n",
    "print('\\nswaping operation without temp variable :')\n",
    "first_number = first_number + second_number\n",
    "print('first number  =',first_number)\n",
    "second_number = first_number - second_number\n",
    "print('second number  =',second_number)\n",
    "first_number = first_number - second_number\n",
    "print('first number   =',first_number)\n",
    "print('\\nAfter swapping : ')\n",
    "print('first_number   =',first_number)\n",
    "print('second_number  =',second_number)\n"
   ]
  },
  {
   "cell_type": "markdown",
   "id": "b0059e36",
   "metadata": {
    "id": "b0059e36"
   },
   "source": [
    "#### 7. Take a list as input in a single line containing 10 numbers as marks out of 100. The even positions in the list are marks of Tom and the odd positions are the marks of Jon. Calculate the average marks of both."
   ]
  },
  {
   "cell_type": "code",
   "execution_count": 49,
   "id": "dzK-bSIM6rh6",
   "metadata": {
    "id": "dzK-bSIM6rh6"
   },
   "outputs": [
    {
     "name": "stdout",
     "output_type": "stream",
     "text": [
      "Enter the numbers : 99 98 97 96 95 94 93 92 91 90\n",
      "tom marks [99, 97, 95, 93, 91]\n",
      "jon marks [98, 96, 94, 92, 90]\n",
      "tom avg : 95.0\n",
      "jon avg : 94.0\n"
     ]
    }
   ],
   "source": [
    "\n",
    "student_marks=list(map(int,input(\"Enter the numbers : \").split()))\n",
    "tom_marks = student_marks[0::2]\n",
    "\n",
    "print('tom marks {}'.format(tom_marks))\n",
    "jon_marks = student_marks[1::2]\n",
    "\n",
    "print('jon marks {}'.format(jon_marks))\n",
    "print('tom avg :',sum(tom_marks)/len(tom_marks))\n",
    "print('jon avg :',sum(jon_marks)/len(jon_marks))\n",
    "\n",
    "\n",
    "\n",
    "    \n",
    "\n",
    "\n"
   ]
  },
  {
   "cell_type": "markdown",
   "id": "f07dab7c",
   "metadata": {
    "id": "f07dab7c"
   },
   "source": [
    "#### 8. Take a string and a character as input. Print the result having the character between each word of the given string."
   ]
  },
  {
   "cell_type": "code",
   "execution_count": 5,
   "id": "Bak8JEWdAAFv",
   "metadata": {
    "id": "Bak8JEWdAAFv"
   },
   "outputs": [
    {
     "name": "stdout",
     "output_type": "stream",
     "text": [
      "Enter a string: priya dayalan bakkiya lakshmi\n",
      "Enter a char to add  : @@\n",
      "The Combined Result is : priya@@dayalan@@bakkiya@@lakshmi\n"
     ]
    }
   ],
   "source": [
    "input_string        = (input(\"Enter a string: \").split())\n",
    "inserted_char_value = input(\"Enter a char to add  : \")\n",
    "combined_result     = inserted_char_value.join(input_string)\n",
    "print(\"The Combined Result is :\", combined_result)\n"
   ]
  },
  {
   "cell_type": "markdown",
   "id": "a45320b7",
   "metadata": {
    "id": "a45320b7"
   },
   "source": [
    "#### 9. Create a dictionary having three items. Key of each item is the name of a student, value associated with each key is a list of marks in five subjects. Given this dictionary print the average score of each student."
   ]
  },
  {
   "cell_type": "code",
   "execution_count": 50,
   "id": "_WpSWzXdLyri",
   "metadata": {
    "id": "_WpSWzXdLyri"
   },
   "outputs": [
    {
     "name": "stdout",
     "output_type": "stream",
     "text": [
      "student1 Average score is : 54.0\n",
      "student2 Average score is : 72.6\n",
      "student3 Average score is : 72.6\n"
     ]
    }
   ],
   "source": [
    "marks = { 'student1'  : [12,34,56,78,90],\n",
    "          'student2'  : [99,33, 66,77,88],\n",
    "          'student3'  : [99,77,88,44,55] }\n",
    "mark1 = list(marks.values())\n",
    "mark1\n",
    "student1 = mark1[0]\n",
    "student2 = mark1[1]\n",
    "student3 = mark1[2]\n",
    "print('student1 Average score is :' , sum(student1)/len(student1))\n",
    "print('student2 Average score is :' , sum(student2)/len(student2))\n",
    "print('student3 Average score is :' , sum(student3)/len(student3))"
   ]
  },
  {
   "cell_type": "code",
   "execution_count": 3,
   "id": "86c26676",
   "metadata": {},
   "outputs": [
    {
     "ename": "NameError",
     "evalue": "name 'student1' is not defined",
     "output_type": "error",
     "traceback": [
      "\u001b[1;31m---------------------------------------------------------------------------\u001b[0m",
      "\u001b[1;31mNameError\u001b[0m                                 Traceback (most recent call last)",
      "Cell \u001b[1;32mIn[3], line 4\u001b[0m\n\u001b[0;32m      1\u001b[0m marks \u001b[38;5;241m=\u001b[39m { \u001b[38;5;124m'\u001b[39m\u001b[38;5;124mstudent1\u001b[39m\u001b[38;5;124m'\u001b[39m  : [\u001b[38;5;241m12\u001b[39m,\u001b[38;5;241m34\u001b[39m,\u001b[38;5;241m56\u001b[39m,\u001b[38;5;241m78\u001b[39m,\u001b[38;5;241m90\u001b[39m],\n\u001b[0;32m      2\u001b[0m           \u001b[38;5;124m'\u001b[39m\u001b[38;5;124mstudent2\u001b[39m\u001b[38;5;124m'\u001b[39m  : [\u001b[38;5;241m99\u001b[39m,\u001b[38;5;241m33\u001b[39m, \u001b[38;5;241m66\u001b[39m,\u001b[38;5;241m77\u001b[39m,\u001b[38;5;241m88\u001b[39m],\n\u001b[0;32m      3\u001b[0m           \u001b[38;5;124m'\u001b[39m\u001b[38;5;124mstudent3\u001b[39m\u001b[38;5;124m'\u001b[39m  : [\u001b[38;5;241m99\u001b[39m,\u001b[38;5;241m77\u001b[39m,\u001b[38;5;241m88\u001b[39m,\u001b[38;5;241m44\u001b[39m,\u001b[38;5;241m55\u001b[39m] }\n\u001b[1;32m----> 4\u001b[0m student_1\u001b[38;5;241m=\u001b[39m marks[student1][\u001b[38;5;241m0\u001b[39m]\n\u001b[0;32m      5\u001b[0m student_2 \u001b[38;5;241m=\u001b[39m marks[student2][\u001b[38;5;241m1\u001b[39m]\n\u001b[0;32m      6\u001b[0m student_3 \u001b[38;5;241m=\u001b[39m marks[student3][\u001b[38;5;241m2\u001b[39m]\n",
      "\u001b[1;31mNameError\u001b[0m: name 'student1' is not defined"
     ]
    }
   ],
   "source": [
    "marks = { 'student1'  : [12,34,56,78,90],\n",
    "          'student2'  : [99,33, 66,77,88],\n",
    "          'student3'  : [99,77,88,44,55] }\n",
    "student_1= marks[student1][0]\n",
    "student_2 = marks[student2][1]\n",
    "student_3 = marks[student3][2]\n",
    "print('student1 Average score is :' , sum(student_1)/len(student_1))\n",
    "print('student2 Average score is :' , sum(student_2)/len(student_2))\n",
    "print('student3 Average score is :' , sum(student_3)/len(student_3))"
   ]
  },
  {
   "cell_type": "code",
   "execution_count": 2,
   "id": "1bb548f1",
   "metadata": {},
   "outputs": [
    {
     "name": "stdout",
     "output_type": "stream",
     "text": [
      "student1 Average score is : 54.0\n",
      "student2 Average score is : 72.6\n",
      "student3 Average score is : 72.6\n"
     ]
    }
   ],
   "source": [
    "marks = { 'student1'  : [12,34,56,78,90],\n",
    "          'student2'  : [99,33, 66,77,88],\n",
    "          'student3'  : [99,77,88,44,55] }\n",
    "student1 = marks['student1']\n",
    "student2 = marks['student2']\n",
    "student3 = marks['student3']\n",
    "print('student1 Average score is :' , sum(student1)/len(student1))\n",
    "print('student2 Average score is :' , sum(student2)/len(student2))\n",
    "print('student3 Average score is :' , sum(student3)/len(student3))"
   ]
  },
  {
   "cell_type": "code",
   "execution_count": 4,
   "id": "4bd2296e",
   "metadata": {},
   "outputs": [
    {
     "name": "stdout",
     "output_type": "stream",
     "text": [
      "54.0\n"
     ]
    }
   ],
   "source": [
    "marks = { 'student1'  : [12,34,56,78,90],\n",
    "          'student2'  : [99,33, 66,77,88],\n",
    "          'student3'  : [99,77,88,44,55] }\n",
    "std1 = marks['student1']\n",
    "print(sum(std1)/len(std1))"
   ]
  },
  {
   "cell_type": "markdown",
   "id": "aba63bd1",
   "metadata": {
    "id": "aba63bd1"
   },
   "source": [
    "#### 10. Take a string as input(may contain repetitive words), print a list consisting of unique words from the given string."
   ]
  },
  {
   "cell_type": "code",
   "execution_count": 51,
   "id": "Wrc5hOBIF-ww",
   "metadata": {
    "id": "Wrc5hOBIF-ww"
   },
   "outputs": [
    {
     "data": {
      "text/plain": [
       "{'goms', 'kalai', 'kani', 'priya', 'raji'}"
      ]
     },
     "execution_count": 51,
     "metadata": {},
     "output_type": "execute_result"
    }
   ],
   "source": [
    "input_names  = ['priya','raji','goms','kani','priya','kalai']\n",
    "unique_names = set(input_names)\n",
    "unique_names"
   ]
  },
  {
   "cell_type": "code",
   "execution_count": 1,
   "id": "4be4632d",
   "metadata": {},
   "outputs": [
    {
     "name": "stdout",
     "output_type": "stream",
     "text": [
      "Help on built-in function print in module builtins:\n",
      "\n",
      "print(*args, sep=' ', end='\\n', file=None, flush=False)\n",
      "    Prints the values to a stream, or to sys.stdout by default.\n",
      "    \n",
      "    sep\n",
      "      string inserted between values, default a space.\n",
      "    end\n",
      "      string appended after the last value, default a newline.\n",
      "    file\n",
      "      a file-like object (stream); defaults to the current sys.stdout.\n",
      "    flush\n",
      "      whether to forcibly flush the stream.\n",
      "\n"
     ]
    }
   ],
   "source": [
    "help(print)"
   ]
  },
  {
   "cell_type": "code",
   "execution_count": 6,
   "id": "7514f9ef",
   "metadata": {},
   "outputs": [
    {
     "ename": "NameError",
     "evalue": "name 'python' is not defined",
     "output_type": "error",
     "traceback": [
      "\u001b[1;31m---------------------------------------------------------------------------\u001b[0m",
      "\u001b[1;31mNameError\u001b[0m                                 Traceback (most recent call last)",
      "Cell \u001b[1;32mIn[6], line 1\u001b[0m\n\u001b[1;32m----> 1\u001b[0m help(python)\n",
      "\u001b[1;31mNameError\u001b[0m: name 'python' is not defined"
     ]
    }
   ],
   "source": [
    "help(python)"
   ]
  },
  {
   "cell_type": "code",
   "execution_count": null,
   "id": "bca141be",
   "metadata": {},
   "outputs": [],
   "source": []
  }
 ],
 "metadata": {
  "colab": {
   "provenance": []
  },
  "kernelspec": {
   "display_name": "Python 3 (ipykernel)",
   "language": "python",
   "name": "python3"
  },
  "language_info": {
   "codemirror_mode": {
    "name": "ipython",
    "version": 3
   },
   "file_extension": ".py",
   "mimetype": "text/x-python",
   "name": "python",
   "nbconvert_exporter": "python",
   "pygments_lexer": "ipython3",
   "version": "3.11.4"
  }
 },
 "nbformat": 4,
 "nbformat_minor": 5
}
