{
 "cells": [
  {
   "cell_type": "markdown",
   "id": "d72f8ceb",
   "metadata": {
    "id": "d72f8ceb"
   },
   "source": [
    "# Assessment - 5 Gradable\n",
    "\n",
    "- Each question carries 5 or 4 marks\n",
    "- Marks will be assigned in terms of:\n",
    "    \n",
    "    **1. Expected output**\n",
    "    \n",
    "    **2. Quality and Explainability of code**\n",
    "\n",
    "    ***Go back through the script and type a comment above each line explaining in English what it does.***\n",
    "\n",
    "    **3. Copied code, if found, will result in 0 marks for that question. To avoid this make as much comments in the code to explain the approach**"
   ]
  },
  {
   "cell_type": "markdown",
   "id": "e5819cc0",
   "metadata": {
    "id": "e5819cc0"
   },
   "source": [
    "### 1. \n",
    "\n",
    "Create a function ``lets_find_88`` Given a list of ints, return True if the array contains a 8 next to a 8 somewhere.\n",
    "- lets_find_88([1, 8, 8]) → True\n",
    "- lets_find_88([1, 8, 1, 8]) → False\n",
    "- lets_find_88([8, 1, 8]) → False"
   ]
  },
  {
   "cell_type": "code",
   "execution_count": 1,
   "id": "88e3b5b4",
   "metadata": {
    "id": "88e3b5b4"
   },
   "outputs": [
    {
     "name": "stdout",
     "output_type": "stream",
     "text": [
      "True for list1_find_88\n",
      "False for list2_find_88\n",
      "False for list3_find_88\n"
     ]
    }
   ],
   "source": [
    "# creating function to find consecutive nos\n",
    "def lets_find(list_find_88, x):\n",
    "# start iteration untill length of the list\n",
    "    for i in range(len(list_find_88)-1):\n",
    "# if x matches i and i +1 index  then return true\n",
    "        if list_find_88[i] == x and list_find_88[i + 1] == x:\n",
    "            return True\n",
    "    return False\n",
    "\n",
    "list1_find_88 = [1, 8, 8]\n",
    "list2_find_88 = [1, 8, 1, 8]\n",
    "list3_find_88 = [8, 1, 8]\n",
    "\n",
    "result1 = lets_find(list1_find_88, 8)\n",
    "result2 = lets_find(list2_find_88, 8)\n",
    "result3 = lets_find(list3_find_88,8)\n",
    "# printing the results of result1 ,result2 and result 3\n",
    "if result1:\n",
    "    print('True for list1_find_88')\n",
    "else:\n",
    "    print('False for list1_find_88')\n",
    "\n",
    "if result2:\n",
    "    print('True for list2_find_88')\n",
    "else:\n",
    "    print('False for list2_find_88')\n",
    "    \n",
    "if result3:\n",
    "    print('True for list3_find_88')\n",
    "else:\n",
    "    print('False for list3_find_88')\n",
    "\n"
   ]
  },
  {
   "cell_type": "markdown",
   "id": "6b3f11fd",
   "metadata": {
    "id": "6b3f11fd"
   },
   "source": [
    "### 2. \n",
    "\n",
    "ANIMAL CRACKERS: Write a function takes a two-word string and returns True if both words begin with same letter and returns False if both words begin with different letter\n",
    "- animal_crackers('Levelheaded Lion') --> True\n",
    "- animal_crackers('Cute Kangaroo') --> False"
   ]
  },
  {
   "cell_type": "code",
   "execution_count": 2,
   "id": "15e45ae3",
   "metadata": {
    "id": "15e45ae3"
   },
   "outputs": [
    {
     "name": "stdout",
     "output_type": "stream",
     "text": [
      "True\n",
      "False\n"
     ]
    }
   ],
   "source": [
    "def animal_crackers(string):\n",
    "    # Split the input string into two words\n",
    "    words = string.split()\n",
    "    \n",
    "    # Check if both words exist and their first letters are same then return true\n",
    "    if len(words) == 2 and words[0][0].lower() == words[1][0].lower():\n",
    "        return True\n",
    "    else:\n",
    "        return False\n",
    "\n",
    "# Test cases\n",
    "print(animal_crackers('Levelheaded Lion'))  # True\n",
    "print(animal_crackers('Cute Kangaroo'))      # False\n"
   ]
  },
  {
   "cell_type": "markdown",
   "id": "42453e7d",
   "metadata": {
    "id": "42453e7d"
   },
   "source": [
    "### 3. \n",
    "\n",
    "Write a function ``how_many_primes`` that returns the number of prime numbers that exist up to and including a given number\n",
    "\n",
    "- how_many_primes(100) --> 25"
   ]
  },
  {
   "cell_type": "code",
   "execution_count": 3,
   "id": "b3302ec4",
   "metadata": {
    "id": "b3302ec4"
   },
   "outputs": [
    {
     "name": "stdout",
     "output_type": "stream",
     "text": [
      "Enter the input :100\n",
      "The count of prime numbers between 1 and 100 is: 25 \n"
     ]
    }
   ],
   "source": [
    "\n",
    "#writing function  whether the  number is prime or not\n",
    "def isprime(number):\n",
    "    if number < 2:\n",
    "        return False\n",
    "    for i in range(2, int(number ** 0.5) + 1):\n",
    "        if number % i == 0:\n",
    "            return False\n",
    "    return True\n",
    "#writing function to count no of vqalues in given range of elements\n",
    "def countprime(n):\n",
    "    count = 0\n",
    "    for Number in range(2, n + 1):\n",
    "        if isprime(Number):\n",
    "            count += 1\n",
    "    return count\n",
    "# \n",
    "n = int(input('Enter the input :'))\n",
    "count = countprime(n)\n",
    "print(\"The count of prime numbers between 1 and 100 is: {} \".format(count))\n"
   ]
  },
  {
   "cell_type": "markdown",
   "id": "2b5f6f63",
   "metadata": {
    "id": "2b5f6f63"
   },
   "source": [
    "### 4. \n",
    "\n",
    "b = open(\"assignment.txt\")\n",
    "\n",
    "Consider the code given above and write the answers to the following :\n",
    "\n",
    "- Identify the name of the file : \n",
    "- Identify the name of the function used above : \n",
    "- What is 'b' in above code :\n",
    "- The above statement will  ____________ file in ___________ mode."
   ]
  },
  {
   "cell_type": "markdown",
   "id": "7819bee7",
   "metadata": {},
   "source": [
    "- Name of the file : **assignment.txt**\n",
    "- **open is inbuilt function**\n",
    "- **b** is the **variable**assigned to  open the file assignment.txt\n",
    "- the above statement will open file in read  mode, read mode is default"
   ]
  },
  {
   "cell_type": "markdown",
   "id": "6c9eb680",
   "metadata": {
    "id": "6c9eb680"
   },
   "source": [
    "### 5.\n",
    "\n",
    "Accept five hobbies from the user and write in a file 'hobby.txt'. Then Read the file to list out all the 5 hobbies from the user."
   ]
  },
  {
   "cell_type": "code",
   "execution_count": 8,
   "id": "1b9db22c",
   "metadata": {
    "id": "1b9db22c"
   },
   "outputs": [
    {
     "name": "stdout",
     "output_type": "stream",
     "text": [
      "\n",
      " Enter your hobby: singing\n",
      "\n",
      " Enter your hobby: listening music\n",
      "\n",
      " Enter your hobby: reading\n",
      "\n",
      " Enter your hobby: cooking\n",
      "\n",
      " Enter your hobby: gardening\n"
     ]
    }
   ],
   "source": [
    "# opening file in write mode\n",
    "with open(\"File/hobby2.txt\", \"w\") as f:\n",
    "    for i in range(5):\n",
    "        hobby = input(\"\\n Enter your hobby: \")                              \n",
    "        f.write(hobby + '\\n')  # Add a line break to separate hobbies\n"
   ]
  },
  {
   "cell_type": "code",
   "execution_count": 9,
   "id": "e3c0c973",
   "metadata": {},
   "outputs": [
    {
     "name": "stdout",
     "output_type": "stream",
     "text": [
      "\n",
      "Enter your hobby: 1 singing\n",
      "\n",
      "Enter your hobby: 2 listening music\n",
      "\n",
      "Enter your hobby: 3 rading\n",
      "\n",
      "Enter your hobby: 4 cooking\n",
      "\n",
      "Enter your hobby: 5 gardening\n"
     ]
    }
   ],
   "source": [
    "#opening file in write mode\n",
    "with open(\"File/hobby3.txt\", \"w\") as f:\n",
    "    for i in range(5):\n",
    "        hobby = input(\"\\nEnter your hobby: {} \".format(i+1))  # Add hobbies\n",
    "        f.write(hobby + '\\n')  # Add a line to get new line"
   ]
  },
  {
   "cell_type": "code",
   "execution_count": null,
   "id": "b2a87851",
   "metadata": {},
   "outputs": [],
   "source": []
  }
 ],
 "metadata": {
  "colab": {
   "provenance": []
  },
  "kernelspec": {
   "display_name": "Python 3 (ipykernel)",
   "language": "python",
   "name": "python3"
  },
  "language_info": {
   "codemirror_mode": {
    "name": "ipython",
    "version": 3
   },
   "file_extension": ".py",
   "mimetype": "text/x-python",
   "name": "python",
   "nbconvert_exporter": "python",
   "pygments_lexer": "ipython3",
   "version": "3.11.4"
  }
 },
 "nbformat": 4,
 "nbformat_minor": 5
}
