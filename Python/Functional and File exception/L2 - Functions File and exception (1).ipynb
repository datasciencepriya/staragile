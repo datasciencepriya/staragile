{
 "cells": [
  {
   "cell_type": "markdown",
   "id": "4f1596de",
   "metadata": {
    "id": "4f1596de"
   },
   "source": [
    "# Functions\n",
    "- Write solution of each question in the cell given below the corresponsing question.\n",
    "- Function taking input refers to input as a parameter / argument being passed."
   ]
  },
  {
   "cell_type": "markdown",
   "id": "6f0d9ac3",
   "metadata": {
    "id": "6f0d9ac3"
   },
   "source": [
    "#### 1. Create a function that takes a list of numbers as input and returns the median."
   ]
  },
  {
   "cell_type": "code",
   "execution_count": 1,
   "id": "0a090145",
   "metadata": {
    "id": "0a090145"
   },
   "outputs": [],
   "source": [
    "# create function to find even median\n",
    "def even_median(numbers):\n",
    "        middle1 = numbers[n // 2 - 1]\n",
    "        middle2 = numbers[n // 2]\n",
    "        return (middle1 + middle2) / 2\n",
    "#create function to find odd median\n",
    "def odd_median(numbers):\n",
    "    return numbers[n // 2]\n",
    "\n"
   ]
  },
  {
   "cell_type": "code",
   "execution_count": 2,
   "id": "zsPDITuiIhY7",
   "metadata": {
    "id": "zsPDITuiIhY7"
   },
   "outputs": [
    {
     "name": "stdout",
     "output_type": "stream",
     "text": [
      "The Median for this list of numbers is : 5.5\n"
     ]
    }
   ],
   "source": [
    "# getting list of numbers as input\n",
    "numbers = [1,2,3,4,5,6,7,8,9,10]\n",
    "#finding length of numbers\n",
    "n = len(numbers)\n",
    "# if length even use even function\n",
    "if n % 2 == 0:\n",
    "    median = even_median(numbers)\n",
    "# length is not even use odd function\n",
    "else:\n",
    "    median = odd_median(numbers)\n",
    "# printing the median number\n",
    "print('The Median for this list of numbers is : {}'.format(median))\n",
    "\n",
    "\n"
   ]
  },
  {
   "cell_type": "markdown",
   "id": "18a107c4",
   "metadata": {
    "id": "18a107c4"
   },
   "source": [
    "#### 2. Create a function that takes a list of numbers as input and returns the mean."
   ]
  },
  {
   "cell_type": "code",
   "execution_count": null,
   "id": "Vy8v3p_hIgsc",
   "metadata": {
    "id": "Vy8v3p_hIgsc"
   },
   "outputs": [],
   "source": [
    "#creating the function to find mean for list of numbers mean = total/count of numbers\n",
    "def mean(numbers):\n",
    "    mean = sum(numbers) // len(numbers)\n",
    "    return mean\n"
   ]
  },
  {
   "cell_type": "code",
   "execution_count": null,
   "id": "9533b14a",
   "metadata": {
    "id": "9533b14a"
   },
   "outputs": [],
   "source": [
    "numbers = [40,70,80,99,44,77,66]\n",
    "mean = mean(numbers)\n",
    "print('The Mean is : {}'.format(mean))"
   ]
  },
  {
   "cell_type": "markdown",
   "id": "34df49cf",
   "metadata": {
    "id": "34df49cf"
   },
   "source": [
    "#### 3. Create a function that takes a list of numbers as input and returns the standard deviation."
   ]
  },
  {
   "cell_type": "code",
   "execution_count": 7,
   "id": "5a089785",
   "metadata": {
    "id": "5a089785"
   },
   "outputs": [],
   "source": [
    "# importing math function is important for math operations \n",
    "import math\n",
    "#creating function for standard deviation\n",
    "def stddev(numbers):\n",
    "    count = len(numbers)\n",
    "    total = sum(numbers)\n",
    "    mean = total / count\n",
    "# initialising sum of square value as 0\n",
    "    sumofsquares = 0\n",
    "    for item in numbers:\n",
    "# to het sum of suare value squaring the value of every elemnt in a list minus mean value of the list \n",
    "        sumofsquares += (item - mean) ** 2\n",
    "# finding variance   \n",
    "    variance = sumofsquares /  count\n",
    "# square root of variance is std deviation\n",
    "    standard_deviation = math.sqrt(variance)\n",
    "    \n",
    "    return standard_deviation\n",
    "\n"
   ]
  },
  {
   "cell_type": "code",
   "execution_count": 8,
   "id": "7QrYx5jiLON6",
   "metadata": {
    "id": "7QrYx5jiLON6"
   },
   "outputs": [
    {
     "name": "stdout",
     "output_type": "stream",
     "text": [
      "The standard deviation is : 18.708286933869708\n"
     ]
    }
   ],
   "source": [
    "#finding standard deviation for list of numbers\n",
    "numbers = [90, 80, 70, 60, 50, 40, 60, 30]\n",
    "stddev = stddev(numbers)\n",
    "print('The standard deviation is : {}'.format(stddev))\n"
   ]
  },
  {
   "cell_type": "markdown",
   "id": "9cc39352",
   "metadata": {
    "id": "9cc39352"
   },
   "source": [
    "#### 4. Create a function that takes a number as input and return True if the number is prime , False if not."
   ]
  },
  {
   "cell_type": "code",
   "execution_count": 9,
   "id": "722fc2fa",
   "metadata": {
    "id": "722fc2fa"
   },
   "outputs": [
    {
     "name": "stdout",
     "output_type": "stream",
     "text": [
      "Enter the input:7\n",
      "True The input is prime\n"
     ]
    }
   ],
   "source": [
    "# creating function  to check whether the input number is satisfying the condition of prime value\n",
    "def isprime(number):\n",
    "    if number < 2:\n",
    "        return False\n",
    "    for i in range(2, int(number ** 0.5) + 1):\n",
    "        if number % i == 0:\n",
    "            return False\n",
    "    return True\n",
    "# checking the number is prime or not\n",
    "number = int(input('Enter the input:'))\n",
    "prime  = isprime(number) \n",
    "if prime is True:\n",
    "    print('True','The input is prime')\n",
    "else:\n",
    "    print('False','The input is  not prime')\n"
   ]
  },
  {
   "cell_type": "markdown",
   "id": "4029f3a8",
   "metadata": {
    "id": "4029f3a8"
   },
   "source": [
    "#### 5. Create a function that takes a list of numbers as input and returns the variance."
   ]
  },
  {
   "cell_type": "code",
   "execution_count": 13,
   "id": "83d19248",
   "metadata": {
    "id": "83d19248"
   },
   "outputs": [
    {
     "name": "stdout",
     "output_type": "stream",
     "text": [
      "The variance is : 350.0\n"
     ]
    }
   ],
   "source": [
    "# creating funtion to find variance\n",
    "def variance(numbers):\n",
    "    count = len(numbers)\n",
    "    total = sum(numbers)\n",
    "    mean = total / count\n",
    "    \n",
    "    sumofsquares = 0\n",
    "    for item in numbers:\n",
    "# to find sum of squares is sqaure value of num[i] - mean \n",
    "        sumofsquares += (item - mean) ** 2\n",
    " # to find variance divide some of sqaures by  count    \n",
    "    variance = sumofsquares / count\n",
    "\n",
    "    \n",
    "    return variance\n",
    "#getting input as list of numbers\n",
    "numbers = [90, 80, 70, 60, 50, 40, 60, 30]\n",
    "# call the function\n",
    "variance = variance(numbers)\n",
    "print('The variance is : {}'.format(variance))\n"
   ]
  },
  {
   "cell_type": "markdown",
   "id": "7acad1bf",
   "metadata": {
    "id": "7acad1bf"
   },
   "source": [
    "#### 6. Create a function that takes a number as input and returns the factorial."
   ]
  },
  {
   "cell_type": "code",
   "execution_count": 12,
   "id": "f7c0877a",
   "metadata": {
    "id": "f7c0877a"
   },
   "outputs": [
    {
     "name": "stdout",
     "output_type": "stream",
     "text": [
      "Enter the number: 5\n",
      "The factorial of 5 is 120\n"
     ]
    }
   ],
   "source": [
    "# to find factorial \n",
    "def factorial(n):\n",
    "    result = 1 \n",
    "    for i in range(1, n + 1):\n",
    "# using shorthand operator to calculate the n*n-1 =n!\n",
    "        result *= i\n",
    "    return result\n",
    "\n",
    "n = int(input('Enter the number: '))\n",
    "factorial1 = factorial(n)\n",
    "# printing the factorial value\n",
    "print(\"The factorial of {} is {}\".format(n, factorial1))\n"
   ]
  },
  {
   "cell_type": "markdown",
   "id": "b1e46b1f",
   "metadata": {
    "id": "b1e46b1f"
   },
   "source": [
    "#### 7. Create a function that takes two lists of same length as input and returns a list consisting of larger element at each position after comparing the corresponding elements in the given lists."
   ]
  },
  {
   "cell_type": "code",
   "execution_count": 14,
   "id": "bc428d22",
   "metadata": {
    "id": "bc428d22"
   },
   "outputs": [
    {
     "name": "stdout",
     "output_type": "stream",
     "text": [
      "Enter the list1 values: 1033 66 83 95\n",
      "Enter the list2 values: 334 555 666 999\n",
      "The list having the largest number is: [1033, 555, 666, 999]\n"
     ]
    }
   ],
   "source": [
    "# creating function for compare list  \n",
    "def comparelist(list1, list2):\n",
    "# check whether the list1 is equal to list2 legth if true continue the process else return true\n",
    "    if len(list1) != len(list2):\n",
    "        return False\n",
    "    else:\n",
    "# creating empty array when 2 lists length is equal\n",
    "        largest = []\n",
    "        for i in range(len(list1)):\n",
    "# if list1 value greater then list 2 value append in largest list\n",
    "            if list1[i] > list2[i]:\n",
    "                largest.append(list1[i])\n",
    "            else:\n",
    "# if list 1 value lesser than list 1 value  append in list\n",
    "                largest.append(list2[i])\n",
    "    return largest\n",
    "#comparing the list with 2 list \n",
    "list1 = list(map(int, input('Enter the list1 values: ').split()))\n",
    "list2 = list(map(int, input('Enter the list2 values: ').split()))\n",
    "largestlist = comparelist(list1, list2)\n",
    "print(\"The list having the largest number is: {}\".format(largestlist))\n",
    "\n"
   ]
  },
  {
   "cell_type": "markdown",
   "id": "f397889f",
   "metadata": {
    "id": "f397889f"
   },
   "source": [
    "#### 8. Create a function that takes a string and returns a string after joining the words that are having even lengths."
   ]
  },
  {
   "cell_type": "code",
   "execution_count": 16,
   "id": "ebf96e1c",
   "metadata": {
    "id": "ebf96e1c"
   },
   "outputs": [
    {
     "name": "stdout",
     "output_type": "stream",
     "text": [
      "everyone to have nice : is even length words in the string\n"
     ]
    }
   ],
   "source": [
    "def joinevenwords(s):\n",
    "    words = s.split()\n",
    "    evenwords = [word for word in words if len(word) % 2 == 0]\n",
    "    result = \" \".join(evenwords)\n",
    "    return result\n",
    "\n",
    "# Example usage:\n",
    "s = \"Hello everyone welcome to the session have a nice day \"\n",
    "evenlengthwords = joinevenwords(s)\n",
    "print(evenlengthwords,': is even length words in the string')\n"
   ]
  },
  {
   "cell_type": "markdown",
   "id": "36c6aae1",
   "metadata": {
    "id": "36c6aae1"
   },
   "source": [
    "#### 9. Create a function that takes a string and a character as input and returns a list after splitting the string based on the given character. By Default split based on whitespace. (Create a function similar to the inbuilt split function without using it)."
   ]
  },
  {
   "cell_type": "code",
   "execution_count": 17,
   "id": "869d7244",
   "metadata": {
    "id": "869d7244"
   },
   "outputs": [
    {
     "data": {
      "text/plain": [
       "['Hello', 'Good', 'day']"
      ]
     },
     "execution_count": 17,
     "metadata": {},
     "output_type": "execute_result"
    }
   ],
   "source": [
    "#creating function for split \n",
    "def split_string(s, c = ' '):\n",
    "# split the string when find space\n",
    "    words = []\n",
    "#initialising empty array\n",
    "    start = 0\n",
    "# iterating the loop untill length of string\n",
    "    for i in range(len(s)):\n",
    "# when s[i] finds space then consider as empty string append the string in array\n",
    "        if s[i] == c:\n",
    "            words.append(s[start:i])\n",
    "            start = i + 1\n",
    "    words.append(s[start:i+1])\n",
    "    return words\n",
    "\n",
    "split_string('Hello Good day')"
   ]
  },
  {
   "cell_type": "markdown",
   "id": "b8c01afd",
   "metadata": {
    "id": "b8c01afd"
   },
   "source": [
    "#### 10. Create a function which takes a 2-D list of shape m * n where m is number of elements in the original list and where each element is a list having n integers (A list of m lists having n numbers each, a matrix). The function returns the largest element in the given list."
   ]
  },
  {
   "cell_type": "code",
   "execution_count": 18,
   "id": "adda1366",
   "metadata": {
    "id": "adda1366"
   },
   "outputs": [
    {
     "name": "stdout",
     "output_type": "stream",
     "text": [
      "9\n"
     ]
    }
   ],
   "source": [
    "def largestelement(list2d):\n",
    "\n",
    "  # Initialize the largest element to the first element in the 2-D list.\n",
    "  largest_element = list2d[0][0]\n",
    "\n",
    "  # Iterate over the 2-D list, comparing each element to the largest element.\n",
    "  for row in list2d:\n",
    "    for element in row:\n",
    "        if element > largest_element:\n",
    "            largest_element = element\n",
    "\n",
    "  # Return the largest element.\n",
    "  return largest_element\n",
    "\n",
    "list2d = [[1, 2, 3], [4, 5, 6], [7, 8, 9]]\n",
    "\n",
    "largest_element = largestelement(list2d)\n",
    "\n",
    "print(largest_element)\n",
    "\n"
   ]
  },
  {
   "cell_type": "markdown",
   "id": "d2a2a668",
   "metadata": {
    "id": "d2a2a668"
   },
   "source": [
    "#### 11. Create a function which takes a 2-D list of shape m * n where m is number of elements in the original list and where each element is a list having n integers (A list of m lists having n numbers each). The function also takes a number x as input and returns True is x is in the given 2D list."
   ]
  },
  {
   "cell_type": "code",
   "execution_count": 20,
   "id": "585d5e4b",
   "metadata": {
    "id": "585d5e4b"
   },
   "outputs": [
    {
     "data": {
      "text/plain": [
       "False"
      ]
     },
     "execution_count": 20,
     "metadata": {},
     "output_type": "execute_result"
    }
   ],
   "source": [
    "# to find the number in 2d list\n",
    "def search2d(nums,x):\n",
    "    largest = nums[0][0]\n",
    "    m= len(nums)\n",
    "    n= len(nums[0])\n",
    "    \n",
    "    for i in range(m):\n",
    "        for j in range(n):\n",
    "            if nums[i][j] == x:\n",
    "                return True\n",
    "    else:\n",
    "        return False\n",
    "        \n",
    "search2d([[1,2,3],[4,5,6]], 7)\n"
   ]
  },
  {
   "cell_type": "markdown",
   "id": "0d889f51",
   "metadata": {
    "id": "0d889f51"
   },
   "source": [
    "#### 12. Create a function which takes a 2-D list of shape m * n where m is number of elements in the original list and where each element is a list having n integers (A list of m lists having n numbers each). The function returns the sum of all rows in the matrix (2 D list)."
   ]
  },
  {
   "cell_type": "code",
   "execution_count": 21,
   "id": "56d82617",
   "metadata": {
    "id": "56d82617"
   },
   "outputs": [
    {
     "name": "stdout",
     "output_type": "stream",
     "text": [
      "The sum of two list is: [4, 6, 9]\n"
     ]
    }
   ],
   "source": [
    "def sum1(nums1, nums2):\n",
    "    totalsum = []\n",
    "    for i in range(len(nums1)):\n",
    "        total = nums1[i] + nums2[i]\n",
    "        totalsum.append(total)\n",
    "    return totalsum\n",
    "\n",
    "\n",
    "nums1, nums2 = [[1, 2, 3], [3, 4, 6]]\n",
    "result = sum1(nums1, nums2)\n",
    "print('The sum of two list is:',result)\n"
   ]
  },
  {
   "cell_type": "markdown",
   "id": "f89438e1",
   "metadata": {
    "id": "f89438e1"
   },
   "source": [
    "#### 13. Create a function which takes a 2-D list of shape m * n where m is number of elements in the original list and where each element is a list having n integers (A list of m lists having n numbers each). The function also a takes a number x as input and returns a list of all consecutive pairs having sum eaqqual to x."
   ]
  },
  {
   "cell_type": "code",
   "execution_count": 7,
   "id": "fee32fc4",
   "metadata": {},
   "outputs": [
    {
     "name": "stdout",
     "output_type": "stream",
     "text": [
      "sum of consecutive pair is : [(2, 4), (5, 1)]\n"
     ]
    }
   ],
   "source": [
    "def consecutive_sum(list2d, x):\n",
    "    pairs = []\n",
    "    for i in range(len(list2d)):\n",
    "        for j in range(len(list2d[i]) - 1):\n",
    "            if list2d[i][j] + list2d[i][j + 1] == x:\n",
    "                pairs.append((list2d[i][j], list2d[i][j + 1]))\n",
    "        return pairs\n",
    "                \n",
    "                \n",
    "list2d = [[1, 3,2,4,5,1],[1,4,2,3,6,3]]\n",
    "x = 6\n",
    "\n",
    "pairs = consecutive_sum(list2d, x)\n",
    "\n",
    "print('sum of consecutive pair is :',pairs)\n"
   ]
  },
  {
   "cell_type": "code",
   "execution_count": 8,
   "id": "d3750fb3",
   "metadata": {},
   "outputs": [
    {
     "name": "stdout",
     "output_type": "stream",
     "text": [
      "[(4, 2), (2, 4)]\n"
     ]
    }
   ],
   "source": [
    "def find_consecutive_pairs_with_sum_x(list2d, x):\n",
    "    consecutive_pairs = []\n",
    "\n",
    "    for row in list2d:\n",
    "        current_sum = row[0]\n",
    "        start_index = 0\n",
    "\n",
    "        for i in range(1, len(row)):\n",
    "            current_sum += row[i]\n",
    "\n",
    "            while current_sum > x and start_index < i:\n",
    "                current_sum -= row[start_index]\n",
    "                start_index += 1\n",
    "\n",
    "            if current_sum == x:\n",
    "                consecutive_pairs.append((row[start_index], row[i]))\n",
    "\n",
    "    return consecutive_pairs\n",
    "\n",
    "list2d = [[1,3,5,4,2,1],[6, 7, 2, 4, 3, 2]]\n",
    "result = find_consecutive_pairs_with_sum_x(list2d, 6)\n",
    "print(result)\n"
   ]
  },
  {
   "cell_type": "markdown",
   "id": "976248d9",
   "metadata": {
    "id": "976248d9"
   },
   "source": [
    "#### 14. Create a function that takes a list and a number as input and returns True ifthe number is present in the list otherwise false using Binary search algorithm. (Read about Binary Search)."
   ]
  },
  {
   "cell_type": "code",
   "execution_count": 23,
   "id": "ef73c7cb",
   "metadata": {
    "id": "ef73c7cb"
   },
   "outputs": [
    {
     "name": "stdout",
     "output_type": "stream",
     "text": [
      "True\n"
     ]
    }
   ],
   "source": [
    "def binary_search(list, x):\n",
    "    left, right = 0, len(list) - 1\n",
    "\n",
    "    while left <= right:\n",
    "        mid = (left + right) // 2\n",
    "        if list[mid] == x :\n",
    "            return True\n",
    "        elif list[mid] < x:\n",
    "            left = mid + 1\n",
    "        else:\n",
    "            right = mid - 1\n",
    "\n",
    "    return False\n",
    "\n",
    "# Example usage:\n",
    "list = [1, 3, 5, 7, 9, 11, 13]\n",
    "number_to_find = 7\n",
    "result = binary_search(list, number_to_find)\n",
    "print(result)  # Output will be True\n"
   ]
  },
  {
   "cell_type": "markdown",
   "id": "f12cc8c9",
   "metadata": {
    "id": "f12cc8c9"
   },
   "source": [
    "#### 15. Create a function which takes a txt filename as input and returns the number of words in that file."
   ]
  },
  {
   "cell_type": "code",
   "execution_count": 24,
   "id": "46492494",
   "metadata": {
    "id": "46492494"
   },
   "outputs": [
    {
     "name": "stdout",
     "output_type": "stream",
     "text": [
      "No of words in file filehandling : 188\n"
     ]
    }
   ],
   "source": [
    "def count_words_in_file(filename):\n",
    "\n",
    "  # Open the text file in read mode.\n",
    "  with open(filename, \"r\") as f:\n",
    "\n",
    "    # Read the entire text file into a string.\n",
    "    text = f.read()\n",
    "\n",
    "    # Split the text into words.\n",
    "    words = text.split()\n",
    "\n",
    "  # Return the number of words.\n",
    "  return len(words)\n",
    "\n",
    "filename = 'file/filehandling.txt'\n",
    "result= count_words_in_file('file/filehandling.txt')\n",
    "print('No of words in file filehandling :',result)"
   ]
  },
  {
   "cell_type": "markdown",
   "id": "b2666c95",
   "metadata": {
    "id": "b2666c95"
   },
   "source": [
    "#### 16. Create a function which takes a txt filename as input and returns the number of line in the file."
   ]
  },
  {
   "cell_type": "code",
   "execution_count": 9,
   "id": "55c78b71",
   "metadata": {},
   "outputs": [
    {
     "name": "stdout",
     "output_type": "stream",
     "text": [
      "No of lines in file hobby and hobby1 is : 5\n"
     ]
    }
   ],
   "source": [
    "# creating function to count lines\n",
    "def count_lines_in_file(filename):\n",
    "# Open the text file in read mode.\n",
    "    with open(filename, \"r\") as f:\n",
    "        line_count = 0\n",
    "#counting every row in file\n",
    "        for i in f:\n",
    "            line_count += 1\n",
    "    return line_count\n",
    "\n",
    "filename = 'file/hobby.txt' \n",
    "result = count_lines_in_file(filename)\n",
    "print('No of lines in file hobby and hobby1 is :', result)\n"
   ]
  },
  {
   "cell_type": "code",
   "execution_count": 28,
   "id": "5ff27d42",
   "metadata": {
    "id": "5ff27d42"
   },
   "outputs": [
    {
     "name": "stdout",
     "output_type": "stream",
     "text": [
      "No of lines in file hobby and hobby1 is : 10\n"
     ]
    }
   ],
   "source": [
    "# creating function to count lines\n",
    "\n",
    "def count_lines_in_file(filename):\n",
    "# Open the text file in read mode.\n",
    "    with open(filename, \"r\") as f:\n",
    "        line_count = 0\n",
    "        for i in f:\n",
    "            line_count += 1\n",
    "    return line_count\n",
    "\n",
    "filename = 'file/hobby.txt' \n",
    "result1 = count_lines_in_file(filename)\n",
    "filename = 'file/hobby1.txt' \n",
    "result2 = count_lines_in_file(filename)\n",
    "result = result1 + result2\n",
    "\n",
    "print('No of lines in file hobby and hobby1 is :', result)\n"
   ]
  },
  {
   "cell_type": "markdown",
   "id": "6722fb75",
   "metadata": {
    "id": "6722fb75"
   },
   "source": [
    "#### 17. Create a function that takes two txt filenames and returns a file after merging the cintents of two given files. (Print the merged content and then return the filename, content of original files should be unchanged)."
   ]
  },
  {
   "cell_type": "code",
   "execution_count": 29,
   "id": "86a4b436",
   "metadata": {
    "id": "86a4b436"
   },
   "outputs": [
    {
     "name": "stdout",
     "output_type": "stream",
     "text": [
      "dancing \n",
      "palying cricket \n",
      "playing badminton \n",
      "chess \n",
      "writting palyinf tennis\n",
      "chess\n",
      "carom\n",
      "watchingtv\n",
      "writing stories\n",
      "\n",
      "merged.txt\n"
     ]
    }
   ],
   "source": [
    "# creating file to merge two files\n",
    "def merge_text_files(a, b):\n",
    "# opening a file as f1, b as f2 \n",
    "    with open(a, \"r\") as f1, open(b, \"r\") as f2:\n",
    "        text1 = f1.read()\n",
    "        text2 = f2.read()\n",
    "# merging two files text\n",
    "    merged_text = text1 + text2\n",
    "    merged_filename = \"merged.txt\"\n",
    "#opening new file merge.txt\n",
    "    with open(merged_filename, \"w\") as f:\n",
    "        f.write(merged_text)\n",
    "    print(merged_text)\n",
    "    return merged_filename\n",
    "\n",
    "file = merge_text_files('file/hobby.txt', 'file/hobby1.txt')\n",
    "\n",
    "print(file)\n"
   ]
  },
  {
   "cell_type": "markdown",
   "id": "faf26668",
   "metadata": {
    "id": "faf26668"
   },
   "source": [
    "#### 18. Write a program that takes a string as input and returns a list of all words having even length in that string (Using Map/Filter and Lambda expression)."
   ]
  },
  {
   "cell_type": "code",
   "execution_count": 1,
   "id": "5167fd7e",
   "metadata": {},
   "outputs": [
    {
     "data": {
      "text/plain": [
       "['everyone', 'good', 'to']"
      ]
     },
     "execution_count": 1,
     "metadata": {},
     "output_type": "execute_result"
    }
   ],
   "source": [
    "s = 'Hello everyone good morning welcome to the session'\n",
    "list(filter(lambda word : len(word) % 2 == 0, s.split()))"
   ]
  },
  {
   "cell_type": "code",
   "execution_count": 2,
   "id": "ed63757e",
   "metadata": {},
   "outputs": [
    {
     "data": {
      "text/plain": [
       "[False, True, True, False, False, True, False, False]"
      ]
     },
     "execution_count": 2,
     "metadata": {},
     "output_type": "execute_result"
    }
   ],
   "source": [
    "s = 'Hello everyone good morning welcome to the session'\n",
    "list(map(lambda word : len(word) % 2 == 0, s.split()))"
   ]
  },
  {
   "cell_type": "code",
   "execution_count": null,
   "id": "bdb1f502",
   "metadata": {},
   "outputs": [],
   "source": []
  }
 ],
 "metadata": {
  "colab": {
   "provenance": []
  },
  "kernelspec": {
   "display_name": "Python 3 (ipykernel)",
   "language": "python",
   "name": "python3"
  },
  "language_info": {
   "codemirror_mode": {
    "name": "ipython",
    "version": 3
   },
   "file_extension": ".py",
   "mimetype": "text/x-python",
   "name": "python",
   "nbconvert_exporter": "python",
   "pygments_lexer": "ipython3",
   "version": "3.11.4"
  }
 },
 "nbformat": 4,
 "nbformat_minor": 5
}
