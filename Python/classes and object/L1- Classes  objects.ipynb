{
 "cells": [
  {
   "cell_type": "markdown",
   "id": "8a30d880",
   "metadata": {
    "id": "8a30d880"
   },
   "source": [
    "# Assessment - 6 Gradable\n",
    "\n",
    "- Each question carries 5 or 4 marks\n",
    "- Marks will be assigned in terms of:\n",
    "    \n",
    "    **1. Expected output**\n",
    "    \n",
    "    **2. Quality and Explainability of code**\n",
    "\n",
    "    ***Go back through the script and type a comment above each line explaining in English what it does.***\n",
    "\n",
    "    **3. Copied code, if found, will result in 0 marks for that question. To avoid this make as much comments in the code to explain the approach**"
   ]
  },
  {
   "cell_type": "markdown",
   "id": "86255064",
   "metadata": {
    "id": "86255064"
   },
   "source": [
    "### 1. \n",
    "\n",
    "Write a Program to create a class 'Company' and using the class instance and print all the writable attributes of that object such as age, gender, salary, profession and designation. We take atleast 5 employees of an organization"
   ]
  },
  {
   "cell_type": "code",
   "execution_count": 4,
   "id": "4a098962",
   "metadata": {
    "id": "4a098962"
   },
   "outputs": [],
   "source": [
    "class company:\n",
    "    def __init__(self, fname, lname, age, gender, salary, profession, designation):\n",
    "        self.first_name  = fname\n",
    "        self.last_name   = lname\n",
    "        self.age         = age\n",
    "        self.gender      = gender\n",
    "        self.salary      = salary\n",
    "        self.profession  = profession\n",
    "        self.designation = designation\n",
    "        \n",
    "        \n",
    "    def show(self):\n",
    "        print('The deatils are : ')\n",
    "        print('First name : ', self.first_name)\n",
    "        print('Last name  : ', self.last_name)\n",
    "        print('Age        : ', self.age)\n",
    "        print('Gender     : ', self.gender)\n",
    "        print('Salary     : ', self.salary)\n",
    "        print('Profession : ', self.profession)\n",
    "        print('Designation: ', self.designation)\n",
    "        \n",
    "        \n",
    "    def update_age(self, new_age):\n",
    "        self.age = new_age\n",
    "        print('The department for {} {} has been updated to {}'.format(self.first_name, self.last_name, self.age))\n",
    "        \n",
    "    def update_org(self, new_gender):\n",
    "        self.gender = new_gender\n",
    "        print('The organisation for {} {} has been updated to {}'.format(self.first_name, self.last_name, self.gender))\n",
    "        \n",
    "    def update_salary(self, new_salary):\n",
    "        self.salary = new_salary\n",
    "        print('The salary for {} {} has been updated to {}'.format(self.first_name, self.last_name, self.salary))\n",
    "    \n",
    "    def update_profession(self, new_profession):\n",
    "        self.profession = new_prof\n",
    "        print('The profession for {} {} has been updated to {}'.format(self.first_name, self.last_name, self.profession))\n",
    "    \n",
    "    \n",
    "    def update_designation(self, new_designation):\n",
    "        self.designation = new_prof\n",
    "        print('The designation for {} {} has been updated to {}'.format(self.first_name, self.last_name, self.designation))\n",
    "    "
   ]
  },
  {
   "cell_type": "code",
   "execution_count": 5,
   "id": "138b4aa2",
   "metadata": {},
   "outputs": [],
   "source": [
    "person1 = company('Priya','Dayalan',26,'Female', 30000,'IT', 'software developer')\n",
    "person2 = company('Kanimozhi','Elumalai',27,'Female',50000, 'Bank', 'DBA')\n",
    "person3 = company('Kalai','Selvan',23,'Male',40000,'Medical', 'Doctor')\n",
    "person4 = company('Raji', 'sathish',30,'Female',55000,'Government', 'Professor')\n",
    "person5 = company('Goms', 'Ramya',26,'Female',80000,'IT','Dataanalyst')"
   ]
  },
  {
   "cell_type": "code",
   "execution_count": 5,
   "id": "b8ed07c8",
   "metadata": {
    "scrolled": false
   },
   "outputs": [
    {
     "name": "stdout",
     "output_type": "stream",
     "text": [
      "The deatils are : \n",
      "First name :  Priya\n",
      "Last name  :  Dayalan\n",
      "Age        :  26\n",
      "Gender     :  Female\n",
      "Salary     :  30000\n",
      "Profession :  software developer\n"
     ]
    }
   ],
   "source": [
    "person1.show()"
   ]
  },
  {
   "cell_type": "code",
   "execution_count": 6,
   "id": "a82d12ac",
   "metadata": {
    "scrolled": true
   },
   "outputs": [
    {
     "name": "stdout",
     "output_type": "stream",
     "text": [
      "The deatils are : \n",
      "First name :  Kanimozhi\n",
      "Last name  :  Elumalai\n",
      "Age        :  27\n",
      "Gender     :  Female\n",
      "Salary     :  50000\n",
      "Profession :  DBA\n"
     ]
    }
   ],
   "source": [
    "person2.show()"
   ]
  },
  {
   "cell_type": "code",
   "execution_count": 7,
   "id": "5c40ad5f",
   "metadata": {
    "scrolled": true
   },
   "outputs": [
    {
     "name": "stdout",
     "output_type": "stream",
     "text": [
      "The deatils are : \n",
      "First name :  Kalai\n",
      "Last name  :  Selvan\n",
      "Age        :  23\n",
      "Gender     :  Male\n",
      "Salary     :  40000\n",
      "Profession :  Doctor\n"
     ]
    }
   ],
   "source": [
    "person3.show()"
   ]
  },
  {
   "cell_type": "code",
   "execution_count": 6,
   "id": "a5239b98",
   "metadata": {
    "scrolled": true
   },
   "outputs": [
    {
     "name": "stdout",
     "output_type": "stream",
     "text": [
      "The deatils are : \n",
      "First name :  Raji\n",
      "Last name  :  sathish\n",
      "Age        :  30\n",
      "Gender     :  Female\n",
      "Salary     :  55000\n",
      "Profession :  Government\n",
      "Designation:  Professor\n"
     ]
    }
   ],
   "source": [
    "person4.show()"
   ]
  },
  {
   "cell_type": "code",
   "execution_count": 7,
   "id": "b3eb090e",
   "metadata": {},
   "outputs": [
    {
     "name": "stdout",
     "output_type": "stream",
     "text": [
      "The deatils are : \n",
      "First name :  Goms\n",
      "Last name  :  Ramya\n",
      "Age        :  26\n",
      "Gender     :  Female\n",
      "Salary     :  80000\n",
      "Profession :  IT\n",
      "Designation:  Dataanalyst\n"
     ]
    }
   ],
   "source": [
    "person5.show()"
   ]
  },
  {
   "cell_type": "markdown",
   "id": "df5c6917",
   "metadata": {
    "id": "df5c6917"
   },
   "source": [
    "### 2. \n",
    "\n",
    "Write a program to store details of 6 customers in a text file with features of Unique Customer Id, Name, Location, Phone Number, Last Purchase Date for an ecommerce website that canbe considered for future records\n"
   ]
  },
  {
   "cell_type": "code",
   "execution_count": 1,
   "id": "6aaac08a",
   "metadata": {
    "id": "6aaac08a"
   },
   "outputs": [],
   "source": [
    "def record():\n",
    "    customer_id = input(\"Enter Customer ID: \")\n",
    "    name = input(\"Enter Customer Name: \")\n",
    "    location = input(\"Enter Customer Location: \")\n",
    "    phone_number = input(\"Enter Customer Phone Number: \")\n",
    "    last_purchase_date = input(\"Enter Last Purchase Date: \")\n",
    "\n",
    "    return (customer_id,name,location,phone_number,last_purchase_date)\n",
    "\n",
    "def main():\n",
    "    \n",
    "    with open(\"customer_records.txt\", \"w\") as file:\n",
    "        file.write(\"Customer ID,Name,Location,Phone Number,Last Purchase Date\\n\")\n",
    "        \n",
    "        for i in range(6):\n",
    "            customer_record = create_customer_record()\n",
    "            file.write(customer_record)\n",
    "\n",
    "    print(\"Customer records have been saved to customer_records.txt.\")\n",
    "\n"
   ]
  },
  {
   "cell_type": "code",
   "execution_count": 7,
   "id": "aeb06309",
   "metadata": {},
   "outputs": [
    {
     "name": "stdout",
     "output_type": "stream",
     "text": [
      "Enter customer name: priya\n",
      "Enter customer location: kanchipuram\n",
      "Enter customer phone number: 8248466487\n",
      "Enter customer last purchase date: 10/08/23\n",
      "Enter customer name: lakshmi\n",
      "Enter customer location: chennai\n",
      "Enter customer phone number: 9600273835\n",
      "Enter customer last purchase date: 15/10/23\n",
      "Enter customer name: dayalan\n",
      "Enter customer location: madurai\n",
      "Enter customer phone number: 8072593113\n",
      "Enter customer last purchase date: 23/09/23\n",
      "Enter customer name: kalai\n",
      "Enter customer location: bangalore\n",
      "Enter customer phone number: 8428598739\n",
      "Enter customer last purchase date: 1/10/23\n",
      "Enter customer name: sowmiya\n",
      "Enter customer location: bangalore\n",
      "Enter customer phone number: 8680059660\n",
      "Enter customer last purchase date: 25/10/23\n",
      "Enter customer name: shanthu\n",
      "Enter customer location: madurai\n",
      "Enter customer phone number: 7871639685\n",
      "Enter customer last purchase date: 22/10/23\n",
      "Customer records have been saved to customer_records.txt.\n"
     ]
    }
   ],
   "source": [
    "import random\n",
    "\n",
    "def generate_unique_customer_id():\n",
    "    return random.randint(1000, 9999)\n",
    "\n",
    "def create_customer_record():\n",
    "    customer_id = generate_unique_customer_id()\n",
    "    name = input(\"Enter customer name: \")\n",
    "    location = input(\"Enter customer location: \")\n",
    "    phone_number = input(\"Enter customer phone number: \")\n",
    "    last_purchase_date = input(\"Enter customer last purchase date: \")\n",
    "    customer_record = (customer_id, name, location, phone_number, last_purchase_date)\n",
    "    return customer_record\n",
    "\n",
    "def save_customer_records(customer_records, filename):\n",
    "    with open(filename, \"w\") as file:\n",
    "        file.write(\"Customer ID,Name,Location,Phone Number,Last Purchase Date\\n\")\n",
    "        for customer_record in customer_records:\n",
    "            file.write(','.join(map(str, customer_record)) + '\\n')\n",
    "\n",
    "def main():\n",
    "    # Create the customer records.\n",
    "    customer_records = []\n",
    "    for i in range(6):\n",
    "        customer_record = create_customer_record()\n",
    "        customer_records.append(customer_record)\n",
    "\n",
    "    # Write the customer records to a file.\n",
    "    save_customer_records(customer_records, \"customer_records.txt\")\n",
    "\n",
    "    print(\"Customer records have been saved to customer_records.txt.\")\n",
    "\n",
    "if __name__ == \"__main__\":\n",
    "    main()\n"
   ]
  },
  {
   "cell_type": "markdown",
   "id": "51f22264",
   "metadata": {
    "id": "51f22264"
   },
   "source": [
    "### 3. \n",
    "\n",
    "Build a Simple Calculator using Exception Handling (try, except) that solves 4 arithmetic operations like Addition, Subtraction, Multiplication and Division.\n"
   ]
  },
  {
   "cell_type": "code",
   "execution_count": 9,
   "id": "5b52eb5c",
   "metadata": {
    "id": "5b52eb5c"
   },
   "outputs": [
    {
     "name": "stdout",
     "output_type": "stream",
     "text": [
      "Options:\n",
      "Enter 'add' for addition\n",
      "Enter 'subtract' for subtraction\n",
      "Enter 'multiply' for multiplication\n",
      "Enter 'divide' for division\n",
      "Enter 'exit' to end the program\n",
      ": multiply\n",
      "Enter first number: 786\n",
      "Enter second number: 1090\n",
      "Result:  856740.0\n",
      "Options:\n",
      "Enter 'add' for addition\n",
      "Enter 'subtract' for subtraction\n",
      "Enter 'multiply' for multiplication\n",
      "Enter 'divide' for division\n",
      "Enter 'exit' to end the program\n",
      ": exit\n"
     ]
    }
   ],
   "source": [
    "def add(x, y):\n",
    "    return x + y\n",
    "\n",
    "def subtract(x, y):\n",
    "    return x - y\n",
    "\n",
    "def multiply(x, y):\n",
    "    return x * y\n",
    "\n",
    "def divide(x, y):\n",
    "    try:\n",
    "        result = x / y\n",
    "        return result\n",
    "    except ZeroDivisionError:\n",
    "        return \"Division by zero is not allowed.\"\n",
    "\n",
    "while True:\n",
    "    print(\"Options:\")\n",
    "    print(\"Enter 'add' for addition\")\n",
    "    print(\"Enter 'subtract' for subtraction\")\n",
    "    print(\"Enter 'multiply' for multiplication\")\n",
    "    print(\"Enter 'divide' for division\")\n",
    "    print(\"Enter 'exit' to end the program\")\n",
    "\n",
    "    user_input = input(\": \")\n",
    "\n",
    "    if user_input == \"exit\":\n",
    "        break\n",
    "    elif user_input in (\"add\", \"subtract\", \"multiply\", \"divide\"):\n",
    "        num1 = float(input(\"Enter first number: \"))\n",
    "        num2 = float(input(\"Enter second number: \"))\n",
    "\n",
    "        if user_input == \"add\":\n",
    "            try:\n",
    "                result = add(num1, num2)\n",
    "                print(\"Result: \", result)\n",
    "            except Exception as e:\n",
    "                print(\"An error occurred:\", e)\n",
    "        elif user_input == \"subtract\":\n",
    "            try:\n",
    "                result = subtract(num1, num2)\n",
    "                print(\"Result: \", result)\n",
    "            except Exception as e:\n",
    "                print(\"An error occurred:\", e)\n",
    "        elif user_input == \"multiply\":\n",
    "            try:\n",
    "                result = multiply(num1, num2)\n",
    "                print(\"Result: \", result)\n",
    "            except Exception as e:\n",
    "                print(\"An error occurred:\", e)\n",
    "        elif user_input == \"divide\":\n",
    "            result = divide(num1, num2)\n",
    "            print(\"Result: \", result)\n",
    "            if isinstance(result, str):\n",
    "                print(result)\n",
    "    else:\n",
    "        print(\"Invalid input. Please enter a valid operation.\")\n"
   ]
  },
  {
   "cell_type": "code",
   "execution_count": 10,
   "id": "d19eeaf4",
   "metadata": {},
   "outputs": [
    {
     "name": "stdout",
     "output_type": "stream",
     "text": [
      "Options:\n",
      "Enter 'add' for addition\n",
      "Enter 'subtract' for subtraction\n",
      "Enter 'multiply' for multiplication\n",
      "Enter 'divide' for division\n",
      "Enter 'exit' to end the program\n",
      ": multiply\n",
      "Enter first number: 34\n",
      "Enter second number: 66\n",
      "Result: 2244.0\n",
      "Options:\n",
      "Enter 'add' for addition\n",
      "Enter 'subtract' for subtraction\n",
      "Enter 'multiply' for multiplication\n",
      "Enter 'divide' for division\n",
      "Enter 'exit' to end the program\n",
      ": add\n",
      "Enter first number: 87\n",
      "Enter second number: 34\n",
      "Result: 121.0\n",
      "Options:\n",
      "Enter 'add' for addition\n",
      "Enter 'subtract' for subtraction\n",
      "Enter 'multiply' for multiplication\n",
      "Enter 'divide' for division\n",
      "Enter 'exit' to end the program\n",
      ": exit\n"
     ]
    }
   ],
   "source": [
    "def add(x, y):\n",
    "    return x + y\n",
    "\n",
    "def subtract(x, y):\n",
    "    return x - y\n",
    "\n",
    "def multiply(x, y):\n",
    "    return x * y\n",
    "\n",
    "def divide(x, y):\n",
    "    try:\n",
    "        result = x / y\n",
    "        return result\n",
    "    except ZeroDivisionError:\n",
    "        return \"Division by zero is not allowed.\"\n",
    "\n",
    "calculations = {\n",
    "    'add': add,\n",
    "    'subtract': subtract,\n",
    "    'multiply': multiply,\n",
    "    'divide': divide\n",
    "}\n",
    "\n",
    "while True:\n",
    "    print(\"Options:\")\n",
    "    print(\"Enter 'add' for addition\")\n",
    "    print(\"Enter 'subtract' for subtraction\")\n",
    "    print(\"Enter 'multiply' for multiplication\")\n",
    "    print(\"Enter 'divide' for division\")\n",
    "    print(\"Enter 'exit' to end the program\")\n",
    "\n",
    "    user_input = input(\": \")\n",
    "\n",
    "    if user_input == \"exit\":\n",
    "        break\n",
    "\n",
    "    if user_input in calculations:\n",
    "        num1 = float(input(\"Enter first number: \"))\n",
    "        num2 = float(input(\"Enter second number: \"))\n",
    "        operation = calculations[user_input]\n",
    "\n",
    "        try:\n",
    "            result = operation(num1, num2)\n",
    "            print(\"Result:\", result)\n",
    "        except Exception as e:\n",
    "            print(\"An error occurred:\", e)\n",
    "    else:\n",
    "        print(\"Invalid input. Please enter a valid operation.\")\n"
   ]
  },
  {
   "cell_type": "code",
   "execution_count": null,
   "id": "d89c2023",
   "metadata": {},
   "outputs": [],
   "source": []
  },
  {
   "cell_type": "code",
   "execution_count": null,
   "id": "28957a72",
   "metadata": {},
   "outputs": [],
   "source": []
  }
 ],
 "metadata": {
  "colab": {
   "provenance": []
  },
  "kernelspec": {
   "display_name": "Python 3 (ipykernel)",
   "language": "python",
   "name": "python3"
  },
  "language_info": {
   "codemirror_mode": {
    "name": "ipython",
    "version": 3
   },
   "file_extension": ".py",
   "mimetype": "text/x-python",
   "name": "python",
   "nbconvert_exporter": "python",
   "pygments_lexer": "ipython3",
   "version": "3.11.4"
  }
 },
 "nbformat": 4,
 "nbformat_minor": 5
}
