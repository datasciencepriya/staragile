{
 "cells": [
  {
   "cell_type": "markdown",
   "id": "8bcc8778",
   "metadata": {},
   "source": [
    "#### Create the classes and functions as per following description: \n",
    "- Create a class Person : \n",
    "   - The attributes of the class are name, age, city\n",
    "   - The functions of the class are :\n",
    "       - __init__(self, name, age, city)\n",
    "       - show_details(self)\n",
    "       - update_city(self, new_city)\n",
    "       \n",
    "- Create a class Employee which inherits the class Person:\n",
    "    - The attributes of the class are name , age, city, salary, position, dept\n",
    "    - The functions of the class are : \n",
    "        - __init__(self, name , age, city, salary, position, dept)\n",
    "        - show_details(self)\n",
    "        - update_salary(self, new_salary)\n",
    "        - update_dept(self, new_dept)\n",
    "        - update_position(self, new_pos)\n",
    "        - inc_salary(self)\n",
    "        - dec_salary\n",
    "        \n",
    "- Make use of the super function when necessary\n",
    "- Create objects and Demonstrate working of all the functions"
   ]
  },
  {
   "cell_type": "code",
   "execution_count": 1,
   "id": "ef839681",
   "metadata": {},
   "outputs": [],
   "source": [
    "class Employee:\n",
    "    def __init__(self, empid, fname, lname, gender, age, city, desg, dept, org, salary):\n",
    "        self.employee_id = empid\n",
    "        self.first_name = fname\n",
    "        self.last_name = lname\n",
    "        self.gender = gender\n",
    "        self.age = age\n",
    "        self.city = city\n",
    "        self.designation = desg\n",
    "        self.department = dept\n",
    "        self.organisation = org\n",
    "        self.salary = salary\n",
    "        \n",
    "    def show_details(self):\n",
    "        print('The details are : ')\n",
    "        print('Employee ID  : ', self.employee_id)\n",
    "        print('First name   : ', self.first_name)\n",
    "        print('Last name    : ', self.last_name)\n",
    "        print('Gender       : ', self.gender)\n",
    "        print('Age          : ', self.age)\n",
    "        print('City         : ', self.city)\n",
    "        print('Designation  : ', self.designation)\n",
    "        print('Department   : ', self.department)\n",
    "        print('Organisation : ', self.organisation)\n",
    "        print('Salary       : ', self.salary)\n",
    "        \n",
    "    def update_city(self, new_city):\n",
    "        self.city = new_city\n",
    "        print('The city for {} {} has been updated to {}'.format(self.first_name, self.last_name, self.city))\n",
    "        \n",
    "    def update_desg(self, new_desg):\n",
    "        self.designation = new_desg\n",
    "        print('The designation for {} {} has been updated to {}'.format(self.first_name, self.last_name, self.designation))\n",
    "        \n",
    "    def update_dept(self, new_dept):\n",
    "        self.department = new_dept\n",
    "        print('The department for {} {} has been updated to {}'.format(self.first_name, self.last_name, self.department))\n",
    "        \n",
    "    def update_org(self, new_org):\n",
    "        self.organisation = new_org\n",
    "        print('The organisation for {} {} has been updated to {}'.format(self.first_name, self.last_name, self.organisation))\n",
    "        \n",
    "    def update_salary(self, new_salary):\n",
    "        self.salary = new_salary\n",
    "        print('The salary for {} {} has been updated to {}'.format(self.first_name, self.last_name, self.salary))\n",
    "        \n",
    "    def increase_salary(self, inc):\n",
    "        self.salary *= (1 + inc/100)    # self.salary = self.salary * (1 + inc/100)\n",
    "        print('The salary for {} {} has been increased by {}%'.format(self.first_name, self.last_name, inc))\n",
    "        print('The new salary after the raise is : ', self.salary)\n",
    "              \n",
    "    def decrease_salary(self, dec):\n",
    "        self.salary *= (1 - dec/100)    # self.salary = self.salary * (1 - dec/100)\n",
    "        print('The salary for {} {} has been decreased by {}%'.format(self.first_name, self.last_name, dec))\n",
    "        print('The new salary after the decrement is : ', self.salary)"
   ]
  },
  {
   "cell_type": "code",
   "execution_count": 2,
   "id": "f025b6e5",
   "metadata": {},
   "outputs": [],
   "source": [
    "emp1 = Employee(101, 'Sachin', 'Sethy', 'Male', 39, 'Chennai', 'IT Guy', 'IT',  'WellsFargo', 55000)\n",
    "emp2 = Employee(102, 'Madhu', 'Vidhya', 'Female' ,25, 'Chennai', 'HR', 'Talent Acquisition', 'Gen Digital', 30000)\n",
    "emp3 = Employee(103,'Priya','Dayalan','Female',26,'Kanchipuram', 'IT', 'IT', 'Tcs', 30000)"
   ]
  },
  {
   "cell_type": "code",
   "execution_count": 4,
   "id": "6174b879",
   "metadata": {},
   "outputs": [
    {
     "name": "stdout",
     "output_type": "stream",
     "text": [
      "The details are : \n",
      "Employee ID  :  101\n",
      "First name   :  Sachin\n",
      "Last name    :  Sethy\n",
      "Gender       :  Male\n",
      "Age          :  39\n",
      "City         :  Chennai\n",
      "Designation  :  IT Guy\n",
      "Department   :  IT\n",
      "Organisation :  WellsFargo\n",
      "Salary       :  55000\n"
     ]
    }
   ],
   "source": [
    "emp1.show_details()"
   ]
  },
  {
   "cell_type": "code",
   "execution_count": 5,
   "id": "94ccaf0c",
   "metadata": {},
   "outputs": [
    {
     "name": "stdout",
     "output_type": "stream",
     "text": [
      "The details are : \n",
      "Employee ID  :  102\n",
      "First name   :  Madhu\n",
      "Last name    :  Vidhya\n",
      "Gender       :  Female\n",
      "Age          :  25\n",
      "City         :  Chennai\n",
      "Designation  :  HR\n",
      "Department   :  Talent Acquisition\n",
      "Organisation :  Gen Digital\n",
      "Salary       :  30000\n"
     ]
    }
   ],
   "source": [
    "emp2.show_details()"
   ]
  },
  {
   "cell_type": "code",
   "execution_count": 7,
   "id": "0c6129d0",
   "metadata": {},
   "outputs": [
    {
     "name": "stdout",
     "output_type": "stream",
     "text": [
      "The details are : \n",
      "Employee ID  :  103\n",
      "First name   :  Priya\n",
      "Last name    :  Dayalan\n",
      "Gender       :  Female\n",
      "Age          :  26\n",
      "City         :  Kanchipuram\n",
      "Designation  :  IT\n",
      "Department   :  IT\n",
      "Organisation :  Tcs\n",
      "Salary       :  30000\n"
     ]
    }
   ],
   "source": [
    "emp3.show_details()"
   ]
  },
  {
   "cell_type": "code",
   "execution_count": null,
   "id": "d7b0daf2",
   "metadata": {},
   "outputs": [],
   "source": []
  }
 ],
 "metadata": {
  "kernelspec": {
   "display_name": "Python 3 (ipykernel)",
   "language": "python",
   "name": "python3"
  },
  "language_info": {
   "codemirror_mode": {
    "name": "ipython",
    "version": 3
   },
   "file_extension": ".py",
   "mimetype": "text/x-python",
   "name": "python",
   "nbconvert_exporter": "python",
   "pygments_lexer": "ipython3",
   "version": "3.11.4"
  }
 },
 "nbformat": 4,
 "nbformat_minor": 5
}
