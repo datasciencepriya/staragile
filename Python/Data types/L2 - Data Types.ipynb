{
 "cells": [
  {
   "cell_type": "markdown",
   "id": "5fad3b2a",
   "metadata": {
    "id": "5fad3b2a"
   },
   "source": [
    "# Assessment - 2 Gradable\n",
    "\n",
    "- Each question carries 3 marks\n",
    "- Marks will be assigned in terms of:\n",
    "    \n",
    "    **1. Expected output**\n",
    "    \n",
    "    **2. Quality and Explainability of code**\n",
    "\n",
    "    ***Go back through the script and type a comment above each line explaining in English what it does.***\n",
    "\n",
    "    **3. Copied code, if found, will result in 0 marks for that question. To avoid this make as much comments in the code to explain the approach**"
   ]
  },
  {
   "cell_type": "markdown",
   "id": "03363a58",
   "metadata": {
    "id": "03363a58"
   },
   "source": [
    "### 1.\n",
    "\n",
    "Write a Python program to perform following tasks on a list\n",
    "\n",
    "<ol>\n",
    "    <li>Create an empty list with name l1</li>\n",
    "    <li>Add atleast 5 number to the l1</li>\n",
    "    <li>Add 100 at 2<sup>nd</sup> position</li>\n",
    "    <li>Add 1000 at front of the l1</li>\n",
    "    <li>Delete element at 3<sup>rd</sup> position</li>\n",
    "    <li>Display elements at even position</li>\n",
    "    <li>Display elements in reverse order</li>\n",
    "</ol>"
   ]
  },
  {
   "cell_type": "code",
   "execution_count": 5,
   "id": "73d7418b",
   "metadata": {
    "id": "73d7418b"
   },
   "outputs": [
    {
     "name": "stdout",
     "output_type": "stream",
     "text": [
      "Enter The Number :66 77 88 99 55\n",
      "The Given Number List is                                      : [66, 77, 88, 99, 55]\n",
      "The list after Adding no 100 in Second position of the list   : [66, 100, 77, 88, 99, 55]\n",
      "The list after Adding no 1000 in First position of the list   : [1000, 66, 100, 77, 88, 99, 55]\n",
      "The list after Deleting element  in Third position of the list: [1000, 66, 77, 88, 99, 55]\n"
     ]
    },
    {
     "data": {
      "text/plain": [
       "(66, 77, 88, 99, 55)"
      ]
     },
     "execution_count": 5,
     "metadata": {},
     "output_type": "execute_result"
    }
   ],
   "source": [
    "# Creating list to get input\n",
    "given_number_list     = list(map(int,input(\"Enter The Number         :\").split()))         \n",
    "#get input as list of integer we use list(map(int,input)) for to get more than one no as input\n",
    "print('The Given Number List is                                      :',given_number_list)\n",
    "# To add no 100 in second position we use insert fn insert(indexno,value to insert)\n",
    "given_number_list.insert(1,100)\n",
    "print(\"The list after Adding no 100 in Second position of the list   :\",given_number_list)\n",
    "# To add no 1000 in first position use insert(indexno,value to insert) \n",
    "given_number_list.insert(0,1000)\n",
    "print(\"The list after Adding no 1000 in First position of the list   :\",given_number_list)\n",
    "# To Delete the no in 3rd position use list.pop(indexno)\n",
    "given_number_list.pop(2)\n",
    "print(\"The list after Deleting element  in Third position of the list:\",given_number_list)\n",
    "\n",
    "#sample output is\n",
    "66, 77 ,88, 99, 55\n"
   ]
  },
  {
   "cell_type": "markdown",
   "id": "3d5efe73",
   "metadata": {
    "id": "3d5efe73"
   },
   "source": [
    "### 2. \n",
    "\n",
    "Grab ``StarAgile`` from the following Dictionaries\n",
    "\n",
    "d_difficult = {'k1':[{'nest_key':['this is deep',['StarAgile']]}]}\n",
    "\n",
    "d_irritating = {'k1':[1,2,{'k2':['this is not easy',{'VeryIrriating':[1,2,['StarAgile']]}]}]}"
   ]
  },
  {
   "cell_type": "code",
   "execution_count": 6,
   "id": "9fb35ce9",
   "metadata": {
    "id": "9fb35ce9"
   },
   "outputs": [
    {
     "name": "stdout",
     "output_type": "stream",
     "text": [
      "Grab StarAgile  : ['StarAgile']\n",
      "Grab StarAgile  : ['StarAgile']\n"
     ]
    },
    {
     "data": {
      "text/plain": [
       "'StarAgile'"
      ]
     },
     "execution_count": 6,
     "metadata": {},
     "output_type": "execute_result"
    }
   ],
   "source": [
    "# Grab StarAgile from nested key\n",
    "d_difficult = {'k1':[{'nest_key':['this is deep',['StarAgile']]}]}\n",
    "# k1[0]will give nest key then nest_key index 1 will give  staragile\n",
    "d_difficult = d_difficult['k1'][0]['nest_key'][1]\n",
    "print(\"Grab StarAgile  :\",d_difficult)\n",
    "\n",
    "# Grab StarAgile from nested key\n",
    "d_irritating = {'k1':[1,2,{'k2':['this is not easy',{'VeryIrritating':[1,2,['StarAgile']]}]}]}\n",
    "# k1 index 0 gives index 2 will give k2 \n",
    "d_irritating = d_irritating['k1'][2]['k2'][1]['VeryIrritating'][2]\n",
    "print(\"Grab StarAgile  :\", d_irritating)\n",
    "\n",
    "# Expected output\n",
    "'StarAgile'\n"
   ]
  },
  {
   "cell_type": "markdown",
   "id": "0540a188",
   "metadata": {
    "id": "0540a188"
   },
   "source": [
    "### 3.\n",
    "\n",
    "Write a program to accept a string from the user and display characters that are present at an even index number.\n",
    "\n",
    "For example, str = \"judgemental\" so you should display ‘j’, ‘d’, ‘e’, ‘e’, ‘t’, ‘l’."
   ]
  },
  {
   "cell_type": "code",
   "execution_count": 13,
   "id": "21f5b9dd",
   "metadata": {
    "id": "21f5b9dd"
   },
   "outputs": [
    {
     "name": "stdout",
     "output_type": "stream",
     "text": [
      "Enter The String :judgemental\n",
      "The Even Index Char are: ['j', 'd', 'e', 'e', 't', 'l']\n"
     ]
    }
   ],
   "source": [
    "# To print string into  even index single char\n",
    "input_string     = input(\"Enter The String :\") # get input from the user then store as string\n",
    "new_string       = list(input_string)          # create list for given string\n",
    "new_string       = new_string[0::2]            # take out even index element using index slicing\n",
    "print(\"The Even Index Char are:\",new_string)   # print even index char from the given string\n",
    "\n",
    "#expected output\n"
   ]
  },
  {
   "cell_type": "markdown",
   "id": "e0884cde",
   "metadata": {
    "id": "e0884cde"
   },
   "source": [
    "### 4. \n",
    "\n",
    "Convert the Float Value of '3.8' into Integer, Complex, Binary and Hexidecimal format"
   ]
  },
  {
   "cell_type": "code",
   "execution_count": null,
   "id": "6bbe0bb6",
   "metadata": {
    "id": "99555c16"
   },
   "outputs": [],
   "source": [
    "input_number             = float(input(\"Enter The Float Number :\"))                             \n",
    "# get the input from the user\n",
    "print(\"The Given Float Number                                        :\",input_number)                    \n",
    "# printing the input\n",
    "print()\n",
    "integer_number           = int(input_number)                                                     \n",
    "# converting float to int value\n",
    "print(\"Converted Float to Integer value is                           : {}\".format(integer_number))\n",
    "# print float to integer\n",
    "print()\n",
    "complex_number           = complex(integer_number)                                               \n",
    "\n",
    "# coverting int to complex no\n",
    "print(\"Converted Int to Complex No is                                : \",complex_number)               \n",
    "# printing the coverted output\n",
    "print()\n",
    "binary_number_real       = bin(int(complex_number.real))                                       \n",
    "# coverting the complex no real part to binary\n",
    "binary_number_imaginary  = bin(int(complex_number.imag))                                       \n",
    "# converting the complex no imaginary part to binary\n",
    "print(\"Converted complex number real part Binary No is               :\",binary_number_real)   \n",
    "# printing the binary no real part\n",
    "print(\"Converted complex number imaginary part Binary No is          :\",binary_number_imaginary)\n",
    "# printing the binarynoimaginary part\n",
    "print()\n",
    "hexa_decimal_real        = hex(int(complex_number.real))                                         \n",
    "# complex real part to hexa decimal value\n",
    "hexa_decimal_imaginary   = hex(int(complex_number.imag))                                        \n",
    "# complex imaginary part to hexa decimal value\n",
    "\n",
    "print(\"Converted complex number real part to hexa Decimal No is       :\",hexa_decimal_real)     \n",
    "# output as hexadecimal real part\n",
    "print(\"Converted complex number imaginary part to hexa Decimal No is  :\",hexa_decimal_imaginary) \n",
    "# output as hexa dec imaginary part\n",
    "print()\n",
    "hexa_decimal_real        = hex(int(binary_number_real,2))                                      \n",
    "# binary real part to hexa decimal value\n",
    "hexa_decimal_imaginary   = hex(int(binary_number_imaginary,2))                               \n",
    "\n",
    "# binary imaginary part to hexa decimal value\n",
    "print(\"Converted binary real part to hexa Decimal No is               :\",hexa_decimal_real)      \n",
    "# print the output binary real to hexa decimal\n",
    "print(\"Converted binary imaginary part to hexa Decimal No is          :\",hexa_decimal_imaginary) \n",
    "# print the output binary real to hexa decimal\n"
   ]
  },
  {
   "cell_type": "code",
   "execution_count": 14,
   "id": "0cff2428",
   "metadata": {},
   "outputs": [
    {
     "name": "stdout",
     "output_type": "stream",
     "text": [
      "The given number is :\n",
      "float to int converted no is        : 3\n",
      "The converted complex No is         : (3+0j)\n",
      "The converted binary_number is      : 0b11\n",
      "The converted hexa decimal value is : 0x3\n"
     ]
    }
   ],
   "source": [
    "given_number        = 3.8\n",
    "print(\"The given number is :\")\n",
    "# int to float\n",
    "int_number          = int(given_number)\n",
    "print(\"float to int converted no is        :\",int_number)\n",
    "\n",
    "complex_number      = complex(int(given_number))\n",
    "print(\"The converted complex No is         :\",complex_number)\n",
    "binary_number       = bin(int(given_number))\n",
    "print(\"The converted binary_number is      :\",binary_number)\n",
    "hexa_decimal_number = hex(int(given_number))\n",
    "print(\"The converted hexa decimal value is :\",hexa_decimal_number)\n"
   ]
  },
  {
   "cell_type": "markdown",
   "id": "25187f2c",
   "metadata": {
    "id": "25187f2c"
   },
   "source": [
    "### 5. \n",
    "\n",
    "Write a program to accept five names from the user and store it in a Tuple 'T1'"
   ]
  },
  {
   "cell_type": "code",
   "execution_count": 20,
   "id": "7e9e98e3",
   "metadata": {
    "id": "7e9e98e3"
   },
   "outputs": [
    {
     "name": "stdout",
     "output_type": "stream",
     "text": [
      "Enter the Five Names     : priya suji kani ilakiya parvathy\n",
      "The Converted Tuple T1 is : ('priya', 'suji', 'kani', 'ilakiya', 'parvathy')\n"
     ]
    }
   ],
   "source": [
    "# print the list of names into tuple\n",
    "five_names     = list(map(str,input(\"Enter the Five Names     : \").split())) \n",
    "# to get input as list of strings\n",
    "T1             = tuple(five_names)                                           \n",
    "# converting list to tuple\n",
    "print(\"The Converted Tuple T1 is :\",T1)                                     \n",
    "# print the converted tuple  \n"
   ]
  },
  {
   "cell_type": "code",
   "execution_count": null,
   "id": "52c1b8e4",
   "metadata": {},
   "outputs": [],
   "source": []
  }
 ],
 "metadata": {
  "colab": {
   "provenance": []
  },
  "kernelspec": {
   "display_name": "Python 3 (ipykernel)",
   "language": "python",
   "name": "python3"
  },
  "language_info": {
   "codemirror_mode": {
    "name": "ipython",
    "version": 3
   },
   "file_extension": ".py",
   "mimetype": "text/x-python",
   "name": "python",
   "nbconvert_exporter": "python",
   "pygments_lexer": "ipython3",
   "version": "3.11.4"
  }
 },
 "nbformat": 4,
 "nbformat_minor": 5
}
