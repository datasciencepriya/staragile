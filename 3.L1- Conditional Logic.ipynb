{
 "cells": [
  {
   "cell_type": "markdown",
   "id": "c6ec5c42",
   "metadata": {
    "id": "c6ec5c42"
   },
   "source": [
    "# Assessment - 3 Gradable\n",
    "\n",
    "- Each question carries 3 or 4 marks\n",
    "- Marks will be assigned in terms of:\n",
    "    \n",
    "    **1. Expected output**\n",
    "    \n",
    "    **2. Quality and Explainability of code**\n",
    "\n",
    "    ***Go back through the script and type a comment above each line explaining in English what it does.***\n",
    "\n",
    "    **3. Copied code, if found, will result in 0 marks for that question. To avoid this make as much comments in the code to explain the approach**"
   ]
  },
  {
   "cell_type": "markdown",
   "id": "8698053e",
   "metadata": {
    "id": "8698053e"
   },
   "source": [
    "#1.Go through the string below and if the length of a word is even print \"even!\"\n",
    "\n",
    "string = 'I know how to print every word in this sentence that has an even number of letters'"
   ]
  },
  {
   "cell_type": "code",
   "execution_count": 1,
   "id": "4dec28a9",
   "metadata": {
    "id": "4dec28a9"
   },
   "outputs": [
    {
     "name": "stdout",
     "output_type": "stream",
     "text": [
      "['know', 'to', 'word', 'in', 'this', 'sentence', 'that', 'an', 'even', 'number', 'of']\n"
     ]
    }
   ],
   "source": [
    "# declare string as I know how to print every word in this sentence that has an even number of letters\n",
    "string = 'I know how to print every word in this sentence that has an even number of letters'\n",
    "#spliting list of string into individual string\n",
    "word = string.split()\n",
    "#printing seperated string\n",
    "\n",
    "#creating empty list to store words which is having length as even no\n",
    "evenword = [ ]\n",
    "# to check every word in list we are using for loop\n",
    "for var in word:\n",
    "# to check the length of the word even or not we are using it   \n",
    "   if len(var) % 2 == 0:\n",
    "# to add evenword in the list we are using append\n",
    "        evenword.append(var)\n",
    "# print the even word    \n",
    "print(evenword)    \n"
   ]
  },
  {
   "cell_type": "code",
   "execution_count": 13,
   "id": "5c960887",
   "metadata": {},
   "outputs": [
    {
     "name": "stdout",
     "output_type": "stream",
     "text": [
      "['know', 'to', 'word', 'in', 'this', 'sentence', 'that', 'an', 'even', 'number', 'of']\n"
     ]
    }
   ],
   "source": [
    "string = 'I know how to print every word in this sentence that has an even number of letters'\n",
    "\n",
    "word = string.split()\n",
    "for i in word: \n",
    "    if len(i) % 2 == 0:\n",
    "\n",
    "  \n",
    "        print(evenword)   \n",
    "        break\n"
   ]
  },
  {
   "cell_type": "raw",
   "id": "26791fb5",
   "metadata": {
    "id": "8569bc4e"
   },
   "source": [
    "### 2. \n",
    "\n",
    "Write a program to check given number is odd or even\n",
    "\n",
    "Hint:\n",
    "- 20 is even\n",
    "- 27 is odd"
   ]
  },
  {
   "cell_type": "code",
   "execution_count": 2,
   "id": "9ccfca15",
   "metadata": {
    "id": "9ccfca15"
   },
   "outputs": [
    {
     "name": "stdout",
     "output_type": "stream",
     "text": [
      "Enter the NUmber :77\n",
      "The number 77 is odd\n"
     ]
    }
   ],
   "source": [
    "# Write a program to check given number is odd or even\n",
    "# taking the input number as integer\n",
    "number = int(input(\"Enter the NUmber :\"))\n",
    "# to check whether the number is odd or even we are using this formula\n",
    "if number % 2 == 0 :\n",
    "#printing the even word which satisfies the condition  \n",
    "   print(\"The number {} is even\".format(number))\n",
    "else:\n",
    "#printing the odd word    \n",
    "   print('The number {} is odd'.format(number))"
   ]
  },
  {
   "cell_type": "markdown",
   "id": "40759409",
   "metadata": {
    "id": "40759409"
   },
   "source": [
    "### 3.\n",
    "\n",
    "Write a program to check given number is divisible by 6 or not\n",
    "\n",
    "Hint:\n",
    "24 is divisible by 6\n",
    "27 is not divisible by 6"
   ]
  },
  {
   "cell_type": "code",
   "execution_count": 3,
   "id": "f7409469",
   "metadata": {
    "id": "f7409469"
   },
   "outputs": [
    {
     "name": "stdout",
     "output_type": "stream",
     "text": [
      "Enter the NUmber :77\n",
      "The number 77 is not divisible by 6\n"
     ]
    }
   ],
   "source": [
    "#Write a program to check given number is divisible by 6 or not\n",
    "# to get input number as integer\n",
    "number = int(input('Enter the NUmber :'))\n",
    "# to check whether the number is divisible by 2 or 3 we are using modulus fn to check  the reminder with zero\n",
    "if number % 2 == 0 and number % 3 == 0:\n",
    "# printing the number which is divisible by 2 or 3\n",
    "    print(\"The number {} is divisible by 6\".format(number))\n",
    "# printing the number which is divisible by 2 or 3\n",
    "else:\n",
    "    print(\"The number {} is not divisible by 6\".format(number))\n",
    "   "
   ]
  },
  {
   "cell_type": "markdown",
   "id": "0dd3847a",
   "metadata": {
    "id": "0dd3847a"
   },
   "source": [
    "### 4. \n",
    "\n",
    "Create a list containing the following 3 elements:\n",
    "\n",
    "- Subject person had taken\n",
    "- Marks Achieved\n",
    "- a boolean value showing previous programming experience\n",
    "\n",
    "print all details and also print person has programming experience or not"
   ]
  },
  {
   "cell_type": "code",
   "execution_count": 20,
   "id": "5c87efcb",
   "metadata": {
    "id": "5c87efcb"
   },
   "outputs": [
    {
     "name": "stdout",
     "output_type": "stream",
     "text": [
      "Enter the subject name :maths\n",
      "Enter the marks achieved :100\n",
      "Enter the programming experience: 1\n",
      "the student details: ['maths', 100, '1']\n"
     ]
    }
   ],
   "source": [
    "#creating empty list to store student details\n",
    "studentdetails = []\n",
    "# to get input string as subject name\n",
    "subject_person_had_taken  = input( \"Enter the subject name :\")\n",
    "# to add the subject name in the empty list\n",
    "studentdetails.append(subject_person_had_taken)\n",
    "# to get input as marks achieved\n",
    "marks_achieved            = int(input('Enter the marks achieved :'))\n",
    "#adding marks achieved  into the estudent details list\n",
    "studentdetails.append(marks_achieved)\n",
    "# get the programming experience\n",
    "programming_experience = input('Enter the programming experience: ')\n",
    "# check whether the programmig experience is true\n",
    "if programming_experience is True:\n",
    "# if the string is true it will add true ,string value is 1 it will add 1\n",
    "    studentdetails.append(True)\n",
    "# check whether the programmig experience is true\n",
    "elif programming_experience is False:\n",
    " # if the string is true it will add false ,string value is 0 it will add 0\n",
    "   studentdetails.append(False)\n",
    "# add the programming experience\n",
    "studentdetails.append(programming_experience)\n",
    "# print the student details\n",
    "print( 'the student details:',studentdetails)"
   ]
  },
  {
   "cell_type": "markdown",
   "id": "a54510f0",
   "metadata": {
    "id": "a54510f0"
   },
   "source": [
    "### 5.\n",
    "\n",
    "Write a program to check sum of all elements in a list is greater than 100 or not\n",
    "\n",
    "Hint:\n",
    "- [11, 13, 17, 19, 11] --> sum is not greater than 100\n",
    "- [24, 36, 30, 31, 42] --> sum is greater than 100"
   ]
  },
  {
   "cell_type": "code",
   "execution_count": 18,
   "id": "5d53ba1f",
   "metadata": {
    "id": "5d53ba1f"
   },
   "outputs": [
    {
     "name": "stdout",
     "output_type": "stream",
     "text": [
      "Enter the elements :55 66 44 77 88 \n",
      "Elements total is 330 and It is  greater than 100\n"
     ]
    }
   ],
   "source": [
    "#Write a program to check sum of all elements in a list is greater than 100 or not\n",
    "#getting more than one elemment as input and seperating it as single element\n",
    "elements = list(map(int,input('Enter the elements :').split()))\n",
    "#finding sum of elements and storing it\n",
    "elements_total = sum(elements)\n",
    "#checking whether the total of elements greater than 100\n",
    "if elements_total > 100 :\n",
    "# printin the element total which is greater than 100\n",
    "    print('Elements total is {} and It is  greater than 100'. format(elements_total))\n",
    "else:\n",
    "# printing the element total which is less than 100\n",
    "    print(\"Elements total is {} and It is not greater than 100\". format(elements_total))"
   ]
  },
  {
   "cell_type": "code",
   "execution_count": null,
   "id": "f78bf47a",
   "metadata": {},
   "outputs": [],
   "source": []
  }
 ],
 "metadata": {
  "colab": {
   "provenance": []
  },
  "kernelspec": {
   "display_name": "Python 3 (ipykernel)",
   "language": "python",
   "name": "python3"
  },
  "language_info": {
   "codemirror_mode": {
    "name": "ipython",
    "version": 3
   },
   "file_extension": ".py",
   "mimetype": "text/x-python",
   "name": "python",
   "nbconvert_exporter": "python",
   "pygments_lexer": "ipython3",
   "version": "3.11.4"
  }
 },
 "nbformat": 4,
 "nbformat_minor": 5
}
