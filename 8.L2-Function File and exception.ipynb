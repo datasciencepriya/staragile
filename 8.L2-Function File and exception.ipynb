{
 "cells": [
  {
   "cell_type": "markdown",
   "id": "4f1596de",
   "metadata": {
    "id": "4f1596de"
   },
   "source": [
    "# Functions\n",
    "- Write solution of each question in the cell given below the corresponsing question.\n",
    "- Function taking input refers to input as a parameter / argument being passed."
   ]
  },
  {
   "cell_type": "markdown",
   "id": "6f0d9ac3",
   "metadata": {
    "id": "6f0d9ac3"
   },
   "source": [
    "#### 1. Create a function that takes a list of numbers as input and returns the median."
   ]
  },
  {
   "cell_type": "code",
   "execution_count": 3,
   "id": "0a090145",
   "metadata": {
    "id": "0a090145"
   },
   "outputs": [],
   "source": [
    "def even_median(numbers):\n",
    "        middle1 = numbers[n // 2 - 1]\n",
    "        middle2 = numbers[n // 2]\n",
    "        return (middle1 + middle2) / 2\n",
    "def odd_median(numbers):\n",
    "    return numbers[n // 2]\n",
    "\n"
   ]
  },
  {
   "cell_type": "code",
   "execution_count": 4,
   "id": "5e69ad6c",
   "metadata": {},
   "outputs": [
    {
     "name": "stdout",
     "output_type": "stream",
     "text": [
      "The Median for this list of numbers is : 5.5\n"
     ]
    }
   ],
   "source": [
    "numbers = [1,2,3,4,5,6,7,8,9,10]\n",
    "n = len(numbers)\n",
    "\n",
    "if n % 2 == 0:\n",
    "    median = even_median(numbers)\n",
    "\n",
    "else:\n",
    "    median = odd_median(numbers)\n",
    "\n",
    "print('The Median for this list of numbers is : {}'.format(median))\n",
    "\n",
    "\n"
   ]
  },
  {
   "cell_type": "markdown",
   "id": "18a107c4",
   "metadata": {
    "id": "18a107c4"
   },
   "source": [
    "#### 2. Create a function that takes a list of numbers as input and returns the mean."
   ]
  },
  {
   "cell_type": "code",
   "execution_count": 2,
   "id": "Vy8v3p_hIgsc",
   "metadata": {
    "id": "Vy8v3p_hIgsc"
   },
   "outputs": [],
   "source": [
    "def mean(numbers):\n",
    "    mean = sum(numbers) // len(numbers)\n",
    "    return mean\n"
   ]
  },
  {
   "cell_type": "code",
   "execution_count": 3,
   "id": "9533b14a",
   "metadata": {
    "id": "9533b14a"
   },
   "outputs": [
    {
     "name": "stdout",
     "output_type": "stream",
     "text": [
      "The Mean is : 68\n"
     ]
    }
   ],
   "source": [
    "numbers = [40,70,80,99,44,77,66]\n",
    "mean = mean(numbers)\n",
    "print('The Mean is : {}'.format(mean))"
   ]
  },
  {
   "cell_type": "markdown",
   "id": "34df49cf",
   "metadata": {
    "id": "34df49cf"
   },
   "source": [
    "#### 3. Create a function that takes a list of numbers as input and returns the standard deviation."
   ]
  },
  {
   "cell_type": "code",
   "execution_count": 18,
   "id": "5a089785",
   "metadata": {
    "id": "5a089785"
   },
   "outputs": [
    {
     "name": "stdout",
     "output_type": "stream",
     "text": [
      "The standard deviation is : 18.708286933869708\n"
     ]
    }
   ],
   "source": [
    "import math\n",
    "\n",
    "def stddev(numbers):\n",
    "    count = len(numbers)\n",
    "    total = sum(numbers)\n",
    "    mean = total / count\n",
    "    \n",
    "    sumofsquares = 0\n",
    "    for item in numbers:\n",
    "        sumofsquares += (item - mean) ** 2\n",
    "    \n",
    "    variance = sumofsquares / count\n",
    "    standard_deviation = math.sqrt(variance)\n",
    "    \n",
    "    return standard_deviation\n",
    "\n",
    "numbers = [90, 80, 70, 60, 50, 40, 60, 30]\n",
    "stddev = stddev(numbers)\n",
    "print('The standard deviation is : {}'.format(stddev))\n"
   ]
  },
  {
   "cell_type": "markdown",
   "id": "9cc39352",
   "metadata": {
    "id": "9cc39352"
   },
   "source": [
    "#### 4. Create a function that takes a number as input and return True if the number is prime , False if not."
   ]
  },
  {
   "cell_type": "code",
   "execution_count": 2,
   "id": "722fc2fa",
   "metadata": {
    "id": "722fc2fa"
   },
   "outputs": [
    {
     "name": "stdout",
     "output_type": "stream",
     "text": [
      "Enter the input:7\n",
      "True The input is prime\n"
     ]
    }
   ],
   "source": [
    "def isprime(number):\n",
    "    if number < 2:\n",
    "        return False\n",
    "    for i in range(2, int(number ** 0.5) + 1):\n",
    "        if number % i == 0:\n",
    "            return False\n",
    "    return True\n",
    "\n",
    "number = int(input('Enter the input:'))\n",
    "prime  = isprime(number) \n",
    "if prime is True:\n",
    "    print('True','The input is prime')\n",
    "else:\n",
    "    print('False','The input is  not prime')\n"
   ]
  },
  {
   "cell_type": "markdown",
   "id": "4029f3a8",
   "metadata": {
    "id": "4029f3a8"
   },
   "source": [
    "#### 5. Create a function that takes a list of numbers as input and returns the variance."
   ]
  },
  {
   "cell_type": "code",
   "execution_count": 17,
   "id": "83d19248",
   "metadata": {
    "id": "83d19248"
   },
   "outputs": [
    {
     "name": "stdout",
     "output_type": "stream",
     "text": [
      "The variance is : 350.0\n"
     ]
    }
   ],
   "source": [
    "\n",
    "#creating function to find variance\n",
    "def variance(numbers):\n",
    "# finding length of list as count\n",
    "    count = len(numbers)\n",
    "    total = sum(numbers)\n",
    "    mean = total / count\n",
    "    \n",
    "    sumofsquares = 0\n",
    "    for item in numbers:\n",
    "        sumofsquares += (item - mean) ** 2\n",
    "    \n",
    "    variance = sumofsquares / count\n",
    "\n",
    "    \n",
    "    return variance\n",
    "\n",
    "numbers = [90, 80, 70, 60, 50, 40, 60, 30]\n",
    "variance = variance(numbers)\n",
    "print('The variance is : {}'.format(variance))\n"
   ]
  },
  {
   "cell_type": "markdown",
   "id": "7acad1bf",
   "metadata": {
    "id": "7acad1bf"
   },
   "source": [
    "#### 6. Create a function that takes a number as input and returns the factorial."
   ]
  },
  {
   "cell_type": "code",
   "execution_count": 1,
   "id": "f7c0877a",
   "metadata": {
    "id": "f7c0877a"
   },
   "outputs": [
    {
     "name": "stdout",
     "output_type": "stream",
     "text": [
      "Enter the number: 6\n",
      "The factorial of 6 is 720\n"
     ]
    }
   ],
   "source": [
    "def factorial(n):\n",
    "    result = 1 \n",
    "    for i in range(1, n + 1):\n",
    "        result *= i\n",
    "    return result\n",
    "\n",
    "n = int(input('Enter the number: '))\n",
    "factorial1 = factorial(n)\n",
    "print(\"The factorial of {} is {}\".format(n, factorial1))\n"
   ]
  },
  {
   "cell_type": "markdown",
   "id": "b1e46b1f",
   "metadata": {
    "id": "b1e46b1f"
   },
   "source": [
    "#### 7. Create a function that takes two lists of same length as input and returns a list consisting of larger element at each position after comparing the corresponding elements in the given lists."
   ]
  },
  {
   "cell_type": "code",
   "execution_count": 38,
   "id": "bc428d22",
   "metadata": {
    "id": "bc428d22"
   },
   "outputs": [
    {
     "name": "stdout",
     "output_type": "stream",
     "text": [
      "Enter the list1 values: 33 44 55 66 77 88\n",
      "Enter the list2 values: 21 66 78 43 22 61\n",
      "The list having the largest number is: [33, 66, 78, 66, 77, 88]\n"
     ]
    }
   ],
   "source": [
    "def comparelist(list1, list2):\n",
    "    if len(list1) != len(list2):\n",
    "        return False\n",
    "    else:\n",
    "        largest = []\n",
    "        for i in range(len(list1)):\n",
    "            if list1[i] > list2[i]:\n",
    "                largest.append(list1[i])\n",
    "            else:\n",
    "                largest.append(list2[i])\n",
    "    return largest\n",
    "\n",
    "list1 = list(map(int, input('Enter the list1 values: ').split()))\n",
    "list2 = list(map(int, input('Enter the list2 values: ').split()))\n",
    "largestlist = comparelist(list1, list2)\n",
    "print(\"The list having the largest number is: {}\".format(largestlist))\n",
    "\n"
   ]
  },
  {
   "cell_type": "markdown",
   "id": "f397889f",
   "metadata": {
    "id": "f397889f"
   },
   "source": [
    "#### 8. Create a function that takes a string and returns a string after joining the words that are having even lengths."
   ]
  },
  {
   "cell_type": "code",
   "execution_count": 7,
   "id": "ebf96e1c",
   "metadata": {
    "id": "ebf96e1c"
   },
   "outputs": [
    {
     "name": "stdout",
     "output_type": "stream",
     "text": [
      "everyone to have nice is even length words in the string\n"
     ]
    }
   ],
   "source": [
    "def joinevenwords(s):\n",
    "    words = s.split()\n",
    "    evenwords = [word for word in words if len(word) % 2 == 0]\n",
    "    result = \" \".join(evenwords)\n",
    "    return result\n",
    "\n",
    "# Example usage:\n",
    "s = \"Hello everyone welcome to the session have a nice day \"\n",
    "evenlengthwords = joinevenwords(s)\n",
    "print(evenlengthwords,'is even length words in the string')\n"
   ]
  },
  {
   "cell_type": "markdown",
   "id": "36c6aae1",
   "metadata": {
    "id": "36c6aae1"
   },
   "source": [
    "#### 9. Create a function that takes a string and a character as input and returns a list after splitting the string based on the given character. By Default split based on whitespace. (Create a function similar to the inbuilt split function without using it)."
   ]
  },
  {
   "cell_type": "code",
   "execution_count": 8,
   "id": "869d7244",
   "metadata": {
    "id": "869d7244"
   },
   "outputs": [
    {
     "data": {
      "text/plain": [
       "['Hello', 'Good', 'day']"
      ]
     },
     "execution_count": 8,
     "metadata": {},
     "output_type": "execute_result"
    }
   ],
   "source": [
    "def split_string(s, c = ' '):\n",
    "    words = []\n",
    "    start = 0\n",
    "    for i in range(len(s)):\n",
    "        if s[i] == c:\n",
    "            words.append(s[start:i])\n",
    "            start = i + 1\n",
    "    words.append(s[start:i+1])\n",
    "    return words\n",
    "\n",
    "split_string('Hello Good day')"
   ]
  },
  {
   "cell_type": "markdown",
   "id": "b8c01afd",
   "metadata": {
    "id": "b8c01afd"
   },
   "source": [
    "#### 10. Create a function which takes a 2-D list of shape m * n where m is number of elements in the original list and where each element is a list having n integers (A list of m lists having n numbers each, a matrix). The function returns the largest element in the given list."
   ]
  },
  {
   "cell_type": "code",
   "execution_count": 34,
   "id": "9c1a3f96",
   "metadata": {},
   "outputs": [
    {
     "name": "stdout",
     "output_type": "stream",
     "text": [
      "9\n"
     ]
    }
   ],
   "source": [
    "def largestelement(list2d):\n",
    "\n",
    "  # Initialize the largest element to the first element in the 2-D list.\n",
    "  largest_element = list2d[0][0]\n",
    "\n",
    "  # Iterate over the 2-D list, comparing each element to the largest element.\n",
    "  for row in list2d:\n",
    "    for element in row:\n",
    "        if element > largest_element:\n",
    "            largest_element = element\n",
    "\n",
    "  # Return the largest element.\n",
    "  return largest_element\n",
    "\n",
    "list2d = [[1, 2, 3], [4, 5, 6], [7, 8, 9]]\n",
    "\n",
    "largest_element = largestelement(list2d)\n",
    "\n",
    "print(largest_element)\n",
    "\n"
   ]
  },
  {
   "cell_type": "code",
   "execution_count": 31,
   "id": "2ce1fc86",
   "metadata": {},
   "outputs": [
    {
     "ename": "TypeError",
     "evalue": "unsupported operand type(s) for -: 'int' and 'list'",
     "output_type": "error",
     "traceback": [
      "\u001b[1;31m---------------------------------------------------------------------------\u001b[0m",
      "\u001b[1;31mTypeError\u001b[0m                                 Traceback (most recent call last)",
      "Cell \u001b[1;32mIn[31], line 16\u001b[0m\n\u001b[0;32m     12\u001b[0m                 \u001b[38;5;28;01mreturn\u001b[39;00m j\n\u001b[0;32m     14\u001b[0m list2d \u001b[38;5;241m=\u001b[39m [[\u001b[38;5;241m1\u001b[39m, \u001b[38;5;241m2\u001b[39m, \u001b[38;5;241m3\u001b[39m], [\u001b[38;5;241m4\u001b[39m, \u001b[38;5;241m5\u001b[39m, \u001b[38;5;241m6\u001b[39m], [\u001b[38;5;241m7\u001b[39m, \u001b[38;5;241m8\u001b[39m, \u001b[38;5;241m9\u001b[39m]]\n\u001b[1;32m---> 16\u001b[0m largest_element \u001b[38;5;241m=\u001b[39m largestelement(list2d)\n\u001b[0;32m     18\u001b[0m \u001b[38;5;28mprint\u001b[39m(largest_element)\n",
      "Cell \u001b[1;32mIn[31], line 9\u001b[0m, in \u001b[0;36mlargestelement\u001b[1;34m(list2d)\u001b[0m\n\u001b[0;32m      7\u001b[0m \u001b[38;5;66;03m# Iterate over the 2-D list and find the largest element.for row in list_of_lists:\u001b[39;00m\n\u001b[0;32m      8\u001b[0m   \u001b[38;5;28;01mfor\u001b[39;00m i \u001b[38;5;129;01min\u001b[39;00m list2d:\n\u001b[1;32m----> 9\u001b[0m       \u001b[38;5;28;01mfor\u001b[39;00m j \u001b[38;5;129;01min\u001b[39;00m (n\u001b[38;5;241m-\u001b[39mi):\n\u001b[0;32m     10\u001b[0m           \u001b[38;5;28;01mif\u001b[39;00m i \u001b[38;5;241m>\u001b[39m j:\n\u001b[0;32m     12\u001b[0m               \u001b[38;5;28;01mreturn\u001b[39;00m j\n",
      "\u001b[1;31mTypeError\u001b[0m: unsupported operand type(s) for -: 'int' and 'list'"
     ]
    }
   ],
   "source": [
    "def largestelement(list2d):\n",
    "    n= len(list2d)\n",
    " \n",
    "  # Initialize the largest element.\n",
    "    largest_element = []\n",
    "\n",
    "  # Iterate over the 2-D list and find the largest element.for row in list_of_lists:\n",
    "    for i in list2d:\n",
    "        for j in (n-i):\n",
    "            if i > j:\n",
    "            \n",
    "                return j\n",
    "\n",
    "list2d = [[1, 2, 3], [4, 5, 6], [7, 8, 9]]\n",
    "\n",
    "largest_element = largestelement(list2d)\n",
    "\n",
    "print(largest_element)\n"
   ]
  },
  {
   "cell_type": "code",
   "execution_count": 40,
   "id": "adda1366",
   "metadata": {
    "id": "adda1366"
   },
   "outputs": [
    {
     "name": "stdout",
     "output_type": "stream",
     "text": [
      "Enter the list1 values: 88 90 66 75 59\n",
      "Enter the list2 values: 99 12 55 83 44\n",
      "The list having the largest number is: [99, 90, 66, 83, 59]\n"
     ]
    }
   ],
   "source": [
    "def comparelist(list1, list2):\n",
    "    if len(list1) != len(list2):\n",
    "        return False\n",
    "    else:\n",
    "        largest = []\n",
    "        for i in range(len(list1)):\n",
    "            if list1[i] > list2[i]:\n",
    "                largest.append(list1[i])\n",
    "            else:\n",
    "                largest.append(list2[i])\n",
    "    return largest\n",
    "\n",
    "list1 = list(map(int, input('Enter the list1 values: ').split()))\n",
    "list2 = list(map(int, input('Enter the list2 values: ').split()))\n",
    "largestlist = comparelist(list1, list2)\n",
    "print(\"The list having the largest number is: {}\".format(largestlist))\n",
    "\n"
   ]
  },
  {
   "cell_type": "code",
   "execution_count": 11,
   "id": "180d0933",
   "metadata": {},
   "outputs": [
    {
     "name": "stdout",
     "output_type": "stream",
     "text": [
      "The largest no of two list is: [False, False, False, False, False, False, False, False, False]\n"
     ]
    }
   ],
   "source": [
    "def compare(nums1, nums2):\n",
    "    largestnumlist = []\n",
    "    for i in range(len(nums1)):\n",
    "        for j in range(len(nums2)):\n",
    "            largest = nums1[i] > nums2[i] and num2[i] < num1[i]\n",
    "            largestnumlist.append(largest)\n",
    "    return largestnumlist\n",
    "\n",
    "\n",
    "nums1, nums2 = [1, 2, 3], [3, 4, 6]\n",
    "result = compare(nums1, nums2)\n",
    "print('The largest no of two list is:',result)\n"
   ]
  },
  {
   "cell_type": "markdown",
   "id": "d2a2a668",
   "metadata": {
    "id": "d2a2a668"
   },
   "source": [
    "#### 11. Create a function which takes a 2-D list of shape m * n where m is number of elements in the original list and where each element is a list having n integers (A list of m lists having n numbers each). The function also takes a number x as input and returns True is x is in the given 2D list."
   ]
  },
  {
   "cell_type": "code",
   "execution_count": 1,
   "id": "585d5e4b",
   "metadata": {
    "id": "585d5e4b"
   },
   "outputs": [
    {
     "data": {
      "text/plain": [
       "False"
      ]
     },
     "execution_count": 1,
     "metadata": {},
     "output_type": "execute_result"
    }
   ],
   "source": [
    "def search2d(nums,x):\n",
    "    largest = nums[0][0]\n",
    "    m= len(nums)\n",
    "    n= len(nums[0])\n",
    "    \n",
    "    for i in range(m):\n",
    "        for j in range(n):\n",
    "            if nums[i][j] == x:\n",
    "                return True\n",
    "    else:\n",
    "        return False\n",
    "        \n",
    "search2d([[1,2,3],[4,5,6]], 7)\n"
   ]
  },
  {
   "cell_type": "markdown",
   "id": "0d889f51",
   "metadata": {
    "id": "0d889f51"
   },
   "source": [
    "#### 12. Create a function which takes a 2-D list of shape m * n where m is number of elements in the original list and where each element is a list having n integers (A list of m lists having n numbers each). The function returns the sum of all rows in the matrix (2 D list)."
   ]
  },
  {
   "cell_type": "code",
   "execution_count": 1,
   "id": "56d82617",
   "metadata": {
    "id": "56d82617"
   },
   "outputs": [
    {
     "name": "stdout",
     "output_type": "stream",
     "text": [
      "The sum of two list is: [4, 6, 9]\n"
     ]
    }
   ],
   "source": [
    "def sum1(nums1, nums2):\n",
    "    totalsum = []\n",
    "    for i in range(len(nums1)):\n",
    "        total = nums1[i] + nums2[i]\n",
    "        totalsum.append(total)\n",
    "    return totalsum\n",
    "\n",
    "\n",
    "nums1, nums2 = [[1, 2, 3], [3, 4, 6]]\n",
    "result = sum1(nums1, nums2)\n",
    "print('The sum of two list is:',result)\n"
   ]
  },
  {
   "cell_type": "code",
   "execution_count": 35,
   "id": "7c238f2b",
   "metadata": {},
   "outputs": [],
   "source": [
    "def sum_of_rows_in_2d_list(list2d):\n",
    "\n",
    "  # Create a new list to store the sum of each row in the 2D list.\n",
    "  row_sums = []\n",
    "\n",
    "  # Iterate over the rows in the 2D list.\n",
    "  for row in list2d:\n",
    "\n",
    "    # Initialize the sum of the current row to 0.\n",
    "    row_sum = 0\n",
    "\n",
    "    # Iterate over the elements in the current row and add them to the row sum.\n",
    "    for element in row:\n",
    "      row_sum += element\n",
    "\n",
    "    # Add the row sum to the list of row sums.\n",
    "    row_sums.append(row_sum)\n",
    "\n",
    "  # Return the list of row sums.\n",
    "  return row_sum\n",
    "nums1, nums2 = [[1, 2, 3], [3, 4, 6]]\n",
    "result = sum1(nums1, nums2)\n",
    "print('The sum of two list is:',result)\n"
   ]
  },
  {
   "cell_type": "markdown",
   "id": "f89438e1",
   "metadata": {
    "id": "f89438e1"
   },
   "source": [
    "#### 13. Create a function which takes a 2-D list of shape m * n where m is number of elements in the original list and where each element is a list having n integers (A list of m lists having n numbers each). The function also a takes a number x as input and returns a list of all consecutive pairs having sum eaqqual to x."
   ]
  },
  {
   "cell_type": "code",
   "execution_count": 12,
   "id": "ef5388fd",
   "metadata": {},
   "outputs": [
    {
     "ename": "SyntaxError",
     "evalue": "invalid non-printable character U+00A0 (1480072909.py, line 2)",
     "output_type": "error",
     "traceback": [
      "\u001b[1;36m  Cell \u001b[1;32mIn[12], line 2\u001b[1;36m\u001b[0m\n\u001b[1;33m    newlist =[[0,0]]\u001b[0m\n\u001b[1;37m    ^\u001b[0m\n\u001b[1;31mSyntaxError\u001b[0m\u001b[1;31m:\u001b[0m invalid non-printable character U+00A0\n"
     ]
    }
   ],
   "source": [
    "def consec_sum(numbers,num):\n",
    "    newlist =[[0,0]] \n",
    "    for i in range(len(numbers)):\n",
    "        for j in range(i + 1, len(numbers[i])):\n",
    "            if numbers[i][j]+numbers[i][j+1] == num :\n",
    "                newlist.append([numbers[i][j],numbers[i][j+1]])\n",
    "    return newlist\n",
    "     \n",
    "list2d = [[1,3,5,4,2,1],[6, 7, 2, 4, 3, 2]]\n",
    "result = consec_sum(list2d, 6)\n",
    "print(result)\n"
   ]
  },
  {
   "cell_type": "code",
   "execution_count": 68,
   "id": "c857dfcd",
   "metadata": {
    "id": "c857dfcd"
   },
   "outputs": [
    {
     "name": "stdout",
     "output_type": "stream",
     "text": [
      "[]\n"
     ]
    }
   ],
   "source": [
    "def find_consecutive_pairs_with_sum_x(list2d, x):\n",
    "\n",
    "  # Create a new list to store all consecutive pairs having sum equal to x.\n",
    "  consecutive_pairs = []\n",
    "\n",
    "  # Iterate over the rows in the 2D list.\n",
    "  for row in list2d:\n",
    "\n",
    "    # Initialize the current sum to 0.\n",
    "    current_sum = 0\n",
    "\n",
    "    # Initialize the start index of the current pair to 0.\n",
    "    start_index = 0\n",
    "\n",
    "    # Iterate over the elements in the row.\n",
    "    for i in range(len(row)):\n",
    "\n",
    "      # Add the current element to the current sum.\n",
    "      current_sum += row[i]\n",
    "\n",
    "      # If the current sum is equal to x, then add the current pair to the list of consecutive pairs.\n",
    "      if current_sum == x:\n",
    "        consecutive_pairs.append((row[start_index], row[i]))\n",
    "\n",
    "      # If the current sum is greater than x, then move the start index one position forward.\n",
    "      elif current_sum > x:\n",
    "        start_index += 1\n",
    "        current_sum -= row[start_index]\n",
    "\n",
    "  # Return the list of consecutive pairs.\n",
    "  return consecutive_pairs\n",
    "\n",
    "list2d = [[1,3,5,4,2,1],[6, 7, 2, 4, 3, 2]]\n",
    "result = find_consecutive_pairs_with_sum_x(list2d, 6)\n",
    "print(result)\n",
    "\n"
   ]
  },
  {
   "cell_type": "code",
   "execution_count": 69,
   "id": "0b8d2241",
   "metadata": {},
   "outputs": [
    {
     "name": "stdout",
     "output_type": "stream",
     "text": [
      "[(1, 3), (5, 1), (6, 6), (2, 4)]\n"
     ]
    }
   ],
   "source": [
    "def find_consecutive_pairs_with_sum_x(list2d, x):\n",
    "    consecutive_pairs = []\n",
    "\n",
    "    for row in list2d:\n",
    "        current_sum = 0\n",
    "        start_index = 0\n",
    "\n",
    "        for i in range(len(row)):\n",
    "            current_sum += row[i]\n",
    "\n",
    "            while current_sum > x and start_index < i:\n",
    "                current_sum -= row[start_index]\n",
    "                start_index += 1\n",
    "\n",
    "            if current_sum == x:\n",
    "                consecutive_pairs.append((row[start_index], row[i]))\n",
    "\n",
    "    return consecutive_pairs\n",
    "\n",
    "list2d = [[1, 2, 3, 4, 5, 1], [6, 7, 2, 4, 3, 2]]\n",
    "result = find_consecutive_pairs_with_sum_x(list2d, 6)\n",
    "print(result)\n"
   ]
  },
  {
   "cell_type": "code",
   "execution_count": 2,
   "id": "39155a1c",
   "metadata": {},
   "outputs": [
    {
     "name": "stdout",
     "output_type": "stream",
     "text": [
      "[(4, 2), (2, 4)]\n"
     ]
    }
   ],
   "source": [
    "def find_consecutive_pairs_with_sum_x(list2d, x):\n",
    "    consecutive_pairs = []\n",
    "\n",
    "    for row in list2d:\n",
    "        current_sum = row[0]\n",
    "        start_index = 0\n",
    "\n",
    "        for i in range(1, len(row)):\n",
    "            current_sum += row[i]\n",
    "\n",
    "            while current_sum > x and start_index < i:\n",
    "                current_sum -= row[start_index]\n",
    "                start_index += 1\n",
    "\n",
    "            if current_sum == x:\n",
    "                consecutive_pairs.append((row[start_index], row[i]))\n",
    "\n",
    "    return consecutive_pairs\n",
    "\n",
    "list2d = [[1,3,5,4,2,1],[6, 7, 2, 4, 3, 2]]\n",
    "result = find_consecutive_pairs_with_sum_x(list2d, 6)\n",
    "print(result)\n"
   ]
  },
  {
   "cell_type": "code",
   "execution_count": 19,
   "id": "9a3a8e86",
   "metadata": {},
   "outputs": [
    {
     "name": "stdout",
     "output_type": "stream",
     "text": [
      "[(2, 4), (5, 1)]\n"
     ]
    }
   ],
   "source": [
    "def consecutive_sum(list2d, x):\n",
    "    pairs = []\n",
    "    for i in range(len(list2d)):\n",
    "        for j in range(len(list2d[i]) - 1):\n",
    "            if list2d[i][j] + list2d[i][j + 1] == x:\n",
    "                pairs.append((list2d[i][j], list2d[i][j + 1]))\n",
    "        return pairs\n",
    "                \n",
    "                \n",
    "list2d = [[1, 3,2,4,5,1],[1,4,2,3,6,3]]\n",
    "x = 6\n",
    "\n",
    "pairs = consecutive_sum(list2d, x)\n",
    "\n",
    "print(pairs)\n"
   ]
  },
  {
   "cell_type": "markdown",
   "id": "976248d9",
   "metadata": {
    "id": "976248d9"
   },
   "source": [
    "#### 14. Create a function that takes a list and a number as input and returns True ifthe number is present in the list otherwise false using Binary search algorithm. (Read about Binary Search)."
   ]
  },
  {
   "cell_type": "code",
   "execution_count": 4,
   "id": "ef73c7cb",
   "metadata": {
    "id": "ef73c7cb"
   },
   "outputs": [
    {
     "ename": "TypeError",
     "evalue": "unsupported operand type(s) for +: 'int' and 'str'",
     "output_type": "error",
     "traceback": [
      "\u001b[1;31m---------------------------------------------------------------------------\u001b[0m",
      "\u001b[1;31mTypeError\u001b[0m                                 Traceback (most recent call last)",
      "Cell \u001b[1;32mIn[4], line 21\u001b[0m\n\u001b[0;32m     19\u001b[0m     \u001b[38;5;28mprint\u001b[39m(\u001b[38;5;124m\"\u001b[39m\u001b[38;5;124mis that element present in that list : \u001b[39m\u001b[38;5;124m\"\u001b[39m, result  \u001b[38;5;241m+\u001b[39m \u001b[38;5;124m'\u001b[39m\u001b[38;5;124mThe element present\u001b[39m\u001b[38;5;124m'\u001b[39m)\n\u001b[0;32m     20\u001b[0m \u001b[38;5;28;01melse\u001b[39;00m:\n\u001b[1;32m---> 21\u001b[0m     \u001b[38;5;28mprint\u001b[39m(\u001b[38;5;124m\"\u001b[39m\u001b[38;5;124mis that element present in the list\u001b[39m\u001b[38;5;124m\"\u001b[39m, result \u001b[38;5;241m+\u001b[39m \u001b[38;5;124m'\u001b[39m\u001b[38;5;124m the element not present\u001b[39m\u001b[38;5;124m'\u001b[39m)\n",
      "\u001b[1;31mTypeError\u001b[0m: unsupported operand type(s) for +: 'int' and 'str'"
     ]
    }
   ],
   "source": [
    "import bisect\n",
    "  \n",
    "def binary_search_bisect(arr, x):\n",
    "    i = bisect.bisect_left(arr, x)\n",
    "    if i != len(arr) and arr[i] == x:\n",
    "        return i\n",
    "    else:\n",
    "        return -1\n",
    "  \n",
    "  \n",
    "# Test array\n",
    "arr = [2, 3, 4, 10, 40]\n",
    "x = 10\n",
    "  \n",
    "# Function call\n",
    "result = binary_search_bisect(arr, x)\n",
    "  \n",
    "if result is True:\n",
    "    print(\"is that element present in that list : \", result  + 'The element present')\n",
    "else:\n",
    "    print(\"is that element present in the list\", result + ' the element not present')\n"
   ]
  },
  {
   "cell_type": "code",
   "execution_count": 6,
   "id": "31d3c65f",
   "metadata": {},
   "outputs": [
    {
     "name": "stdout",
     "output_type": "stream",
     "text": [
      "True\n"
     ]
    }
   ],
   "source": [
    "def binary_search(list, x):\n",
    "    left, right = 0, len(list) - 1\n",
    "\n",
    "    while left <= right:\n",
    "        mid = (left + right) // 2\n",
    "        if list[mid] == x :\n",
    "            return True\n",
    "        elif list[mid] < x:\n",
    "            left = mid + 1\n",
    "        else:\n",
    "            right = mid - 1\n",
    "\n",
    "    return False\n",
    "\n",
    "# Example usage:\n",
    "list = [1, 3, 5, 7, 9, 11, 13]\n",
    "number_to_find = 7\n",
    "result = binary_search(my_list, number_to_find)\n",
    "print(result)  # Output will be True\n"
   ]
  },
  {
   "cell_type": "markdown",
   "id": "f12cc8c9",
   "metadata": {
    "id": "f12cc8c9"
   },
   "source": [
    "#### 15. Create a function which takes a txt filename as input and returns the number of words in that file."
   ]
  },
  {
   "cell_type": "code",
   "execution_count": 12,
   "id": "46492494",
   "metadata": {
    "id": "46492494"
   },
   "outputs": [
    {
     "name": "stdout",
     "output_type": "stream",
     "text": [
      "No of words in file filehandling : 188\n"
     ]
    }
   ],
   "source": [
    "def count_words_in_file(filename):\n",
    "\n",
    "  # Open the text file in read mode.\n",
    "  with open(filename, \"r\") as f:\n",
    "\n",
    "    # Read the entire text file into a string.\n",
    "    text = f.read()\n",
    "\n",
    "    # Split the text into words.\n",
    "    words = text.split()\n",
    "\n",
    "  # Return the number of words.\n",
    "  return len(words)\n",
    "\n",
    "filename = 'file/filehandling.txt'\n",
    "result= count_words_in_file('file/filehandling.txt')\n",
    "print('No of words in file filehandling :',result)"
   ]
  },
  {
   "cell_type": "code",
   "execution_count": 18,
   "id": "83b36d6e",
   "metadata": {},
   "outputs": [
    {
     "ename": "NameError",
     "evalue": "name 'hobby' is not defined",
     "output_type": "error",
     "traceback": [
      "\u001b[1;31m---------------------------------------------------------------------------\u001b[0m",
      "\u001b[1;31mNameError\u001b[0m                                 Traceback (most recent call last)",
      "Cell \u001b[1;32mIn[18], line 14\u001b[0m\n\u001b[0;32m     11\u001b[0m     \u001b[38;5;66;03m# Return the number of words.\u001b[39;00m\n\u001b[0;32m     12\u001b[0m     \u001b[38;5;28;01mreturn\u001b[39;00m \u001b[38;5;28mlen\u001b[39m(words)\n\u001b[1;32m---> 14\u001b[0m text \u001b[38;5;241m=\u001b[39m hobby\u001b[38;5;241m.\u001b[39mtxt\n\u001b[0;32m     15\u001b[0m text \u001b[38;5;241m=\u001b[39m count_words_in_file(hobby)\n\u001b[0;32m     16\u001b[0m \u001b[38;5;28mprint\u001b[39m(a)\n",
      "\u001b[1;31mNameError\u001b[0m: name 'hobby' is not defined"
     ]
    }
   ],
   "source": [
    "def count_words_in_file(hobby):\n",
    "    # Open the text file in read mode.\n",
    "    with open(hobby, \"r\") as f:\n",
    "\n",
    "        # Read the entire text file into a string.\n",
    "        text = f.read()\n",
    "\n",
    "        # Split the text into words.\n",
    "        words = text.split()\n",
    "\n",
    "    # Return the number of words.\n",
    "    return len(words)\n",
    "\n",
    "text = hobby.txt\n",
    "text = count_words_in_file(hobby)\n",
    "print(a)\n"
   ]
  },
  {
   "cell_type": "markdown",
   "id": "b2666c95",
   "metadata": {
    "id": "b2666c95"
   },
   "source": [
    "#### 16. Create a function which takes a txt filename as input and returns the number of line in the file."
   ]
  },
  {
   "cell_type": "code",
   "execution_count": null,
   "id": "5ff27d42",
   "metadata": {
    "id": "5ff27d42"
   },
   "outputs": [],
   "source": [
    "def count_words_in_file(filename):\n",
    "    # Open the text file in read mode.\n",
    "    with open(filename, \"r\") as f:\n",
    "\n",
    "        # Read the entire text file into a string.\n",
    "        text = f.read()\n",
    "\n",
    "        # Split the text into words.\n",
    "        words = text.split()\n",
    "\n",
    "    # Return the number of words.\n",
    "    return len(words)\n"
   ]
  },
  {
   "cell_type": "code",
   "execution_count": 50,
   "id": "be237705",
   "metadata": {},
   "outputs": [
    {
     "name": "stdout",
     "output_type": "stream",
     "text": [
      "No of lines in file filehandling : 186\n"
     ]
    }
   ],
   "source": [
    "def count_lines_in_file(filename):\n",
    "    # Open the text file in read mode.\n",
    "    with open(filename, \"r\") as f:\n",
    "        line_count = 0\n",
    "\n",
    "        # Read the file line by line and count the lines.\n",
    "        for _ in f:\n",
    "            line_count += 1\n",
    "\n",
    "    return line_count\n",
    "\n",
    "filename = 'file/filehandling.txt'\n",
    "result= count_words_in_file('file/filehandling.txt')\n",
    "print('No of lines in file filehandling :',result)"
   ]
  },
  {
   "cell_type": "code",
   "execution_count": 49,
   "id": "f947b546",
   "metadata": {},
   "outputs": [
    {
     "name": "stdout",
     "output_type": "stream",
     "text": [
      "No of lines in file filehandling : 186\n"
     ]
    }
   ],
   "source": [
    "def count_lines_in_file(filename):\n",
    "    # Open the text file in read mode.\n",
    "    with open(filename, \"r\") as f:\n",
    "        line_count = 0\n",
    "\n",
    "        # Read the file line by line and count the lines.\n",
    "        for row in f:\n",
    "            line_count += 1\n",
    "\n",
    "    return line_count\n",
    "\n",
    "filename = 'file/filehandling.txt'\n",
    "result= count_words_in_file('file/filehandling.txt')\n",
    "print('No of lines in file filehandling :',result)"
   ]
  },
  {
   "cell_type": "code",
   "execution_count": null,
   "id": "350341eb",
   "metadata": {},
   "outputs": [],
   "source": [
    "def count_words_in_file(filename):\n",
    "    try:\n",
    "        with open(filename, 'r') as file:\n",
    "            text = file.read()\n",
    "            words = text.split()\n",
    "            return len(words)\n",
    "    except FileNotFoundError:\n",
    "        return \"File not found\"\n",
    "    except Exception as e:\n",
    "        return f\"An error occurred: {str(e)}\"\n",
    "\n",
    "# Example usage:\n",
    "file_name = \"sample.txt\"  # Replace with the name of your text file\n",
    "word_count = count_words_in_file(file_name)\n",
    "if isinstance(word_count, int):\n",
    "    print(f\"The file '{file_name}' contains {word_count} words.\")\n",
    "else:\n",
    "    print(word_count)\n"
   ]
  },
  {
   "cell_type": "code",
   "execution_count": 22,
   "id": "4810c480",
   "metadata": {},
   "outputs": [
    {
     "ename": "ValueError",
     "evalue": "I/O operation on closed file.",
     "output_type": "error",
     "traceback": [
      "\u001b[1;31m---------------------------------------------------------------------------\u001b[0m",
      "\u001b[1;31mValueError\u001b[0m                                Traceback (most recent call last)",
      "Cell \u001b[1;32mIn[22], line 10\u001b[0m\n\u001b[0;32m      7\u001b[0m     \u001b[38;5;28;01mreturn\u001b[39;00m line_count\n\u001b[0;32m      9\u001b[0m filename \u001b[38;5;241m=\u001b[39m \u001b[38;5;124m'\u001b[39m\u001b[38;5;124mfile/filehandling.txt\u001b[39m\u001b[38;5;124m'\u001b[39m\n\u001b[1;32m---> 10\u001b[0m result \u001b[38;5;241m=\u001b[39m count_lines_in_file(filename)\n\u001b[0;32m     11\u001b[0m \u001b[38;5;28mprint\u001b[39m(\u001b[38;5;124m'\u001b[39m\u001b[38;5;124mNo of lines in file filehandling:\u001b[39m\u001b[38;5;124m'\u001b[39m, result)\n",
      "Cell \u001b[1;32mIn[22], line 5\u001b[0m, in \u001b[0;36mcount_lines_in_file\u001b[1;34m(filename)\u001b[0m\n\u001b[0;32m      3\u001b[0m \u001b[38;5;28;01mwith\u001b[39;00m \u001b[38;5;28mopen\u001b[39m(filename, \u001b[38;5;124m\"\u001b[39m\u001b[38;5;124mr\u001b[39m\u001b[38;5;124m\"\u001b[39m) \u001b[38;5;28;01mas\u001b[39;00m f:\n\u001b[0;32m      4\u001b[0m     line_count \u001b[38;5;241m=\u001b[39m \u001b[38;5;241m0\u001b[39m\n\u001b[1;32m----> 5\u001b[0m \u001b[38;5;28;01mfor\u001b[39;00m _ \u001b[38;5;129;01min\u001b[39;00m f:\n\u001b[0;32m      6\u001b[0m         line_count \u001b[38;5;241m+\u001b[39m\u001b[38;5;241m=\u001b[39m \u001b[38;5;241m1\u001b[39m\n\u001b[0;32m      7\u001b[0m \u001b[38;5;28;01mreturn\u001b[39;00m line_count\n",
      "\u001b[1;31mValueError\u001b[0m: I/O operation on closed file."
     ]
    }
   ],
   "source": [
    "def count_lines_in_file(filename):\n",
    "    # Open the text file in read mode.\n",
    "    with open(filename, \"r\") as f:\n",
    "        line_count = 0\n",
    "    for _ in f:\n",
    "            line_count += 1\n",
    "    return line_count\n",
    "\n",
    "filename = 'file/filehandling.txt'\n",
    "result = count_lines_in_file(filename)\n",
    "print('No of lines in file filehandling:', result)\n"
   ]
  },
  {
   "cell_type": "code",
   "execution_count": 80,
   "id": "fdb24556",
   "metadata": {},
   "outputs": [
    {
     "name": "stdout",
     "output_type": "stream",
     "text": [
      "No of lines in file hobby and hobby1 is : 10\n"
     ]
    }
   ],
   "source": [
    "def count_lines_in_file(filename):\n",
    "    # Open the text file in read mode.\n",
    "    with open(filename, \"r\") as f:\n",
    "        line_count = 0\n",
    "        for i in f:\n",
    "            line_count += 1\n",
    "    return line_count\n",
    "\n",
    "filename = 'file/hobby.txt' \n",
    "result1 = count_lines_in_file(filename)\n",
    "filename = 'file/hobby1.txt' \n",
    "result2 = count_lines_in_file(filename)\n",
    "result = result1 + result2\n",
    "\n",
    "print('No of lines in file hobby and hobby1 is :', result)\n"
   ]
  },
  {
   "cell_type": "code",
   "execution_count": 60,
   "id": "627893fc",
   "metadata": {},
   "outputs": [
    {
     "name": "stdout",
     "output_type": "stream",
     "text": [
      "No of lines in file hobby and hobby1 is : 10\n"
     ]
    }
   ],
   "source": [
    "def count_lines_in_file(filename):\n",
    "    # Open the text file in read mode.\n",
    "    with open(filename, \"r\") as f:\n",
    "        line_count = 0\n",
    "        for i in f:\n",
    "            line_count += 1\n",
    "    return line_count\n",
    "\n",
    "filename = 'file/hobby.txt' \n",
    "result1 = count_lines_in_file(filename)\n",
    "filename = 'file/hobby1.txt' \n",
    "result2 = count_lines_in_file(filename)\n",
    "result = result1 + result2\n",
    "\n",
    "print('No of lines in file hobby and hobby1 is :', result)\n"
   ]
  },
  {
   "cell_type": "code",
   "execution_count": 64,
   "id": "df96f908",
   "metadata": {},
   "outputs": [
    {
     "name": "stdout",
     "output_type": "stream",
     "text": [
      "No of lines in filehandling is : 5\n"
     ]
    }
   ],
   "source": [
    "def count_lines_in_file(filename):\n",
    "\n",
    "    with open(filename, \"r\") as f:\n",
    "        line_count = 0\n",
    "        for i in f:\n",
    "            line_count += 1\n",
    "        return line_count\n",
    "\n",
    "filename = 'file/filehandling.txt' \n",
    "result1 = count_lines_in_file(filename)\n",
    "\n",
    "print('No of lines in filehandling is :', result1)\n"
   ]
  },
  {
   "cell_type": "markdown",
   "id": "6722fb75",
   "metadata": {
    "id": "6722fb75"
   },
   "source": [
    "#### 17. Create a function that takes two txt filenames and returns a file after merging the cintents of two given files. (Print the merged content and then return the filename, content of original files should be unchanged)."
   ]
  },
  {
   "cell_type": "code",
   "execution_count": 4,
   "id": "86a4b436",
   "metadata": {
    "id": "86a4b436"
   },
   "outputs": [
    {
     "ename": "NameError",
     "evalue": "name 'merged_text' is not defined",
     "output_type": "error",
     "traceback": [
      "\u001b[1;31m---------------------------------------------------------------------------\u001b[0m",
      "\u001b[1;31mNameError\u001b[0m                                 Traceback (most recent call last)",
      "Cell \u001b[1;32mIn[4], line 18\u001b[0m\n\u001b[0;32m     14\u001b[0m merged_filename \u001b[38;5;241m=\u001b[39m \u001b[38;5;124m\"\u001b[39m\u001b[38;5;124mmerged.txt\u001b[39m\u001b[38;5;124m\"\u001b[39m\n\u001b[0;32m     15\u001b[0m \u001b[38;5;28;01mwith\u001b[39;00m \u001b[38;5;28mopen\u001b[39m(merged_filename, \u001b[38;5;124m\"\u001b[39m\u001b[38;5;124mw\u001b[39m\u001b[38;5;124m\"\u001b[39m) \u001b[38;5;28;01mas\u001b[39;00m f:\n\u001b[0;32m     16\u001b[0m \n\u001b[0;32m     17\u001b[0m     \u001b[38;5;66;03m# Write the merged text to the new file.\u001b[39;00m\n\u001b[1;32m---> 18\u001b[0m     f\u001b[38;5;241m.\u001b[39mwrite(merged_text)\n\u001b[0;32m     20\u001b[0m   \u001b[38;5;66;03m# Print the merged content.\u001b[39;00m\n\u001b[0;32m     21\u001b[0m     \u001b[38;5;28mprint\u001b[39m(merged_text)\n",
      "\u001b[1;31mNameError\u001b[0m: name 'merged_text' is not defined"
     ]
    }
   ],
   "source": [
    "def merge_text_files(filehandling, filehandlingconspros):\n",
    "\n",
    "  # Open the two text files in read mode.\n",
    "  with open(filehandling, \"r\") as f1, open(filehandlingconspros, \"r\") as f2:\n",
    "\n",
    "    # Read the contents of the two text files into strings.\n",
    "    text1 = f1.read()\n",
    "    text2 = f2.read()\n",
    "\n",
    "    # Merge the contents of the two strings.\n",
    "    merged_text = text1 + text2\n",
    "\n",
    "  # Create a new file to store the merged text.\n",
    "merged_filename = \"merged.txt\"\n",
    "with open(merged_filename, \"w\") as f:\n",
    "\n",
    "    # Write the merged text to the new file.\n",
    "    f.write(merged_text)\n",
    "\n",
    "  # Print the merged content.\n",
    "    print(merged_text)\n",
    "\n",
    "  # Return the name of the new file.\n",
    "return merged_filename\n"
   ]
  },
  {
   "cell_type": "code",
   "execution_count": 5,
   "id": "2709e343",
   "metadata": {},
   "outputs": [
    {
     "ename": "FileNotFoundError",
     "evalue": "[Errno 2] No such file or directory: 'filehandling.txt'",
     "output_type": "error",
     "traceback": [
      "\u001b[1;31m---------------------------------------------------------------------------\u001b[0m",
      "\u001b[1;31mFileNotFoundError\u001b[0m                         Traceback (most recent call last)",
      "Cell \u001b[1;32mIn[5], line 11\u001b[0m\n\u001b[0;32m      9\u001b[0m     \u001b[38;5;28mprint\u001b[39m(merged_text)\n\u001b[0;32m     10\u001b[0m     \u001b[38;5;28;01mreturn\u001b[39;00m merged_filename\n\u001b[1;32m---> 11\u001b[0m merge_text_files(\u001b[38;5;124m'\u001b[39m\u001b[38;5;124mfilehandling.txt\u001b[39m\u001b[38;5;124m'\u001b[39m, \u001b[38;5;124m'\u001b[39m\u001b[38;5;124mfilehanlingconspros.txt\u001b[39m\u001b[38;5;124m'\u001b[39m)\n",
      "Cell \u001b[1;32mIn[5], line 2\u001b[0m, in \u001b[0;36mmerge_text_files\u001b[1;34m(filehandling, filehandlingconspros)\u001b[0m\n\u001b[0;32m      1\u001b[0m \u001b[38;5;28;01mdef\u001b[39;00m \u001b[38;5;21mmerge_text_files\u001b[39m(filehandling, filehandlingconspros):\n\u001b[1;32m----> 2\u001b[0m     \u001b[38;5;28;01mwith\u001b[39;00m \u001b[38;5;28mopen\u001b[39m(filehandling, \u001b[38;5;124m\"\u001b[39m\u001b[38;5;124mr\u001b[39m\u001b[38;5;124m\"\u001b[39m) \u001b[38;5;28;01mas\u001b[39;00m f1, \u001b[38;5;28mopen\u001b[39m(filehandlingconspros, \u001b[38;5;124m\"\u001b[39m\u001b[38;5;124mr\u001b[39m\u001b[38;5;124m\"\u001b[39m) \u001b[38;5;28;01mas\u001b[39;00m f2:\n\u001b[0;32m      3\u001b[0m         text1 \u001b[38;5;241m=\u001b[39m f1\u001b[38;5;241m.\u001b[39mread()\n\u001b[0;32m      4\u001b[0m         text2 \u001b[38;5;241m=\u001b[39m f2\u001b[38;5;241m.\u001b[39mread()\n",
      "File \u001b[1;32m~\\anaconda3\\Lib\\site-packages\\IPython\\core\\interactiveshell.py:284\u001b[0m, in \u001b[0;36m_modified_open\u001b[1;34m(file, *args, **kwargs)\u001b[0m\n\u001b[0;32m    277\u001b[0m \u001b[38;5;28;01mif\u001b[39;00m file \u001b[38;5;129;01min\u001b[39;00m {\u001b[38;5;241m0\u001b[39m, \u001b[38;5;241m1\u001b[39m, \u001b[38;5;241m2\u001b[39m}:\n\u001b[0;32m    278\u001b[0m     \u001b[38;5;28;01mraise\u001b[39;00m \u001b[38;5;167;01mValueError\u001b[39;00m(\n\u001b[0;32m    279\u001b[0m         \u001b[38;5;124mf\u001b[39m\u001b[38;5;124m\"\u001b[39m\u001b[38;5;124mIPython won\u001b[39m\u001b[38;5;124m'\u001b[39m\u001b[38;5;124mt let you open fd=\u001b[39m\u001b[38;5;132;01m{\u001b[39;00mfile\u001b[38;5;132;01m}\u001b[39;00m\u001b[38;5;124m by default \u001b[39m\u001b[38;5;124m\"\u001b[39m\n\u001b[0;32m    280\u001b[0m         \u001b[38;5;124m\"\u001b[39m\u001b[38;5;124mas it is likely to crash IPython. If you know what you are doing, \u001b[39m\u001b[38;5;124m\"\u001b[39m\n\u001b[0;32m    281\u001b[0m         \u001b[38;5;124m\"\u001b[39m\u001b[38;5;124myou can use builtins\u001b[39m\u001b[38;5;124m'\u001b[39m\u001b[38;5;124m open.\u001b[39m\u001b[38;5;124m\"\u001b[39m\n\u001b[0;32m    282\u001b[0m     )\n\u001b[1;32m--> 284\u001b[0m \u001b[38;5;28;01mreturn\u001b[39;00m io_open(file, \u001b[38;5;241m*\u001b[39margs, \u001b[38;5;241m*\u001b[39m\u001b[38;5;241m*\u001b[39mkwargs)\n",
      "\u001b[1;31mFileNotFoundError\u001b[0m: [Errno 2] No such file or directory: 'filehandling.txt'"
     ]
    }
   ],
   "source": [
    "def merge_text_files(filehandling, filehandlingconspros):\n",
    "    with open(filehandling, \"r\") as f1, open(filehandlingconspros, \"r\") as f2:\n",
    "        text1 = f1.read()\n",
    "        text2 = f2.read()\n",
    "    merged_text = text1 + text2\n",
    "    merged_filename = \"merged.txt\"\n",
    "    with open(merged_filename, \"w\") as f:\n",
    "        f.write(merged_text)\n",
    "    print(merged_text)\n",
    "    return merged_filename\n",
    "merge_text_files =('filehandling.txt', 'filehanlingconspros.txt')"
   ]
  },
  {
   "cell_type": "code",
   "execution_count": 34,
   "id": "d20770cd",
   "metadata": {},
   "outputs": [
    {
     "name": "stdout",
     "output_type": "stream",
     "text": [
      "dancing\n",
      "palying cricket\n",
      "playing badminton\n",
      "chess \n",
      "writtingsinging\n",
      "cooking\n",
      "gardening\n",
      "reading\n",
      "fighting\n",
      "\n",
      "merged.txt\n"
     ]
    }
   ],
   "source": [
    "def merge_text_files(a, b):\n",
    "    with open(a, \"r\") as f1, open(b, \"r\") as f2:\n",
    "        text1 = f1.read()\n",
    "        text2 = f2.read()\n",
    "    merged_text = text1 + text2\n",
    "    merged_filename = \"merged.txt\"\n",
    "    with open(merged_filename, \"w\") as f:\n",
    "        f.write(merged_text)\n",
    "    print(merged_text)\n",
    "    return merged_filename\n",
    "\n",
    "file = merge_text_files('file/hobby.txt', 'file/hobby1.txt')\n",
    "\n",
    "print(file)\n"
   ]
  },
  {
   "cell_type": "code",
   "execution_count": 44,
   "id": "74d5e2dc",
   "metadata": {},
   "outputs": [
    {
     "name": "stdout",
     "output_type": "stream",
     "text": [
      "dancing\n",
      "palying cricket\n",
      "playing badminton\n",
      "chess \n",
      "writtingsinging\n",
      "cooking\n",
      "gardening\n",
      "reading\n",
      "fighting\n",
      "\n",
      "merged.txt\n"
     ]
    }
   ],
   "source": [
    "def merge_text_files(a, b):\n",
    "    with open(a, \"r\") as f1, open(b, \"r\") as f2:\n",
    "        text1 = f1.read()\n",
    "        text2 = f2.read()\n",
    "    merged_text = text1 + text2\n",
    "    merged_filename = \"merged.txt\"\n",
    "    with open(merged_filename, \"w\") as f:\n",
    "        f.write(merged_text)\n",
    "    print(merged_text)\n",
    "    return merged_filename\n",
    "\n",
    "file = merge_text_files('file/hobby.txt', 'file/hobby1.txt')\n",
    "\n",
    "print(file)\n"
   ]
  },
  {
   "cell_type": "code",
   "execution_count": 47,
   "id": "c403f09f",
   "metadata": {},
   "outputs": [
    {
     "ename": "FileNotFoundError",
     "evalue": "[Errno 2] No such file or directory: 'file/a.txt'",
     "output_type": "error",
     "traceback": [
      "\u001b[1;31m---------------------------------------------------------------------------\u001b[0m",
      "\u001b[1;31mFileNotFoundError\u001b[0m                         Traceback (most recent call last)",
      "Cell \u001b[1;32mIn[47], line 12\u001b[0m\n\u001b[0;32m      9\u001b[0m     \u001b[38;5;28mprint\u001b[39m(merged_text)\n\u001b[0;32m     10\u001b[0m     \u001b[38;5;28;01mreturn\u001b[39;00m merged_filename\n\u001b[1;32m---> 12\u001b[0m file \u001b[38;5;241m=\u001b[39m merge_text_files(\u001b[38;5;124m'\u001b[39m\u001b[38;5;124mfile/a.txt\u001b[39m\u001b[38;5;124m'\u001b[39m, \u001b[38;5;124m'\u001b[39m\u001b[38;5;124mfile/b.txt\u001b[39m\u001b[38;5;124m'\u001b[39m)\n\u001b[0;32m     14\u001b[0m \u001b[38;5;28mprint\u001b[39m(file)\n",
      "Cell \u001b[1;32mIn[47], line 2\u001b[0m, in \u001b[0;36mmerge_text_files\u001b[1;34m(a, b)\u001b[0m\n\u001b[0;32m      1\u001b[0m \u001b[38;5;28;01mdef\u001b[39;00m \u001b[38;5;21mmerge_text_files\u001b[39m(a, b):\n\u001b[1;32m----> 2\u001b[0m     \u001b[38;5;28;01mwith\u001b[39;00m \u001b[38;5;28mopen\u001b[39m(a, \u001b[38;5;124m\"\u001b[39m\u001b[38;5;124mr\u001b[39m\u001b[38;5;124m\"\u001b[39m) \u001b[38;5;28;01mas\u001b[39;00m f1, \u001b[38;5;28mopen\u001b[39m(b, \u001b[38;5;124m\"\u001b[39m\u001b[38;5;124mr\u001b[39m\u001b[38;5;124m\"\u001b[39m) \u001b[38;5;28;01mas\u001b[39;00m f2:\n\u001b[0;32m      3\u001b[0m         text1 \u001b[38;5;241m=\u001b[39m f1\u001b[38;5;241m.\u001b[39mread()\n\u001b[0;32m      4\u001b[0m         text2 \u001b[38;5;241m=\u001b[39m f2\u001b[38;5;241m.\u001b[39mread()\n",
      "File \u001b[1;32m~\\anaconda3\\Lib\\site-packages\\IPython\\core\\interactiveshell.py:284\u001b[0m, in \u001b[0;36m_modified_open\u001b[1;34m(file, *args, **kwargs)\u001b[0m\n\u001b[0;32m    277\u001b[0m \u001b[38;5;28;01mif\u001b[39;00m file \u001b[38;5;129;01min\u001b[39;00m {\u001b[38;5;241m0\u001b[39m, \u001b[38;5;241m1\u001b[39m, \u001b[38;5;241m2\u001b[39m}:\n\u001b[0;32m    278\u001b[0m     \u001b[38;5;28;01mraise\u001b[39;00m \u001b[38;5;167;01mValueError\u001b[39;00m(\n\u001b[0;32m    279\u001b[0m         \u001b[38;5;124mf\u001b[39m\u001b[38;5;124m\"\u001b[39m\u001b[38;5;124mIPython won\u001b[39m\u001b[38;5;124m'\u001b[39m\u001b[38;5;124mt let you open fd=\u001b[39m\u001b[38;5;132;01m{\u001b[39;00mfile\u001b[38;5;132;01m}\u001b[39;00m\u001b[38;5;124m by default \u001b[39m\u001b[38;5;124m\"\u001b[39m\n\u001b[0;32m    280\u001b[0m         \u001b[38;5;124m\"\u001b[39m\u001b[38;5;124mas it is likely to crash IPython. If you know what you are doing, \u001b[39m\u001b[38;5;124m\"\u001b[39m\n\u001b[0;32m    281\u001b[0m         \u001b[38;5;124m\"\u001b[39m\u001b[38;5;124myou can use builtins\u001b[39m\u001b[38;5;124m'\u001b[39m\u001b[38;5;124m open.\u001b[39m\u001b[38;5;124m\"\u001b[39m\n\u001b[0;32m    282\u001b[0m     )\n\u001b[1;32m--> 284\u001b[0m \u001b[38;5;28;01mreturn\u001b[39;00m io_open(file, \u001b[38;5;241m*\u001b[39margs, \u001b[38;5;241m*\u001b[39m\u001b[38;5;241m*\u001b[39mkwargs)\n",
      "\u001b[1;31mFileNotFoundError\u001b[0m: [Errno 2] No such file or directory: 'file/a.txt'"
     ]
    }
   ],
   "source": [
    "def merge_text_files(a, b):\n",
    "    with open(a, \"r\") as f1, open(b, \"r\") as f2:\n",
    "        text1 = f1.read()\n",
    "        text2 = f2.read()\n",
    "    merged_text = text1 + text2\n",
    "    merged_filename = \"merged.txt\"\n",
    "    with open(merged_filename, \"w\") as f:\n",
    "        f.write(merged_text)\n",
    "    print(merged_text)\n",
    "    return merged_filename\n",
    "\n",
    "file = merge_text_files('file/a.txt', 'file/b.txt')\n",
    "\n",
    "print(file)\n"
   ]
  },
  {
   "cell_type": "code",
   "execution_count": null,
   "id": "ddcaf4e3",
   "metadata": {},
   "outputs": [],
   "source": [
    "with open('file1.txt', 'r') as file1:    a = file1.read()\n",
    "with open('file2.txt', 'r') as file2:\n",
    "    b= file2.read()\n",
    "with open('merged_file.txt', 'w') as merged_file:\n",
    "    merged_file.write(c)"
   ]
  },
  {
   "cell_type": "markdown",
   "id": "faf26668",
   "metadata": {
    "id": "faf26668"
   },
   "source": [
    "#### 18. Write a program that takes a string as input and returns a list of all words having even length in that string (Using Map/Filter and Lambda expression)."
   ]
  },
  {
   "cell_type": "code",
   "execution_count": 8,
   "id": "955cd692",
   "metadata": {
    "id": "955cd692"
   },
   "outputs": [
    {
     "data": {
      "text/plain": [
       "['everyone', 'good', 'to']"
      ]
     },
     "execution_count": 8,
     "metadata": {},
     "output_type": "execute_result"
    }
   ],
   "source": [
    "s = 'Hello everyone good morning welcome to the session'\n",
    "list(filter(lambda word : len(word) % 2 == 0, s.split()))"
   ]
  },
  {
   "cell_type": "code",
   "execution_count": 88,
   "id": "A1z_AdWcyKJi",
   "metadata": {
    "id": "A1z_AdWcyKJi"
   },
   "outputs": [
    {
     "data": {
      "text/plain": [
       "[False, True, True, False, False, True, False, False]"
      ]
     },
     "execution_count": 88,
     "metadata": {},
     "output_type": "execute_result"
    }
   ],
   "source": [
    "s = 'Hello everyone good morning welcome to the session'\n",
    "list(map(lambda word : len(word) % 2 == 0, s.split()))"
   ]
  },
  {
   "cell_type": "code",
   "execution_count": null,
   "id": "e6a66b7d",
   "metadata": {},
   "outputs": [],
   "source": []
  }
 ],
 "metadata": {
  "colab": {
   "provenance": []
  },
  "kernelspec": {
   "display_name": "Python 3 (ipykernel)",
   "language": "python",
   "name": "python3"
  },
  "language_info": {
   "codemirror_mode": {
    "name": "ipython",
    "version": 3
   },
   "file_extension": ".py",
   "mimetype": "text/x-python",
   "name": "python",
   "nbconvert_exporter": "python",
   "pygments_lexer": "ipython3",
   "version": "3.11.4"
  }
 },
 "nbformat": 4,
 "nbformat_minor": 5
}
