{
 "cells": [
  {
   "cell_type": "code",
   "execution_count": 9,
   "id": "d139859a",
   "metadata": {},
   "outputs": [],
   "source": [
    "import numpy as np\n",
    "import pandas as pd\n",
    "import matplotlib.pyplot as plt\n",
    "import seaborn as sns\n",
    "\n",
    "plt.style.use('ggplot')\n",
    "\n",
    "%matplotlib inline\n",
    "\n",
    "import warnings\n",
    "warnings.filterwarnings('ignore')"
   ]
  },
  {
   "cell_type": "code",
   "execution_count": 16,
   "id": "d9a361ec",
   "metadata": {},
   "outputs": [
    {
     "data": {
      "text/html": [
       "<div>\n",
       "<style scoped>\n",
       "    .dataframe tbody tr th:only-of-type {\n",
       "        vertical-align: middle;\n",
       "    }\n",
       "\n",
       "    .dataframe tbody tr th {\n",
       "        vertical-align: top;\n",
       "    }\n",
       "\n",
       "    .dataframe thead th {\n",
       "        text-align: right;\n",
       "    }\n",
       "</style>\n",
       "<table border=\"1\" class=\"dataframe\">\n",
       "  <thead>\n",
       "    <tr style=\"text-align: right;\">\n",
       "      <th></th>\n",
       "      <th>food_name\\t Calories\\t Fat (g)\\t Carb. (g)\\t Fiber (g)\\t Protein (g)</th>\n",
       "    </tr>\n",
       "  </thead>\n",
       "  <tbody>\n",
       "    <tr>\n",
       "      <th>0</th>\n",
       "      <td>Chonga Bagel\\t300\\t5\\t50\\t3\\t12</td>\n",
       "    </tr>\n",
       "    <tr>\n",
       "      <th>1</th>\n",
       "      <td>8-Grain Roll\\t380\\t6\\t70\\t7\\t10</td>\n",
       "    </tr>\n",
       "    <tr>\n",
       "      <th>2</th>\n",
       "      <td>Almond Croissant\\t410\\t22\\t45\\t3\\t10</td>\n",
       "    </tr>\n",
       "    <tr>\n",
       "      <th>3</th>\n",
       "      <td>Apple Fritter\\t460\\t23\\t56\\t2\\t7</td>\n",
       "    </tr>\n",
       "    <tr>\n",
       "      <th>4</th>\n",
       "      <td>Banana Nut Bread\\t420\\t22\\t52\\t2\\t6</td>\n",
       "    </tr>\n",
       "    <tr>\n",
       "      <th>...</th>\n",
       "      <td>...</td>\n",
       "    </tr>\n",
       "    <tr>\n",
       "      <th>108</th>\n",
       "      <td>Justin's Chocolate Hazelnut Butter\\t180\\t14\\t1...</td>\n",
       "    </tr>\n",
       "    <tr>\n",
       "      <th>109</th>\n",
       "      <td>Justin's Classic Almond Butter\\t190\\t18\\t6\\t3\\t7</td>\n",
       "    </tr>\n",
       "    <tr>\n",
       "      <th>110</th>\n",
       "      <td>Lemon Chiffon Yogurt\\t340\\t13\\t38\\t0\\t18</td>\n",
       "    </tr>\n",
       "    <tr>\n",
       "      <th>111</th>\n",
       "      <td>Organic Avocado (Spread)\\t90\\t8\\t5\\t4\\t1</td>\n",
       "    </tr>\n",
       "    <tr>\n",
       "      <th>112</th>\n",
       "      <td>Seasonal Fruit Blend\\t90\\t0\\t24\\t4\\t1</td>\n",
       "    </tr>\n",
       "  </tbody>\n",
       "</table>\n",
       "<p>113 rows × 1 columns</p>\n",
       "</div>"
      ],
      "text/plain": [
       "    food_name\\t Calories\\t Fat (g)\\t Carb. (g)\\t Fiber (g)\\t Protein (g)\n",
       "0                      Chonga Bagel\\t300\\t5\\t50\\t3\\t12                  \n",
       "1                      8-Grain Roll\\t380\\t6\\t70\\t7\\t10                  \n",
       "2                 Almond Croissant\\t410\\t22\\t45\\t3\\t10                  \n",
       "3                     Apple Fritter\\t460\\t23\\t56\\t2\\t7                  \n",
       "4                  Banana Nut Bread\\t420\\t22\\t52\\t2\\t6                  \n",
       "..                                                 ...                  \n",
       "108  Justin's Chocolate Hazelnut Butter\\t180\\t14\\t1...                  \n",
       "109   Justin's Classic Almond Butter\\t190\\t18\\t6\\t3\\t7                  \n",
       "110           Lemon Chiffon Yogurt\\t340\\t13\\t38\\t0\\t18                  \n",
       "111           Organic Avocado (Spread)\\t90\\t8\\t5\\t4\\t1                  \n",
       "112              Seasonal Fruit Blend\\t90\\t0\\t24\\t4\\t1                  \n",
       "\n",
       "[113 rows x 1 columns]"
      ]
     },
     "execution_count": 16,
     "metadata": {},
     "output_type": "execute_result"
    }
   ],
   "source": [
    "nutrition_food"
   ]
  },
  {
   "cell_type": "code",
   "execution_count": 18,
   "id": "66c7e046",
   "metadata": {
    "scrolled": true
   },
   "outputs": [
    {
     "ename": "SyntaxError",
     "evalue": "incomplete input (4025240688.py, line 2)",
     "output_type": "error",
     "traceback": [
      "\u001b[1;36m  Cell \u001b[1;32mIn[18], line 2\u001b[1;36m\u001b[0m\n\u001b[1;33m    \u001b[0m\n\u001b[1;37m    ^\u001b[0m\n\u001b[1;31mSyntaxError\u001b[0m\u001b[1;31m:\u001b[0m incomplete input\n"
     ]
    }
   ],
   "source": [
    "nutrition_food = nutrition_food.apply(lambda s : (s.split('\\t')[0]"
   ]
  },
  {
   "cell_type": "code",
   "execution_count": 19,
   "id": "fa2e78b5",
   "metadata": {},
   "outputs": [
    {
     "ename": "SyntaxError",
     "evalue": "(unicode error) 'unicodeescape' codec can't decode bytes in position 2-3: truncated \\UXXXXXXXX escape (2605706156.py, line 1)",
     "output_type": "error",
     "traceback": [
      "\u001b[1;36m  Cell \u001b[1;32mIn[19], line 1\u001b[1;36m\u001b[0m\n\u001b[1;33m    file_path = 'C:\\Users\\DX\\Desktop\\datascience\\MODULE 2\\assignment roughwork\\startbucks-menu-nutrition-food.csv'\u001b[0m\n\u001b[1;37m                                                                                                                  ^\u001b[0m\n\u001b[1;31mSyntaxError\u001b[0m\u001b[1;31m:\u001b[0m (unicode error) 'unicodeescape' codec can't decode bytes in position 2-3: truncated \\UXXXXXXXX escape\n"
     ]
    }
   ],
   "source": [
    "\n",
    "# Read the Excel file into a DataFrame\n",
    "nutrition_food = pd.read_csv(file_path, sheet_name=sheet_name)\n",
    "\n",
    "# Apply the transformation to the specified column using lambda\n",
    "df[column_name] = df[column_name].apply(lambda s: s.split('\\t')[0])\n",
    "\n",
    "# Save the modified DataFrame back to the Excel file\n",
    "df.to_excel(file_path, sheet_name=sheet_name, index=False)\n"
   ]
  },
  {
   "cell_type": "code",
   "execution_count": null,
   "id": "d0d29dcb",
   "metadata": {},
   "outputs": [],
   "source": []
  }
 ],
 "metadata": {
  "kernelspec": {
   "display_name": "Python 3 (ipykernel)",
   "language": "python",
   "name": "python3"
  },
  "language_info": {
   "codemirror_mode": {
    "name": "ipython",
    "version": 3
   },
   "file_extension": ".py",
   "mimetype": "text/x-python",
   "name": "python",
   "nbconvert_exporter": "python",
   "pygments_lexer": "ipython3",
   "version": "3.11.4"
  }
 },
 "nbformat": 4,
 "nbformat_minor": 5
}
