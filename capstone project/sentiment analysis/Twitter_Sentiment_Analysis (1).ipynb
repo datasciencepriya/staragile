{
 "cells": [
  {
   "cell_type": "markdown",
   "metadata": {},
   "source": [
    "### Importing data from google drive"
   ]
  },
  {
   "cell_type": "code",
   "execution_count": null,
   "metadata": {
    "colab": {
     "base_uri": "https://localhost:8080/"
    },
    "id": "Pb7cVXWseOk8",
    "outputId": "03c17ce4-5350-4b05-bc3f-e07a88c60a06"
   },
   "outputs": [
    {
     "name": "stdout",
     "output_type": "stream",
     "text": [
      "Drive already mounted at /content/drive; to attempt to forcibly remount, call drive.mount(\"/content/drive\", force_remount=True).\n"
     ]
    }
   ],
   "source": [
    "from google.colab import drive\n",
    "drive.mount('/content/drive')"
   ]
  },
  {
   "cell_type": "code",
   "execution_count": null,
   "metadata": {
    "colab": {
     "base_uri": "https://localhost:8080/"
    },
    "execution": {
     "iopub.execute_input": "2024-04-08T07:25:30.636520Z",
     "iopub.status.busy": "2024-04-08T07:25:30.635829Z",
     "iopub.status.idle": "2024-04-08T07:25:47.549787Z",
     "shell.execute_reply": "2024-04-08T07:25:47.547709Z",
     "shell.execute_reply.started": "2024-04-08T07:25:30.636480Z"
    },
    "id": "O_hDLLJlZnXH",
    "outputId": "d36240a7-1070-49b5-8174-33b9092106c4"
   },
   "outputs": [
    {
     "name": "stdout",
     "output_type": "stream",
     "text": [
      "Requirement already satisfied: autocorrect in /usr/local/lib/python3.10/dist-packages (2.6.1)\n"
     ]
    }
   ],
   "source": [
    "pip install autocorrect"
   ]
  },
  {
   "cell_type": "code",
   "execution_count": null,
   "metadata": {
    "colab": {
     "base_uri": "https://localhost:8080/"
    },
    "execution": {
     "iopub.execute_input": "2024-04-08T07:25:47.554219Z",
     "iopub.status.busy": "2024-04-08T07:25:47.553558Z",
     "iopub.status.idle": "2024-04-08T07:26:04.551253Z",
     "shell.execute_reply": "2024-04-08T07:26:04.549421Z",
     "shell.execute_reply.started": "2024-04-08T07:25:47.554153Z"
    },
    "id": "RjI53g_7ZocG",
    "outputId": "993c5b73-3603-46a0-e3e7-93d32d652826"
   },
   "outputs": [
    {
     "name": "stdout",
     "output_type": "stream",
     "text": [
      "Requirement already satisfied: langdetect in /usr/local/lib/python3.10/dist-packages (1.0.9)\n",
      "Requirement already satisfied: six in /usr/local/lib/python3.10/dist-packages (from langdetect) (1.16.0)\n"
     ]
    }
   ],
   "source": [
    "pip install langdetect"
   ]
  },
  {
   "cell_type": "code",
   "execution_count": null,
   "metadata": {
    "colab": {
     "base_uri": "https://localhost:8080/"
    },
    "execution": {
     "iopub.execute_input": "2024-04-08T07:26:04.555463Z",
     "iopub.status.busy": "2024-04-08T07:26:04.554749Z",
     "iopub.status.idle": "2024-04-08T07:26:22.788103Z",
     "shell.execute_reply": "2024-04-08T07:26:22.785845Z",
     "shell.execute_reply.started": "2024-04-08T07:26:04.555401Z"
    },
    "id": "E0QQPC3KZonA",
    "outputId": "2fb47846-aac2-4cec-875d-d684fbfd1fd2"
   },
   "outputs": [
    {
     "name": "stdout",
     "output_type": "stream",
     "text": [
      "Requirement already satisfied: langid in /usr/local/lib/python3.10/dist-packages (1.1.6)\n",
      "Requirement already satisfied: numpy in /usr/local/lib/python3.10/dist-packages (from langid) (1.25.2)\n"
     ]
    }
   ],
   "source": [
    "pip install langid"
   ]
  },
  {
   "cell_type": "code",
   "execution_count": null,
   "metadata": {
    "colab": {
     "base_uri": "https://localhost:8080/"
    },
    "execution": {
     "iopub.execute_input": "2024-04-08T07:26:22.793817Z",
     "iopub.status.busy": "2024-04-08T07:26:22.792500Z",
     "iopub.status.idle": "2024-04-08T07:26:40.311393Z",
     "shell.execute_reply": "2024-04-08T07:26:40.309594Z",
     "shell.execute_reply.started": "2024-04-08T07:26:22.793758Z"
    },
    "id": "W2v1mZhLZowh",
    "outputId": "95b181f6-9148-4be1-8f9c-2f229d4f169d"
   },
   "outputs": [
    {
     "name": "stdout",
     "output_type": "stream",
     "text": [
      "Requirement already satisfied: contractions in /usr/local/lib/python3.10/dist-packages (0.1.73)\n",
      "Requirement already satisfied: textsearch>=0.0.21 in /usr/local/lib/python3.10/dist-packages (from contractions) (0.0.24)\n",
      "Requirement already satisfied: anyascii in /usr/local/lib/python3.10/dist-packages (from textsearch>=0.0.21->contractions) (0.3.2)\n",
      "Requirement already satisfied: pyahocorasick in /usr/local/lib/python3.10/dist-packages (from textsearch>=0.0.21->contractions) (2.1.0)\n"
     ]
    }
   ],
   "source": [
    "pip install contractions"
   ]
  },
  {
   "cell_type": "code",
   "execution_count": null,
   "metadata": {
    "colab": {
     "base_uri": "https://localhost:8080/"
    },
    "execution": {
     "iopub.execute_input": "2024-04-08T07:26:40.313963Z",
     "iopub.status.busy": "2024-04-08T07:26:40.313510Z",
     "iopub.status.idle": "2024-04-08T07:26:40.636258Z",
     "shell.execute_reply": "2024-04-08T07:26:40.634495Z",
     "shell.execute_reply.started": "2024-04-08T07:26:40.313927Z"
    },
    "id": "HjprmGieaTjm",
    "outputId": "c4157b17-7e8c-4015-9601-7810495057b1"
   },
   "outputs": [
    {
     "name": "stderr",
     "output_type": "stream",
     "text": [
      "[nltk_data] Downloading package punkt to /root/nltk_data...\n",
      "[nltk_data]   Package punkt is already up-to-date!\n"
     ]
    },
    {
     "data": {
      "text/plain": [
       "True"
      ]
     },
     "execution_count": 7,
     "metadata": {},
     "output_type": "execute_result"
    }
   ],
   "source": [
    "import nltk\n",
    "nltk.download('punkt')"
   ]
  },
  {
   "cell_type": "code",
   "execution_count": null,
   "metadata": {
    "colab": {
     "base_uri": "https://localhost:8080/"
    },
    "execution": {
     "iopub.execute_input": "2024-04-08T07:26:40.638364Z",
     "iopub.status.busy": "2024-04-08T07:26:40.637779Z",
     "iopub.status.idle": "2024-04-08T07:26:40.651363Z",
     "shell.execute_reply": "2024-04-08T07:26:40.649646Z",
     "shell.execute_reply.started": "2024-04-08T07:26:40.638318Z"
    },
    "id": "HrDz1tGPbKGB",
    "outputId": "ecad4ee1-fbb5-4fc1-9f9b-e68843ef0a5d"
   },
   "outputs": [
    {
     "name": "stderr",
     "output_type": "stream",
     "text": [
      "[nltk_data] Downloading package stopwords to /root/nltk_data...\n",
      "[nltk_data]   Package stopwords is already up-to-date!\n"
     ]
    },
    {
     "data": {
      "text/plain": [
       "True"
      ]
     },
     "execution_count": 8,
     "metadata": {},
     "output_type": "execute_result"
    }
   ],
   "source": [
    "import nltk\n",
    "nltk.download('stopwords')"
   ]
  },
  {
   "cell_type": "code",
   "execution_count": null,
   "metadata": {
    "colab": {
     "base_uri": "https://localhost:8080/"
    },
    "execution": {
     "iopub.execute_input": "2024-04-08T07:26:40.653701Z",
     "iopub.status.busy": "2024-04-08T07:26:40.653211Z",
     "iopub.status.idle": "2024-04-08T07:26:40.695576Z",
     "shell.execute_reply": "2024-04-08T07:26:40.693606Z",
     "shell.execute_reply.started": "2024-04-08T07:26:40.653659Z"
    },
    "id": "f4jJkTMzclSI",
    "outputId": "869413aa-5c98-4249-8d15-94c007c2cf0b"
   },
   "outputs": [
    {
     "name": "stderr",
     "output_type": "stream",
     "text": [
      "[nltk_data] Downloading package wordnet to /root/nltk_data...\n",
      "[nltk_data]   Package wordnet is already up-to-date!\n"
     ]
    },
    {
     "data": {
      "text/plain": [
       "True"
      ]
     },
     "execution_count": 9,
     "metadata": {},
     "output_type": "execute_result"
    }
   ],
   "source": [
    "import nltk\n",
    "nltk.download('wordnet')"
   ]
  },
  {
   "cell_type": "code",
   "execution_count": null,
   "metadata": {
    "execution": {
     "iopub.execute_input": "2024-04-08T07:26:40.698073Z",
     "iopub.status.busy": "2024-04-08T07:26:40.697490Z",
     "iopub.status.idle": "2024-04-08T07:26:40.715560Z",
     "shell.execute_reply": "2024-04-08T07:26:40.713985Z",
     "shell.execute_reply.started": "2024-04-08T07:26:40.698023Z"
    },
    "id": "PVxXolaOrKkx"
   },
   "outputs": [],
   "source": [
    "import numpy as np\n",
    "import matplotlib.pyplot as plt\n",
    "import seaborn as sns\n",
    "import tensorflow as tf\n",
    "import pandas as pd\n",
    "import seaborn as sns\n",
    "import re\n",
    "\n",
    "from nltk.corpus import stopwords\n",
    "from nltk.tokenize import word_tokenize\n",
    "from nltk.stem import WordNetLemmatizer\n",
    "from autocorrect import Speller\n",
    "from nltk.stem import PorterStemmer\n",
    "from langdetect import detect\n",
    "import langid\n",
    "import contractions\n",
    "from sklearn.ensemble import RandomForestClassifier\n",
    "from sklearn.model_selection import train_test_split\n",
    "from sklearn.metrics import accuracy_score, classification_report, confusion_matrix\n",
    "from tqdm import tqdm\n",
    "\n",
    "from tensorflow.keras.preprocessing.text import Tokenizer\n",
    "from tensorflow.keras.preprocessing.sequence import pad_sequences\n",
    "import tensorflow_datasets as tfds\n",
    "\n",
    "%matplotlib inline"
   ]
  },
  {
   "cell_type": "markdown",
   "metadata": {},
   "source": [
    "### Uploading Data file"
   ]
  },
  {
   "cell_type": "code",
   "execution_count": null,
   "metadata": {
    "execution": {
     "iopub.execute_input": "2024-04-08T07:26:40.719144Z",
     "iopub.status.busy": "2024-04-08T07:26:40.717536Z",
     "iopub.status.idle": "2024-04-08T07:26:41.417576Z",
     "shell.execute_reply": "2024-04-08T07:26:41.416214Z",
     "shell.execute_reply.started": "2024-04-08T07:26:40.719091Z"
    },
    "id": "S5sl5RHtrzaW"
   },
   "outputs": [],
   "source": [
    "\n",
    "df = pd.read_csv('/content/drive/MyDrive/Data/training.1600000.processed.noemoticon.csv', encoding='ISO-8859-1')"
   ]
  },
  {
   "cell_type": "code",
   "execution_count": null,
   "metadata": {
    "colab": {
     "base_uri": "https://localhost:8080/",
     "height": 223
    },
    "execution": {
     "iopub.execute_input": "2024-04-08T07:26:41.423930Z",
     "iopub.status.busy": "2024-04-08T07:26:41.423522Z",
     "iopub.status.idle": "2024-04-08T07:26:41.435910Z",
     "shell.execute_reply": "2024-04-08T07:26:41.434843Z",
     "shell.execute_reply.started": "2024-04-08T07:26:41.423900Z"
    },
    "id": "hUkyQjiUrzdE",
    "outputId": "fb871dd0-fd93-4a8f-c2ae-f2d1218e52d3"
   },
   "outputs": [
    {
     "data": {
      "application/vnd.google.colaboratory.intrinsic+json": {
       "type": "dataframe",
       "variable_name": "df"
      },
      "text/html": [
       "\n",
       "  <div id=\"df-eef7773c-0991-4564-9028-77dfaeaa2747\" class=\"colab-df-container\">\n",
       "    <div>\n",
       "<style scoped>\n",
       "    .dataframe tbody tr th:only-of-type {\n",
       "        vertical-align: middle;\n",
       "    }\n",
       "\n",
       "    .dataframe tbody tr th {\n",
       "        vertical-align: top;\n",
       "    }\n",
       "\n",
       "    .dataframe thead th {\n",
       "        text-align: right;\n",
       "    }\n",
       "</style>\n",
       "<table border=\"1\" class=\"dataframe\">\n",
       "  <thead>\n",
       "    <tr style=\"text-align: right;\">\n",
       "      <th></th>\n",
       "      <th>0</th>\n",
       "      <th>1467810369</th>\n",
       "      <th>Mon Apr 06 22:19:45 PDT 2009</th>\n",
       "      <th>NO_QUERY</th>\n",
       "      <th>_TheSpecialOne_</th>\n",
       "      <th>@switchfoot http://twitpic.com/2y1zl - Awww, that's a bummer.  You shoulda got David Carr of Third Day to do it. ;D</th>\n",
       "    </tr>\n",
       "  </thead>\n",
       "  <tbody>\n",
       "    <tr>\n",
       "      <th>0</th>\n",
       "      <td>0</td>\n",
       "      <td>1467810672</td>\n",
       "      <td>Mon Apr 06 22:19:49 PDT 2009</td>\n",
       "      <td>NO_QUERY</td>\n",
       "      <td>scotthamilton</td>\n",
       "      <td>is upset that he can't update his Facebook by ...</td>\n",
       "    </tr>\n",
       "    <tr>\n",
       "      <th>1</th>\n",
       "      <td>0</td>\n",
       "      <td>1467810917</td>\n",
       "      <td>Mon Apr 06 22:19:53 PDT 2009</td>\n",
       "      <td>NO_QUERY</td>\n",
       "      <td>mattycus</td>\n",
       "      <td>@Kenichan I dived many times for the ball. Man...</td>\n",
       "    </tr>\n",
       "    <tr>\n",
       "      <th>2</th>\n",
       "      <td>0</td>\n",
       "      <td>1467811184</td>\n",
       "      <td>Mon Apr 06 22:19:57 PDT 2009</td>\n",
       "      <td>NO_QUERY</td>\n",
       "      <td>ElleCTF</td>\n",
       "      <td>my whole body feels itchy and like its on fire</td>\n",
       "    </tr>\n",
       "    <tr>\n",
       "      <th>3</th>\n",
       "      <td>0</td>\n",
       "      <td>1467811193</td>\n",
       "      <td>Mon Apr 06 22:19:57 PDT 2009</td>\n",
       "      <td>NO_QUERY</td>\n",
       "      <td>Karoli</td>\n",
       "      <td>@nationwideclass no, it's not behaving at all....</td>\n",
       "    </tr>\n",
       "    <tr>\n",
       "      <th>4</th>\n",
       "      <td>0</td>\n",
       "      <td>1467811372</td>\n",
       "      <td>Mon Apr 06 22:20:00 PDT 2009</td>\n",
       "      <td>NO_QUERY</td>\n",
       "      <td>joy_wolf</td>\n",
       "      <td>@Kwesidei not the whole crew</td>\n",
       "    </tr>\n",
       "  </tbody>\n",
       "</table>\n",
       "</div>\n",
       "    <div class=\"colab-df-buttons\">\n",
       "\n",
       "  <div class=\"colab-df-container\">\n",
       "    <button class=\"colab-df-convert\" onclick=\"convertToInteractive('df-eef7773c-0991-4564-9028-77dfaeaa2747')\"\n",
       "            title=\"Convert this dataframe to an interactive table.\"\n",
       "            style=\"display:none;\">\n",
       "\n",
       "  <svg xmlns=\"http://www.w3.org/2000/svg\" height=\"24px\" viewBox=\"0 -960 960 960\">\n",
       "    <path d=\"M120-120v-720h720v720H120Zm60-500h600v-160H180v160Zm220 220h160v-160H400v160Zm0 220h160v-160H400v160ZM180-400h160v-160H180v160Zm440 0h160v-160H620v160ZM180-180h160v-160H180v160Zm440 0h160v-160H620v160Z\"/>\n",
       "  </svg>\n",
       "    </button>\n",
       "\n",
       "  <style>\n",
       "    .colab-df-container {\n",
       "      display:flex;\n",
       "      gap: 12px;\n",
       "    }\n",
       "\n",
       "    .colab-df-convert {\n",
       "      background-color: #E8F0FE;\n",
       "      border: none;\n",
       "      border-radius: 50%;\n",
       "      cursor: pointer;\n",
       "      display: none;\n",
       "      fill: #1967D2;\n",
       "      height: 32px;\n",
       "      padding: 0 0 0 0;\n",
       "      width: 32px;\n",
       "    }\n",
       "\n",
       "    .colab-df-convert:hover {\n",
       "      background-color: #E2EBFA;\n",
       "      box-shadow: 0px 1px 2px rgba(60, 64, 67, 0.3), 0px 1px 3px 1px rgba(60, 64, 67, 0.15);\n",
       "      fill: #174EA6;\n",
       "    }\n",
       "\n",
       "    .colab-df-buttons div {\n",
       "      margin-bottom: 4px;\n",
       "    }\n",
       "\n",
       "    [theme=dark] .colab-df-convert {\n",
       "      background-color: #3B4455;\n",
       "      fill: #D2E3FC;\n",
       "    }\n",
       "\n",
       "    [theme=dark] .colab-df-convert:hover {\n",
       "      background-color: #434B5C;\n",
       "      box-shadow: 0px 1px 3px 1px rgba(0, 0, 0, 0.15);\n",
       "      filter: drop-shadow(0px 1px 2px rgba(0, 0, 0, 0.3));\n",
       "      fill: #FFFFFF;\n",
       "    }\n",
       "  </style>\n",
       "\n",
       "    <script>\n",
       "      const buttonEl =\n",
       "        document.querySelector('#df-eef7773c-0991-4564-9028-77dfaeaa2747 button.colab-df-convert');\n",
       "      buttonEl.style.display =\n",
       "        google.colab.kernel.accessAllowed ? 'block' : 'none';\n",
       "\n",
       "      async function convertToInteractive(key) {\n",
       "        const element = document.querySelector('#df-eef7773c-0991-4564-9028-77dfaeaa2747');\n",
       "        const dataTable =\n",
       "          await google.colab.kernel.invokeFunction('convertToInteractive',\n",
       "                                                    [key], {});\n",
       "        if (!dataTable) return;\n",
       "\n",
       "        const docLinkHtml = 'Like what you see? Visit the ' +\n",
       "          '<a target=\"_blank\" href=https://colab.research.google.com/notebooks/data_table.ipynb>data table notebook</a>'\n",
       "          + ' to learn more about interactive tables.';\n",
       "        element.innerHTML = '';\n",
       "        dataTable['output_type'] = 'display_data';\n",
       "        await google.colab.output.renderOutput(dataTable, element);\n",
       "        const docLink = document.createElement('div');\n",
       "        docLink.innerHTML = docLinkHtml;\n",
       "        element.appendChild(docLink);\n",
       "      }\n",
       "    </script>\n",
       "  </div>\n",
       "\n",
       "\n",
       "<div id=\"df-8e2f65c6-7fab-4005-a536-26d3790e9fb3\">\n",
       "  <button class=\"colab-df-quickchart\" onclick=\"quickchart('df-8e2f65c6-7fab-4005-a536-26d3790e9fb3')\"\n",
       "            title=\"Suggest charts\"\n",
       "            style=\"display:none;\">\n",
       "\n",
       "<svg xmlns=\"http://www.w3.org/2000/svg\" height=\"24px\"viewBox=\"0 0 24 24\"\n",
       "     width=\"24px\">\n",
       "    <g>\n",
       "        <path d=\"M19 3H5c-1.1 0-2 .9-2 2v14c0 1.1.9 2 2 2h14c1.1 0 2-.9 2-2V5c0-1.1-.9-2-2-2zM9 17H7v-7h2v7zm4 0h-2V7h2v10zm4 0h-2v-4h2v4z\"/>\n",
       "    </g>\n",
       "</svg>\n",
       "  </button>\n",
       "\n",
       "<style>\n",
       "  .colab-df-quickchart {\n",
       "      --bg-color: #E8F0FE;\n",
       "      --fill-color: #1967D2;\n",
       "      --hover-bg-color: #E2EBFA;\n",
       "      --hover-fill-color: #174EA6;\n",
       "      --disabled-fill-color: #AAA;\n",
       "      --disabled-bg-color: #DDD;\n",
       "  }\n",
       "\n",
       "  [theme=dark] .colab-df-quickchart {\n",
       "      --bg-color: #3B4455;\n",
       "      --fill-color: #D2E3FC;\n",
       "      --hover-bg-color: #434B5C;\n",
       "      --hover-fill-color: #FFFFFF;\n",
       "      --disabled-bg-color: #3B4455;\n",
       "      --disabled-fill-color: #666;\n",
       "  }\n",
       "\n",
       "  .colab-df-quickchart {\n",
       "    background-color: var(--bg-color);\n",
       "    border: none;\n",
       "    border-radius: 50%;\n",
       "    cursor: pointer;\n",
       "    display: none;\n",
       "    fill: var(--fill-color);\n",
       "    height: 32px;\n",
       "    padding: 0;\n",
       "    width: 32px;\n",
       "  }\n",
       "\n",
       "  .colab-df-quickchart:hover {\n",
       "    background-color: var(--hover-bg-color);\n",
       "    box-shadow: 0 1px 2px rgba(60, 64, 67, 0.3), 0 1px 3px 1px rgba(60, 64, 67, 0.15);\n",
       "    fill: var(--button-hover-fill-color);\n",
       "  }\n",
       "\n",
       "  .colab-df-quickchart-complete:disabled,\n",
       "  .colab-df-quickchart-complete:disabled:hover {\n",
       "    background-color: var(--disabled-bg-color);\n",
       "    fill: var(--disabled-fill-color);\n",
       "    box-shadow: none;\n",
       "  }\n",
       "\n",
       "  .colab-df-spinner {\n",
       "    border: 2px solid var(--fill-color);\n",
       "    border-color: transparent;\n",
       "    border-bottom-color: var(--fill-color);\n",
       "    animation:\n",
       "      spin 1s steps(1) infinite;\n",
       "  }\n",
       "\n",
       "  @keyframes spin {\n",
       "    0% {\n",
       "      border-color: transparent;\n",
       "      border-bottom-color: var(--fill-color);\n",
       "      border-left-color: var(--fill-color);\n",
       "    }\n",
       "    20% {\n",
       "      border-color: transparent;\n",
       "      border-left-color: var(--fill-color);\n",
       "      border-top-color: var(--fill-color);\n",
       "    }\n",
       "    30% {\n",
       "      border-color: transparent;\n",
       "      border-left-color: var(--fill-color);\n",
       "      border-top-color: var(--fill-color);\n",
       "      border-right-color: var(--fill-color);\n",
       "    }\n",
       "    40% {\n",
       "      border-color: transparent;\n",
       "      border-right-color: var(--fill-color);\n",
       "      border-top-color: var(--fill-color);\n",
       "    }\n",
       "    60% {\n",
       "      border-color: transparent;\n",
       "      border-right-color: var(--fill-color);\n",
       "    }\n",
       "    80% {\n",
       "      border-color: transparent;\n",
       "      border-right-color: var(--fill-color);\n",
       "      border-bottom-color: var(--fill-color);\n",
       "    }\n",
       "    90% {\n",
       "      border-color: transparent;\n",
       "      border-bottom-color: var(--fill-color);\n",
       "    }\n",
       "  }\n",
       "</style>\n",
       "\n",
       "  <script>\n",
       "    async function quickchart(key) {\n",
       "      const quickchartButtonEl =\n",
       "        document.querySelector('#' + key + ' button');\n",
       "      quickchartButtonEl.disabled = true;  // To prevent multiple clicks.\n",
       "      quickchartButtonEl.classList.add('colab-df-spinner');\n",
       "      try {\n",
       "        const charts = await google.colab.kernel.invokeFunction(\n",
       "            'suggestCharts', [key], {});\n",
       "      } catch (error) {\n",
       "        console.error('Error during call to suggestCharts:', error);\n",
       "      }\n",
       "      quickchartButtonEl.classList.remove('colab-df-spinner');\n",
       "      quickchartButtonEl.classList.add('colab-df-quickchart-complete');\n",
       "    }\n",
       "    (() => {\n",
       "      let quickchartButtonEl =\n",
       "        document.querySelector('#df-8e2f65c6-7fab-4005-a536-26d3790e9fb3 button');\n",
       "      quickchartButtonEl.style.display =\n",
       "        google.colab.kernel.accessAllowed ? 'block' : 'none';\n",
       "    })();\n",
       "  </script>\n",
       "</div>\n",
       "\n",
       "    </div>\n",
       "  </div>\n"
      ],
      "text/plain": [
       "   0  1467810369  Mon Apr 06 22:19:45 PDT 2009  NO_QUERY _TheSpecialOne_  \\\n",
       "0  0  1467810672  Mon Apr 06 22:19:49 PDT 2009  NO_QUERY   scotthamilton   \n",
       "1  0  1467810917  Mon Apr 06 22:19:53 PDT 2009  NO_QUERY        mattycus   \n",
       "2  0  1467811184  Mon Apr 06 22:19:57 PDT 2009  NO_QUERY         ElleCTF   \n",
       "3  0  1467811193  Mon Apr 06 22:19:57 PDT 2009  NO_QUERY          Karoli   \n",
       "4  0  1467811372  Mon Apr 06 22:20:00 PDT 2009  NO_QUERY        joy_wolf   \n",
       "\n",
       "  @switchfoot http://twitpic.com/2y1zl - Awww, that's a bummer.  You shoulda got David Carr of Third Day to do it. ;D  \n",
       "0  is upset that he can't update his Facebook by ...                                                                   \n",
       "1  @Kenichan I dived many times for the ball. Man...                                                                   \n",
       "2    my whole body feels itchy and like its on fire                                                                    \n",
       "3  @nationwideclass no, it's not behaving at all....                                                                   \n",
       "4                      @Kwesidei not the whole crew                                                                    "
      ]
     },
     "execution_count": 12,
     "metadata": {},
     "output_type": "execute_result"
    }
   ],
   "source": [
    "df.head()"
   ]
  },
  {
   "cell_type": "code",
   "execution_count": null,
   "metadata": {
    "colab": {
     "base_uri": "https://localhost:8080/"
    },
    "execution": {
     "iopub.execute_input": "2024-04-08T07:26:41.437780Z",
     "iopub.status.busy": "2024-04-08T07:26:41.437304Z",
     "iopub.status.idle": "2024-04-08T07:26:41.453035Z",
     "shell.execute_reply": "2024-04-08T07:26:41.450721Z",
     "shell.execute_reply.started": "2024-04-08T07:26:41.437750Z"
    },
    "id": "F9rKvU8Hyy_Z",
    "outputId": "a48e78c2-9ba6-488e-edf6-c7f363fc2634"
   },
   "outputs": [
    {
     "data": {
      "text/plain": [
       "(1599999, 6)"
      ]
     },
     "execution_count": 13,
     "metadata": {},
     "output_type": "execute_result"
    }
   ],
   "source": [
    "df.shape"
   ]
  },
  {
   "cell_type": "code",
   "execution_count": null,
   "metadata": {
    "colab": {
     "base_uri": "https://localhost:8080/"
    },
    "execution": {
     "iopub.execute_input": "2024-04-08T07:26:41.457071Z",
     "iopub.status.busy": "2024-04-08T07:26:41.455375Z",
     "iopub.status.idle": "2024-04-08T07:26:41.481755Z",
     "shell.execute_reply": "2024-04-08T07:26:41.480057Z",
     "shell.execute_reply.started": "2024-04-08T07:26:41.457016Z"
    },
    "id": "kPTlLHlWyzDA",
    "outputId": "7c36ceb9-ee3c-444a-d10a-7742680db9fd"
   },
   "outputs": [
    {
     "name": "stdout",
     "output_type": "stream",
     "text": [
      "<class 'pandas.core.frame.DataFrame'>\n",
      "RangeIndex: 1599999 entries, 0 to 1599998\n",
      "Data columns (total 6 columns):\n",
      " #   Column                                                                                                               Non-Null Count    Dtype \n",
      "---  ------                                                                                                               --------------    ----- \n",
      " 0   0                                                                                                                    1599999 non-null  int64 \n",
      " 1   1467810369                                                                                                           1599999 non-null  int64 \n",
      " 2   Mon Apr 06 22:19:45 PDT 2009                                                                                         1599999 non-null  object\n",
      " 3   NO_QUERY                                                                                                             1599999 non-null  object\n",
      " 4   _TheSpecialOne_                                                                                                      1599999 non-null  object\n",
      " 5   @switchfoot http://twitpic.com/2y1zl - Awww, that's a bummer.  You shoulda got David Carr of Third Day to do it. ;D  1599999 non-null  object\n",
      "dtypes: int64(2), object(4)\n",
      "memory usage: 73.2+ MB\n"
     ]
    }
   ],
   "source": [
    "df.info()"
   ]
  },
  {
   "cell_type": "code",
   "execution_count": null,
   "metadata": {
    "id": "BZUHW0GPfHwI"
   },
   "outputs": [],
   "source": [
    "# create column name\n",
    "column_names = ['target', 'id', 'data', 'flag', 'user', 'text']\n",
    "df          = pd.read_csv('/content/drive/MyDrive/Data/training.1600000.processed.noemoticon.csv', encoding='ISO-8859-1', names = column_names)"
   ]
  },
  {
   "cell_type": "code",
   "execution_count": null,
   "metadata": {
    "colab": {
     "base_uri": "https://localhost:8080/"
    },
    "execution": {
     "iopub.execute_input": "2024-04-08T07:26:41.484130Z",
     "iopub.status.busy": "2024-04-08T07:26:41.483603Z",
     "iopub.status.idle": "2024-04-08T07:26:41.501748Z",
     "shell.execute_reply": "2024-04-08T07:26:41.499972Z",
     "shell.execute_reply.started": "2024-04-08T07:26:41.484087Z"
    },
    "id": "17uy5njsyzFK",
    "outputId": "67b48810-feed-4817-fe05-069d59f655ad"
   },
   "outputs": [
    {
     "data": {
      "text/plain": [
       "target\n",
       "0    800000\n",
       "4    800000\n",
       "Name: count, dtype: int64"
      ]
     },
     "execution_count": 16,
     "metadata": {},
     "output_type": "execute_result"
    }
   ],
   "source": [
    "df['target'].value_counts()"
   ]
  },
  {
   "cell_type": "code",
   "execution_count": null,
   "metadata": {
    "id": "VYh8ZaEEfj8n"
   },
   "outputs": [],
   "source": [
    "# convert 4 to 1\n",
    "df.replace({'target':{4:1}}, inplace=True)"
   ]
  },
  {
   "cell_type": "code",
   "execution_count": null,
   "metadata": {
    "colab": {
     "base_uri": "https://localhost:8080/"
    },
    "execution": {
     "iopub.execute_input": "2024-04-08T07:26:41.504388Z",
     "iopub.status.busy": "2024-04-08T07:26:41.503981Z",
     "iopub.status.idle": "2024-04-08T07:26:41.525517Z",
     "shell.execute_reply": "2024-04-08T07:26:41.524133Z",
     "shell.execute_reply.started": "2024-04-08T07:26:41.504357Z"
    },
    "id": "uaYtNG6syzJh",
    "outputId": "76e120fe-a61f-413e-89a7-f7dc89d235d3"
   },
   "outputs": [
    {
     "data": {
      "text/plain": [
       "target    0\n",
       "id        0\n",
       "data      0\n",
       "flag      0\n",
       "user      0\n",
       "text      0\n",
       "dtype: int64"
      ]
     },
     "execution_count": 18,
     "metadata": {},
     "output_type": "execute_result"
    }
   ],
   "source": [
    "df.isnull().sum()"
   ]
  },
  {
   "cell_type": "markdown",
   "metadata": {},
   "source": [
    "### Data Visualisation"
   ]
  },
  {
   "cell_type": "code",
   "execution_count": null,
   "metadata": {
    "colab": {
     "base_uri": "https://localhost:8080/"
    },
    "id": "ArLMCCyBfrM8",
    "outputId": "fbba8deb-6fd1-4e72-bce4-5315930a3f0c"
   },
   "outputs": [
    {
     "data": {
      "text/plain": [
       "target\n",
       "0    800000\n",
       "1    800000\n",
       "Name: count, dtype: int64"
      ]
     },
     "execution_count": 19,
     "metadata": {},
     "output_type": "execute_result"
    }
   ],
   "source": [
    "#checking the distribution of target column\n",
    "df['target'].value_counts()"
   ]
  },
  {
   "cell_type": "code",
   "execution_count": null,
   "metadata": {
    "execution": {
     "iopub.execute_input": "2024-04-08T07:26:41.903460Z",
     "iopub.status.busy": "2024-04-08T07:26:41.902932Z",
     "iopub.status.idle": "2024-04-08T07:26:42.666078Z",
     "shell.execute_reply": "2024-04-08T07:26:42.664841Z",
     "shell.execute_reply.started": "2024-04-08T07:26:41.903425Z"
    },
    "id": "Rp9ICJ8I7_IP"
   },
   "outputs": [],
   "source": [
    "df['text_word_count']=df['text'].apply(lambda x:len(x.split()))"
   ]
  },
  {
   "cell_type": "code",
   "execution_count": null,
   "metadata": {
    "colab": {
     "base_uri": "https://localhost:8080/",
     "height": 363
    },
    "execution": {
     "iopub.execute_input": "2024-04-08T07:26:42.667952Z",
     "iopub.status.busy": "2024-04-08T07:26:42.667457Z",
     "iopub.status.idle": "2024-04-08T07:26:43.326011Z",
     "shell.execute_reply": "2024-04-08T07:26:43.323972Z",
     "shell.execute_reply.started": "2024-04-08T07:26:42.667910Z"
    },
    "id": "ZQstwR797_LW",
    "outputId": "6c361979-eb94-430b-e022-a9991b43986a"
   },
   "outputs": [
    {
     "data": {
      "image/png": "[encoded data removed]",
      "text/plain": [
       "<Figure size 2400x600 with 1 Axes>"
      ]
     },
     "metadata": {},
     "output_type": "display_data"
    }
   ],
   "source": [
    "\n",
    "num_cols = ['text_word_count']  # Ensure it's a list even if it's just one column\n",
    "plt.figure(figsize=(24, 6))\n",
    "\n",
    "for i, col in enumerate(num_cols):\n",
    "  #  plt.subplot(1, 3, i+1)\n",
    "    sns.histplot(data=df, x=col, bins=50)\n",
    "    plt.title(\"Distribution of {}\".format(col))\n",
    "\n",
    "plt.tight_layout()\n",
    "plt.show()\n"
   ]
  },
  {
   "cell_type": "code",
   "execution_count": null,
   "metadata": {
    "colab": {
     "base_uri": "https://localhost:8080/",
     "height": 607
    },
    "execution": {
     "iopub.execute_input": "2024-04-08T07:26:43.328872Z",
     "iopub.status.busy": "2024-04-08T07:26:43.328356Z",
     "iopub.status.idle": "2024-04-08T07:26:44.108436Z",
     "shell.execute_reply": "2024-04-08T07:26:44.107176Z",
     "shell.execute_reply.started": "2024-04-08T07:26:43.328828Z"
    },
    "id": "OEZlquOb7_OO",
    "outputId": "32f8e619-5e42-4e85-be65-c3a03f96ac01"
   },
   "outputs": [
    {
     "data": {
      "image/png": "[encoded data removed]",
      "text/plain": [
       "<Figure size 2400x600 with 1 Axes>"
      ]
     },
     "metadata": {},
     "output_type": "display_data"
    }
   ],
   "source": [
    "num_cols = ['text_word_count']\n",
    "plt.figure(figsize=(24,6))\n",
    "for i,col in enumerate(num_cols):\n",
    "    plt.subplot(1,3,i+1)\n",
    "    sns.histplot(data=df,x=col,hue='target',bins=50)\n",
    "    plt.title(f\"Distribution of {col}\")\n",
    "plt.tight_layout()\n",
    "plt.show()"
   ]
  },
  {
   "cell_type": "code",
   "execution_count": null,
   "metadata": {
    "colab": {
     "base_uri": "https://localhost:8080/",
     "height": 499
    },
    "execution": {
     "iopub.execute_input": "2024-04-08T07:26:44.110310Z",
     "iopub.status.busy": "2024-04-08T07:26:44.109923Z",
     "iopub.status.idle": "2024-04-08T07:26:44.298902Z",
     "shell.execute_reply": "2024-04-08T07:26:44.296954Z",
     "shell.execute_reply.started": "2024-04-08T07:26:44.110279Z"
    },
    "id": "Wuq2bsTv7_R1",
    "outputId": "ca62511c-4558-4e99-b73f-539afa31d2bc"
   },
   "outputs": [
    {
     "data": {
      "image/png": "[encoded data removed]",
      "text/plain": [
       "<Figure size 1000x600 with 1 Axes>"
      ]
     },
     "metadata": {},
     "output_type": "display_data"
    }
   ],
   "source": [
    "\n",
    "plt.figure(figsize=(10,6))\n",
    "colors=['#c29723','#23c285']\n",
    "plt.pie(df['target'].value_counts(),labels=['Positive','Negative'],autopct='%.2f%%',explode=[0.01,0.01],colors=colors);\n",
    "plt.ylabel('twitter Sentiment');"
   ]
  },
  {
   "cell_type": "code",
   "execution_count": null,
   "metadata": {
    "execution": {
     "iopub.execute_input": "2024-04-08T07:26:44.302074Z",
     "iopub.status.busy": "2024-04-08T07:26:44.301208Z",
     "iopub.status.idle": "2024-04-08T07:26:44.310996Z",
     "shell.execute_reply": "2024-04-08T07:26:44.309146Z",
     "shell.execute_reply.started": "2024-04-08T07:26:44.302007Z"
    },
    "id": "vgI4JBap7_VM"
   },
   "outputs": [],
   "source": [
    "X= df['text']\n",
    "y= df['target']"
   ]
  },
  {
   "cell_type": "code",
   "execution_count": null,
   "metadata": {
    "colab": {
     "base_uri": "https://localhost:8080/"
    },
    "execution": {
     "iopub.execute_input": "2024-04-08T07:26:44.315785Z",
     "iopub.status.busy": "2024-04-08T07:26:44.314413Z",
     "iopub.status.idle": "2024-04-08T07:26:44.336206Z",
     "shell.execute_reply": "2024-04-08T07:26:44.334977Z",
     "shell.execute_reply.started": "2024-04-08T07:26:44.315717Z"
    },
    "id": "ZI3yU_6uWP0N",
    "outputId": "f07498e3-bea9-4d47-f146-22067dd8dab1"
   },
   "outputs": [
    {
     "data": {
      "text/plain": [
       "0    @switchfoot http://twitpic.com/2y1zl - Awww, t...\n",
       "1    is upset that he can't update his Facebook by ...\n",
       "2    @Kenichan I dived many times for the ball. Man...\n",
       "3      my whole body feels itchy and like its on fire \n",
       "4    @nationwideclass no, it's not behaving at all....\n",
       "Name: text, dtype: object"
      ]
     },
     "execution_count": 25,
     "metadata": {},
     "output_type": "execute_result"
    }
   ],
   "source": [
    "X.head()"
   ]
  },
  {
   "cell_type": "code",
   "execution_count": null,
   "metadata": {
    "colab": {
     "base_uri": "https://localhost:8080/"
    },
    "execution": {
     "iopub.execute_input": "2024-04-08T07:26:44.339509Z",
     "iopub.status.busy": "2024-04-08T07:26:44.338550Z",
     "iopub.status.idle": "2024-04-08T07:26:44.352273Z",
     "shell.execute_reply": "2024-04-08T07:26:44.350044Z",
     "shell.execute_reply.started": "2024-04-08T07:26:44.339450Z"
    },
    "id": "3bC91U3ADeNR",
    "outputId": "3d08d67b-7f52-4726-cbae-637a74a7f235"
   },
   "outputs": [
    {
     "data": {
      "text/plain": [
       "0    0\n",
       "1    0\n",
       "2    0\n",
       "3    0\n",
       "4    0\n",
       "Name: target, dtype: int64"
      ]
     },
     "execution_count": 26,
     "metadata": {},
     "output_type": "execute_result"
    }
   ],
   "source": [
    "y.head()"
   ]
  },
  {
   "cell_type": "code",
   "execution_count": null,
   "metadata": {
    "colab": {
     "base_uri": "https://localhost:8080/"
    },
    "execution": {
     "iopub.execute_input": "2024-04-08T07:26:44.356134Z",
     "iopub.status.busy": "2024-04-08T07:26:44.355037Z",
     "iopub.status.idle": "2024-04-08T07:26:44.371562Z",
     "shell.execute_reply": "2024-04-08T07:26:44.369373Z",
     "shell.execute_reply.started": "2024-04-08T07:26:44.356090Z"
    },
    "id": "3WRRIolXrzph",
    "outputId": "d81acd66-31e9-46dd-84b7-fb125a490464"
   },
   "outputs": [
    {
     "data": {
      "text/plain": [
       "((1600000,), (1600000,))"
      ]
     },
     "execution_count": 27,
     "metadata": {},
     "output_type": "execute_result"
    }
   ],
   "source": [
    "X.shape, y.shape"
   ]
  },
  {
   "cell_type": "markdown",
   "metadata": {
    "id": "xgb-U--HWhGk"
   },
   "source": [
    "### Text Data Preprocessing"
   ]
  },
  {
   "cell_type": "code",
   "execution_count": null,
   "metadata": {
    "execution": {
     "iopub.execute_input": "2024-04-08T07:26:44.375685Z",
     "iopub.status.busy": "2024-04-08T07:26:44.374319Z",
     "iopub.status.idle": "2024-04-08T07:26:44.389320Z",
     "shell.execute_reply": "2024-04-08T07:26:44.387900Z",
     "shell.execute_reply.started": "2024-04-08T07:26:44.375636Z"
    },
    "id": "c4o-RT8TWdyp"
   },
   "outputs": [],
   "source": [
    "import re\n",
    "\n",
    "def text_cleaning(text):\n",
    "    # Step 1: Convert text to lowercase\n",
    "    text = text.lower()\n",
    "\n",
    "    # Step 2: Remove HTML tags\n",
    "    text = re.sub(pattern=r'<.*?>', repl='', string=text)\n",
    "\n",
    "    # Step 3: Remove URLs\n",
    "    text = re.sub(pattern=r'http\\S+|www\\S+|ftp\\S+', repl='', string=text)\n",
    "\n",
    "    # Step 4: Remove 'rt'\n",
    "    text = re.sub(pattern=r' rt', repl='', string=text)\n",
    "\n",
    "    # Step 5: Remove words starting with '!'\n",
    "    text = re.sub(pattern=r'!\\S+', repl='', string=text)\n",
    "\n",
    "    # Step 6: Remove mentions starting with '@'\n",
    "    #text = re.sub(pattern=r'@\\S+', repl='', string=text)\n",
    "\n",
    "    # Step 7: Remove Unicode emojis\n",
    "    text = re.sub(pattern=r'&#\\d+;', repl='', string=text)\n",
    "\n",
    "    text = re.sub(pattern=r'&amp', repl='', string=text)\n",
    "\n",
    "    # Step 8: Remove '#' and '$'\n",
    "    text = re.sub(pattern=r'#|\\$', repl='', string=text)\n",
    "\n",
    "    # Step 9: Remove non-alphabetic characters\n",
    "    text = re.sub(r'[^a-zA-Z\\s]', '', text)\n",
    "\n",
    "    # Step 10: Remove numeric digits\n",
    "    text = re.sub(r'\\d+', '', text)\n",
    "\n",
    "    # Step 11: Remove punctuation\n",
    "    text = re.sub(r'[^\\w\\s]', '', text)\n",
    "\n",
    "    # Step 12: Remove single characters\n",
    "    text = re.sub(r'\\b\\w\\b', '', text)\n",
    "\n",
    "    # Step 13: Remove extra whitespaces\n",
    "    text = re.sub(r'\\s+', ' ', text).strip()\n",
    "\n",
    "    return text\n"
   ]
  },
  {
   "cell_type": "code",
   "execution_count": null,
   "metadata": {
    "execution": {
     "iopub.execute_input": "2024-04-08T07:26:44.399000Z",
     "iopub.status.busy": "2024-04-08T07:26:44.398333Z",
     "iopub.status.idle": "2024-04-08T07:27:01.186850Z",
     "shell.execute_reply": "2024-04-08T07:27:01.184727Z",
     "shell.execute_reply.started": "2024-04-08T07:26:44.398964Z"
    },
    "id": "me3dmKMcWd2U"
   },
   "outputs": [],
   "source": [
    "X= X.apply(text_cleaning)"
   ]
  },
  {
   "cell_type": "code",
   "execution_count": null,
   "metadata": {
    "colab": {
     "base_uri": "https://localhost:8080/"
    },
    "execution": {
     "iopub.execute_input": "2024-04-08T07:27:01.189683Z",
     "iopub.status.busy": "2024-04-08T07:27:01.189255Z",
     "iopub.status.idle": "2024-04-08T07:27:01.197547Z",
     "shell.execute_reply": "2024-04-08T07:27:01.195674Z",
     "shell.execute_reply.started": "2024-04-08T07:27:01.189653Z"
    },
    "id": "Hx7TvvwHWd41",
    "outputId": "742cb960-6ec6-4782-d8bb-8a04444dc615"
   },
   "outputs": [
    {
     "name": "stdout",
     "output_type": "stream",
     "text": [
      "<class 'pandas.core.series.Series'>\n"
     ]
    }
   ],
   "source": [
    "print(type(X))"
   ]
  },
  {
   "cell_type": "code",
   "execution_count": null,
   "metadata": {
    "colab": {
     "base_uri": "https://localhost:8080/"
    },
    "execution": {
     "iopub.execute_input": "2024-04-08T07:27:01.199916Z",
     "iopub.status.busy": "2024-04-08T07:27:01.199491Z",
     "iopub.status.idle": "2024-04-08T07:27:01.214709Z",
     "shell.execute_reply": "2024-04-08T07:27:01.213130Z",
     "shell.execute_reply.started": "2024-04-08T07:27:01.199863Z"
    },
    "id": "ObIO6teGWd8q",
    "outputId": "805dc8b0-af14-4877-f1b4-b38580b14736"
   },
   "outputs": [
    {
     "data": {
      "text/plain": [
       "0    switchfoot thats bummer you shoulda got david ...\n",
       "1    is upset that he cant update his facebook by t...\n",
       "2    kenichan dived many times for the ball managed...\n",
       "3       my whole body feels itchy and like its on fire\n",
       "4    nationwideclass no its not behaving at all im ...\n",
       "Name: text, dtype: object"
      ]
     },
     "execution_count": 31,
     "metadata": {},
     "output_type": "execute_result"
    }
   ],
   "source": [
    "X[:5]"
   ]
  },
  {
   "cell_type": "markdown",
   "metadata": {
    "id": "r9BU47SnXAtd"
   },
   "source": [
    "Stop word removal"
   ]
  },
  {
   "cell_type": "code",
   "execution_count": null,
   "metadata": {
    "execution": {
     "iopub.execute_input": "2024-04-08T07:27:01.217139Z",
     "iopub.status.busy": "2024-04-08T07:27:01.216571Z",
     "iopub.status.idle": "2024-04-08T07:27:01.228909Z",
     "shell.execute_reply": "2024-04-08T07:27:01.227451Z",
     "shell.execute_reply.started": "2024-04-08T07:27:01.217092Z"
    },
    "id": "omhAsJngWeZ1"
   },
   "outputs": [],
   "source": [
    "def stopwords_removal(text):\n",
    "    words= word_tokenize(text)\n",
    "    stopword= set(stopwords.words('english'))\n",
    "    filtered_text= [word for word in words if word.lower() not in stopword]\n",
    "    return ' '.join(filtered_text)"
   ]
  },
  {
   "cell_type": "markdown",
   "metadata": {
    "id": "HtMo_rNgZGqu"
   },
   "source": []
  },
  {
   "cell_type": "code",
   "execution_count": null,
   "metadata": {
    "colab": {
     "base_uri": "https://localhost:8080/"
    },
    "execution": {
     "iopub.execute_input": "2024-04-08T07:27:01.232197Z",
     "iopub.status.busy": "2024-04-08T07:27:01.231604Z",
     "iopub.status.idle": "2024-04-08T07:28:38.602762Z",
     "shell.execute_reply": "2024-04-08T07:28:38.601050Z",
     "shell.execute_reply.started": "2024-04-08T07:27:01.232151Z"
    },
    "id": "QYbOWZlOXMXd",
    "outputId": "d827b26c-c167-41eb-cfdd-0fa20a7dd965"
   },
   "outputs": [
    {
     "data": {
      "text/plain": [
       "0    switchfoot thats bummer shoulda got david carr...\n",
       "1    upset cant update facebook texting might cry r...\n",
       "2    kenichan dived many times ball managed save re...\n",
       "3                     whole body feels itchy like fire\n",
       "4             nationwideclass behaving im mad cant see\n",
       "Name: text, dtype: object"
      ]
     },
     "execution_count": 33,
     "metadata": {},
     "output_type": "execute_result"
    }
   ],
   "source": [
    "X= X.apply(stopwords_removal)\n",
    "X[:5]"
   ]
  },
  {
   "cell_type": "markdown",
   "metadata": {
    "id": "p1g0Yh6ybppq"
   },
   "source": [
    "### Stemming"
   ]
  },
  {
   "cell_type": "code",
   "execution_count": null,
   "metadata": {
    "execution": {
     "iopub.execute_input": "2024-04-08T07:28:38.605600Z",
     "iopub.status.busy": "2024-04-08T07:28:38.604578Z",
     "iopub.status.idle": "2024-04-08T07:28:38.612690Z",
     "shell.execute_reply": "2024-04-08T07:28:38.610651Z",
     "shell.execute_reply.started": "2024-04-08T07:28:38.605562Z"
    },
    "id": "Mg-IrEXjaPNf"
   },
   "outputs": [],
   "source": [
    "def stemming(text):\n",
    "    words= word_tokenize(text)\n",
    "    stemmer= PorterStemmer()\n",
    "    stemmed_text= [stemmer.stem(word) for word in words]\n",
    "    return ' '.join(stemmed_text)"
   ]
  },
  {
   "cell_type": "code",
   "execution_count": null,
   "metadata": {
    "colab": {
     "base_uri": "https://localhost:8080/"
    },
    "execution": {
     "iopub.execute_input": "2024-04-08T07:28:38.615502Z",
     "iopub.status.busy": "2024-04-08T07:28:38.615040Z",
     "iopub.status.idle": "2024-04-08T07:33:01.012403Z",
     "shell.execute_reply": "2024-04-08T07:33:01.011088Z",
     "shell.execute_reply.started": "2024-04-08T07:28:38.615469Z"
    },
    "id": "Gp-hBLCoXMai",
    "outputId": "db110b88-5d16-4605-ec69-a271bad01766"
   },
   "outputs": [
    {
     "data": {
      "text/plain": [
       "0    switchfoot that bummer shoulda got david carr ...\n",
       "1    upset cant updat facebook text might cri resul...\n",
       "2    kenichan dive mani time ball manag save rest g...\n",
       "3                      whole bodi feel itchi like fire\n",
       "4                nationwideclass behav im mad cant see\n",
       "Name: text, dtype: object"
      ]
     },
     "execution_count": 35,
     "metadata": {},
     "output_type": "execute_result"
    }
   ],
   "source": [
    "X1= X.apply(stemming)\n",
    "X1[:5]"
   ]
  },
  {
   "cell_type": "code",
   "execution_count": 37,
   "metadata": {
    "colab": {
     "base_uri": "https://localhost:8080/"
    },
    "execution": {
     "iopub.execute_input": "2024-04-08T07:41:16.110731Z",
     "iopub.status.busy": "2024-04-08T07:41:16.109386Z",
     "iopub.status.idle": "2024-04-08T07:41:16.123240Z",
     "shell.execute_reply": "2024-04-08T07:41:16.120962Z",
     "shell.execute_reply.started": "2024-04-08T07:41:16.110687Z"
    },
    "id": "koxi3i39XMvM",
    "outputId": "f832df12-3307-4b57-e504-64c60ca0c8dc"
   },
   "outputs": [
    {
     "data": {
      "text/plain": [
       "0    switchfoot thats bummer shoulda got david carr...\n",
       "1    upset cant update facebook texting might cry r...\n",
       "2    kenichan dived many times ball managed save re...\n",
       "3                     whole body feels itchy like fire\n",
       "4             nationwideclass behaving im mad cant see\n",
       "Name: text, dtype: object"
      ]
     },
     "execution_count": 37,
     "metadata": {},
     "output_type": "execute_result"
    }
   ],
   "source": [
    "X.head()"
   ]
  },
  {
   "cell_type": "code",
   "execution_count": 38,
   "metadata": {
    "colab": {
     "base_uri": "https://localhost:8080/"
    },
    "execution": {
     "iopub.execute_input": "2024-04-08T07:41:17.486375Z",
     "iopub.status.busy": "2024-04-08T07:41:17.485969Z",
     "iopub.status.idle": "2024-04-08T07:41:17.496742Z",
     "shell.execute_reply": "2024-04-08T07:41:17.495237Z",
     "shell.execute_reply.started": "2024-04-08T07:41:17.486346Z"
    },
    "id": "xaH8igtyXMyd",
    "outputId": "67d447ef-c729-4ba2-b467-58abd580f72c"
   },
   "outputs": [
    {
     "data": {
      "text/plain": [
       "0    0\n",
       "1    0\n",
       "2    0\n",
       "3    0\n",
       "4    0\n",
       "Name: target, dtype: int64"
      ]
     },
     "execution_count": 38,
     "metadata": {},
     "output_type": "execute_result"
    }
   ],
   "source": [
    "y.head()"
   ]
  },
  {
   "cell_type": "code",
   "execution_count": 39,
   "metadata": {
    "execution": {
     "iopub.execute_input": "2024-04-08T07:41:42.883953Z",
     "iopub.status.busy": "2024-04-08T07:41:42.883474Z",
     "iopub.status.idle": "2024-04-08T07:41:50.305850Z",
     "shell.execute_reply": "2024-04-08T07:41:50.304503Z",
     "shell.execute_reply.started": "2024-04-08T07:41:42.883920Z"
    },
    "id": "h15mQsnfdfCv"
   },
   "outputs": [],
   "source": [
    "from sklearn.feature_extraction.text import TfidfVectorizer\n",
    "\n",
    "tf_idf= TfidfVectorizer()\n",
    "transformed_tf_idf= tf_idf.fit_transform(X1)"
   ]
  },
  {
   "cell_type": "code",
   "execution_count": 40,
   "metadata": {
    "colab": {
     "base_uri": "https://localhost:8080/"
    },
    "execution": {
     "iopub.execute_input": "2024-04-08T07:41:50.309805Z",
     "iopub.status.busy": "2024-04-08T07:41:50.309285Z",
     "iopub.status.idle": "2024-04-08T07:41:50.500004Z",
     "shell.execute_reply": "2024-04-08T07:41:50.498632Z",
     "shell.execute_reply.started": "2024-04-08T07:41:50.309762Z"
    },
    "id": "kfisvsOudfGW",
    "outputId": "d54693c7-9c86-4357-bcfb-d1325543a55e"
   },
   "outputs": [
    {
     "name": "stdout",
     "output_type": "stream",
     "text": [
      "['aa' 'aaa' 'aaaa' 'aaaaa' 'aaaaaa' 'aaaaaaa' 'aaaaaaaa' 'aaaaaaaaa'\n",
      " 'aaaaaaaaaa' 'aaaaaaaaaaa' 'aaaaaaaaaaaa' 'aaaaaaaaaaaaa'\n",
      " 'aaaaaaaaaaaaaa' 'aaaaaaaaaaaaaaa' 'aaaaaaaaaaaaaaaa'\n",
      " 'aaaaaaaaaaaaaaaaaa' 'aaaaaaaaaaaaaaaaaaa' 'aaaaaaaaaaaaaaaaaaaa'\n",
      " 'aaaaaaaaaaaaaaaaaaaaaaa' 'aaaaaaaaaaaaaaaaaaaaaaaaaa'\n",
      " 'aaaaaaaaaaaaaaaaaaaaaaaaaaaaaa' 'aaaaaaaaaaaaaaaaaaaaaaaaaaaaaaaaa'\n",
      " 'aaaaaaaaaaaaaaaaaaaaaaaaaaaaaaaaaaaaa'\n",
      " 'aaaaaaaaaaaaaaaaaaaaaaaaaaaaaaaaaaaaaaaaaaaaaaaaa'\n",
      " 'aaaaaaaaaaaaaaaaaaaaaaaaaaaaaaaaaaaaaaaaaaaaaaaaaah'\n",
      " 'aaaaaaaaaaaaaaaaaaaaaaaaaaaaaaaaaaaaaaaah'\n",
      " 'aaaaaaaaaaaaaaaaaaaaaaaaaaaaaaaaaaaaaaargh'\n",
      " 'aaaaaaaaaaaaaaaaaaaaaaaaaaaaall' 'aaaaaaaaaaaaaaaaaaaaaaaaaargh'\n",
      " 'aaaaaaaaaaaaaaaaaaaaaaah'\n",
      " 'aaaaaaaaaaaaaaaaaaaaaaahhhhhhhhhhhhhhhhhhhhhhhhhhhhhhhh'\n",
      " 'aaaaaaaaaaaaaaaaaaaaaaahrg' 'aaaaaaaaaaaaaaaaaaaaah'\n",
      " 'aaaaaaaaaaaaaaaaaaaaahhhhh' 'aaaaaaaaaaaaaaaaaaaah'\n",
      " 'aaaaaaaaaaaaaaaaaaaaint' 'aaaaaaaaaaaaaaaaaaaay' 'aaaaaaaaaaaaaaaaaah'\n",
      " 'aaaaaaaaaaaaaaaaaahhhhh' 'aaaaaaaaaaaaaaaaaahhhhhhhhhhhh'\n",
      " 'aaaaaaaaaaaaaaaaagh' 'aaaaaaaaaaaaaaaaah' 'aaaaaaaaaaaaaaaaand'\n",
      " 'aaaaaaaaaaaaaaaag' 'aaaaaaaaaaaaaaaaggggggggghhhhhhhh'\n",
      " 'aaaaaaaaaaaaaaaahhhhhhh' 'aaaaaaaaaaaaaaaahhhhhhhhhh'\n",
      " 'aaaaaaaaaaaaaaaahhhhhhhhhhhhhhh' 'aaaaaaaaaaaaaaaanh'\n",
      " 'aaaaaaaaaaaaaaaargh']\n"
     ]
    }
   ],
   "source": [
    "# Assuming tf_idf is your TF-IDF vectorizer\n",
    "feature_names = tf_idf.get_feature_names_out()\n",
    "\n",
    "# Display the first 10 items in the vocabulary\n",
    "print(feature_names[:50])\n"
   ]
  },
  {
   "cell_type": "code",
   "execution_count": 41,
   "metadata": {
    "colab": {
     "base_uri": "https://localhost:8080/"
    },
    "execution": {
     "iopub.execute_input": "2024-04-08T07:41:52.685894Z",
     "iopub.status.busy": "2024-04-08T07:41:52.684561Z",
     "iopub.status.idle": "2024-04-08T07:41:52.694117Z",
     "shell.execute_reply": "2024-04-08T07:41:52.692598Z",
     "shell.execute_reply.started": "2024-04-08T07:41:52.685821Z"
    },
    "id": "CXSSmWPpdfI3",
    "outputId": "4fa095f4-de4b-44de-d822-17380f827152"
   },
   "outputs": [
    {
     "data": {
      "text/plain": [
       "(1600000, 664737)"
      ]
     },
     "execution_count": 41,
     "metadata": {},
     "output_type": "execute_result"
    }
   ],
   "source": [
    "transformed_tf_idf.shape"
   ]
  },
  {
   "cell_type": "code",
   "execution_count": 42,
   "metadata": {
    "execution": {
     "iopub.execute_input": "2024-04-08T07:42:28.385477Z",
     "iopub.status.busy": "2024-04-08T07:42:28.385054Z",
     "iopub.status.idle": "2024-04-08T07:42:28.429577Z",
     "shell.execute_reply": "2024-04-08T07:42:28.428245Z",
     "shell.execute_reply.started": "2024-04-08T07:42:28.385440Z"
    },
    "id": "Ser2UoCldfOE"
   },
   "outputs": [],
   "source": [
    "from sklearn.model_selection import train_test_split\n",
    "X_train,X_test,y_train,y_test= train_test_split(transformed_tf_idf,y,test_size=0.2)"
   ]
  },
  {
   "cell_type": "code",
   "execution_count": 43,
   "metadata": {
    "colab": {
     "base_uri": "https://localhost:8080/",
     "height": 74
    },
    "execution": {
     "iopub.execute_input": "2024-04-08T07:45:06.470763Z",
     "iopub.status.busy": "2024-04-08T07:45:06.470272Z",
     "iopub.status.idle": "2024-04-08T07:45:06.523830Z",
     "shell.execute_reply": "2024-04-08T07:45:06.522556Z",
     "shell.execute_reply.started": "2024-04-08T07:45:06.470728Z"
    },
    "id": "joZ2XbHodfRx",
    "outputId": "9aa4d49e-20d5-4070-f3bb-afd68fd1d534"
   },
   "outputs": [
    {
     "data": {
      "text/html": [
       "<style>#sk-container-id-1 {color: black;background-color: white;}#sk-container-id-1 pre{padding: 0;}#sk-container-id-1 div.sk-toggleable {background-color: white;}#sk-container-id-1 label.sk-toggleable__label {cursor: pointer;display: block;width: 100%;margin-bottom: 0;padding: 0.3em;box-sizing: border-box;text-align: center;}#sk-container-id-1 label.sk-toggleable__label-arrow:before {content: \"▸\";float: left;margin-right: 0.25em;color: #696969;}#sk-container-id-1 label.sk-toggleable__label-arrow:hover:before {color: black;}#sk-container-id-1 div.sk-estimator:hover label.sk-toggleable__label-arrow:before {color: black;}#sk-container-id-1 div.sk-toggleable__content {max-height: 0;max-width: 0;overflow: hidden;text-align: left;background-color: #f0f8ff;}#sk-container-id-1 div.sk-toggleable__content pre {margin: 0.2em;color: black;border-radius: 0.25em;background-color: #f0f8ff;}#sk-container-id-1 input.sk-toggleable__control:checked~div.sk-toggleable__content {max-height: 200px;max-width: 100%;overflow: auto;}#sk-container-id-1 input.sk-toggleable__control:checked~label.sk-toggleable__label-arrow:before {content: \"▾\";}#sk-container-id-1 div.sk-estimator input.sk-toggleable__control:checked~label.sk-toggleable__label {background-color: #d4ebff;}#sk-container-id-1 div.sk-label input.sk-toggleable__control:checked~label.sk-toggleable__label {background-color: #d4ebff;}#sk-container-id-1 input.sk-hidden--visually {border: 0;clip: rect(1px 1px 1px 1px);clip: rect(1px, 1px, 1px, 1px);height: 1px;margin: -1px;overflow: hidden;padding: 0;position: absolute;width: 1px;}#sk-container-id-1 div.sk-estimator {font-family: monospace;background-color: #f0f8ff;border: 1px dotted black;border-radius: 0.25em;box-sizing: border-box;margin-bottom: 0.5em;}#sk-container-id-1 div.sk-estimator:hover {background-color: #d4ebff;}#sk-container-id-1 div.sk-parallel-item::after {content: \"\";width: 100%;border-bottom: 1px solid gray;flex-grow: 1;}#sk-container-id-1 div.sk-label:hover label.sk-toggleable__label {background-color: #d4ebff;}#sk-container-id-1 div.sk-serial::before {content: \"\";position: absolute;border-left: 1px solid gray;box-sizing: border-box;top: 0;bottom: 0;left: 50%;z-index: 0;}#sk-container-id-1 div.sk-serial {display: flex;flex-direction: column;align-items: center;background-color: white;padding-right: 0.2em;padding-left: 0.2em;position: relative;}#sk-container-id-1 div.sk-item {position: relative;z-index: 1;}#sk-container-id-1 div.sk-parallel {display: flex;align-items: stretch;justify-content: center;background-color: white;position: relative;}#sk-container-id-1 div.sk-item::before, #sk-container-id-1 div.sk-parallel-item::before {content: \"\";position: absolute;border-left: 1px solid gray;box-sizing: border-box;top: 0;bottom: 0;left: 50%;z-index: -1;}#sk-container-id-1 div.sk-parallel-item {display: flex;flex-direction: column;z-index: 1;position: relative;background-color: white;}#sk-container-id-1 div.sk-parallel-item:first-child::after {align-self: flex-end;width: 50%;}#sk-container-id-1 div.sk-parallel-item:last-child::after {align-self: flex-start;width: 50%;}#sk-container-id-1 div.sk-parallel-item:only-child::after {width: 0;}#sk-container-id-1 div.sk-dashed-wrapped {border: 1px dashed gray;margin: 0 0.4em 0.5em 0.4em;box-sizing: border-box;padding-bottom: 0.4em;background-color: white;}#sk-container-id-1 div.sk-label label {font-family: monospace;font-weight: bold;display: inline-block;line-height: 1.2em;}#sk-container-id-1 div.sk-label-container {text-align: center;}#sk-container-id-1 div.sk-container {/* jupyter's `normalize.less` sets `[hidden] { display: none; }` but bootstrap.min.css set `[hidden] { display: none !important; }` so we also need the `!important` here to be able to override the default hidden behavior on the sphinx rendered scikit-learn.org. See: https://github.com/scikit-learn/scikit-learn/issues/21755 */display: inline-block !important;position: relative;}#sk-container-id-1 div.sk-text-repr-fallback {display: none;}</style><div id=\"sk-container-id-1\" class=\"sk-top-container\"><div class=\"sk-text-repr-fallback\"><pre>MultinomialNB()</pre><b>In a Jupyter environment, please rerun this cell to show the HTML representation or trust the notebook. <br />On GitHub, the HTML representation is unable to render, please try loading this page with nbviewer.org.</b></div><div class=\"sk-container\" hidden><div class=\"sk-item\"><div class=\"sk-estimator sk-toggleable\"><input class=\"sk-toggleable__control sk-hidden--visually\" id=\"sk-estimator-id-1\" type=\"checkbox\" checked><label for=\"sk-estimator-id-1\" class=\"sk-toggleable__label sk-toggleable__label-arrow\">MultinomialNB</label><div class=\"sk-toggleable__content\"><pre>MultinomialNB()</pre></div></div></div></div></div>"
      ],
      "text/plain": [
       "MultinomialNB()"
      ]
     },
     "execution_count": 43,
     "metadata": {},
     "output_type": "execute_result"
    }
   ],
   "source": [
    "from sklearn.naive_bayes import MultinomialNB\n",
    "from sklearn.metrics import accuracy_score, classification_report\n",
    "model = MultinomialNB()\n",
    "model.fit(X_train, y_train)"
   ]
  },
  {
   "cell_type": "code",
   "execution_count": 44,
   "metadata": {
    "execution": {
     "iopub.execute_input": "2024-04-08T07:45:30.121423Z",
     "iopub.status.busy": "2024-04-08T07:45:30.120952Z",
     "iopub.status.idle": "2024-04-08T07:45:30.137774Z",
     "shell.execute_reply": "2024-04-08T07:45:30.135716Z",
     "shell.execute_reply.started": "2024-04-08T07:45:30.121392Z"
    },
    "id": "2xuJP1VvdfUg"
   },
   "outputs": [],
   "source": [
    "y_pred = model.predict(X_test)"
   ]
  },
  {
   "cell_type": "code",
   "execution_count": 45,
   "metadata": {
    "execution": {
     "iopub.execute_input": "2024-04-08T07:45:47.140568Z",
     "iopub.status.busy": "2024-04-08T07:45:47.138901Z",
     "iopub.status.idle": "2024-04-08T07:45:47.194863Z",
     "shell.execute_reply": "2024-04-08T07:45:47.192951Z",
     "shell.execute_reply.started": "2024-04-08T07:45:47.140490Z"
    },
    "id": "P6jmBNledfXC"
   },
   "outputs": [],
   "source": [
    "accuracy = accuracy_score(y_test, y_pred)\n",
    "report = classification_report(y_test, y_pred)"
   ]
  },
  {
   "cell_type": "code",
   "execution_count": 46,
   "metadata": {
    "colab": {
     "base_uri": "https://localhost:8080/"
    },
    "execution": {
     "iopub.execute_input": "2024-04-08T07:46:00.089546Z",
     "iopub.status.busy": "2024-04-08T07:46:00.088165Z",
     "iopub.status.idle": "2024-04-08T07:46:00.099738Z",
     "shell.execute_reply": "2024-04-08T07:46:00.097215Z",
     "shell.execute_reply.started": "2024-04-08T07:46:00.089502Z"
    },
    "id": "Ni8wvIFgdfcE",
    "outputId": "4de413a7-4b2b-4074-8b56-5458ca947211"
   },
   "outputs": [
    {
     "data": {
      "text/plain": [
       "0.758490625"
      ]
     },
     "execution_count": 46,
     "metadata": {},
     "output_type": "execute_result"
    }
   ],
   "source": [
    "accuracy"
   ]
  },
  {
   "cell_type": "code",
   "execution_count": 47,
   "metadata": {
    "execution": {
     "iopub.execute_input": "2024-04-08T07:46:30.804193Z",
     "iopub.status.busy": "2024-04-08T07:46:30.803091Z",
     "iopub.status.idle": "2024-04-08T07:46:30.810031Z",
     "shell.execute_reply": "2024-04-08T07:46:30.808557Z",
     "shell.execute_reply.started": "2024-04-08T07:46:30.804143Z"
    },
    "id": "j9y8bjKJdfec"
   },
   "outputs": [],
   "source": [
    "### Prediction support"
   ]
  },
  {
   "cell_type": "code",
   "execution_count": 48,
   "metadata": {
    "execution": {
     "iopub.execute_input": "2024-04-08T07:49:14.264637Z",
     "iopub.status.busy": "2024-04-08T07:49:14.264165Z",
     "iopub.status.idle": "2024-04-08T07:49:14.272391Z",
     "shell.execute_reply": "2024-04-08T07:49:14.270544Z",
     "shell.execute_reply.started": "2024-04-08T07:49:14.264606Z"
    },
    "id": "OR92ob0-eCuO"
   },
   "outputs": [],
   "source": [
    "def predict_sentiment(sentence, model, feature_names):\n",
    "    cleaned_sentence = clean_text(sentence) # clear sentence\n",
    "    sentence_vectorized = feature_names.transform([cleaned_sentence]).toarray() # vectorize the sentence\n",
    "    prediction = model.predict(sentence_vectorized) # to predict with use model\n",
    "    return prediction"
   ]
  },
  {
   "cell_type": "markdown",
   "metadata": {
    "id": "F68ibIm7eCuP"
   },
   "source": [
    "### Performance matrix"
   ]
  },
  {
   "cell_type": "code",
   "execution_count": 49,
   "metadata": {
    "colab": {
     "base_uri": "https://localhost:8080/",
     "height": 703
    },
    "execution": {
     "iopub.execute_input": "2024-04-08T07:54:08.631372Z",
     "iopub.status.busy": "2024-04-08T07:54:08.630863Z",
     "iopub.status.idle": "2024-04-08T07:54:08.832294Z",
     "shell.execute_reply": "2024-04-08T07:54:08.830991Z",
     "shell.execute_reply.started": "2024-04-08T07:54:08.631338Z"
    },
    "id": "d07UaXmcdflp",
    "outputId": "7509037f-380e-404c-f32b-2bfdafb0a3c3"
   },
   "outputs": [
    {
     "data": {
      "image/png": "[encoded data removed]",
      "text/plain": [
       "<Figure size 800x600 with 1 Axes>"
      ]
     },
     "metadata": {},
     "output_type": "display_data"
    },
    {
     "name": "stdout",
     "output_type": "stream",
     "text": [
      "Accuracy: 0.758490625\n",
      "              precision    recall  f1-score   support\n",
      "\n",
      "           0       0.74      0.79      0.77    160155\n",
      "           1       0.78      0.73      0.75    159845\n",
      "\n",
      "    accuracy                           0.76    320000\n",
      "   macro avg       0.76      0.76      0.76    320000\n",
      "weighted avg       0.76      0.76      0.76    320000\n",
      "\n"
     ]
    }
   ],
   "source": [
    "# Model performansını görselleştirme\n",
    "conf_matrix = confusion_matrix(y_test, y_pred)\n",
    "plt.figure(figsize=(8, 6))\n",
    "sns.heatmap(conf_matrix, annot=True, fmt='d', cmap='Blues', cbar=False)\n",
    "\n",
    "plt.show()\n",
    "\n",
    "print(\"Accuracy:\", accuracy)\n",
    "\n",
    "print(report)"
   ]
  },
  {
   "cell_type": "markdown",
   "metadata": {
    "id": "MdLokWoczWGe"
   },
   "source": [
    "### Bernouli NB model"
   ]
  },
  {
   "cell_type": "code",
   "execution_count": 50,
   "metadata": {
    "id": "zN3TcA5Q0GgL"
   },
   "outputs": [],
   "source": [
    "from sklearn.naive_bayes import BernoulliNB"
   ]
  },
  {
   "cell_type": "code",
   "execution_count": 52,
   "metadata": {
    "colab": {
     "base_uri": "https://localhost:8080/",
     "height": 74
    },
    "id": "XQh568YvFXiq",
    "outputId": "c010957b-341b-4c77-a762-687ada324704"
   },
   "outputs": [
    {
     "data": {
      "text/html": [
       "<style>#sk-container-id-2 {color: black;background-color: white;}#sk-container-id-2 pre{padding: 0;}#sk-container-id-2 div.sk-toggleable {background-color: white;}#sk-container-id-2 label.sk-toggleable__label {cursor: pointer;display: block;width: 100%;margin-bottom: 0;padding: 0.3em;box-sizing: border-box;text-align: center;}#sk-container-id-2 label.sk-toggleable__label-arrow:before {content: \"▸\";float: left;margin-right: 0.25em;color: #696969;}#sk-container-id-2 label.sk-toggleable__label-arrow:hover:before {color: black;}#sk-container-id-2 div.sk-estimator:hover label.sk-toggleable__label-arrow:before {color: black;}#sk-container-id-2 div.sk-toggleable__content {max-height: 0;max-width: 0;overflow: hidden;text-align: left;background-color: #f0f8ff;}#sk-container-id-2 div.sk-toggleable__content pre {margin: 0.2em;color: black;border-radius: 0.25em;background-color: #f0f8ff;}#sk-container-id-2 input.sk-toggleable__control:checked~div.sk-toggleable__content {max-height: 200px;max-width: 100%;overflow: auto;}#sk-container-id-2 input.sk-toggleable__control:checked~label.sk-toggleable__label-arrow:before {content: \"▾\";}#sk-container-id-2 div.sk-estimator input.sk-toggleable__control:checked~label.sk-toggleable__label {background-color: #d4ebff;}#sk-container-id-2 div.sk-label input.sk-toggleable__control:checked~label.sk-toggleable__label {background-color: #d4ebff;}#sk-container-id-2 input.sk-hidden--visually {border: 0;clip: rect(1px 1px 1px 1px);clip: rect(1px, 1px, 1px, 1px);height: 1px;margin: -1px;overflow: hidden;padding: 0;position: absolute;width: 1px;}#sk-container-id-2 div.sk-estimator {font-family: monospace;background-color: #f0f8ff;border: 1px dotted black;border-radius: 0.25em;box-sizing: border-box;margin-bottom: 0.5em;}#sk-container-id-2 div.sk-estimator:hover {background-color: #d4ebff;}#sk-container-id-2 div.sk-parallel-item::after {content: \"\";width: 100%;border-bottom: 1px solid gray;flex-grow: 1;}#sk-container-id-2 div.sk-label:hover label.sk-toggleable__label {background-color: #d4ebff;}#sk-container-id-2 div.sk-serial::before {content: \"\";position: absolute;border-left: 1px solid gray;box-sizing: border-box;top: 0;bottom: 0;left: 50%;z-index: 0;}#sk-container-id-2 div.sk-serial {display: flex;flex-direction: column;align-items: center;background-color: white;padding-right: 0.2em;padding-left: 0.2em;position: relative;}#sk-container-id-2 div.sk-item {position: relative;z-index: 1;}#sk-container-id-2 div.sk-parallel {display: flex;align-items: stretch;justify-content: center;background-color: white;position: relative;}#sk-container-id-2 div.sk-item::before, #sk-container-id-2 div.sk-parallel-item::before {content: \"\";position: absolute;border-left: 1px solid gray;box-sizing: border-box;top: 0;bottom: 0;left: 50%;z-index: -1;}#sk-container-id-2 div.sk-parallel-item {display: flex;flex-direction: column;z-index: 1;position: relative;background-color: white;}#sk-container-id-2 div.sk-parallel-item:first-child::after {align-self: flex-end;width: 50%;}#sk-container-id-2 div.sk-parallel-item:last-child::after {align-self: flex-start;width: 50%;}#sk-container-id-2 div.sk-parallel-item:only-child::after {width: 0;}#sk-container-id-2 div.sk-dashed-wrapped {border: 1px dashed gray;margin: 0 0.4em 0.5em 0.4em;box-sizing: border-box;padding-bottom: 0.4em;background-color: white;}#sk-container-id-2 div.sk-label label {font-family: monospace;font-weight: bold;display: inline-block;line-height: 1.2em;}#sk-container-id-2 div.sk-label-container {text-align: center;}#sk-container-id-2 div.sk-container {/* jupyter's `normalize.less` sets `[hidden] { display: none; }` but bootstrap.min.css set `[hidden] { display: none !important; }` so we also need the `!important` here to be able to override the default hidden behavior on the sphinx rendered scikit-learn.org. See: https://github.com/scikit-learn/scikit-learn/issues/21755 */display: inline-block !important;position: relative;}#sk-container-id-2 div.sk-text-repr-fallback {display: none;}</style><div id=\"sk-container-id-2\" class=\"sk-top-container\"><div class=\"sk-text-repr-fallback\"><pre>BernoulliNB(alpha=2)</pre><b>In a Jupyter environment, please rerun this cell to show the HTML representation or trust the notebook. <br />On GitHub, the HTML representation is unable to render, please try loading this page with nbviewer.org.</b></div><div class=\"sk-container\" hidden><div class=\"sk-item\"><div class=\"sk-estimator sk-toggleable\"><input class=\"sk-toggleable__control sk-hidden--visually\" id=\"sk-estimator-id-2\" type=\"checkbox\" checked><label for=\"sk-estimator-id-2\" class=\"sk-toggleable__label sk-toggleable__label-arrow\">BernoulliNB</label><div class=\"sk-toggleable__content\"><pre>BernoulliNB(alpha=2)</pre></div></div></div></div></div>"
      ],
      "text/plain": [
       "BernoulliNB(alpha=2)"
      ]
     },
     "execution_count": 52,
     "metadata": {},
     "output_type": "execute_result"
    }
   ],
   "source": [
    "BNBmodel = BernoulliNB(alpha=2)\n",
    "BNBmodel.fit(X_train, y_train)\n"
   ]
  },
  {
   "cell_type": "code",
   "execution_count": 53,
   "metadata": {
    "id": "2eIf-s9m0FPF"
   },
   "outputs": [],
   "source": [
    "y_pred = model.predict(X_test)"
   ]
  },
  {
   "cell_type": "code",
   "execution_count": 54,
   "metadata": {
    "id": "-6ex7ADFEYuB"
   },
   "outputs": [],
   "source": [
    "accuracy = accuracy_score(y_test, y_pred)\n",
    "report = classification_report(y_test, y_pred)"
   ]
  },
  {
   "cell_type": "code",
   "execution_count": 55,
   "metadata": {
    "colab": {
     "base_uri": "https://localhost:8080/"
    },
    "id": "KfT7yPITEYxT",
    "outputId": "9b8633f7-5a48-4d15-b332-faee3f933ef0"
   },
   "outputs": [
    {
     "data": {
      "text/plain": [
       "0.758490625"
      ]
     },
     "execution_count": 55,
     "metadata": {},
     "output_type": "execute_result"
    }
   ],
   "source": [
    "accuracy"
   ]
  },
  {
   "cell_type": "code",
   "execution_count": null,
   "metadata": {
    "id": "H75d_r6zEYzS"
   },
   "outputs": [],
   "source": [
    "### Prediction support"
   ]
  },
  {
   "cell_type": "code",
   "execution_count": 56,
   "metadata": {
    "id": "MguURPIqEY2B"
   },
   "outputs": [],
   "source": [
    "def predict_sentiment(sentence, model, feature_names):\n",
    "    cleaned_sentence = clean_text(sentence) # clear sentence\n",
    "    sentence_vectorized = feature_names.transform([cleaned_sentence]).toarray() # vectorize the sentence\n",
    "    prediction = model.predict(sentence_vectorized) # to predict with use model\n",
    "    return prediction"
   ]
  },
  {
   "cell_type": "markdown",
   "metadata": {
    "id": "Dq7VVN1O2e_D"
   },
   "source": [
    "### Performance matrix"
   ]
  },
  {
   "cell_type": "code",
   "execution_count": 62,
   "metadata": {
    "colab": {
     "base_uri": "https://localhost:8080/",
     "height": 703
    },
    "id": "NpkmTdKgEY8R",
    "outputId": "fad3a3ed-90d6-4617-c396-8a489c4306dd"
   },
   "outputs": [
    {
     "data": {
      "image/png": "[encoded data removed]",
      "text/plain": [
       "<Figure size 800x600 with 1 Axes>"
      ]
     },
     "metadata": {},
     "output_type": "display_data"
    },
    {
     "name": "stdout",
     "output_type": "stream",
     "text": [
      "Accuracy: 0.758490625\n",
      "              precision    recall  f1-score   support\n",
      "\n",
      "           0       0.74      0.79      0.77    160155\n",
      "           1       0.78      0.73      0.75    159845\n",
      "\n",
      "    accuracy                           0.76    320000\n",
      "   macro avg       0.76      0.76      0.76    320000\n",
      "weighted avg       0.76      0.76      0.76    320000\n",
      "\n"
     ]
    }
   ],
   "source": [
    "# Model performansını görselleştirme\n",
    "conf_matrix = confusion_matrix(y_test, y_pred)\n",
    "plt.figure(figsize=(8, 6))\n",
    "sns.heatmap(conf_matrix, annot=True, fmt='d', cmap='Blues', cbar=False)\n",
    "\n",
    "plt.show()\n",
    "\n",
    "print(\"Accuracy:\", accuracy)\n",
    "\n",
    "print(report)"
   ]
  },
  {
   "cell_type": "code",
   "execution_count": 63,
   "metadata": {
    "id": "PUF2rPUJEZAR"
   },
   "outputs": [],
   "source": [
    "from sklearn.linear_model import LogisticRegression\n"
   ]
  },
  {
   "cell_type": "code",
   "execution_count": 65,
   "metadata": {
    "colab": {
     "base_uri": "https://localhost:8080/",
     "height": 219
    },
    "id": "PWNX8OXK4Bzl",
    "outputId": "3ff3c53b-de94-4f06-b95c-20cc3f82b3e9"
   },
   "outputs": [
    {
     "name": "stderr",
     "output_type": "stream",
     "text": [
      "/usr/local/lib/python3.10/dist-packages/sklearn/linear_model/_logistic.py:458: ConvergenceWarning: lbfgs failed to converge (status=1):\n",
      "STOP: TOTAL NO. of ITERATIONS REACHED LIMIT.\n",
      "\n",
      "Increase the number of iterations (max_iter) or scale the data as shown in:\n",
      "    https://scikit-learn.org/stable/modules/preprocessing.html\n",
      "Please also refer to the documentation for alternative solver options:\n",
      "    https://scikit-learn.org/stable/modules/linear_model.html#logistic-regression\n",
      "  n_iter_i = _check_optimize_result(\n"
     ]
    },
    {
     "data": {
      "text/html": [
       "<style>#sk-container-id-3 {color: black;background-color: white;}#sk-container-id-3 pre{padding: 0;}#sk-container-id-3 div.sk-toggleable {background-color: white;}#sk-container-id-3 label.sk-toggleable__label {cursor: pointer;display: block;width: 100%;margin-bottom: 0;padding: 0.3em;box-sizing: border-box;text-align: center;}#sk-container-id-3 label.sk-toggleable__label-arrow:before {content: \"▸\";float: left;margin-right: 0.25em;color: #696969;}#sk-container-id-3 label.sk-toggleable__label-arrow:hover:before {color: black;}#sk-container-id-3 div.sk-estimator:hover label.sk-toggleable__label-arrow:before {color: black;}#sk-container-id-3 div.sk-toggleable__content {max-height: 0;max-width: 0;overflow: hidden;text-align: left;background-color: #f0f8ff;}#sk-container-id-3 div.sk-toggleable__content pre {margin: 0.2em;color: black;border-radius: 0.25em;background-color: #f0f8ff;}#sk-container-id-3 input.sk-toggleable__control:checked~div.sk-toggleable__content {max-height: 200px;max-width: 100%;overflow: auto;}#sk-container-id-3 input.sk-toggleable__control:checked~label.sk-toggleable__label-arrow:before {content: \"▾\";}#sk-container-id-3 div.sk-estimator input.sk-toggleable__control:checked~label.sk-toggleable__label {background-color: #d4ebff;}#sk-container-id-3 div.sk-label input.sk-toggleable__control:checked~label.sk-toggleable__label {background-color: #d4ebff;}#sk-container-id-3 input.sk-hidden--visually {border: 0;clip: rect(1px 1px 1px 1px);clip: rect(1px, 1px, 1px, 1px);height: 1px;margin: -1px;overflow: hidden;padding: 0;position: absolute;width: 1px;}#sk-container-id-3 div.sk-estimator {font-family: monospace;background-color: #f0f8ff;border: 1px dotted black;border-radius: 0.25em;box-sizing: border-box;margin-bottom: 0.5em;}#sk-container-id-3 div.sk-estimator:hover {background-color: #d4ebff;}#sk-container-id-3 div.sk-parallel-item::after {content: \"\";width: 100%;border-bottom: 1px solid gray;flex-grow: 1;}#sk-container-id-3 div.sk-label:hover label.sk-toggleable__label {background-color: #d4ebff;}#sk-container-id-3 div.sk-serial::before {content: \"\";position: absolute;border-left: 1px solid gray;box-sizing: border-box;top: 0;bottom: 0;left: 50%;z-index: 0;}#sk-container-id-3 div.sk-serial {display: flex;flex-direction: column;align-items: center;background-color: white;padding-right: 0.2em;padding-left: 0.2em;position: relative;}#sk-container-id-3 div.sk-item {position: relative;z-index: 1;}#sk-container-id-3 div.sk-parallel {display: flex;align-items: stretch;justify-content: center;background-color: white;position: relative;}#sk-container-id-3 div.sk-item::before, #sk-container-id-3 div.sk-parallel-item::before {content: \"\";position: absolute;border-left: 1px solid gray;box-sizing: border-box;top: 0;bottom: 0;left: 50%;z-index: -1;}#sk-container-id-3 div.sk-parallel-item {display: flex;flex-direction: column;z-index: 1;position: relative;background-color: white;}#sk-container-id-3 div.sk-parallel-item:first-child::after {align-self: flex-end;width: 50%;}#sk-container-id-3 div.sk-parallel-item:last-child::after {align-self: flex-start;width: 50%;}#sk-container-id-3 div.sk-parallel-item:only-child::after {width: 0;}#sk-container-id-3 div.sk-dashed-wrapped {border: 1px dashed gray;margin: 0 0.4em 0.5em 0.4em;box-sizing: border-box;padding-bottom: 0.4em;background-color: white;}#sk-container-id-3 div.sk-label label {font-family: monospace;font-weight: bold;display: inline-block;line-height: 1.2em;}#sk-container-id-3 div.sk-label-container {text-align: center;}#sk-container-id-3 div.sk-container {/* jupyter's `normalize.less` sets `[hidden] { display: none; }` but bootstrap.min.css set `[hidden] { display: none !important; }` so we also need the `!important` here to be able to override the default hidden behavior on the sphinx rendered scikit-learn.org. See: https://github.com/scikit-learn/scikit-learn/issues/21755 */display: inline-block !important;position: relative;}#sk-container-id-3 div.sk-text-repr-fallback {display: none;}</style><div id=\"sk-container-id-3\" class=\"sk-top-container\"><div class=\"sk-text-repr-fallback\"><pre>LogisticRegression()</pre><b>In a Jupyter environment, please rerun this cell to show the HTML representation or trust the notebook. <br />On GitHub, the HTML representation is unable to render, please try loading this page with nbviewer.org.</b></div><div class=\"sk-container\" hidden><div class=\"sk-item\"><div class=\"sk-estimator sk-toggleable\"><input class=\"sk-toggleable__control sk-hidden--visually\" id=\"sk-estimator-id-3\" type=\"checkbox\" checked><label for=\"sk-estimator-id-3\" class=\"sk-toggleable__label sk-toggleable__label-arrow\">LogisticRegression</label><div class=\"sk-toggleable__content\"><pre>LogisticRegression()</pre></div></div></div></div></div>"
      ],
      "text/plain": [
       "LogisticRegression()"
      ]
     },
     "execution_count": 65,
     "metadata": {},
     "output_type": "execute_result"
    }
   ],
   "source": [
    "from sklearn.linear_model import LogisticRegression\n",
    "classifier = LogisticRegression()\n",
    "classifier.fit(X_train, y_train)"
   ]
  },
  {
   "cell_type": "code",
   "execution_count": 68,
   "metadata": {
    "colab": {
     "base_uri": "https://localhost:8080/"
    },
    "id": "7FdGdKIN4Wps",
    "outputId": "12c6b93a-2fd4-4128-ae8f-78564a2180fc"
   },
   "outputs": [
    {
     "name": "stdout",
     "output_type": "stream",
     "text": [
      "Training Set Accuracy :  0.811840625\n",
      "Testing Set Accuracy  :  0.781134375\n"
     ]
    }
   ],
   "source": [
    "pred_train = classifier.predict(X_train)\n",
    "pred_test  = classifier.predict(X_test)\n",
    "\n",
    "print('Training Set Accuracy : ', accuracy_score(y_train, pred_train))\n",
    "print('Testing Set Accuracy  : ', accuracy_score(y_test, pred_test))"
   ]
  },
  {
   "cell_type": "code",
   "execution_count": 70,
   "metadata": {
    "colab": {
     "base_uri": "https://localhost:8080/"
    },
    "id": "qfKbyhRF4BBc",
    "outputId": "2ff7024f-d269-482e-eda5-e538c1f3d991"
   },
   "outputs": [
    {
     "data": {
      "text/plain": [
       "array([1, 0, 0, 1, 1, 0, 1, 1, 0, 0])"
      ]
     },
     "execution_count": 70,
     "metadata": {},
     "output_type": "execute_result"
    }
   ],
   "source": [
    "classifier.predict(X_test[:10])"
   ]
  },
  {
   "cell_type": "code",
   "execution_count": 71,
   "metadata": {
    "id": "AseM3BtCrz-U"
   },
   "outputs": [],
   "source": [
    "def predict_sentiment(x):\n",
    "    preds = classifier.predict(x)\n",
    "    for pred in preds:\n",
    "        if pred == 0:\n",
    "            print('Negative')\n",
    "        else:\n",
    "            print('Positive')"
   ]
  },
  {
   "cell_type": "code",
   "execution_count": 72,
   "metadata": {
    "colab": {
     "base_uri": "https://localhost:8080/"
    },
    "id": "RzUTANXQ49n2",
    "outputId": "9f1dc1cb-3897-4006-dc34-7e4a5090b159"
   },
   "outputs": [
    {
     "data": {
      "text/plain": [
       "1400766    1\n",
       "1314839    1\n",
       "641042     0\n",
       "1032019    1\n",
       "131150     0\n",
       "136447     0\n",
       "330382     0\n",
       "1043688    1\n",
       "55691      0\n",
       "528120     0\n",
       "Name: target, dtype: int64"
      ]
     },
     "execution_count": 72,
     "metadata": {},
     "output_type": "execute_result"
    }
   ],
   "source": [
    "y_test[:10]"
   ]
  },
  {
   "cell_type": "code",
   "execution_count": 73,
   "metadata": {
    "colab": {
     "base_uri": "https://localhost:8080/"
    },
    "id": "OevzWqSP5BnC",
    "outputId": "d4aac6ed-01fa-4f21-fafb-bd6eeddf73ba"
   },
   "outputs": [
    {
     "name": "stdout",
     "output_type": "stream",
     "text": [
      "Positive\n",
      "Negative\n",
      "Negative\n",
      "Positive\n",
      "Positive\n",
      "Negative\n",
      "Positive\n",
      "Positive\n",
      "Negative\n",
      "Negative\n"
     ]
    }
   ],
   "source": [
    "predict_sentiment(X_test[:10])"
   ]
  },
  {
   "cell_type": "markdown",
   "metadata": {
    "id": "2lJloJPX8Ecu"
   },
   "source": [
    "In this model Logistic regression performs better than multinomialNB, BernouliNB .\n",
    "**Logistic regression**\n",
    "Training Set Accuracy :  0.811840625\n",
    "Testing Set Accuracy  :  0.781134375"
   ]
  },
  {
   "cell_type": "markdown",
   "metadata": {},
   "source": [
    "Based on the results obtained from the Twitter sentiment analysis model, the following summary can be derived:\n",
    "\n",
    "1. **Model Performance Comparison**: The performance of three different classifiers, namely Logistic Regression, Multinomial Naive Bayes (MultinomialNB), and Bernoulli Naive Bayes (BernoulliNB), was evaluated. Among these classifiers, Logistic Regression achieved the highest accuracy on both the training and testing datasets.\n",
    "\n",
    "2. **Logistic Regression Performance**: Logistic Regression exhibited superior performance compared to the other classifiers. It achieved a training set accuracy of approximately 81.18% and a testing set accuracy of about 78.11%.\n",
    "\n",
    "3. **Training vs. Testing Accuracy**: The model's performance on the training set (81.18% accuracy) is slightly higher than its performance on the testing set (78.11% accuracy). This indicates that the model may have slightly overfitted to the training data, as its performance slightly decreased when evaluated on unseen data. However, the drop in accuracy is relatively small, suggesting that the model generalizes well to unseen Twitter data.\n",
    "\n",
    "4. **Implications**: The results suggest that Logistic Regression is a suitable classifier for sentiment analysis tasks on Twitter data, outperforming MultinomialNB and BernoulliNB. This information can be valuable for sentiment analysis applications, such as monitoring public opinion, customer feedback analysis, or brand sentiment tracking on social media platforms like Twitter.\n",
    "\n",
    "5. **Further Investigation**: While Logistic Regression demonstrated the best performance in this evaluation, further investigation into feature engineering, hyperparameter tuning, and model optimization techniques could potentially enhance the performance of all classifiers. Additionally, exploring ensemble methods or deep learning approaches may also yield improved results for Twitter sentiment analysis tasks."
   ]
  },
  {
   "cell_type": "code",
   "execution_count": null,
   "metadata": {},
   "outputs": [],
   "source": []
  }
 ],
 "metadata": {
  "accelerator": "GPU",
  "colab": {
   "gpuType": "T4",
   "provenance": []
  },
  "kaggle": {
   "accelerator": "none",
   "dataSources": [
    {
     "datasetId": 4754343,
     "sourceId": 8060154,
     "sourceType": "datasetVersion"
    }
   ],
   "dockerImageVersionId": 30673,
   "isGpuEnabled": false,
   "isInternetEnabled": true,
   "language": "python",
   "sourceType": "notebook"
  },
  "kernelspec": {
   "display_name": "Python 3 (ipykernel)",
   "language": "python",
   "name": "python3"
  },
  "language_info": {
   "codemirror_mode": {
    "name": "ipython",
    "version": 3
   },
   "file_extension": ".py",
   "mimetype": "text/x-python",
   "name": "python",
   "nbconvert_exporter": "python",
   "pygments_lexer": "ipython3",
   "version": "3.11.4"
  }
 },
 "nbformat": 4,
 "nbformat_minor": 1
}
