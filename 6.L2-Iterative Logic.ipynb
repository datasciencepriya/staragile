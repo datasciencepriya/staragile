{
 "cells": [
  {
   "cell_type": "markdown",
   "id": "b462dadb",
   "metadata": {
    "id": "b462dadb"
   },
   "source": [
    "# Iterative Statements\n",
    "- Write solution of each question in the cell given below the corresponsing question."
   ]
  },
  {
   "cell_type": "markdown",
   "id": "f5aefe41",
   "metadata": {
    "id": "f5aefe41"
   },
   "source": [
    "#### 1. Tom and Bob are playing a game of dice. Each time a multiple of two comes up Tom gets a point and if a multiple of 3 comes up bob gets a point. If a multiple of both comes up then a point is deducted from both. Write a program to take a list as input consisting of 10 outcomes of the dice throw. Print the scores of both Tom and bob and the winner."
   ]
  },
  {
   "cell_type": "code",
   "execution_count": 15,
   "id": "WzFaY9Pk53Pl",
   "metadata": {
    "id": "WzFaY9Pk53Pl"
   },
   "outputs": [
    {
     "name": "stdout",
     "output_type": "stream",
     "text": [
      "Enter the Input :2 2 2 2 2 3 3 3 3 3\n",
      "total tom points: 5\n",
      "total bob points: 5\n",
      "both are winners\n"
     ]
    }
   ],
   "source": [
    "\n",
    "#take the outcomes as list of possiblities\n",
    "outcomes = list(map(int,input('Enter the Input :').split()))\n",
    "#initialize tom ,bob points to 0\n",
    "tompoints = 0\n",
    "bobpoints = 0\n",
    "#start iteration in the outcomes\n",
    "for i in outcomes:\n",
    "# check whether the outcome is divisible by 2 or 3\n",
    "    if i % 2 == 0 and i % 3 ==0:\n",
    "#if  outcome divisible by 2 and 3 then deduct one point from tom and bob\n",
    "         tompoints -= 1\n",
    "         bobpoints -= 1\n",
    "# outcome is divisible by 2  \n",
    "    elif i % 2 == 0:\n",
    "        tompoints += 1  \n",
    "#outcome is divisible by 3\n",
    "    elif i % 3 == 0:\n",
    "         bobpoints += 1\n",
    "#print tom and bob points\n",
    "else:\n",
    "    print('total tom points:', tompoints )\n",
    "    print('total bob points:', bobpoints )\n",
    "#print the winner by comparingng the tom and bob ponits\n",
    "if tompoints > bobpoints:\n",
    "        print('The winner is Tom')\n",
    "elif tompoints < bobpoints:\n",
    "        print ('The winner is Bob')\n",
    "else:\n",
    "    print('both are winners')\n",
    "\n",
    "# outcomes are 2 3 4 5 6 5 4 3 6 \n",
    "# first 6 6 two outcomes are multiple of 3&2 so tom and bob gets -2 pts each ,tom =-2,bob=-2\n",
    "# tom gets point for mul of 2 : 2 4 4 : 3-2 =1\n",
    "# bob gets points for mul of 3: 3 3   : 2-2 =0\n"
   ]
  },
  {
   "cell_type": "markdown",
   "id": "57ec6a53",
   "metadata": {
    "id": "57ec6a53"
   },
   "source": [
    "##### 2. Write a program to take a list of 10 numbers as input in single line and find out the largest element."
   ]
  },
  {
   "cell_type": "code",
   "execution_count": 2,
   "id": "scLsG4fkSyUu",
   "metadata": {
    "id": "scLsG4fkSyUu"
   },
   "outputs": [
    {
     "name": "stdout",
     "output_type": "stream",
     "text": [
      "Enter 10 numbers separated by spaces: 22 90 66 88 91 13 4 103 800 230\n",
      "the largest element is: 800\n"
     ]
    }
   ],
   "source": [
    "# get the input 10 number as input\n",
    "input_numbers = input(\"Enter 10 numbers separated by spaces: \")\n",
    "# int(x) will convert each number from string to integer\n",
    "numbers = [int(x) for x in input_numbers.split()]\n",
    "# initialise largest  array as 0\n",
    "largest = numbers[0]  \n",
    "# start iteration check whether the number present in the numbers list\n",
    "for num in numbers:\n",
    "# check whether the number is larger than the numbers [i]\n",
    "    if num > largest:\n",
    "# assign the largest value to num\n",
    "        largest = num  \n",
    "# print the largest element\n",
    "print('the largest element is: {}'.format(largest))"
   ]
  },
  {
   "cell_type": "markdown",
   "id": "ee2cce37",
   "metadata": {
    "id": "ee2cce37"
   },
   "source": [
    "#### 3. Write a program to take a number as input and find out whether it is prime or not."
   ]
  },
  {
   "cell_type": "code",
   "execution_count": 3,
   "id": "td2eirqTZCiE",
   "metadata": {
    "id": "td2eirqTZCiE"
   },
   "outputs": [
    {
     "name": "stdout",
     "output_type": "stream",
     "text": [
      "Enter the number : 23\n",
      "The number is prime\n"
     ]
    }
   ],
   "source": [
    "# Take a number as input and check whether it is prime or not  (solution 3)\n",
    "num = int(input('Enter the number : '))\n",
    "# check the number is greater than 2\n",
    "if num < 2:\n",
    "    print('The number is not prime')\n",
    "\n",
    "else:\n",
    "# To check the each no in range  by square root of that number plus 1 to get the factors of no without repeatation of factor\n",
    "    for i in range(2,int(num**0.5)+1):\n",
    "# if the no completly divisible by other nos its not a prime\n",
    "        if num % i == 0:\n",
    "            \n",
    "            print('The number is not prime')\n",
    "  #else its prime          break\n",
    "    else:\n",
    "        print('The number is prime')"
   ]
  },
  {
   "cell_type": "markdown",
   "id": "07d5a484",
   "metadata": {
    "id": "07d5a484"
   },
   "source": [
    "#### 4. Take a list and a number as input, print all consecutive pairs of two numbers from the list having sum equal to the given number."
   ]
  },
  {
   "cell_type": "code",
   "execution_count": 6,
   "id": "e3acd75f",
   "metadata": {
    "id": "e3acd75f"
   },
   "outputs": [
    {
     "name": "stdout",
     "output_type": "stream",
     "text": [
      "Enter the number :12\n",
      "The pair is 7 5\n"
     ]
    }
   ],
   "source": [
    "# nums in given list \n",
    "nums =[2,3,1,5,6,4,7,8,9,6,7,5,4,3,2,4,5,6,7,1,5]\n",
    "#get input to check whether the x is in the list\n",
    "x = int(input ('Enter the number :'))\n",
    "# start iteration from the length of numbver list - 1 \n",
    "for i in range(len(nums)-1):\n",
    "# check whether the consecutive value is available \n",
    "    if x == nums[i] +nums[i+1]:\n",
    "    \n",
    "# print the pair\n",
    "    \n",
    "        print('The pair is',nums[i],nums[i+1])\n",
    "        break\n"
   ]
  },
  {
   "cell_type": "code",
   "execution_count": 1,
   "id": "34f7dd83",
   "metadata": {},
   "outputs": [
    {
     "name": "stdout",
     "output_type": "stream",
     "text": [
      "Enter the number :12\n",
      "The pair is 7 5\n"
     ]
    }
   ],
   "source": [
    "# nums in given list \n",
    "nums =[2,3,1,5,6,4,7,8,9,6,7,5,4,3,2,4,5,6,7,1,5]\n",
    "#get input to check whether the x is in the list\n",
    "x = int(input ('Enter the number :'))\n",
    "# start iteration from the length of numbver list - 1 \n",
    "for i in range(len(nums)-1):\n",
    "# check whether the consecutive value is available \n",
    "    if x == nums[i] +nums[i+1]:\n",
    "    \n",
    "# print the pair\n",
    "    \n",
    "        print('The pair is',nums[i],nums[i+1])\n",
    "        \n"
   ]
  },
  {
   "cell_type": "markdown",
   "id": "d2bc68d1",
   "metadata": {
    "id": "d2bc68d1"
   },
   "source": [
    "#### 5. Take a string as input and find out the number of words with even length and number of words with odd length."
   ]
  },
  {
   "cell_type": "code",
   "execution_count": 2,
   "id": "P1HffxgLZk6C",
   "metadata": {
    "id": "P1HffxgLZk6C"
   },
   "outputs": [
    {
     "name": "stdout",
     "output_type": "stream",
     "text": [
      "Enter a string: hai priya how are you\n",
      "Number of words with even length: 0\n",
      "Number of words with odd length: 5\n"
     ]
    }
   ],
   "source": [
    "inputstring = input(\"Enter a string: \")\n",
    "words = inputstring.split()\n",
    "evenword = 0\n",
    "oddword = 0\n",
    "for word in words:\n",
    "    wordlength = len(word)\n",
    "    if wordlength % 2 == 0:\n",
    "        evenword += 1\n",
    "    else:\n",
    "        oddword += 1\n",
    "else:\n",
    "    print(\"Number of words with even length:\", evenword)\n",
    "    print(\"Number of words with odd length:\", oddword)\n"
   ]
  },
  {
   "cell_type": "markdown",
   "id": "41da36a0",
   "metadata": {
    "id": "41da36a0"
   },
   "source": []
  },
  {
   "cell_type": "markdown",
   "id": "9bc04f36",
   "metadata": {
    "id": "9bc04f36"
   },
   "source": [
    "#### 6. Write a program to sort a given list using selection sort algorithm. (study selection sort and implement)"
   ]
  },
  {
   "cell_type": "code",
   "execution_count": 17,
   "id": "3abb8c1e",
   "metadata": {
    "id": "3abb8c1e"
   },
   "outputs": [
    {
     "name": "stdout",
     "output_type": "stream",
     "text": [
      "Selection sort list is :\n",
      "2 12 26 53 71 88 "
     ]
    }
   ],
   "source": [
    "# getting the input\n",
    "numbers = [88,53,71,26,2,12]\n",
    "# start iteration till the length of numbers\n",
    "for i in range(len(numbers)):\n",
    "# initialise the minimum value\n",
    "    minimumvalue = i\n",
    "# inner loop range start from i +1 to length of numbers\n",
    "    for j in range(i+1, len(numbers)):\n",
    "#compare each value with minimum value index if assigned min value greater then assign the new min value as minimum value continue this loop\n",
    "        if numbers[minimumvalue] > numbers[j]:\n",
    "            minimumvalue = j\n",
    "            \n",
    "            \n",
    "#swap number of index value with number of minimum value till the legth of the given list           \n",
    "    numbers[i], numbers[minimumvalue] = numbers[minimumvalue], numbers[i]\n",
    " \n",
    "#print sorted list  in the range of length of numbers\n",
    "print (\"Selection sort list is :\")\n",
    "for i in range(len(numbers)):\n",
    "    print(numbers[i],end=' ') \n"
   ]
  },
  {
   "cell_type": "code",
   "execution_count": 4,
   "id": "2436b5ac",
   "metadata": {},
   "outputs": [
    {
     "name": "stdout",
     "output_type": "stream",
     "text": [
      "After sorting:  [50, 40, 30, 20, 10]\n"
     ]
    }
   ],
   "source": [
    "numbers = [30,50,10,20,40]\n",
    "for i in range(len(numbers)):\n",
    "    for j in range(i+1,len(numbers)):\n",
    "        if numbers[j] >numbers[i]:\n",
    "            numbers[i],numbers[j] = numbers[j], numbers[i]\n",
    "    \n",
    "print('After sorting: ',numbers)\n"
   ]
  },
  {
   "cell_type": "markdown",
   "id": "d2cf1bab",
   "metadata": {
    "id": "d2cf1bab"
   },
   "source": [
    "#### 7. Write a program to sort a given list using bubble sort algorithm. (Study bubble sort and implement)"
   ]
  },
  {
   "cell_type": "code",
   "execution_count": 16,
   "id": "ec5d0f67",
   "metadata": {},
   "outputs": [
    {
     "name": "stdout",
     "output_type": "stream",
     "text": [
      "[88, 12, 44, 4, 93]\n",
      "[12, 44, 4, 88, 93]\n",
      "[12, 4, 44, 88, 93]\n",
      "[4, 12, 44, 88, 93]\n",
      "[4, 12, 44, 88, 93]\n",
      "Sorted array is: [4, 12, 44, 88, 93]\n"
     ]
    }
   ],
   "source": [
    "numbers = [88, 93, 12, 44, 4]\n",
    "\n",
    "n = len(numbers)  # Calculate the length of the list\n",
    "\n",
    "for i in range(n):\n",
    "         \n",
    "    for j in range(0, n - i - 1):\n",
    "        if  numbers[j] > numbers[j + 1]:\n",
    "            numbers[j], numbers[j + 1] = numbers[j + 1], numbers[j]\n",
    "    print(numbers)   \n",
    "            \n",
    "         \n",
    "\n",
    "print(\"Sorted array is:\", numbers)\n"
   ]
  },
  {
   "cell_type": "markdown",
   "id": "1910df79",
   "metadata": {
    "id": "1910df79"
   },
   "source": [
    "#### 8. Take a string and a word and input. Find the frequenecy of occurrence of the word in the given string. (Without using any inbuilt function)"
   ]
  },
  {
   "cell_type": "code",
   "execution_count": 14,
   "id": "c50d4a3c",
   "metadata": {
    "id": "c50d4a3c"
   },
   "outputs": [
    {
     "name": "stdout",
     "output_type": "stream",
     "text": [
      "Enter a string: priya priya hema\n",
      "Enter the word to count: hema\n",
      "The word 'hema' appears 1 times in the given string.\n"
     ]
    }
   ],
   "source": [
    "# get the input \n",
    "words = input(\"Enter a string: \")\n",
    "# count the word \n",
    "wordcount = input(\"Enter the word to count: \")\n",
    "# split the strings\n",
    "wordlist = words.split()\n",
    "# initialise the count  is zero \n",
    "count = 0\n",
    "# check each wor in the wordlist\n",
    "for word in wordlist:\n",
    "# if word is equal to wordin the list\n",
    "    if word == wordcount:\n",
    "# increase the count\n",
    "        count += 1\n",
    "\n",
    "print(\"The word '{}' appears {} times in the given string.\".format(wordcount,count))\n",
    "\n"
   ]
  },
  {
   "cell_type": "markdown",
   "id": "b05f15de",
   "metadata": {
    "id": "b05f15de"
   },
   "source": [
    "#### 9. Write a program to print the following pattern: "
   ]
  },
  {
   "cell_type": "code",
   "execution_count": null,
   "id": "5113af76",
   "metadata": {
    "colab": {
     "base_uri": "https://localhost:8080/"
    },
    "executionInfo": {
     "elapsed": 547,
     "status": "ok",
     "timestamp": 1676753746046,
     "user": {
      "displayName": "Malathi V",
      "userId": "05981803588813056384"
     },
     "user_tz": -330
    },
    "id": "5113af76",
    "outputId": "c86dd0d3-1a32-4fef-818e-852f636f919a"
   },
   "outputs": [
    {
     "name": "stdout",
     "output_type": "stream",
     "text": [
      "\n"
     ]
    }
   ],
   "source": [
    "'''\n",
    "5 4 3 2 1\n",
    "  4 3 2 1\n",
    "    3 2 1\n",
    "      2 1\n",
    "        1\n",
    "'''\n",
    "print()"
   ]
  },
  {
   "cell_type": "code",
   "execution_count": 18,
   "id": "j7lsHqTI1-ZY",
   "metadata": {
    "id": "j7lsHqTI1-ZY"
   },
   "outputs": [
    {
     "name": "stdout",
     "output_type": "stream",
     "text": [
      "5 4 3 2 1 \n",
      "  4 3 2 1 \n",
      "    3 2 1 \n",
      "      2 1 \n",
      "        1 \n"
     ]
    }
   ],
   "source": [
    "# iterate the range  from 0 to 4\n",
    "for i in range(5):\n",
    " \n",
    "    for j in range(i):\n",
    "        print(\" \", end=\" \")\n",
    "# print the numbers in descending  order\n",
    "    for j in range(5 - i, 0,-1):\n",
    "# print the row subsequent rowb\n",
    "        print(j, end=\" \")\n",
    "\n",
    "    print()\n"
   ]
  },
  {
   "cell_type": "code",
   "execution_count": null,
   "id": "62ff8e37",
   "metadata": {},
   "outputs": [],
   "source": []
  },
  {
   "cell_type": "markdown",
   "id": "279b94c8",
   "metadata": {
    "id": "279b94c8"
   },
   "source": [
    "#### 10. Write a program to print the following pattern:"
   ]
  },
  {
   "cell_type": "code",
   "execution_count": null,
   "id": "af2c05e5",
   "metadata": {
    "colab": {
     "base_uri": "https://localhost:8080/"
    },
    "executionInfo": {
     "elapsed": 513,
     "status": "ok",
     "timestamp": 1676753758009,
     "user": {
      "displayName": "Malathi V",
      "userId": "05981803588813056384"
     },
     "user_tz": -330
    },
    "id": "af2c05e5",
    "outputId": "a05270a6-9f54-461e-a195-d46c556e048d"
   },
   "outputs": [
    {
     "name": "stdout",
     "output_type": "stream",
     "text": [
      "\n"
     ]
    }
   ],
   "source": [
    "'''\n",
    "5 4 3 2 1\n",
    "4 3 2 1\n",
    "3 2 1\n",
    "2 1\n",
    "1\n",
    "'''\n",
    "print()"
   ]
  },
  {
   "cell_type": "code",
   "execution_count": 2,
   "id": "a6502c4f",
   "metadata": {
    "id": "a6502c4f"
   },
   "outputs": [
    {
     "name": "stdout",
     "output_type": "stream",
     "text": [
      "5 4 3 2 1 \n",
      "4 3 2 1 \n",
      "3 2 1 \n",
      "2 1 \n",
      "1 \n"
     ]
    }
   ],
   "source": [
    "# print the rangefrom 0 to 4\n",
    "for i in range(5):\n",
    "    #print in decreasing order\n",
    "    for j in range(5 - i, 0, -1):\n",
    "            print(j, end=\" \")\n",
    "\n",
    "    print()\n"
   ]
  },
  {
   "cell_type": "code",
   "execution_count": 2,
   "id": "2a0538e0",
   "metadata": {},
   "outputs": [
    {
     "name": "stdout",
     "output_type": "stream",
     "text": [
      " priya\n",
      " priya\n",
      " priya\n",
      " priya\n",
      " priya\n",
      " priya\n"
     ]
    }
   ],
   "source": [
    "s = ' priya'\n",
    "for i in range(len(s)):\n",
    "    print(s)"
   ]
  },
  {
   "cell_type": "code",
   "execution_count": 4,
   "id": "4cb9e6cc",
   "metadata": {},
   "outputs": [
    {
     "ename": "NameError",
     "evalue": "name 'Print' is not defined",
     "output_type": "error",
     "traceback": [
      "\u001b[1;31m---------------------------------------------------------------------------\u001b[0m",
      "\u001b[1;31mNameError\u001b[0m                                 Traceback (most recent call last)",
      "Cell \u001b[1;32mIn[4], line 3\u001b[0m\n\u001b[0;32m      1\u001b[0m a \u001b[38;5;241m=\u001b[39m [\u001b[38;5;241m1\u001b[39m,\u001b[38;5;241m2\u001b[39m,\u001b[38;5;241m3\u001b[39m]\n\u001b[0;32m      2\u001b[0m \u001b[38;5;28;01mfor\u001b[39;00m i \u001b[38;5;129;01min\u001b[39;00m \u001b[38;5;28mrange\u001b[39m(\u001b[38;5;28mlen\u001b[39m(a)):\n\u001b[1;32m----> 3\u001b[0m     Print(a [i],a[i\u001b[38;5;241m+\u001b[39m\u001b[38;5;241m1\u001b[39m])\n",
      "\u001b[1;31mNameError\u001b[0m: name 'Print' is not defined"
     ]
    }
   ],
   "source": [
    "a = [1,2,3]\n",
    "for i in range(len(a)):\n",
    "    Print(a [i],a[i+1])\n"
   ]
  },
  {
   "cell_type": "code",
   "execution_count": 8,
   "id": "a69ff19f",
   "metadata": {},
   "outputs": [
    {
     "name": "stdout",
     "output_type": "stream",
     "text": [
      "1 2 2\n",
      "2 3 3\n"
     ]
    },
    {
     "ename": "IndexError",
     "evalue": "list index out of range",
     "output_type": "error",
     "traceback": [
      "\u001b[1;31m---------------------------------------------------------------------------\u001b[0m",
      "\u001b[1;31mIndexError\u001b[0m                                Traceback (most recent call last)",
      "Cell \u001b[1;32mIn[8], line 3\u001b[0m\n\u001b[0;32m      1\u001b[0m a \u001b[38;5;241m=\u001b[39m [\u001b[38;5;241m1\u001b[39m, \u001b[38;5;241m2\u001b[39m, \u001b[38;5;241m3\u001b[39m]\n\u001b[0;32m      2\u001b[0m \u001b[38;5;28;01mfor\u001b[39;00m i \u001b[38;5;129;01min\u001b[39;00m \u001b[38;5;28mrange\u001b[39m(\u001b[38;5;28mlen\u001b[39m(a) ):\n\u001b[1;32m----> 3\u001b[0m     \u001b[38;5;28mprint\u001b[39m(a[i], a[i\u001b[38;5;241m+\u001b[39m\u001b[38;5;241m1\u001b[39m],a[i\u001b[38;5;241m+\u001b[39m\u001b[38;5;241m1\u001b[39m])\n",
      "\u001b[1;31mIndexError\u001b[0m: list index out of range"
     ]
    }
   ],
   "source": [
    "a = [1, 2, 3]\n",
    "for i in range(len(a) ):\n",
    "    print(a[i], a[i+1],a[i+1])"
   ]
  },
  {
   "cell_type": "code",
   "execution_count": null,
   "id": "9002f7e0",
   "metadata": {},
   "outputs": [],
   "source": []
  }
 ],
 "metadata": {
  "colab": {
   "provenance": []
  },
  "kernelspec": {
   "display_name": "Python 3 (ipykernel)",
   "language": "python",
   "name": "python3"
  },
  "language_info": {
   "codemirror_mode": {
    "name": "ipython",
    "version": 3
   },
   "file_extension": ".py",
   "mimetype": "text/x-python",
   "name": "python",
   "nbconvert_exporter": "python",
   "pygments_lexer": "ipython3",
   "version": "3.11.4"
  }
 },
 "nbformat": 4,
 "nbformat_minor": 5
}
