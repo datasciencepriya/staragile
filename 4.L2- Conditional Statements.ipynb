{
 "cells": [
  {
   "cell_type": "markdown",
   "id": "3a10df7a",
   "metadata": {
    "id": "3a10df7a"
   },
   "source": [
    "# Conditional Statements\n",
    "- Write solution of each question in the cell given below the corresponsing question."
   ]
  },
  {
   "cell_type": "markdown",
   "id": "60c2d89a",
   "metadata": {
    "id": "60c2d89a"
   },
   "source": [
    "#### 1. Take a list of numbers as input. Print whether the average is even or odd."
   ]
  },
  {
   "cell_type": "code",
   "execution_count": null,
   "id": "Fh5bSu8vCRWU",
   "metadata": {
    "id": "Fh5bSu8vCRWU"
   },
   "outputs": [],
   "source": [
    "# Take a list of numbers as input. Print whether the average is even or odd.\n",
    "input_number = list(map(int,input(\"Enter the number :\").split()))\n",
    "# To find the average ,first find sum of numbers in list then divide by the lenghth of input_number list\n",
    "average_input_number = sum(input_number)/len(input_number)\n",
    "# to find odd or even  divide the input no by 2 if reminder 0 then no is even\n",
    "if average_input_number % 2 == 0:\n",
    "         print(\"{} Average is even  \".format(average_input_number))\n",
    "# to find odd or even  divide the input no by 2 if reminder 0 else no is odd       \n",
    "else:\n",
    "    print(\"{} Average is odd  \".format(average_input_number))\n"
   ]
  },
  {
   "cell_type": "markdown",
   "id": "4846bb19",
   "metadata": {
    "id": "4846bb19"
   },
   "source": [
    "#### 2. Take three strings as input. Calculate the number of words in each string and find out the list having highest number of words."
   ]
  },
  {
   "cell_type": "code",
   "execution_count": 2,
   "id": "pfGpZ9okCTfV",
   "metadata": {
    "id": "pfGpZ9okCTfV"
   },
   "outputs": [
    {
     "name": "stdout",
     "output_type": "stream",
     "text": [
      "Enter the First string :hai how are you\n",
      "Enter the Second string :are you from chennai\n",
      "Enter the Third string :have you ever been to mumbai\n",
      "THe Third list having highest number of word : 28\n"
     ]
    }
   ],
   "source": [
    "#2. Take three strings as input. Calculate the number of words in each string and find out the list having highest number of words.\n",
    "\n",
    "# To get more than one string in the list using inbulit fn like map,string\n",
    "string_1=input(\"Enter the First string :\")\n",
    "# To get more than one string as input and seperating it using split()\n",
    "string_2=input(\"Enter the Second string :\")\n",
    "# To get more than one string as input and seperating it using split()\n",
    "string_3=input(\"Enter the Third string :\")\n",
    "\n",
    "# To find no of words in the the list \n",
    "word_count1 = len(string_1)\n",
    "# To find no of words in the the list\n",
    "word_count2 = len(string_2)\n",
    "# To find no of words in the the list\n",
    "word_count3 = len(string_3)\n",
    "\n",
    "# To check highest no of word in given list using conditional statement\n",
    "if word_count1 > word_count2 and word_count1 > word_count3:\n",
    "#printing the highest no of word from the list\n",
    "    print(\"The first list having higest number of word: {}\".format(word_count1))\n",
    " # To check highest no of word in given list using conditional statement\n",
    "elif word_count2 > word_count3:\n",
    "#printing the highest no of word from the list\n",
    "   print(\"The SEcond list having highest number of word : {}\".format(word_count2))\n",
    "else:\n",
    "#printing the highest no of word from the list\n",
    "  print(\"THe Third list having highest number of word : {}\".format(word_count3))\n",
    "\n",
    "\n"
   ]
  },
  {
   "cell_type": "markdown",
   "id": "0e0d8196",
   "metadata": {
    "id": "0e0d8196"
   },
   "source": [
    "#### 3. Take four numbers as input in a single line. Find out the largest number."
   ]
  },
  {
   "cell_type": "code",
   "execution_count": 3,
   "id": "Fc_7ETl1CVMu",
   "metadata": {
    "id": "Fc_7ETl1CVMu"
   },
   "outputs": [
    {
     "name": "stdout",
     "output_type": "stream",
     "text": [
      "Enter the four numbers (separated by space) : 45 88 91 30\n",
      "91 is largest\n"
     ]
    }
   ],
   "source": [
    "# Take four numbers as input and print the largest\n",
    "# getting input as list of numbers using inbuilt fn and seperating it using split fn\n",
    "num1,num2,num3,num4 = list(map(int, input('Enter the four numbers (separated by space) : ').split()))\n",
    "# checking the number with each number in the list to find which is largset\n",
    "if num1 > num2 and num1 > num3 and num1 > num4:\n",
    "# printing the largset number\n",
    "    print(num1, 'is largest')\n",
    "# checking the number with each number in the list to find which is largset after the num1\n",
    "elif num2 > num3 and num3 > num4:\n",
    "# printing the largset number\n",
    "    print(num2, 'is largest')\n",
    "#checking the number with num3 and num4 to find largst\n",
    "elif num3 > num4:\n",
    "# printing the largset number\n",
    "    print(num3, 'is largest')\n",
    "else:\n",
    " # printing the largset number\n",
    "    print(num4, 'is largest')"
   ]
  },
  {
   "cell_type": "markdown",
   "id": "16c0440a",
   "metadata": {
    "id": "16c0440a"
   },
   "source": [
    "#### 4. Take four numbers as input and find the second largest numer."
   ]
  },
  {
   "cell_type": "code",
   "execution_count": 6,
   "id": "RuBQfFAHWAlL",
   "metadata": {
    "id": "RuBQfFAHWAlL"
   },
   "outputs": [
    {
     "ename": "SyntaxError",
     "evalue": "invalid syntax (2294485371.py, line 24)",
     "output_type": "error",
     "traceback": [
      "\u001b[1;36m  Cell \u001b[1;32mIn[6], line 24\u001b[1;36m\u001b[0m\n\u001b[1;33m    elif number2 > number1 and number2 > number3 and number2 > number4:\u001b[0m\n\u001b[1;37m    ^\u001b[0m\n\u001b[1;31mSyntaxError\u001b[0m\u001b[1;31m:\u001b[0m invalid syntax\n"
     ]
    }
   ],
   "source": [
    "# Take four numbers as input and print the second largest number\n",
    "# we are getting the input seperatly \n",
    "number1 = int(input('Enter the first number  : '))\n",
    "number2 = int(input('Enter the second number : '))\n",
    "number3 = int(input('Enter the third number  : '))\n",
    "number4 = int(input('Enter the fourth number : '))\n",
    "\n",
    "# finding second smallest equal to third largest\n",
    "# To check the number which is  larger than all no\n",
    "#step 1: compare the number 1 with each no find largest\n",
    "if number1 > number2 and number1 > number3 and number1 > number4:\n",
    "# find second smallest value by comparing num2 with num 3 and num4\n",
    "    if number2 > number3 and number2 > number4:\n",
    "# print the second largest  \n",
    "        print(number2, 'is the second largest')\n",
    "# compare num3 ,num 2  and num4\n",
    "    elif number3 > number2 and number3 > number4:\n",
    "# print num3 as second largest\n",
    "        print(number3, 'is the second largest')\n",
    "else:\n",
    "# print num3 as second largest\n",
    "    print(number4, 'is the second largest')\n",
    "# to find second largest compare num2 with num1,num3,num4\n",
    "\n",
    "elif number2 > number1 and number2 > number3 and number2 > number4:\n",
    "# compare num1 with num3,num4\n",
    "    if number1 > number3 and number1 > number4:\n",
    "        print(number1, 'is the second largest')\n",
    "# compare num1 with num3,num4\n",
    "    elif number3 > number1 and number3 > number4:\n",
    "        print(number3, 'is the second largest')\n",
    "    else:\n",
    "        print(number4, 'is the second largest')\n",
    "# compare num3 with num1 and num2\n",
    "elif number3 > number1 and number3 > number2 and number3 > number4:\n",
    "#compare num1 with num2 and num4\n",
    "    if number1 > number2 and number1 > number4:\n",
    "        print(number1, 'is the second largest')\n",
    "    elif number2 > number1 and number2 > number4:\n",
    "        print(number2, 'is the second largest')\n",
    "    else:\n",
    "        print(number4, 'is the second largest')\n",
    "else:\n",
    "# compare num1 with num2 and num3\n",
    "    if number1 > number2 and number1 >number3:\n",
    "        print(number1, 'is the second largest')\n",
    "    elif number2 > number1 and number2 > number3:\n",
    "        print(number2, 'is the second largest')\n",
    "    else:\n",
    "        print(number3, 'is the second largest')\n"
   ]
  },
  {
   "cell_type": "markdown",
   "id": "2f6641a4",
   "metadata": {
    "id": "2f6641a4"
   },
   "source": [
    "#### 5. Create a dictionary having three items. Key of each item is the name of a student, value associated with each key is a list of marks in five subjects. Given this dictionary print the top and lowest scorers."
   ]
  },
  {
   "cell_type": "code",
   "execution_count": null,
   "id": "R5C1C61OYuls",
   "metadata": {
    "id": "R5C1C61OYuls"
   },
   "outputs": [],
   "source": [
    "#  creating dictionary  for three items       \n",
    "students={'Tom':[89,98,45,67,89], 'Jon':[92,41,43,66,87], 'Bob':[67,53,89,89,34]}\n",
    "# converting dictionary to list\n",
    "student_marks = list(students.values())\n",
    "student_marks\n",
    "# finding sum for student marks\n",
    "tom_total      = sum(students['Tom'])\n",
    "jon_total      = sum(students['Jon'])\n",
    "bob_total      = sum(students['Bob'])\n",
    "\n",
    "# finding highest scorer from the list\n",
    "if tom_total > jon_total and tom_total > bob_total:\n",
    "    print('The highest scorer is Tom and the score is    :{} '. format(tom_total))\n",
    "elif jon_total > bob_total:\n",
    "     print('The highest scorer is Jon and the   score is : {}'. format(jon_total))\n",
    "else :\n",
    "     print('bob is the highest scorer and the score is   : {}'. format(bob_total))\n",
    "#finding lowest scorer from the list\n",
    "if tom_total < jon_total and tom_total < bob_total:\n",
    "    print('The Lowest scorer is Tom and the score is    :{} '. format(tom_total))\n",
    "elif jon_total > bob_total:b\n",
    "     print('The Lowest scorer is Jon and the score is   : {}'. format(jon_total))\n",
    "else :\n",
    "     print(' The Lowest scorer is Bob and the score is  : {}'. format(bob_total))\n",
    "\n",
    "\n"
   ]
  },
  {
   "cell_type": "markdown",
   "id": "64db0791",
   "metadata": {
    "id": "64db0791"
   },
   "source": [
    "#### 6. Create a dictionary (called data) of having at least 5 items : Usernames as keys and Passwords as values. Write a program that takes a username and a password as input. If the credentials match any iteam in the given dictionary data then print acces granted otherwise print whether username, password or both are wrong."
   ]
  },
  {
   "cell_type": "code",
   "execution_count": null,
   "id": "WtqLAvhiazaM",
   "metadata": {
    "id": "WtqLAvhiazaM"
   },
   "outputs": [],
   "source": [
    "# Given a dictionary of usernames and passwords\n",
    "data = {'Tom' : 123, 'Bob' : 345, 'Jon' : 456, 'Tim' : 678, 'Jim' : 789}\n",
    "# Take username and password as input and print access granted if they match the data\n",
    "# If not print whether the username, password are incorrect\n",
    "\n",
    "username = input('Enter the username : ')\n",
    "\n",
    "if username in data.keys():\n",
    "    password = int(input('Enter the password : '))\n",
    "    if password == data[username]:\n",
    "        print('Access Granted')\n",
    "    else:\n",
    "        print('Incorrect Password')\n",
    "else:\n",
    "    print('Incorrect Username')"
   ]
  },
  {
   "cell_type": "markdown",
   "id": "27c56bb8",
   "metadata": {
    "id": "27c56bb8"
   },
   "source": [
    "#### 7. Take a list as input in a single line containing 15 numbers as marks out of 100. The first five numbers in the list are marks of Tom, the middle 5 numbers are marks of Bob and the last 5 are the marks of Jon. Find out the top and lowest scorer."
   ]
  },
  {
   "cell_type": "code",
   "execution_count": null,
   "id": "ah156U4T9iat",
   "metadata": {
    "id": "ah156U4T9iat"
   },
   "outputs": [],
   "source": [
    "# taking 15 numbers as input out of 100\n",
    "numbers = list(map(int,input('Enter 15 numbers :').split()))\n",
    "numberlist = list(numbers)\n",
    "# seperate the marks from the list using slice method\n",
    "tom_marks  = numberlist[0:5:1]\n",
    "print('Tom Mark List :',tom_marks)\n",
    "# finding total for the student\n",
    "tom_total   = sum(tom_marks)\n",
    "# seperate the marks from the list using slice method\n",
    "bob_marks  = numberlist[5:10]\n",
    "print('Bob Mark List :',bob_marks)\n",
    "# finding total for the student\n",
    "bob_total  = sum(bob_marks)\n",
    "# seperate the marks from the list using slice method\n",
    "jon_marks  = numberlist[10:15]\n",
    "print('Jon Marlk List :',jon_marks)\n",
    "# finding total for the student\n",
    "jon_total  =  sum(jon_marks)\n",
    "#  finding the top score using conditional statement\n",
    "if tom_total > bob_total and tom_total > jon_total:\n",
    "    print('The Top scorer is Jon and The score is        : {}'. format(tom_total))\n",
    "elif bob_total > jon_total:\n",
    "     print('The Top scorer is Bob and The score is       : {}'. format(bob_total))\n",
    "else:\n",
    "    print('The Top Scorer is Jon and the The score is    : {}'. format(jon_total))\n",
    "#finding the lowest scorer using conditional statement\n",
    "if tom_total < bob_total and tom_total < jon_total:\n",
    "    print('The Lowest scorer is Jon and The score is     : {}'. format(tom_total))\n",
    "elif bob_total < jon_total:\n",
    "     print('The Lowest scorer is Bob and The score is    : {}'. format(bob_total))\n",
    "else:\n",
    "    print('The Lowest Scorer is Jon and the The score is : {}'. format(jon_total))\n",
    "\n",
    "                        \n",
    "\n",
    "\n",
    "\n",
    "\n"
   ]
  },
  {
   "cell_type": "markdown",
   "id": "20f59542",
   "metadata": {
    "id": "20f59542"
   },
   "source": [
    "#### 8. Take a number as input and print whether the number is a multiple of 3,5 or both."
   ]
  },
  {
   "cell_type": "code",
   "execution_count": null,
   "id": "otWg3MXaYing",
   "metadata": {
    "id": "otWg3MXaYing"
   },
   "outputs": [],
   "source": [
    "# Take a number as input and print whether the number is a multiple of 3,5 or both.\n",
    "\n",
    "number = int(input(\"Enter The number :\"))\n",
    "# check whether the number is divisible by 3 and 5\n",
    "if number % 3 == 0  and number % 5 == 0:\n",
    "    print(\"The NUmber is MUltiple of 3 and 5\")\n",
    "# check the number is completly divisible by 3\n",
    "elif number % 3 ==0 :\n",
    "    print(\"The NUmber is Multiple of 3\")\n",
    "# check the number is completly divisible by 5\n",
    "elif number % 5 == 0 :\n",
    "       print(\"The Number is Multiple of 5\")\n",
    "else:\n",
    "     print(\"The Number is not multiple of 3 or 5\")\n"
   ]
  },
  {
   "cell_type": "markdown",
   "id": "b770e791",
   "metadata": {
    "id": "b770e791"
   },
   "source": [
    "#### 9. Write a program to take three strings as input and print the string having second largest number of words."
   ]
  },
  {
   "cell_type": "code",
   "execution_count": 3,
   "id": "BIaLOJ6eEvGO",
   "metadata": {
    "id": "BIaLOJ6eEvGO"
   },
   "outputs": [
    {
     "name": "stdout",
     "output_type": "stream",
     "text": [
      "Enter the first string   : priya\n",
      "Enter the second string  : archana\n",
      "Enter the third string   : deepanshu\n",
      "['archana'] string2 is second largest\n"
     ]
    }
   ],
   "source": [
    "# Write a program to take three strings as input and print the string having second largest number of words.\n",
    "\n",
    "string1 = list(map(str,input('Enter the first string   : ').split()))\n",
    "string2 = list(map(str,input('Enter the second string  : ').split()))\n",
    "string3 = list(map(str,input('Enter the third string   : ').split()))\n",
    "\n",
    "word_count1 = len(string1)\n",
    "word_count2 = len(string2)\n",
    "word_count3 = len(string3)\n",
    "\n",
    "if word_count1 > word_count2 and word_count1 > word_count3:\n",
    "    if word_count2 > word_count3:\n",
    "        print(string2,'string2 is second largest')\n",
    "    else:\n",
    "        print(string3,'string3 is second largest')\n",
    "\n",
    "elif word_count2 > word_count3:\n",
    "    if word_count1 > word_count3:\n",
    "        print(string1,'string1 is second largest')\n",
    "    else:\n",
    "        print(string3,'string3 is second largest')\n",
    "        \n",
    "elif word_count1 > word_count2:\n",
    "        print(string1,'string1 is second largest')\n",
    "else:\n",
    "        print(string2,'string2 is second largest')"
   ]
  },
  {
   "cell_type": "markdown",
   "id": "5a485c8c",
   "metadata": {
    "id": "5a485c8c"
   },
   "source": [
    "#### 10. Write a program to take four strings as input and print the string having third highest number of words."
   ]
  },
  {
   "cell_type": "code",
   "execution_count": null,
   "id": "19Wx8OZqk3UQ",
   "metadata": {
    "id": "19Wx8OZqk3UQ"
   },
   "outputs": [],
   "source": [
    "# get input string from the list\n",
    "string_1 = list(map(str,input('Enter the first string  : ').split()))\n",
    "string_2 = list(map(str,input('Enter the second string  : ').split()))\n",
    "string_3 = list(map(str,input('Enter the third string  : ').split()))\n",
    "string_4 = list(map(str,input('Enter the fourth string  : ').split()))\n",
    "#finding length of 4 strings seperately\n",
    "string1 = len(string_1)\n",
    "string2 = len(string_2)\n",
    "string3 = len(string_3)\n",
    "string4 = len(string_4)\n",
    "\n",
    "# To check the number which is second smallest, first find the smallest, then find the second smallest\n",
    "if string1 < string2 and string1 < string3 and string1 < string4:\n",
    "#compare string 2 with str 3 and str4\n",
    "    if string2 < string3 and string2 < string4:\n",
    "        print(string2, 'is the third largest')\n",
    "    elif string3 < string2 and string3 < string4:\n",
    "# print str 3 as third largest which is equal to  second smallest \n",
    "        print(string_3, 'is the third largest')\n",
    "    else:\n",
    "        print(string_4, 'is the third largest')\n",
    "# after str 1 compare str2,str 3 and str4\n",
    "elif string2 < string1 and string2 < string3 and string2 < string4:\n",
    "    if string1 < string3 and string1 < string4:\n",
    "        print(string1, 'is the third largest')\n",
    "    elif string3 < string1 and string3 < string4:\n",
    "        print(string_3, 'is the third largest')\n",
    "    else:\n",
    "        print(string_4, 'is the third largest')\n",
    "#compare str3 with str1,str2 and str3\n",
    "elif string3 < string1 and string3 < string2 and string3 < string4:\n",
    "    if string1 < string2 and string1 < string4:\n",
    "        print(string_1, 'is the third largest')\n",
    "    elif string2 < string1 and string2 < string4:\n",
    "        print(string_2, 'is the third largest')\n",
    "    else:\n",
    "        print(string_4, 'is the third largest')\n",
    "else:\n",
    "#compare the string 1 with string 2 and string3\n",
    "    if string1 < string2 and string1 < string3:\n",
    "        print(string_1, 'is the third largest')\n",
    "    elif string2 < string1 and string2 < string3:\n",
    "        print(string_2, 'is the third largest')\n",
    "    else:\n",
    "        print(string_3, 'is the third largest')\n"
   ]
  },
  {
   "cell_type": "code",
   "execution_count": null,
   "id": "93caf575",
   "metadata": {},
   "outputs": [],
   "source": []
  }
 ],
 "metadata": {
  "colab": {
   "provenance": []
  },
  "kernelspec": {
   "display_name": "Python 3 (ipykernel)",
   "language": "python",
   "name": "python3"
  },
  "language_info": {
   "codemirror_mode": {
    "name": "ipython",
    "version": 3
   },
   "file_extension": ".py",
   "mimetype": "text/x-python",
   "name": "python",
   "nbconvert_exporter": "python",
   "pygments_lexer": "ipython3",
   "version": "3.11.4"
  }
 },
 "nbformat": 4,
 "nbformat_minor": 5
}
