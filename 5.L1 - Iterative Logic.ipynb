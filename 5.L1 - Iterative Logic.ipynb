{
 "cells": [
  {
   "cell_type": "markdown",
   "id": "9acd52dd",
   "metadata": {
    "id": "9acd52dd"
   },
   "source": [
    "# Assessment - 4 Gradable\n",
    "\n",
    "- Each question carries 5 marks\n",
    "- Marks will be assigned in terms of:\n",
    "    \n",
    "    **1. Expected output**\n",
    "    \n",
    "    **2. Quality and Explainability of code**\n",
    "\n",
    "    ***Go back through the script and type a comment above each line explaining in English what it does.***\n",
    "\n",
    "    **3. Copied code, if found, will result in 0 marks for that question. To avoid this make as much comments in the code to explain the approach**"
   ]
  },
  {
   "cell_type": "markdown",
   "id": "1dd6b730",
   "metadata": {
    "id": "1dd6b730"
   },
   "source": [
    "### 1. \n",
    "\n",
    "Write a Python function that prints out the first n rows of Pascal's triangle.\n",
    "\n",
    "- Input : 5\n",
    "- Output: \n",
    "          1\n",
    "         1 1\n",
    "        1 2 1\n",
    "       1 3 3 1\n",
    "      1 4 6 4 1"
   ]
  },
  {
   "cell_type": "code",
   "execution_count": 8,
   "id": "04ae6248",
   "metadata": {
    "id": "04ae6248"
   },
   "outputs": [
    {
     "name": "stdout",
     "output_type": "stream",
     "text": [
      "Enter the input: 5\n",
      "   [1] \n",
      "   [1, 1] \n",
      "   [1, 2, 1] \n",
      "   [1, 3, 3, 1] \n",
      "   [1, 4, 6, 4, 1] \n"
     ]
    }
   ],
   "source": [
    "def pascal_triangle(numrows):\n",
    "    result = []  # Initialize an empty list to store the value for triangle\n",
    "\n",
    "    for i in range(numrows):\n",
    "    \n",
    "        if i == 0:\n",
    "            result.append([1])  # The first row is always  must be start with 1\n",
    "        else:\n",
    "            # Calculate the current row based on the previous row\n",
    "            prevrow = result[-1]\n",
    "            currentrow = [1]  # The first element of each row is always 1\n",
    "\n",
    "            for j in range(1, len(prevrow)):\n",
    "                \n",
    "                currentvalue = prevrow[j - 1] + prevrow[j]\n",
    "                currentrow.append(currentvalue)\n",
    "\n",
    "            currentrow.append(1)  # The last element of each row is always 1\n",
    "            result.append(currentrow) \n",
    "\n",
    "    return result # return the current row\n",
    "# get the input \n",
    "numrows = int(input('Enter the input: '))\n",
    "triangle = pascal_triangle(numrows)\n",
    "\n",
    "# Print the row in triangle \n",
    "for row in triangle:\n",
    "    print(\"  \",end = ' ')\n",
    "    print(row,end = ' \\n')\n"
   ]
  },
  {
   "cell_type": "code",
   "execution_count": 3,
   "id": "8a361fd4",
   "metadata": {},
   "outputs": [
    {
     "name": "stdout",
     "output_type": "stream",
     "text": [
      "              1 \n",
      "            1   1 \n",
      "          1   2   1 \n",
      "        1   3   3   1 \n",
      "      1   4   6   4   1 \n"
     ]
    }
   ],
   "source": [
    "import math\n",
    "\n",
    "n = 5\n",
    "# start the outer loop value as range of n value\n",
    "for i in range(n):\n",
    "    # for triangle shape we have to use n-i+1 as formula\n",
    "    for j in range(n - i+1):\n",
    "        print(\" \", end=\" \")\n",
    "    # inner loop value must be outer loop valueplus\n",
    "    for j in range(i + 1):\n",
    "        print(' ',end= \" \")\n",
    "        # Calculate the ncr value using the ncr formula to print the inner loop vakue\n",
    "        pascaltriangle = math.factorial(i) // (math.factorial(j) * math.factorial(i - j))\n",
    "        print(pascaltriangle, end=\" \")\n",
    "\n",
    "    print()\n"
   ]
  },
  {
   "cell_type": "markdown",
   "id": "28e9c1f6",
   "metadata": {},
   "source": [
    "This code is a Python program that prints Pascal's Triangle with a given number of rows (`n`). Pascal's Triangle is a triangular array of binomial coefficients, where each number is the sum of the two directly above it. \n",
    "\n",
    "Let's break down the code:\n",
    "\n",
    "1. `import math`: This line imports the math module, which provides mathematical functions like factorial.\n",
    "\n",
    "2. `n = 5`: This line sets the variable `n` to 5, which indicates that the program will print Pascal's Triangle with 5 rows.\n",
    "\n",
    "3. `for i in range(n):`: This is the outer loop that iterates over each row of the triangle. It goes from 0 to `n-1` (inclusive).\n",
    "\n",
    "4. `for j in range(n - i+1):`: This loop prints spaces before each row, and the number of spaces decreases as we go down the rows. The number of spaces printed in each row is `n - i`.\n",
    "\n",
    "5. `for j in range(i + 1):`: This loop prints the numbers in each row of the triangle. It iterates from 0 to `i` (inclusive), because each row has `i+1` numbers.\n",
    "\n",
    "6. `ncr = math.factorial(i) // (math.factorial(j) * math.factorial(i - j))`: This calculates the binomial coefficient \"n choose j\" for the current position in the triangle. It uses the formula for binomial coefficient, which is calculated as the factorial of `n` divided by the product of the factorials of `j` and `(n-j)`.\n",
    "\n",
    "7. `print(ncr, end=\" \")`: This prints the calculated binomial coefficient followed by a space.\n",
    "\n",
    "8. `print()`: This prints a newline character to move to the next row of the triangle after finishing printing the current row.\n",
    "\n",
    "The combination of these loops and calculations results in printing Pascal's Triangle with 5 rows."
   ]
  },
  {
   "cell_type": "markdown",
   "id": "ffc26930",
   "metadata": {
    "id": "ffc26930"
   },
   "source": [
    "### 2. \n",
    "\n",
    "Write a function to print following pattern by accepting n value from user\n",
    "\n",
    "    1  \n",
    "    2  4  \n",
    "    3  6  9  \n",
    "    4  8  12  16  \n",
    "    5  10  15  20  25  \n",
    "    6  12  18  24  30  36  \n",
    "    7  14  21  28  35  42  49  \n",
    "    8  16  24  32  40  48  56  64 \n",
    "    \n",
    "Hint:\n",
    "- n is 8\n"
   ]
  },
  {
   "cell_type": "code",
   "execution_count": 4,
   "id": "e848d516",
   "metadata": {
    "scrolled": true
   },
   "outputs": [
    {
     "name": "stdout",
     "output_type": "stream",
     "text": [
      "Enter the numbers of rows :8\n",
      "1 \n",
      "2 4 \n",
      "3 6 9 \n",
      "4 8 12 16 \n",
      "5 10 15 20 25 \n",
      "6 12 18 24 30 36 \n",
      "7 14 21 28 35 42 49 \n",
      "8 16 24 32 40 48 56 64 \n"
     ]
    }
   ],
   "source": [
    "n = int(input('Enter the numbers of rows :'))\n",
    "# to get 8 value i am setting range as 1 to 9\n",
    "for i in range(1, n+1):\n",
    "    # inner loop for every value printing in the next line\n",
    "    for j in range(1, i+1 ):\n",
    "        # to print square value use i * j in print\n",
    "        print(i * j, end=' ')\n",
    "    print()\n"
   ]
  },
  {
   "cell_type": "markdown",
   "id": "eec7fc6c",
   "metadata": {
    "id": "eec7fc6c"
   },
   "source": [
    "# 3. \n",
    "\n",
    "Write a program to print prime numbers from 1 to 100\n"
   ]
  },
  {
   "cell_type": "code",
   "execution_count": 1,
   "id": "20d721cd",
   "metadata": {},
   "outputs": [
    {
     "name": "stdout",
     "output_type": "stream",
     "text": [
      "2  3  5  7  11  13  17  19  23  29  31  37  41  43  47  53  59  61  67  71  73  79  83  89  97  "
     ]
    }
   ],
   "source": [
    "# to get prime no upto 100 initialising the range 1 to 100\n",
    "for Number in range (1, 101):\n",
    "    count = 0\n",
    "    # to find range of the number is square root of that value will reduce repetion\n",
    "    for i in range(2, int(Number ** 0.5 + 1)):\n",
    "        if(Number % i == 0):\n",
    "            count = count + 1\n",
    "            break\n",
    "# prime no it should not have any factors so count must be 0 and the number should be greater than 1 \n",
    "    if (count == 0 and Number != 1):\n",
    "        print(Number, end = '  ')\n"
   ]
  },
  {
   "cell_type": "markdown",
   "id": "6739aeef",
   "metadata": {
    "id": "6739aeef"
   },
   "source": [
    "### 4. \n",
    "\n",
    "Write a program to find given number is palindrome or not\n",
    "\n",
    "Hint:\n",
    "- 121 is palindrome\n",
    "- 123 is not palindrome"
   ]
  },
  {
   "cell_type": "code",
   "execution_count": 4,
   "id": "1ec4e63e",
   "metadata": {
    "id": "1ec4e63e"
   },
   "outputs": [
    {
     "name": "stdout",
     "output_type": "stream",
     "text": [
      "Enter the number : 12345654321\n",
      "12345654321\n"
     ]
    }
   ],
   "source": [
    "num = int(input('Enter the number : '))\n",
    "number = str(num)\n",
    "reversenumber = number[ ::-1]\n",
    "print(reversenumber)\n",
    "if num == reversenumber:\n",
    "    print('The number is palaindrom :',reversenumber)"
   ]
  },
  {
   "cell_type": "code",
   "execution_count": 1,
   "id": "07457094",
   "metadata": {},
   "outputs": [
    {
     "name": "stdout",
     "output_type": "stream",
     "text": [
      "Enter the input: 12345654321\n",
      "The input is a palindrome.\n"
     ]
    }
   ],
   "source": [
    "# define the palindrome \n",
    "def is_palindrome(s):\n",
    "# convert the input as string   \n",
    "    s = str(s)\n",
    "# initialise left pointer\n",
    "    l = 0\n",
    "# initialise right pointer\n",
    "    r = len(s) - 1\n",
    "# compare the left pointer the right pointer\n",
    "    while l <= r:\n",
    "# compare the left pointer and right pointer\n",
    "        if s[l] == s[r]:\n",
    "    #increase the left pointer index untill the right pointer value is equal\n",
    "            l += 1\n",
    "    # decrease  the right pointer \n",
    "            r -= 1\n",
    "        else:\n",
    "            return False\n",
    "    return True\n",
    "# get the input\n",
    "inputstr = input('Enter the input: ')\n",
    "# check the input whether it is palindrome\n",
    "result = is_palindrome(inputstr)\n",
    "\n",
    "if result:\n",
    "    print('The input is a palindrome.')\n",
    "else:\n",
    "    print('The input is not a palindrome.')\n"
   ]
  },
  {
   "cell_type": "markdown",
   "id": "af46e819",
   "metadata": {
    "id": "af46e819"
   },
   "source": [
    "### 5.\n",
    "\n",
    "Write a program to iterate the first 10 numbers and in each iteration, print the sum of the current and previous number.\n",
    "\n",
    "- Current Number 0 Previous Number  0  Sum:  0\n",
    "- Current Number 1 Previous Number  0  Sum:  1 and so on"
   ]
  },
  {
   "cell_type": "code",
   "execution_count": 2,
   "id": "830a0664",
   "metadata": {
    "id": "830a0664"
   },
   "outputs": [
    {
     "name": "stdout",
     "output_type": "stream",
     "text": [
      "The sum is   : 1\n",
      "The sum is   : 2\n",
      "The sum is   : 3\n",
      "The sum is   : 5\n",
      "The sum is   : 8\n",
      "The sum is   : 13\n",
      "The sum is   : 21\n",
      "The sum is   : 34\n",
      "The sum is   : 55\n",
      "The sum is   : 89\n"
     ]
    }
   ],
   "source": [
    "# initialize the currentnum,previous num \n",
    "currentnum = 1\n",
    "previousnum = 0\n",
    "# iterate the range   from 0 to 9\n",
    "for i in range(10):\n",
    "# sum  current number with previous number\n",
    "    sumnum = currentnum + previousnum\n",
    "    print('The sum is   :',sumnum)\n",
    "    previousnum = currentnum\n",
    "    currentnum  = sumnum\n"
   ]
  },
  {
   "cell_type": "code",
   "execution_count": null,
   "id": "fd7c3090",
   "metadata": {},
   "outputs": [],
   "source": []
  }
 ],
 "metadata": {
  "colab": {
   "provenance": []
  },
  "kernelspec": {
   "display_name": "Python 3 (ipykernel)",
   "language": "python",
   "name": "python3"
  },
  "language_info": {
   "codemirror_mode": {
    "name": "ipython",
    "version": 3
   },
   "file_extension": ".py",
   "mimetype": "text/x-python",
   "name": "python",
   "nbconvert_exporter": "python",
   "pygments_lexer": "ipython3",
   "version": "3.11.4"
  }
 },
 "nbformat": 4,
 "nbformat_minor": 5
}
