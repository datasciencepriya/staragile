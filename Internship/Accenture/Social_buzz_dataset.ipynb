{
 "cells": [
  {
   "cell_type": "markdown",
   "id": "8aca288e",
   "metadata": {},
   "source": [
    "### importing Libraries"
   ]
  },
  {
   "cell_type": "code",
   "execution_count": 1,
   "id": "4d12f19c",
   "metadata": {},
   "outputs": [],
   "source": [
    "import pandas as pd"
   ]
  },
  {
   "cell_type": "markdown",
   "id": "8fd7ff06",
   "metadata": {},
   "source": [
    "### Uploading the Datasets"
   ]
  },
  {
   "cell_type": "markdown",
   "id": "9192d7b2",
   "metadata": {},
   "source": [
    "### 1. Content Dataset"
   ]
  },
  {
   "cell_type": "code",
   "execution_count": 2,
   "id": "3940a137",
   "metadata": {},
   "outputs": [
    {
     "data": {
      "text/html": [
       "<div>\n",
       "<style scoped>\n",
       "    .dataframe tbody tr th:only-of-type {\n",
       "        vertical-align: middle;\n",
       "    }\n",
       "\n",
       "    .dataframe tbody tr th {\n",
       "        vertical-align: top;\n",
       "    }\n",
       "\n",
       "    .dataframe thead th {\n",
       "        text-align: right;\n",
       "    }\n",
       "</style>\n",
       "<table border=\"1\" class=\"dataframe\">\n",
       "  <thead>\n",
       "    <tr style=\"text-align: right;\">\n",
       "      <th></th>\n",
       "      <th>Unnamed: 0</th>\n",
       "      <th>Content ID</th>\n",
       "      <th>User ID</th>\n",
       "      <th>Type</th>\n",
       "      <th>Category</th>\n",
       "      <th>URL</th>\n",
       "    </tr>\n",
       "  </thead>\n",
       "  <tbody>\n",
       "    <tr>\n",
       "      <th>0</th>\n",
       "      <td>0</td>\n",
       "      <td>97522e57-d9ab-4bd6-97bf-c24d952602d2</td>\n",
       "      <td>8d3cd87d-8a31-4935-9a4f-b319bfe05f31</td>\n",
       "      <td>photo</td>\n",
       "      <td>Studying</td>\n",
       "      <td>https://socialbuzz.cdn.com/content/storage/975...</td>\n",
       "    </tr>\n",
       "    <tr>\n",
       "      <th>1</th>\n",
       "      <td>1</td>\n",
       "      <td>9f737e0a-3cdd-4d29-9d24-753f4e3be810</td>\n",
       "      <td>beb1f34e-7870-46d6-9fc7-2e12eb83ce43</td>\n",
       "      <td>photo</td>\n",
       "      <td>healthy eating</td>\n",
       "      <td>https://socialbuzz.cdn.com/content/storage/9f7...</td>\n",
       "    </tr>\n",
       "    <tr>\n",
       "      <th>2</th>\n",
       "      <td>2</td>\n",
       "      <td>230c4e4d-70c3-461d-b42c-ec09396efb3f</td>\n",
       "      <td>a5c65404-5894-4b87-82f2-d787cbee86b4</td>\n",
       "      <td>photo</td>\n",
       "      <td>healthy eating</td>\n",
       "      <td>https://socialbuzz.cdn.com/content/storage/230...</td>\n",
       "    </tr>\n",
       "    <tr>\n",
       "      <th>3</th>\n",
       "      <td>3</td>\n",
       "      <td>356fff80-da4d-4785-9f43-bc1261031dc6</td>\n",
       "      <td>9fb4ce88-fac1-406c-8544-1a899cee7aaf</td>\n",
       "      <td>photo</td>\n",
       "      <td>technology</td>\n",
       "      <td>https://socialbuzz.cdn.com/content/storage/356...</td>\n",
       "    </tr>\n",
       "    <tr>\n",
       "      <th>4</th>\n",
       "      <td>4</td>\n",
       "      <td>01ab84dd-6364-4236-abbb-3f237db77180</td>\n",
       "      <td>e206e31b-5f85-4964-b6ea-d7ee5324def1</td>\n",
       "      <td>video</td>\n",
       "      <td>food</td>\n",
       "      <td>https://socialbuzz.cdn.com/content/storage/01a...</td>\n",
       "    </tr>\n",
       "  </tbody>\n",
       "</table>\n",
       "</div>"
      ],
      "text/plain": [
       "   Unnamed: 0                            Content ID  \\\n",
       "0           0  97522e57-d9ab-4bd6-97bf-c24d952602d2   \n",
       "1           1  9f737e0a-3cdd-4d29-9d24-753f4e3be810   \n",
       "2           2  230c4e4d-70c3-461d-b42c-ec09396efb3f   \n",
       "3           3  356fff80-da4d-4785-9f43-bc1261031dc6   \n",
       "4           4  01ab84dd-6364-4236-abbb-3f237db77180   \n",
       "\n",
       "                                User ID   Type        Category  \\\n",
       "0  8d3cd87d-8a31-4935-9a4f-b319bfe05f31  photo        Studying   \n",
       "1  beb1f34e-7870-46d6-9fc7-2e12eb83ce43  photo  healthy eating   \n",
       "2  a5c65404-5894-4b87-82f2-d787cbee86b4  photo  healthy eating   \n",
       "3  9fb4ce88-fac1-406c-8544-1a899cee7aaf  photo      technology   \n",
       "4  e206e31b-5f85-4964-b6ea-d7ee5324def1  video            food   \n",
       "\n",
       "                                                 URL  \n",
       "0  https://socialbuzz.cdn.com/content/storage/975...  \n",
       "1  https://socialbuzz.cdn.com/content/storage/9f7...  \n",
       "2  https://socialbuzz.cdn.com/content/storage/230...  \n",
       "3  https://socialbuzz.cdn.com/content/storage/356...  \n",
       "4  https://socialbuzz.cdn.com/content/storage/01a...  "
      ]
     },
     "execution_count": 2,
     "metadata": {},
     "output_type": "execute_result"
    }
   ],
   "source": [
    "# importing content csv file\n",
    "content = pd.read_csv('content.csv')\n",
    "content.head(5)"
   ]
  },
  {
   "cell_type": "markdown",
   "id": "63b014d6",
   "metadata": {},
   "source": [
    "### To check the column names"
   ]
  },
  {
   "cell_type": "code",
   "execution_count": 3,
   "id": "aca09ef5",
   "metadata": {},
   "outputs": [
    {
     "data": {
      "text/plain": [
       "Index(['Unnamed: 0', 'Content ID', 'User ID', 'Type', 'Category', 'URL'], dtype='object')"
      ]
     },
     "execution_count": 3,
     "metadata": {},
     "output_type": "execute_result"
    }
   ],
   "source": [
    "content.columns"
   ]
  },
  {
   "cell_type": "code",
   "execution_count": 4,
   "id": "73635fbc",
   "metadata": {},
   "outputs": [
    {
     "data": {
      "text/plain": [
       "<bound method DataFrame.info of      Unnamed: 0                            Content ID  \\\n",
       "0             0  97522e57-d9ab-4bd6-97bf-c24d952602d2   \n",
       "1             1  9f737e0a-3cdd-4d29-9d24-753f4e3be810   \n",
       "2             2  230c4e4d-70c3-461d-b42c-ec09396efb3f   \n",
       "3             3  356fff80-da4d-4785-9f43-bc1261031dc6   \n",
       "4             4  01ab84dd-6364-4236-abbb-3f237db77180   \n",
       "..          ...                                   ...   \n",
       "995         995  b4cef9ef-627b-41d7-a051-5961b0204ebb   \n",
       "996         996  7a79f4e4-3b7d-44dc-bdef-bc990740252c   \n",
       "997         997  435007a5-6261-4d8b-b0a4-55fdc189754b   \n",
       "998         998  4e4c9690-c013-4ee7-9e66-943d8cbd27b7   \n",
       "999         999  75d6b589-7fae-4a6d-b0d0-752845150e56   \n",
       "\n",
       "                                  User ID   Type         Category  \\\n",
       "0    8d3cd87d-8a31-4935-9a4f-b319bfe05f31  photo         Studying   \n",
       "1    beb1f34e-7870-46d6-9fc7-2e12eb83ce43  photo   healthy eating   \n",
       "2    a5c65404-5894-4b87-82f2-d787cbee86b4  photo   healthy eating   \n",
       "3    9fb4ce88-fac1-406c-8544-1a899cee7aaf  photo       technology   \n",
       "4    e206e31b-5f85-4964-b6ea-d7ee5324def1  video             food   \n",
       "..                                    ...    ...              ...   \n",
       "995  5b62e10e-3c19-4d28-a57c-e9bdc3d6758d  video  public speaking   \n",
       "996  4fe420fa-a193-4408-bd5d-62a020233609    GIF       technology   \n",
       "997  35d6a1f3-e358-4d4b-8074-05f3b7f35c2a  audio         veganism   \n",
       "998  b9bcd994-f000-4f6b-87fc-caae08acfaa1    GIF          culture   \n",
       "999  b8c653b5-0118-4d7e-9bde-07c2de90f0ff  audio       technology   \n",
       "\n",
       "                                                   URL  \n",
       "0    https://socialbuzz.cdn.com/content/storage/975...  \n",
       "1    https://socialbuzz.cdn.com/content/storage/9f7...  \n",
       "2    https://socialbuzz.cdn.com/content/storage/230...  \n",
       "3    https://socialbuzz.cdn.com/content/storage/356...  \n",
       "4    https://socialbuzz.cdn.com/content/storage/01a...  \n",
       "..                                                 ...  \n",
       "995                                                NaN  \n",
       "996  https://socialbuzz.cdn.com/content/storage/7a7...  \n",
       "997  https://socialbuzz.cdn.com/content/storage/435...  \n",
       "998  https://socialbuzz.cdn.com/content/storage/4e4...  \n",
       "999  https://socialbuzz.cdn.com/content/storage/75d...  \n",
       "\n",
       "[1000 rows x 6 columns]>"
      ]
     },
     "execution_count": 4,
     "metadata": {},
     "output_type": "execute_result"
    }
   ],
   "source": [
    "#checking column info\n",
    "content.info"
   ]
  },
  {
   "cell_type": "code",
   "execution_count": 5,
   "id": "04ca22d2",
   "metadata": {},
   "outputs": [
    {
     "data": {
      "text/plain": [
       "Unnamed: 0      0\n",
       "Content ID      0\n",
       "User ID         0\n",
       "Type            0\n",
       "Category        0\n",
       "URL           199\n",
       "dtype: int64"
      ]
     },
     "execution_count": 5,
     "metadata": {},
     "output_type": "execute_result"
    }
   ],
   "source": [
    "# checking null values \n",
    "content.isnull().sum()"
   ]
  },
  {
   "cell_type": "markdown",
   "id": "1f20b375",
   "metadata": {},
   "source": [
    "Dropping the columns which is not useful for this Datasets using drop method"
   ]
  },
  {
   "cell_type": "code",
   "execution_count": 6,
   "id": "268a3a39",
   "metadata": {},
   "outputs": [],
   "source": [
    "# dropping columns\n",
    "content.drop(columns=['URL'], inplace=True)\n",
    "content.drop(columns=['Unnamed: 0'], inplace=True)\n",
    "content.drop(columns=['Content ID'], inplace=True)"
   ]
  },
  {
   "cell_type": "markdown",
   "id": "f864c132",
   "metadata": {},
   "source": [
    "### To check the null values in the columns"
   ]
  },
  {
   "cell_type": "code",
   "execution_count": 7,
   "id": "5abdebcf",
   "metadata": {},
   "outputs": [
    {
     "data": {
      "text/plain": [
       "User ID     0\n",
       "Type        0\n",
       "Category    0\n",
       "dtype: int64"
      ]
     },
     "execution_count": 7,
     "metadata": {},
     "output_type": "execute_result"
    }
   ],
   "source": [
    "# checking null values\n",
    "content.isna().sum()"
   ]
  },
  {
   "cell_type": "code",
   "execution_count": 8,
   "id": "d7e5f006",
   "metadata": {},
   "outputs": [
    {
     "data": {
      "text/plain": [
       "9"
      ]
     },
     "execution_count": 8,
     "metadata": {},
     "output_type": "execute_result"
    }
   ],
   "source": [
    "# Checking duplicates\n",
    "content.duplicated().sum()"
   ]
  },
  {
   "cell_type": "code",
   "execution_count": 9,
   "id": "ebdee712",
   "metadata": {},
   "outputs": [],
   "source": [
    "content.drop_duplicates(inplace=True)"
   ]
  },
  {
   "cell_type": "code",
   "execution_count": 10,
   "id": "192c056e",
   "metadata": {},
   "outputs": [
    {
     "data": {
      "text/plain": [
       "Index(['User ID', 'Type', 'Category'], dtype='object')"
      ]
     },
     "execution_count": 10,
     "metadata": {},
     "output_type": "execute_result"
    }
   ],
   "source": [
    "content.columns"
   ]
  },
  {
   "cell_type": "code",
   "execution_count": 11,
   "id": "3f38bd30",
   "metadata": {},
   "outputs": [
    {
     "data": {
      "text/plain": [
       "array(['photo', 'video', 'GIF', 'audio'], dtype=object)"
      ]
     },
     "execution_count": 11,
     "metadata": {},
     "output_type": "execute_result"
    }
   ],
   "source": [
    "content['Type'].unique()"
   ]
  },
  {
   "cell_type": "markdown",
   "id": "3611e86c",
   "metadata": {},
   "source": [
    "###  2.Reactions Dataset"
   ]
  },
  {
   "cell_type": "code",
   "execution_count": 12,
   "id": "46ee079a",
   "metadata": {
    "scrolled": true
   },
   "outputs": [
    {
     "data": {
      "text/html": [
       "<div>\n",
       "<style scoped>\n",
       "    .dataframe tbody tr th:only-of-type {\n",
       "        vertical-align: middle;\n",
       "    }\n",
       "\n",
       "    .dataframe tbody tr th {\n",
       "        vertical-align: top;\n",
       "    }\n",
       "\n",
       "    .dataframe thead th {\n",
       "        text-align: right;\n",
       "    }\n",
       "</style>\n",
       "<table border=\"1\" class=\"dataframe\">\n",
       "  <thead>\n",
       "    <tr style=\"text-align: right;\">\n",
       "      <th></th>\n",
       "      <th>Unnamed: 0</th>\n",
       "      <th>Content ID</th>\n",
       "      <th>User ID</th>\n",
       "      <th>Type</th>\n",
       "      <th>Datetime</th>\n",
       "    </tr>\n",
       "  </thead>\n",
       "  <tbody>\n",
       "    <tr>\n",
       "      <th>0</th>\n",
       "      <td>0</td>\n",
       "      <td>97522e57-d9ab-4bd6-97bf-c24d952602d2</td>\n",
       "      <td>NaN</td>\n",
       "      <td>NaN</td>\n",
       "      <td>2021-04-22 15:17:15</td>\n",
       "    </tr>\n",
       "    <tr>\n",
       "      <th>1</th>\n",
       "      <td>1</td>\n",
       "      <td>97522e57-d9ab-4bd6-97bf-c24d952602d2</td>\n",
       "      <td>5d454588-283d-459d-915d-c48a2cb4c27f</td>\n",
       "      <td>disgust</td>\n",
       "      <td>2020-11-07 09:43:50</td>\n",
       "    </tr>\n",
       "    <tr>\n",
       "      <th>2</th>\n",
       "      <td>2</td>\n",
       "      <td>97522e57-d9ab-4bd6-97bf-c24d952602d2</td>\n",
       "      <td>92b87fa5-f271-43e0-af66-84fac21052e6</td>\n",
       "      <td>dislike</td>\n",
       "      <td>2021-06-17 12:22:51</td>\n",
       "    </tr>\n",
       "    <tr>\n",
       "      <th>3</th>\n",
       "      <td>3</td>\n",
       "      <td>97522e57-d9ab-4bd6-97bf-c24d952602d2</td>\n",
       "      <td>163daa38-8b77-48c9-9af6-37a6c1447ac2</td>\n",
       "      <td>scared</td>\n",
       "      <td>2021-04-18 05:13:58</td>\n",
       "    </tr>\n",
       "    <tr>\n",
       "      <th>4</th>\n",
       "      <td>4</td>\n",
       "      <td>97522e57-d9ab-4bd6-97bf-c24d952602d2</td>\n",
       "      <td>34e8add9-0206-47fd-a501-037b994650a2</td>\n",
       "      <td>disgust</td>\n",
       "      <td>2021-01-06 19:13:01</td>\n",
       "    </tr>\n",
       "  </tbody>\n",
       "</table>\n",
       "</div>"
      ],
      "text/plain": [
       "   Unnamed: 0                            Content ID  \\\n",
       "0           0  97522e57-d9ab-4bd6-97bf-c24d952602d2   \n",
       "1           1  97522e57-d9ab-4bd6-97bf-c24d952602d2   \n",
       "2           2  97522e57-d9ab-4bd6-97bf-c24d952602d2   \n",
       "3           3  97522e57-d9ab-4bd6-97bf-c24d952602d2   \n",
       "4           4  97522e57-d9ab-4bd6-97bf-c24d952602d2   \n",
       "\n",
       "                                User ID     Type             Datetime  \n",
       "0                                   NaN      NaN  2021-04-22 15:17:15  \n",
       "1  5d454588-283d-459d-915d-c48a2cb4c27f  disgust  2020-11-07 09:43:50  \n",
       "2  92b87fa5-f271-43e0-af66-84fac21052e6  dislike  2021-06-17 12:22:51  \n",
       "3  163daa38-8b77-48c9-9af6-37a6c1447ac2   scared  2021-04-18 05:13:58  \n",
       "4  34e8add9-0206-47fd-a501-037b994650a2  disgust  2021-01-06 19:13:01  "
      ]
     },
     "execution_count": 12,
     "metadata": {},
     "output_type": "execute_result"
    }
   ],
   "source": [
    "# importing reactions dataset\n",
    "reactions = pd.read_csv('Reactions.csv')\n",
    "reactions.head(5)"
   ]
  },
  {
   "cell_type": "code",
   "execution_count": 13,
   "id": "9eb74020",
   "metadata": {},
   "outputs": [
    {
     "data": {
      "text/plain": [
       "Index(['Unnamed: 0', 'Content ID', 'User ID', 'Type', 'Datetime'], dtype='object')"
      ]
     },
     "execution_count": 13,
     "metadata": {},
     "output_type": "execute_result"
    }
   ],
   "source": [
    "# to check columns\n",
    "reactions.columns"
   ]
  },
  {
   "cell_type": "code",
   "execution_count": 14,
   "id": "d8784023",
   "metadata": {},
   "outputs": [
    {
     "data": {
      "text/plain": [
       "<bound method DataFrame.info of        Unnamed: 0                            Content ID  \\\n",
       "0               0  97522e57-d9ab-4bd6-97bf-c24d952602d2   \n",
       "1               1  97522e57-d9ab-4bd6-97bf-c24d952602d2   \n",
       "2               2  97522e57-d9ab-4bd6-97bf-c24d952602d2   \n",
       "3               3  97522e57-d9ab-4bd6-97bf-c24d952602d2   \n",
       "4               4  97522e57-d9ab-4bd6-97bf-c24d952602d2   \n",
       "...           ...                                   ...   \n",
       "25548       25548  75d6b589-7fae-4a6d-b0d0-752845150e56   \n",
       "25549       25549  75d6b589-7fae-4a6d-b0d0-752845150e56   \n",
       "25550       25550  75d6b589-7fae-4a6d-b0d0-752845150e56   \n",
       "25551       25551  75d6b589-7fae-4a6d-b0d0-752845150e56   \n",
       "25552       25552  75d6b589-7fae-4a6d-b0d0-752845150e56   \n",
       "\n",
       "                                    User ID        Type             Datetime  \n",
       "0                                       NaN         NaN  2021-04-22 15:17:15  \n",
       "1      5d454588-283d-459d-915d-c48a2cb4c27f     disgust  2020-11-07 09:43:50  \n",
       "2      92b87fa5-f271-43e0-af66-84fac21052e6     dislike  2021-06-17 12:22:51  \n",
       "3      163daa38-8b77-48c9-9af6-37a6c1447ac2      scared  2021-04-18 05:13:58  \n",
       "4      34e8add9-0206-47fd-a501-037b994650a2     disgust  2021-01-06 19:13:01  \n",
       "...                                     ...         ...                  ...  \n",
       "25548  80c9ce48-46f9-4f5e-b3ca-3b698fc2e949     dislike  2020-06-27 09:46:48  \n",
       "25549  2bd9c167-e06c-47c1-a978-3403d6724606   intrigued  2021-02-16 17:17:02  \n",
       "25550                                   NaN  interested  2020-09-12 03:54:58  \n",
       "25551  5ffd8b51-164e-47e2-885e-8b8c46eb63ed     worried  2020-11-04 20:08:31  \n",
       "25552  4edc3d1a-a7d9-4db6-89c3-f784d9954172     cherish  2021-01-04 04:55:11  \n",
       "\n",
       "[25553 rows x 5 columns]>"
      ]
     },
     "execution_count": 14,
     "metadata": {},
     "output_type": "execute_result"
    }
   ],
   "source": [
    "# checking the info of the dataset\n",
    "reactions.info"
   ]
  },
  {
   "cell_type": "code",
   "execution_count": 15,
   "id": "5d6eaa06",
   "metadata": {},
   "outputs": [
    {
     "data": {
      "text/plain": [
       "Unnamed: 0       0\n",
       "Content ID       0\n",
       "User ID       3019\n",
       "Type           980\n",
       "Datetime         0\n",
       "dtype: int64"
      ]
     },
     "execution_count": 15,
     "metadata": {},
     "output_type": "execute_result"
    }
   ],
   "source": [
    "# check null values\n",
    "reactions.isnull().sum()"
   ]
  },
  {
   "cell_type": "code",
   "execution_count": 16,
   "id": "9744b8b7",
   "metadata": {},
   "outputs": [
    {
     "data": {
      "text/plain": [
       "0"
      ]
     },
     "execution_count": 16,
     "metadata": {},
     "output_type": "execute_result"
    }
   ],
   "source": [
    "# check duplicated values\n",
    "reactions.duplicated().sum()"
   ]
  },
  {
   "cell_type": "code",
   "execution_count": 17,
   "id": "e5dcb67f",
   "metadata": {},
   "outputs": [],
   "source": [
    "# droping unwanted columns for this dataset\n",
    "reactions.drop(columns=['Content ID'], inplace=True)\n",
    "reactions.drop(columns=['Unnamed: 0'], inplace=True)"
   ]
  },
  {
   "cell_type": "code",
   "execution_count": 18,
   "id": "bff90259",
   "metadata": {},
   "outputs": [],
   "source": [
    "# drop the null value row in user id column\n",
    "reactions.dropna(subset=['User ID'], inplace=True)"
   ]
  },
  {
   "cell_type": "code",
   "execution_count": 19,
   "id": "1556ef8c",
   "metadata": {},
   "outputs": [
    {
     "name": "stdout",
     "output_type": "stream",
     "text": [
      "['disgust' 'dislike' 'scared' 'interested' 'peeking' 'cherish' 'hate'\n",
      " 'indifferent' 'super love' 'worried' 'like' 'heart' 'want' 'intrigued'\n",
      " 'love' 'adore']\n"
     ]
    }
   ],
   "source": [
    "# check no of unique type in the reaction dataset\n",
    "print(reactions['Type'].unique())\n"
   ]
  },
  {
   "cell_type": "code",
   "execution_count": 20,
   "id": "71c10df6",
   "metadata": {},
   "outputs": [],
   "source": [
    "# filling null values of type with mode of that column\n",
    "reactions['Type'].fillna(value=reactions['Type'].mode()[0], inplace=True)"
   ]
  },
  {
   "cell_type": "code",
   "execution_count": 21,
   "id": "6e454d50",
   "metadata": {},
   "outputs": [
    {
     "data": {
      "text/plain": [
       "array(['disgust', 'dislike', 'scared', 'interested', 'peeking', 'cherish',\n",
       "       'hate', 'indifferent', 'super love', 'worried', 'like', 'heart',\n",
       "       'want', 'intrigued', 'love', 'adore'], dtype=object)"
      ]
     },
     "execution_count": 21,
     "metadata": {},
     "output_type": "execute_result"
    }
   ],
   "source": [
    "# checking no of unique columns\n",
    "reactions['Type'].unique()"
   ]
  },
  {
   "cell_type": "code",
   "execution_count": 22,
   "id": "8b79b00f",
   "metadata": {},
   "outputs": [],
   "source": [
    "# Assuming reactions is your DataFrame\n",
    "reactions.dropna(subset=['User ID'], inplace=True)\n"
   ]
  },
  {
   "cell_type": "code",
   "execution_count": 23,
   "id": "b6d65b2f",
   "metadata": {},
   "outputs": [
    {
     "data": {
      "text/plain": [
       "User ID     0\n",
       "Type        0\n",
       "Datetime    0\n",
       "dtype: int64"
      ]
     },
     "execution_count": 23,
     "metadata": {},
     "output_type": "execute_result"
    }
   ],
   "source": [
    "# checking null values after cleaning process\n",
    "reactions.isna().sum()"
   ]
  },
  {
   "cell_type": "markdown",
   "id": "7ea0c61d",
   "metadata": {},
   "source": [
    "### 3. Reaction types dataset"
   ]
  },
  {
   "cell_type": "code",
   "execution_count": 24,
   "id": "76ca8cd5",
   "metadata": {},
   "outputs": [
    {
     "data": {
      "text/html": [
       "<div>\n",
       "<style scoped>\n",
       "    .dataframe tbody tr th:only-of-type {\n",
       "        vertical-align: middle;\n",
       "    }\n",
       "\n",
       "    .dataframe tbody tr th {\n",
       "        vertical-align: top;\n",
       "    }\n",
       "\n",
       "    .dataframe thead th {\n",
       "        text-align: right;\n",
       "    }\n",
       "</style>\n",
       "<table border=\"1\" class=\"dataframe\">\n",
       "  <thead>\n",
       "    <tr style=\"text-align: right;\">\n",
       "      <th></th>\n",
       "      <th>Unnamed: 0</th>\n",
       "      <th>Type</th>\n",
       "      <th>Sentiment</th>\n",
       "      <th>Score</th>\n",
       "    </tr>\n",
       "  </thead>\n",
       "  <tbody>\n",
       "    <tr>\n",
       "      <th>0</th>\n",
       "      <td>0</td>\n",
       "      <td>heart</td>\n",
       "      <td>positive</td>\n",
       "      <td>60</td>\n",
       "    </tr>\n",
       "    <tr>\n",
       "      <th>1</th>\n",
       "      <td>1</td>\n",
       "      <td>want</td>\n",
       "      <td>positive</td>\n",
       "      <td>70</td>\n",
       "    </tr>\n",
       "    <tr>\n",
       "      <th>2</th>\n",
       "      <td>2</td>\n",
       "      <td>disgust</td>\n",
       "      <td>negative</td>\n",
       "      <td>0</td>\n",
       "    </tr>\n",
       "    <tr>\n",
       "      <th>3</th>\n",
       "      <td>3</td>\n",
       "      <td>hate</td>\n",
       "      <td>negative</td>\n",
       "      <td>5</td>\n",
       "    </tr>\n",
       "    <tr>\n",
       "      <th>4</th>\n",
       "      <td>4</td>\n",
       "      <td>interested</td>\n",
       "      <td>positive</td>\n",
       "      <td>30</td>\n",
       "    </tr>\n",
       "  </tbody>\n",
       "</table>\n",
       "</div>"
      ],
      "text/plain": [
       "   Unnamed: 0        Type Sentiment  Score\n",
       "0           0       heart  positive     60\n",
       "1           1        want  positive     70\n",
       "2           2     disgust  negative      0\n",
       "3           3        hate  negative      5\n",
       "4           4  interested  positive     30"
      ]
     },
     "execution_count": 24,
     "metadata": {},
     "output_type": "execute_result"
    }
   ],
   "source": [
    "# importing reaction type dataset\n",
    "reactions_types = pd.read_csv('ReactionTypes.csv')\n",
    "reactions_types.head(5)"
   ]
  },
  {
   "cell_type": "code",
   "execution_count": 25,
   "id": "46d446c6",
   "metadata": {},
   "outputs": [
    {
     "data": {
      "text/plain": [
       "Index(['Unnamed: 0', 'Type', 'Sentiment', 'Score'], dtype='object')"
      ]
     },
     "execution_count": 25,
     "metadata": {},
     "output_type": "execute_result"
    }
   ],
   "source": [
    "# checking columns\n",
    "reactions_types.columns"
   ]
  },
  {
   "cell_type": "code",
   "execution_count": 26,
   "id": "df736dfc",
   "metadata": {},
   "outputs": [],
   "source": [
    "# dropping inwanted column in the dataset\n",
    "reactions_types.drop(columns=['Unnamed: 0'], inplace=True)"
   ]
  },
  {
   "cell_type": "code",
   "execution_count": 27,
   "id": "45cdcccd",
   "metadata": {},
   "outputs": [
    {
     "data": {
      "text/plain": [
       "array(['heart', 'want', 'disgust', 'hate', 'interested', 'indifferent',\n",
       "       'love', 'super love', 'cherish', 'adore', 'like', 'dislike',\n",
       "       'intrigued', 'peeking', 'scared', 'worried'], dtype=object)"
      ]
     },
     "execution_count": 27,
     "metadata": {},
     "output_type": "execute_result"
    }
   ],
   "source": [
    "# checking no of unique columns\n",
    "reactions_types['Type'].unique()"
   ]
  },
  {
   "cell_type": "code",
   "execution_count": 28,
   "id": "3be831d5",
   "metadata": {
    "scrolled": true
   },
   "outputs": [
    {
     "data": {
      "text/plain": [
       "Type         0\n",
       "Sentiment    0\n",
       "Score        0\n",
       "dtype: int64"
      ]
     },
     "execution_count": 28,
     "metadata": {},
     "output_type": "execute_result"
    }
   ],
   "source": [
    "# checking null values\n",
    "reactions_types.isnull().sum()"
   ]
  },
  {
   "cell_type": "code",
   "execution_count": 29,
   "id": "cc54832f",
   "metadata": {},
   "outputs": [
    {
     "data": {
      "text/plain": [
       "0"
      ]
     },
     "execution_count": 29,
     "metadata": {},
     "output_type": "execute_result"
    }
   ],
   "source": [
    "# checking duplicated values\n",
    "reactions_types.duplicated().sum()"
   ]
  },
  {
   "cell_type": "markdown",
   "id": "961a43ef",
   "metadata": {},
   "source": [
    "### Merging 3 dataframes using pandas"
   ]
  },
  {
   "cell_type": "code",
   "execution_count": 30,
   "id": "689cb623",
   "metadata": {},
   "outputs": [],
   "source": [
    "# merging two dataframes\n",
    "social_buzz_dataset = pd.merge(reactions, reactions_types, on='Type', how='inner')  \n",
    "\n"
   ]
  },
  {
   "cell_type": "code",
   "execution_count": 31,
   "id": "b35fe806",
   "metadata": {},
   "outputs": [
    {
     "data": {
      "text/html": [
       "<div>\n",
       "<style scoped>\n",
       "    .dataframe tbody tr th:only-of-type {\n",
       "        vertical-align: middle;\n",
       "    }\n",
       "\n",
       "    .dataframe tbody tr th {\n",
       "        vertical-align: top;\n",
       "    }\n",
       "\n",
       "    .dataframe thead th {\n",
       "        text-align: right;\n",
       "    }\n",
       "</style>\n",
       "<table border=\"1\" class=\"dataframe\">\n",
       "  <thead>\n",
       "    <tr style=\"text-align: right;\">\n",
       "      <th></th>\n",
       "      <th>User ID</th>\n",
       "      <th>Type</th>\n",
       "      <th>Datetime</th>\n",
       "      <th>Sentiment</th>\n",
       "      <th>Score</th>\n",
       "    </tr>\n",
       "  </thead>\n",
       "  <tbody>\n",
       "    <tr>\n",
       "      <th>0</th>\n",
       "      <td>5d454588-283d-459d-915d-c48a2cb4c27f</td>\n",
       "      <td>disgust</td>\n",
       "      <td>2020-11-07 09:43:50</td>\n",
       "      <td>negative</td>\n",
       "      <td>0</td>\n",
       "    </tr>\n",
       "    <tr>\n",
       "      <th>1</th>\n",
       "      <td>34e8add9-0206-47fd-a501-037b994650a2</td>\n",
       "      <td>disgust</td>\n",
       "      <td>2021-01-06 19:13:01</td>\n",
       "      <td>negative</td>\n",
       "      <td>0</td>\n",
       "    </tr>\n",
       "    <tr>\n",
       "      <th>2</th>\n",
       "      <td>13c06e7e-833d-47eb-a790-5e09ccfd8d2c</td>\n",
       "      <td>disgust</td>\n",
       "      <td>2021-04-09 02:46:20</td>\n",
       "      <td>negative</td>\n",
       "      <td>0</td>\n",
       "    </tr>\n",
       "    <tr>\n",
       "      <th>3</th>\n",
       "      <td>8b49caad-bcc5-43de-bf40-34a66ff8805c</td>\n",
       "      <td>disgust</td>\n",
       "      <td>2021-03-28 21:15:26</td>\n",
       "      <td>negative</td>\n",
       "      <td>0</td>\n",
       "    </tr>\n",
       "    <tr>\n",
       "      <th>4</th>\n",
       "      <td>ef147ea5-9696-44d5-b6c2-a43f62fd8ce2</td>\n",
       "      <td>disgust</td>\n",
       "      <td>2020-08-04 05:40:33</td>\n",
       "      <td>negative</td>\n",
       "      <td>0</td>\n",
       "    </tr>\n",
       "  </tbody>\n",
       "</table>\n",
       "</div>"
      ],
      "text/plain": [
       "                                User ID     Type             Datetime  \\\n",
       "0  5d454588-283d-459d-915d-c48a2cb4c27f  disgust  2020-11-07 09:43:50   \n",
       "1  34e8add9-0206-47fd-a501-037b994650a2  disgust  2021-01-06 19:13:01   \n",
       "2  13c06e7e-833d-47eb-a790-5e09ccfd8d2c  disgust  2021-04-09 02:46:20   \n",
       "3  8b49caad-bcc5-43de-bf40-34a66ff8805c  disgust  2021-03-28 21:15:26   \n",
       "4  ef147ea5-9696-44d5-b6c2-a43f62fd8ce2  disgust  2020-08-04 05:40:33   \n",
       "\n",
       "  Sentiment  Score  \n",
       "0  negative      0  \n",
       "1  negative      0  \n",
       "2  negative      0  \n",
       "3  negative      0  \n",
       "4  negative      0  "
      ]
     },
     "execution_count": 31,
     "metadata": {},
     "output_type": "execute_result"
    }
   ],
   "source": [
    "# viewing merged dataset\n",
    "social_buzz_dataset.head(5)"
   ]
  },
  {
   "cell_type": "code",
   "execution_count": 32,
   "id": "bb9033b9",
   "metadata": {},
   "outputs": [
    {
     "data": {
      "text/plain": [
       "Index(['User ID', 'Type', 'Datetime', 'Sentiment', 'Score'], dtype='object')"
      ]
     },
     "execution_count": 32,
     "metadata": {},
     "output_type": "execute_result"
    }
   ],
   "source": [
    "# merged dataset columns\n",
    "social_buzz_dataset.columns"
   ]
  },
  {
   "cell_type": "code",
   "execution_count": 33,
   "id": "da0505cf",
   "metadata": {},
   "outputs": [],
   "source": [
    "# merging the social_buzz data set with content dataset\n",
    "social_buzz_dataset = pd.merge(social_buzz_dataset, content, on = 'User ID', how = 'inner',suffixes=('_base', '_content'))"
   ]
  },
  {
   "cell_type": "code",
   "execution_count": 34,
   "id": "85115d17",
   "metadata": {},
   "outputs": [
    {
     "data": {
      "text/html": [
       "<div>\n",
       "<style scoped>\n",
       "    .dataframe tbody tr th:only-of-type {\n",
       "        vertical-align: middle;\n",
       "    }\n",
       "\n",
       "    .dataframe tbody tr th {\n",
       "        vertical-align: top;\n",
       "    }\n",
       "\n",
       "    .dataframe thead th {\n",
       "        text-align: right;\n",
       "    }\n",
       "</style>\n",
       "<table border=\"1\" class=\"dataframe\">\n",
       "  <thead>\n",
       "    <tr style=\"text-align: right;\">\n",
       "      <th></th>\n",
       "      <th>User ID</th>\n",
       "      <th>Type_base</th>\n",
       "      <th>Datetime</th>\n",
       "      <th>Sentiment</th>\n",
       "      <th>Score</th>\n",
       "      <th>Type_content</th>\n",
       "      <th>Category</th>\n",
       "    </tr>\n",
       "  </thead>\n",
       "  <tbody>\n",
       "    <tr>\n",
       "      <th>0</th>\n",
       "      <td>5d454588-283d-459d-915d-c48a2cb4c27f</td>\n",
       "      <td>disgust</td>\n",
       "      <td>2020-11-07 09:43:50</td>\n",
       "      <td>negative</td>\n",
       "      <td>0</td>\n",
       "      <td>audio</td>\n",
       "      <td>cooking</td>\n",
       "    </tr>\n",
       "    <tr>\n",
       "      <th>1</th>\n",
       "      <td>5d454588-283d-459d-915d-c48a2cb4c27f</td>\n",
       "      <td>disgust</td>\n",
       "      <td>2020-11-07 09:43:50</td>\n",
       "      <td>negative</td>\n",
       "      <td>0</td>\n",
       "      <td>video</td>\n",
       "      <td>studying</td>\n",
       "    </tr>\n",
       "    <tr>\n",
       "      <th>2</th>\n",
       "      <td>5d454588-283d-459d-915d-c48a2cb4c27f</td>\n",
       "      <td>disgust</td>\n",
       "      <td>2021-05-18 13:11:05</td>\n",
       "      <td>negative</td>\n",
       "      <td>0</td>\n",
       "      <td>audio</td>\n",
       "      <td>cooking</td>\n",
       "    </tr>\n",
       "    <tr>\n",
       "      <th>3</th>\n",
       "      <td>5d454588-283d-459d-915d-c48a2cb4c27f</td>\n",
       "      <td>disgust</td>\n",
       "      <td>2021-05-18 13:11:05</td>\n",
       "      <td>negative</td>\n",
       "      <td>0</td>\n",
       "      <td>video</td>\n",
       "      <td>studying</td>\n",
       "    </tr>\n",
       "    <tr>\n",
       "      <th>4</th>\n",
       "      <td>5d454588-283d-459d-915d-c48a2cb4c27f</td>\n",
       "      <td>disgust</td>\n",
       "      <td>2020-10-10 20:43:03</td>\n",
       "      <td>negative</td>\n",
       "      <td>0</td>\n",
       "      <td>audio</td>\n",
       "      <td>cooking</td>\n",
       "    </tr>\n",
       "  </tbody>\n",
       "</table>\n",
       "</div>"
      ],
      "text/plain": [
       "                                User ID Type_base             Datetime  \\\n",
       "0  5d454588-283d-459d-915d-c48a2cb4c27f   disgust  2020-11-07 09:43:50   \n",
       "1  5d454588-283d-459d-915d-c48a2cb4c27f   disgust  2020-11-07 09:43:50   \n",
       "2  5d454588-283d-459d-915d-c48a2cb4c27f   disgust  2021-05-18 13:11:05   \n",
       "3  5d454588-283d-459d-915d-c48a2cb4c27f   disgust  2021-05-18 13:11:05   \n",
       "4  5d454588-283d-459d-915d-c48a2cb4c27f   disgust  2020-10-10 20:43:03   \n",
       "\n",
       "  Sentiment  Score Type_content  Category  \n",
       "0  negative      0        audio   cooking  \n",
       "1  negative      0        video  studying  \n",
       "2  negative      0        audio   cooking  \n",
       "3  negative      0        video  studying  \n",
       "4  negative      0        audio   cooking  "
      ]
     },
     "execution_count": 34,
     "metadata": {},
     "output_type": "execute_result"
    }
   ],
   "source": [
    "social_buzz_dataset.head()"
   ]
  },
  {
   "cell_type": "code",
   "execution_count": 35,
   "id": "5e0e025e",
   "metadata": {},
   "outputs": [
    {
     "name": "stdout",
     "output_type": "stream",
     "text": [
      "Index(['User ID', 'Type_base', 'Datetime', 'Sentiment', 'Score',\n",
      "       'Type_content', 'Category'],\n",
      "      dtype='object')\n"
     ]
    }
   ],
   "source": [
    "print(social_buzz_dataset.columns)"
   ]
  },
  {
   "cell_type": "markdown",
   "id": "b43dbc48",
   "metadata": {},
   "source": [
    "### Final merged dataset"
   ]
  },
  {
   "cell_type": "code",
   "execution_count": 36,
   "id": "3daf73da",
   "metadata": {
    "scrolled": true
   },
   "outputs": [
    {
     "data": {
      "text/html": [
       "<div>\n",
       "<style scoped>\n",
       "    .dataframe tbody tr th:only-of-type {\n",
       "        vertical-align: middle;\n",
       "    }\n",
       "\n",
       "    .dataframe tbody tr th {\n",
       "        vertical-align: top;\n",
       "    }\n",
       "\n",
       "    .dataframe thead th {\n",
       "        text-align: right;\n",
       "    }\n",
       "</style>\n",
       "<table border=\"1\" class=\"dataframe\">\n",
       "  <thead>\n",
       "    <tr style=\"text-align: right;\">\n",
       "      <th></th>\n",
       "      <th>User ID</th>\n",
       "      <th>Type_base</th>\n",
       "      <th>Datetime</th>\n",
       "      <th>Sentiment</th>\n",
       "      <th>Score</th>\n",
       "      <th>Type_content</th>\n",
       "      <th>Category</th>\n",
       "    </tr>\n",
       "  </thead>\n",
       "  <tbody>\n",
       "    <tr>\n",
       "      <th>0</th>\n",
       "      <td>5d454588-283d-459d-915d-c48a2cb4c27f</td>\n",
       "      <td>disgust</td>\n",
       "      <td>2020-11-07 09:43:50</td>\n",
       "      <td>negative</td>\n",
       "      <td>0</td>\n",
       "      <td>audio</td>\n",
       "      <td>cooking</td>\n",
       "    </tr>\n",
       "    <tr>\n",
       "      <th>1</th>\n",
       "      <td>5d454588-283d-459d-915d-c48a2cb4c27f</td>\n",
       "      <td>disgust</td>\n",
       "      <td>2020-11-07 09:43:50</td>\n",
       "      <td>negative</td>\n",
       "      <td>0</td>\n",
       "      <td>video</td>\n",
       "      <td>studying</td>\n",
       "    </tr>\n",
       "    <tr>\n",
       "      <th>2</th>\n",
       "      <td>5d454588-283d-459d-915d-c48a2cb4c27f</td>\n",
       "      <td>disgust</td>\n",
       "      <td>2021-05-18 13:11:05</td>\n",
       "      <td>negative</td>\n",
       "      <td>0</td>\n",
       "      <td>audio</td>\n",
       "      <td>cooking</td>\n",
       "    </tr>\n",
       "    <tr>\n",
       "      <th>3</th>\n",
       "      <td>5d454588-283d-459d-915d-c48a2cb4c27f</td>\n",
       "      <td>disgust</td>\n",
       "      <td>2021-05-18 13:11:05</td>\n",
       "      <td>negative</td>\n",
       "      <td>0</td>\n",
       "      <td>video</td>\n",
       "      <td>studying</td>\n",
       "    </tr>\n",
       "    <tr>\n",
       "      <th>4</th>\n",
       "      <td>5d454588-283d-459d-915d-c48a2cb4c27f</td>\n",
       "      <td>disgust</td>\n",
       "      <td>2020-10-10 20:43:03</td>\n",
       "      <td>negative</td>\n",
       "      <td>0</td>\n",
       "      <td>audio</td>\n",
       "      <td>cooking</td>\n",
       "    </tr>\n",
       "    <tr>\n",
       "      <th>5</th>\n",
       "      <td>5d454588-283d-459d-915d-c48a2cb4c27f</td>\n",
       "      <td>disgust</td>\n",
       "      <td>2020-10-10 20:43:03</td>\n",
       "      <td>negative</td>\n",
       "      <td>0</td>\n",
       "      <td>video</td>\n",
       "      <td>studying</td>\n",
       "    </tr>\n",
       "    <tr>\n",
       "      <th>6</th>\n",
       "      <td>5d454588-283d-459d-915d-c48a2cb4c27f</td>\n",
       "      <td>disgust</td>\n",
       "      <td>2020-12-05 23:54:32</td>\n",
       "      <td>negative</td>\n",
       "      <td>0</td>\n",
       "      <td>audio</td>\n",
       "      <td>cooking</td>\n",
       "    </tr>\n",
       "    <tr>\n",
       "      <th>7</th>\n",
       "      <td>5d454588-283d-459d-915d-c48a2cb4c27f</td>\n",
       "      <td>disgust</td>\n",
       "      <td>2020-12-05 23:54:32</td>\n",
       "      <td>negative</td>\n",
       "      <td>0</td>\n",
       "      <td>video</td>\n",
       "      <td>studying</td>\n",
       "    </tr>\n",
       "    <tr>\n",
       "      <th>8</th>\n",
       "      <td>5d454588-283d-459d-915d-c48a2cb4c27f</td>\n",
       "      <td>disgust</td>\n",
       "      <td>2020-09-04 18:36:05</td>\n",
       "      <td>negative</td>\n",
       "      <td>0</td>\n",
       "      <td>audio</td>\n",
       "      <td>cooking</td>\n",
       "    </tr>\n",
       "    <tr>\n",
       "      <th>9</th>\n",
       "      <td>5d454588-283d-459d-915d-c48a2cb4c27f</td>\n",
       "      <td>disgust</td>\n",
       "      <td>2020-09-04 18:36:05</td>\n",
       "      <td>negative</td>\n",
       "      <td>0</td>\n",
       "      <td>video</td>\n",
       "      <td>studying</td>\n",
       "    </tr>\n",
       "  </tbody>\n",
       "</table>\n",
       "</div>"
      ],
      "text/plain": [
       "                                User ID Type_base             Datetime  \\\n",
       "0  5d454588-283d-459d-915d-c48a2cb4c27f   disgust  2020-11-07 09:43:50   \n",
       "1  5d454588-283d-459d-915d-c48a2cb4c27f   disgust  2020-11-07 09:43:50   \n",
       "2  5d454588-283d-459d-915d-c48a2cb4c27f   disgust  2021-05-18 13:11:05   \n",
       "3  5d454588-283d-459d-915d-c48a2cb4c27f   disgust  2021-05-18 13:11:05   \n",
       "4  5d454588-283d-459d-915d-c48a2cb4c27f   disgust  2020-10-10 20:43:03   \n",
       "5  5d454588-283d-459d-915d-c48a2cb4c27f   disgust  2020-10-10 20:43:03   \n",
       "6  5d454588-283d-459d-915d-c48a2cb4c27f   disgust  2020-12-05 23:54:32   \n",
       "7  5d454588-283d-459d-915d-c48a2cb4c27f   disgust  2020-12-05 23:54:32   \n",
       "8  5d454588-283d-459d-915d-c48a2cb4c27f   disgust  2020-09-04 18:36:05   \n",
       "9  5d454588-283d-459d-915d-c48a2cb4c27f   disgust  2020-09-04 18:36:05   \n",
       "\n",
       "  Sentiment  Score Type_content  Category  \n",
       "0  negative      0        audio   cooking  \n",
       "1  negative      0        video  studying  \n",
       "2  negative      0        audio   cooking  \n",
       "3  negative      0        video  studying  \n",
       "4  negative      0        audio   cooking  \n",
       "5  negative      0        video  studying  \n",
       "6  negative      0        audio   cooking  \n",
       "7  negative      0        video  studying  \n",
       "8  negative      0        audio   cooking  \n",
       "9  negative      0        video  studying  "
      ]
     },
     "execution_count": 36,
     "metadata": {},
     "output_type": "execute_result"
    }
   ],
   "source": [
    "social_buzz_dataset.head(10)"
   ]
  },
  {
   "cell_type": "code",
   "execution_count": 38,
   "id": "e9260b4a",
   "metadata": {},
   "outputs": [
    {
     "name": "stdout",
     "output_type": "stream",
     "text": [
      "Top 5 Categories:\n",
      "technology    3073\n",
      "travel        2994\n",
      "animals       2975\n",
      "science       2845\n",
      "food          2794\n",
      "Name: Category, dtype: int64\n"
     ]
    }
   ],
   "source": [
    "top_categories = social_buzz_dataset['Category'].value_counts().head(5)\n",
    "\n",
    "print(\"Top 5 Categories:\")\n",
    "print(top_categories)"
   ]
  },
  {
   "cell_type": "markdown",
   "id": "04f57fbf",
   "metadata": {},
   "source": [
    " The above dataset is final merged dataset of  three diffrent csv file of social buzz"
   ]
  },
  {
   "cell_type": "code",
   "execution_count": 45,
   "id": "08253c7b",
   "metadata": {},
   "outputs": [
    {
     "data": {
      "text/plain": [
       "<pandas.core.groupby.generic.DataFrameGroupBy object at 0x0000029B3E359510>"
      ]
     },
     "execution_count": 45,
     "metadata": {},
     "output_type": "execute_result"
    }
   ],
   "source": [
    "top_categories = social_buzz_dataset['Category'].value_counts().head(5)\n",
    "\n",
    "# Group by the top 5 categories\n",
    "grouped_df = social_buzz_dataset[social_buzz_dataset['Category'].isin(top_categories)].groupby('Category')\n",
    "\n",
    "# Perform further analysis or aggregation on grouped data\n",
    "# For example, you can calculate the sum of 'Value' for each category\n",
    "grouped_df"
   ]
  },
  {
   "cell_type": "code",
   "execution_count": 47,
   "id": "d88dcb92",
   "metadata": {},
   "outputs": [],
   "source": [
    "# Assuming you have obtained the top categories using the line you provided\n",
    "top_categories = social_buzz_dataset['Category'].value_counts().head(5)\n",
    "\n",
    "# Assuming 'social_buzz_dataset' is your DataFrame\n",
    "# Filter the DataFrame to keep only rows with categories from the top 5\n",
    "filtered_df = social_buzz_dataset[social_buzz_dataset['Category'].isin(top_categories.index)]\n",
    "\n",
    "# Now 'filtered_df' contains only the rows with categories from the top 5\n"
   ]
  },
  {
   "cell_type": "code",
   "execution_count": 56,
   "id": "bd3c5204",
   "metadata": {},
   "outputs": [],
   "source": [
    "filtered_df = filtered_df.groupby('Category')"
   ]
  },
  {
   "cell_type": "code",
   "execution_count": 57,
   "id": "15e62da9",
   "metadata": {},
   "outputs": [
    {
     "name": "stdout",
     "output_type": "stream",
     "text": [
      "Category: animals\n",
      "                                    User ID Type_base             Datetime  \\\n",
      "367    10f311c3-f547-4260-8c0e-a155008b7936   disgust  2021-01-13 23:35:56   \n",
      "369    10f311c3-f547-4260-8c0e-a155008b7936   disgust  2021-01-23 05:42:10   \n",
      "371    10f311c3-f547-4260-8c0e-a155008b7936   dislike  2020-11-07 15:12:25   \n",
      "373    10f311c3-f547-4260-8c0e-a155008b7936   dislike  2020-11-05 07:12:26   \n",
      "375    10f311c3-f547-4260-8c0e-a155008b7936   dislike  2021-01-03 11:25:39   \n",
      "...                                     ...       ...                  ...   \n",
      "44504  a6f003be-b0fd-4100-b4cc-f568a21b9745     adore  2020-08-11 18:55:51   \n",
      "44507  a6f003be-b0fd-4100-b4cc-f568a21b9745     adore  2021-03-23 15:04:50   \n",
      "44510  a6f003be-b0fd-4100-b4cc-f568a21b9745     adore  2020-12-19 16:25:56   \n",
      "44513  a6f003be-b0fd-4100-b4cc-f568a21b9745     adore  2020-07-04 00:13:55   \n",
      "44516  a6f003be-b0fd-4100-b4cc-f568a21b9745     adore  2021-05-16 08:59:32   \n",
      "\n",
      "      Sentiment  Score Type_content Category  \n",
      "367    negative      0        photo  animals  \n",
      "369    negative      0        photo  animals  \n",
      "371    negative     10        photo  animals  \n",
      "373    negative     10        photo  animals  \n",
      "375    negative     10        photo  animals  \n",
      "...         ...    ...          ...      ...  \n",
      "44504  positive     72        photo  animals  \n",
      "44507  positive     72        photo  animals  \n",
      "44510  positive     72        photo  animals  \n",
      "44513  positive     72        photo  animals  \n",
      "44516  positive     72        photo  animals  \n",
      "\n",
      "[2975 rows x 7 columns]\n",
      "\n",
      "Category: food\n",
      "                                    User ID Type_base             Datetime  \\\n",
      "180    4c0558bc-b0d9-44b0-8b70-5fc6acb6c362   disgust  2021-01-14 07:21:32   \n",
      "181    4c0558bc-b0d9-44b0-8b70-5fc6acb6c362   disgust  2021-01-14 07:21:32   \n",
      "184    4c0558bc-b0d9-44b0-8b70-5fc6acb6c362   disgust  2020-12-10 07:13:47   \n",
      "185    4c0558bc-b0d9-44b0-8b70-5fc6acb6c362   disgust  2020-12-10 07:13:47   \n",
      "188    4c0558bc-b0d9-44b0-8b70-5fc6acb6c362   dislike  2020-07-21 13:48:02   \n",
      "...                                     ...       ...                  ...   \n",
      "44216  d0ea9a00-4ea9-4c81-b16a-a20b72f824ea     adore  2020-12-29 04:08:51   \n",
      "44220  d0ea9a00-4ea9-4c81-b16a-a20b72f824ea     adore  2020-12-04 15:51:43   \n",
      "44224  d0ea9a00-4ea9-4c81-b16a-a20b72f824ea     adore  2020-06-23 11:24:05   \n",
      "44228  d0ea9a00-4ea9-4c81-b16a-a20b72f824ea     adore  2020-09-03 06:38:12   \n",
      "44232  d0ea9a00-4ea9-4c81-b16a-a20b72f824ea     adore  2021-03-30 22:06:27   \n",
      "\n",
      "      Sentiment  Score Type_content Category  \n",
      "180    negative      0        photo     food  \n",
      "181    negative      0        video     food  \n",
      "184    negative      0        photo     food  \n",
      "185    negative      0        video     food  \n",
      "188    negative     10        photo     food  \n",
      "...         ...    ...          ...      ...  \n",
      "44216  positive     72          GIF     food  \n",
      "44220  positive     72          GIF     food  \n",
      "44224  positive     72          GIF     food  \n",
      "44228  positive     72          GIF     food  \n",
      "44232  positive     72          GIF     food  \n",
      "\n",
      "[2794 rows x 7 columns]\n",
      "\n",
      "Category: science\n",
      "                                    User ID Type_base             Datetime  \\\n",
      "543    85503a94-e733-486e-989e-12ff9b59f2d3   disgust  2021-05-27 01:44:22   \n",
      "545    85503a94-e733-486e-989e-12ff9b59f2d3   disgust  2021-03-18 22:16:29   \n",
      "547    85503a94-e733-486e-989e-12ff9b59f2d3   disgust  2020-12-23 03:39:58   \n",
      "549    85503a94-e733-486e-989e-12ff9b59f2d3   disgust  2021-01-14 06:20:48   \n",
      "551    85503a94-e733-486e-989e-12ff9b59f2d3   dislike  2020-10-27 23:14:54   \n",
      "...                                     ...       ...                  ...   \n",
      "43766  7d624010-a0e7-455b-a606-48c5c467dd80      love  2020-08-29 21:25:08   \n",
      "43768  7d624010-a0e7-455b-a606-48c5c467dd80      love  2021-06-01 09:11:58   \n",
      "43770  7d624010-a0e7-455b-a606-48c5c467dd80     adore  2020-12-02 04:59:09   \n",
      "43772  7d624010-a0e7-455b-a606-48c5c467dd80     adore  2020-06-30 09:48:27   \n",
      "43774  7d624010-a0e7-455b-a606-48c5c467dd80     adore  2020-09-26 19:14:32   \n",
      "\n",
      "      Sentiment  Score Type_content Category  \n",
      "543    negative      0        video  science  \n",
      "545    negative      0        video  science  \n",
      "547    negative      0        video  science  \n",
      "549    negative      0        video  science  \n",
      "551    negative     10        video  science  \n",
      "...         ...    ...          ...      ...  \n",
      "43766  positive     65        photo  science  \n",
      "43768  positive     65        photo  science  \n",
      "43770  positive     72        photo  science  \n",
      "43772  positive     72        photo  science  \n",
      "43774  positive     72        photo  science  \n",
      "\n",
      "[2845 rows x 7 columns]\n",
      "\n",
      "Category: technology\n",
      "                                    User ID  Type_base             Datetime  \\\n",
      "1035   3e65775b-36e4-495d-9c45-28127fb3da5f    disgust  2020-12-08 13:12:56   \n",
      "1038   3e65775b-36e4-495d-9c45-28127fb3da5f    disgust  2020-07-12 11:17:41   \n",
      "1041   3e65775b-36e4-495d-9c45-28127fb3da5f    disgust  2020-09-02 20:34:27   \n",
      "1044   3e65775b-36e4-495d-9c45-28127fb3da5f    disgust  2020-10-07 05:43:15   \n",
      "1047   3e65775b-36e4-495d-9c45-28127fb3da5f    dislike  2021-06-09 02:03:02   \n",
      "...                                     ...        ...                  ...   \n",
      "43128  bf970f55-66c1-402d-a5d7-f086421516c9  intrigued  2021-02-27 01:22:01   \n",
      "43129  bf970f55-66c1-402d-a5d7-f086421516c9  intrigued  2020-08-23 00:52:58   \n",
      "43130  bf970f55-66c1-402d-a5d7-f086421516c9       love  2020-11-17 20:08:52   \n",
      "43131  bf970f55-66c1-402d-a5d7-f086421516c9       love  2021-03-09 05:03:16   \n",
      "43132  bf970f55-66c1-402d-a5d7-f086421516c9      adore  2020-11-26 19:07:41   \n",
      "\n",
      "      Sentiment  Score Type_content    Category  \n",
      "1035   negative      0          GIF  technology  \n",
      "1038   negative      0          GIF  technology  \n",
      "1041   negative      0          GIF  technology  \n",
      "1044   negative      0          GIF  technology  \n",
      "1047   negative     10          GIF  technology  \n",
      "...         ...    ...          ...         ...  \n",
      "43128  positive     45        video  technology  \n",
      "43129  positive     45        video  technology  \n",
      "43130  positive     65        video  technology  \n",
      "43131  positive     65        video  technology  \n",
      "43132  positive     72        video  technology  \n",
      "\n",
      "[3073 rows x 7 columns]\n",
      "\n",
      "Category: travel\n",
      "                                    User ID  Type_base             Datetime  \\\n",
      "131    ef147ea5-9696-44d5-b6c2-a43f62fd8ce2    disgust  2020-08-04 05:40:33   \n",
      "132    ef147ea5-9696-44d5-b6c2-a43f62fd8ce2    disgust  2021-02-10 00:53:16   \n",
      "133    ef147ea5-9696-44d5-b6c2-a43f62fd8ce2    dislike  2020-06-29 07:21:18   \n",
      "134    ef147ea5-9696-44d5-b6c2-a43f62fd8ce2    dislike  2020-11-06 03:56:50   \n",
      "135    ef147ea5-9696-44d5-b6c2-a43f62fd8ce2    dislike  2020-12-06 02:49:04   \n",
      "...                                     ...        ...                  ...   \n",
      "44372  2a41e628-4cc5-4765-af2e-8b3dec750c0b  intrigued  2021-01-10 19:23:32   \n",
      "44375  2a41e628-4cc5-4765-af2e-8b3dec750c0b  intrigued  2021-02-25 20:33:53   \n",
      "44378  2a41e628-4cc5-4765-af2e-8b3dec750c0b       love  2020-10-29 15:18:02   \n",
      "44381  2a41e628-4cc5-4765-af2e-8b3dec750c0b      adore  2021-05-20 22:03:27   \n",
      "44384  2a41e628-4cc5-4765-af2e-8b3dec750c0b      adore  2020-10-08 04:10:26   \n",
      "\n",
      "      Sentiment  Score Type_content Category  \n",
      "131    negative      0        photo   travel  \n",
      "132    negative      0        photo   travel  \n",
      "133    negative     10        photo   travel  \n",
      "134    negative     10        photo   travel  \n",
      "135    negative     10        photo   travel  \n",
      "...         ...    ...          ...      ...  \n",
      "44372  positive     45          GIF   travel  \n",
      "44375  positive     45          GIF   travel  \n",
      "44378  positive     65          GIF   travel  \n",
      "44381  positive     72          GIF   travel  \n",
      "44384  positive     72          GIF   travel  \n",
      "\n",
      "[2994 rows x 7 columns]\n",
      "\n"
     ]
    }
   ],
   "source": [
    "for category, group in filtered_df:\n",
    "    print(\"Category:\", category)\n",
    "    print(group)\n",
    "    print()  # Separate each"
   ]
  },
  {
   "cell_type": "code",
   "execution_count": 58,
   "id": "c078a864",
   "metadata": {},
   "outputs": [
    {
     "ename": "AttributeError",
     "evalue": "'DataFrameGroupBy' object has no attribute 'to_csv'",
     "output_type": "error",
     "traceback": [
      "\u001b[1;31m---------------------------------------------------------------------------\u001b[0m",
      "\u001b[1;31mAttributeError\u001b[0m                            Traceback (most recent call last)",
      "Cell \u001b[1;32mIn[58], line 1\u001b[0m\n\u001b[1;32m----> 1\u001b[0m filtered_df\u001b[38;5;241m.\u001b[39mto_csv(\u001b[38;5;124m'\u001b[39m\u001b[38;5;124mSocial_buzz_dataset.csv\u001b[39m\u001b[38;5;124m'\u001b[39m)\n",
      "File \u001b[1;32m~\\anaconda3\\Lib\\site-packages\\pandas\\core\\groupby\\groupby.py:987\u001b[0m, in \u001b[0;36mGroupBy.__getattr__\u001b[1;34m(self, attr)\u001b[0m\n\u001b[0;32m    984\u001b[0m \u001b[38;5;28;01mif\u001b[39;00m attr \u001b[38;5;129;01min\u001b[39;00m \u001b[38;5;28mself\u001b[39m\u001b[38;5;241m.\u001b[39mobj:\n\u001b[0;32m    985\u001b[0m     \u001b[38;5;28;01mreturn\u001b[39;00m \u001b[38;5;28mself\u001b[39m[attr]\n\u001b[1;32m--> 987\u001b[0m \u001b[38;5;28;01mraise\u001b[39;00m \u001b[38;5;167;01mAttributeError\u001b[39;00m(\n\u001b[0;32m    988\u001b[0m     \u001b[38;5;124mf\u001b[39m\u001b[38;5;124m\"\u001b[39m\u001b[38;5;124m'\u001b[39m\u001b[38;5;132;01m{\u001b[39;00m\u001b[38;5;28mtype\u001b[39m(\u001b[38;5;28mself\u001b[39m)\u001b[38;5;241m.\u001b[39m\u001b[38;5;18m__name__\u001b[39m\u001b[38;5;132;01m}\u001b[39;00m\u001b[38;5;124m'\u001b[39m\u001b[38;5;124m object has no attribute \u001b[39m\u001b[38;5;124m'\u001b[39m\u001b[38;5;132;01m{\u001b[39;00mattr\u001b[38;5;132;01m}\u001b[39;00m\u001b[38;5;124m'\u001b[39m\u001b[38;5;124m\"\u001b[39m\n\u001b[0;32m    989\u001b[0m )\n",
      "\u001b[1;31mAttributeError\u001b[0m: 'DataFrameGroupBy' object has no attribute 'to_csv'"
     ]
    }
   ],
   "source": [
    "#filtered_df.to_csv('Social_buzz_dataset.csv')"
   ]
  },
  {
   "cell_type": "code",
   "execution_count": 60,
   "id": "3ba10f55",
   "metadata": {},
   "outputs": [
    {
     "data": {
      "text/plain": [
       "'C:\\\\Users\\\\DX\\\\Desktop\\\\datascience\\\\Internship\\\\Accenture'"
      ]
     },
     "execution_count": 60,
     "metadata": {},
     "output_type": "execute_result"
    }
   ],
   "source": [
    "pwd"
   ]
  },
  {
   "cell_type": "code",
   "execution_count": 62,
   "id": "1c6a9181",
   "metadata": {},
   "outputs": [
    {
     "ename": "TypeError",
     "evalue": "bad operand type for unary +: 'str'",
     "output_type": "error",
     "traceback": [
      "\u001b[1;31m---------------------------------------------------------------------------\u001b[0m",
      "\u001b[1;31mTypeError\u001b[0m                                 Traceback (most recent call last)",
      "Cell \u001b[1;32mIn[62], line 7\u001b[0m\n\u001b[0;32m      4\u001b[0m \u001b[38;5;66;03m# Iterate over the groups and save them as CSV files\u001b[39;00m\n\u001b[0;32m      5\u001b[0m \u001b[38;5;28;01mfor\u001b[39;00m category, group \u001b[38;5;129;01min\u001b[39;00m filtered_df:\n\u001b[0;32m      6\u001b[0m     \u001b[38;5;66;03m# Create a file name based on the category\u001b[39;00m\n\u001b[1;32m----> 7\u001b[0m     file_name \u001b[38;5;241m=\u001b[39m output_directory \u001b[38;5;241m+\u001b[39m \u001b[38;5;241m+\u001b[39m \u001b[38;5;124m'\u001b[39m\u001b[38;5;124m.csv\u001b[39m\u001b[38;5;124m'\u001b[39m\n\u001b[0;32m      8\u001b[0m     \u001b[38;5;66;03m# Save the group to a CSV file\u001b[39;00m\n\u001b[0;32m      9\u001b[0m     group\u001b[38;5;241m.\u001b[39mto_csv(file_name, index\u001b[38;5;241m=\u001b[39m\u001b[38;5;28;01mFalse\u001b[39;00m)\n",
      "\u001b[1;31mTypeError\u001b[0m: bad operand type for unary +: 'str'"
     ]
    }
   ],
   "source": [
    "# Define a directory path to save the CSV files\n",
    "output_directory = 'C:\\\\Users\\\\DX\\\\Desktop\\\\datascience\\\\Internship\\\\Accenture\\\\'\n",
    "\n",
    "# Iterate over the groups and save them as CSV files\n",
    "for category, group in filtered_df:\n",
    "    # Create a file name based on the category\n",
    "    file_name = output_directory + category + '.csv'\n",
    "    # Save the group to a CSV file\n",
    "    group.to_csv(file_name, index=False)"
   ]
  },
  {
   "cell_type": "code",
   "execution_count": 65,
   "id": "b0acdaa7",
   "metadata": {},
   "outputs": [],
   "source": [
    "output_file = 'C:\\\\Users\\\\DX\\\\Desktop\\\\datascience\\\\Internship\\\\Accenture\\\\social_buzz_data.csv'\n",
    "\n",
    "# Concatenate all groups together\n",
    "combined_data = pd.concat([group for _, group in filtered_df])\n",
    "\n",
    "# Save the combined data to a CSV file\n",
    "combined_data.to_csv(output_file, index=False)"
   ]
  },
  {
   "cell_type": "code",
   "execution_count": null,
   "id": "455c7358",
   "metadata": {},
   "outputs": [],
   "source": []
  }
 ],
 "metadata": {
  "kernelspec": {
   "display_name": "Python 3 (ipykernel)",
   "language": "python",
   "name": "python3"
  },
  "language_info": {
   "codemirror_mode": {
    "name": "ipython",
    "version": 3
   },
   "file_extension": ".py",
   "mimetype": "text/x-python",
   "name": "python",
   "nbconvert_exporter": "python",
   "pygments_lexer": "ipython3",
   "version": "3.11.4"
  }
 },
 "nbformat": 4,
 "nbformat_minor": 5
}
