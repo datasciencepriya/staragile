{
 "cells": [
  {
   "cell_type": "markdown",
   "id": "8a30d880",
   "metadata": {
    "id": "8a30d880"
   },
   "source": [
    "# Assessment - 6 Gradable\n",
    "\n",
    "- Each question carries 5 or 4 marks\n",
    "- Marks will be assigned in terms of:\n",
    "    \n",
    "    **1. Expected output**\n",
    "    \n",
    "    **2. Quality and Explainability of code**\n",
    "\n",
    "    ***Go back through the script and type a comment above each line explaining in English what it does.***\n",
    "\n",
    "    **3. Copied code, if found, will result in 0 marks for that question. To avoid this make as much comments in the code to explain the approach**"
   ]
  },
  {
   "cell_type": "markdown",
   "id": "86255064",
   "metadata": {
    "id": "86255064"
   },
   "source": [
    "### 1. \n",
    "\n",
    "Write a Program to create a class 'Company' and using the class instance and print all the writable attributes of that object such as age, gender, salary, profession and designation. We take atleast 5 employees of an organization"
   ]
  },
  {
   "cell_type": "code",
   "execution_count": 1,
   "id": "4a098962",
   "metadata": {
    "id": "4a098962"
   },
   "outputs": [],
   "source": [
    "class company:\n",
    "    def __init__(self, fname, lname, age, gender, salary, profession, designation):\n",
    "        self.first_name  = fname\n",
    "        self.last_name   = lname\n",
    "        self.age         = age\n",
    "        self.gender      = gender\n",
    "        self.salary      = salary\n",
    "        self.profession  = profession\n",
    "        self.designation = designation\n",
    "        \n",
    "        \n",
    "    def show(self):\n",
    "        print('The deatils are : ')\n",
    "        print('First name : ', self.first_name)\n",
    "        print('Last name  : ', self.last_name)\n",
    "        print('Age        : ', self.age)\n",
    "        print('Gender     : ', self.gender)\n",
    "        print('Salary     : ', self.salary)\n",
    "        print('Profession : ', self.profession)\n",
    "        print('Designation: ', self.designation)\n",
    "        \n",
    "        \n",
    "    def update_age(self, new_age):\n",
    "        self.age = new_age\n",
    "        print('The department for {} {} has been updated to {}'.format(self.first_name, self.last_name, self.age))\n",
    "        \n",
    "    def update_org(self, new_gender):\n",
    "        self.gender = new_gender\n",
    "        print('The organisation for {} {} has been updated to {}'.format(self.first_name, self.last_name, self.gender))\n",
    "        \n",
    "    def update_salary(self, new_salary):\n",
    "        self.salary = new_salary\n",
    "        print('The salary for {} {} has been updated to {}'.format(self.first_name, self.last_name, self.salary))\n",
    "    \n",
    "    def update_profession(self, new_profession):\n",
    "        self.profession = new_prof\n",
    "        print('The profession for {} {} has been updated to {}'.format(self.first_name, self.last_name, self.profession))\n",
    "    \n",
    "    \n",
    "    def update_designation(self, new_designation):\n",
    "        self.designation = new_prof\n",
    "        print('The designation for {} {} has been updated to {}'.format(self.first_name, self.last_name, self.designation))\n",
    "    "
   ]
  },
  {
   "cell_type": "code",
   "execution_count": 2,
   "id": "138b4aa2",
   "metadata": {},
   "outputs": [],
   "source": [
    "person1 = company('Priya','Dayalan',38,'Female', 30000,'IT', 'software developer')\n",
    "person2 = company('Kanimozhi','Elumalai',27,'Female',50000, 'Bank', 'DBA')\n",
    "person3 = company('Kalai','Selvan',23,'Male',40000,'Medical', 'Doctor')\n",
    "person4 = company('Raji', 'sathish',30,'Female',55000,'Government', 'Professor')\n",
    "person5 = company('Goms', 'Ramya',26,'Female',80000,'IT','Dataanalyst')"
   ]
  },
  {
   "cell_type": "code",
   "execution_count": 3,
   "id": "b8ed07c8",
   "metadata": {
    "scrolled": false
   },
   "outputs": [
    {
     "name": "stdout",
     "output_type": "stream",
     "text": [
      "The deatils are : \n",
      "First name :  Priya\n",
      "Last name  :  Dayalan\n",
      "Age        :  38\n",
      "Gender     :  Female\n",
      "Salary     :  30000\n",
      "Profession :  IT\n",
      "Designation:  software developer\n"
     ]
    }
   ],
   "source": [
    "person1.show()"
   ]
  },
  {
   "cell_type": "code",
   "execution_count": 4,
   "id": "a82d12ac",
   "metadata": {
    "scrolled": true
   },
   "outputs": [
    {
     "name": "stdout",
     "output_type": "stream",
     "text": [
      "The deatils are : \n",
      "First name :  Kanimozhi\n",
      "Last name  :  Elumalai\n",
      "Age        :  27\n",
      "Gender     :  Female\n",
      "Salary     :  50000\n",
      "Profession :  Bank\n",
      "Designation:  DBA\n"
     ]
    }
   ],
   "source": [
    "person2.show()"
   ]
  },
  {
   "cell_type": "code",
   "execution_count": 5,
   "id": "5c40ad5f",
   "metadata": {
    "scrolled": true
   },
   "outputs": [
    {
     "name": "stdout",
     "output_type": "stream",
     "text": [
      "The deatils are : \n",
      "First name :  Kalai\n",
      "Last name  :  Selvan\n",
      "Age        :  23\n",
      "Gender     :  Male\n",
      "Salary     :  40000\n",
      "Profession :  Medical\n",
      "Designation:  Doctor\n"
     ]
    }
   ],
   "source": [
    "person3.show()"
   ]
  },
  {
   "cell_type": "code",
   "execution_count": 6,
   "id": "a5239b98",
   "metadata": {
    "scrolled": true
   },
   "outputs": [
    {
     "name": "stdout",
     "output_type": "stream",
     "text": [
      "The deatils are : \n",
      "First name :  Raji\n",
      "Last name  :  sathish\n",
      "Age        :  30\n",
      "Gender     :  Female\n",
      "Salary     :  55000\n",
      "Profession :  Government\n",
      "Designation:  Professor\n"
     ]
    }
   ],
   "source": [
    "person4.show()"
   ]
  },
  {
   "cell_type": "code",
   "execution_count": 7,
   "id": "b3eb090e",
   "metadata": {},
   "outputs": [
    {
     "name": "stdout",
     "output_type": "stream",
     "text": [
      "The deatils are : \n",
      "First name :  Goms\n",
      "Last name  :  Ramya\n",
      "Age        :  26\n",
      "Gender     :  Female\n",
      "Salary     :  80000\n",
      "Profession :  IT\n",
      "Designation:  Dataanalyst\n"
     ]
    }
   ],
   "source": [
    "person5.show()"
   ]
  },
  {
   "cell_type": "markdown",
   "id": "df5c6917",
   "metadata": {
    "id": "df5c6917"
   },
   "source": [
    "### 2. \n",
    "\n",
    "Write a program to store details of 6 customers in a text file with features of Unique Customer Id, Name, Location, Phone Number, Last Purchase Date for an ecommerce website that canbe considered for future records\n"
   ]
  },
  {
   "cell_type": "code",
   "execution_count": 8,
   "id": "6aaac08a",
   "metadata": {
    "id": "6aaac08a"
   },
   "outputs": [
    {
     "ename": "NameError",
     "evalue": "name 'create_customer_record' is not defined",
     "output_type": "error",
     "traceback": [
      "\u001b[1;31m---------------------------------------------------------------------------\u001b[0m",
      "\u001b[1;31mNameError\u001b[0m                                 Traceback (most recent call last)",
      "Cell \u001b[1;32mIn[8], line 21\u001b[0m\n\u001b[0;32m     19\u001b[0m     \u001b[38;5;28mprint\u001b[39m(\u001b[38;5;124m\"\u001b[39m\u001b[38;5;124mCustomer records have been saved to customer_records.txt.\u001b[39m\u001b[38;5;124m\"\u001b[39m)\n\u001b[0;32m     20\u001b[0m \u001b[38;5;28;01mif\u001b[39;00m \u001b[38;5;18m__name__\u001b[39m \u001b[38;5;241m==\u001b[39m \u001b[38;5;124m\"\u001b[39m\u001b[38;5;124m__main__\u001b[39m\u001b[38;5;124m\"\u001b[39m:\n\u001b[1;32m---> 21\u001b[0m     main()\n",
      "Cell \u001b[1;32mIn[8], line 16\u001b[0m, in \u001b[0;36mmain\u001b[1;34m()\u001b[0m\n\u001b[0;32m     13\u001b[0m     file\u001b[38;5;241m.\u001b[39mwrite(\u001b[38;5;124m\"\u001b[39m\u001b[38;5;124mCustomer ID,Name,Location,Phone Number,Last Purchase Date\u001b[39m\u001b[38;5;130;01m\\n\u001b[39;00m\u001b[38;5;124m\"\u001b[39m)\n\u001b[0;32m     15\u001b[0m     \u001b[38;5;28;01mfor\u001b[39;00m i \u001b[38;5;129;01min\u001b[39;00m \u001b[38;5;28mrange\u001b[39m(\u001b[38;5;241m6\u001b[39m):\n\u001b[1;32m---> 16\u001b[0m         customer_record \u001b[38;5;241m=\u001b[39m create_customer_record()\n\u001b[0;32m     17\u001b[0m         file\u001b[38;5;241m.\u001b[39mwrite(customer_record)\n\u001b[0;32m     19\u001b[0m \u001b[38;5;28mprint\u001b[39m(\u001b[38;5;124m\"\u001b[39m\u001b[38;5;124mCustomer records have been saved to customer_records.txt.\u001b[39m\u001b[38;5;124m\"\u001b[39m)\n",
      "\u001b[1;31mNameError\u001b[0m: name 'create_customer_record' is not defined"
     ]
    }
   ],
   "source": [
    "def record():\n",
    "    customer_id = input(\"Enter Customer ID: \")\n",
    "    name = input(\"Enter Customer Name: \")\n",
    "    location = input(\"Enter Customer Location: \")\n",
    "    phone_number = input(\"Enter Customer Phone Number: \")\n",
    "    last_purchase_date = input(\"Enter Last Purchase Date: \")\n",
    "\n",
    "    return (customer_id,name,location,phone_number,last_purchase_date)\n",
    "\n",
    "def main():\n",
    "    \n",
    "    with open(\"customer_records.txt\", \"w\") as file:\n",
    "        file.write(\"Customer ID,Name,Location,Phone Number,Last Purchase Date\\n\")\n",
    "        \n",
    "        for i in range(6):\n",
    "            customer_record = create_customer_record()\n",
    "            file.write(customer_record)\n",
    "\n",
    "    print(\"Customer records have been saved to customer_records.txt.\")\n",
    "if __name__ == \"__main__\":\n",
    "    main()\n",
    "\n"
   ]
  },
  {
   "cell_type": "code",
   "execution_count": null,
   "id": "f34a0b48",
   "metadata": {},
   "outputs": [],
   "source": []
  },
  {
   "cell_type": "code",
   "execution_count": 9,
   "id": "e181ed12",
   "metadata": {},
   "outputs": [
    {
     "ename": "SyntaxError",
     "evalue": "'return' outside function (4135129114.py, line 8)",
     "output_type": "error",
     "traceback": [
      "\u001b[1;36m  Cell \u001b[1;32mIn[9], line 8\u001b[1;36m\u001b[0m\n\u001b[1;33m    return f\"{customer_id},{name},{location},{phone_number},{last_purchase_date}\\n\"\u001b[0m\n\u001b[1;37m    ^\u001b[0m\n\u001b[1;31mSyntaxError\u001b[0m\u001b[1;31m:\u001b[0m 'return' outside function\n"
     ]
    }
   ],
   "source": [
    "class customer_record():\n",
    "    def create_customer_record():\n",
    "        customer_id = input(\"Enter Customer ID: \")\n",
    "        name = input(\"Enter Customer Name: \")\n",
    "        location = input(\"Enter Customer Location: \")\n",
    "        phone_number = input(\"Enter Customer Phone Number: \")\n",
    "        last_purchase_date = input(\"Enter Last Purchase Date: \")\n",
    "    return f\"{customer_id},{name},{location},{phone_number},{last_purchase_date}\\n\"\n",
    "\n",
    "def main():\n",
    "    with open(\"customer_records.txt\", \"w\") as file:\n",
    "        file.write(\"Customer ID,Name,Location,Phone Number,Last Purchase Date\\n\")\n",
    "\n",
    "        for i in range(6):\n",
    "            customer_record = create_customer_record()\n",
    "            file.write(customer_record)\n",
    "\n",
    "    print(\"Customer records have been saved to customer_records.txt.\")\n",
    "\n",
    "if __name__ == \"__main__\":\n",
    "    main()\n"
   ]
  },
  {
   "cell_type": "code",
   "execution_count": 11,
   "id": "d5543be5",
   "metadata": {},
   "outputs": [
    {
     "name": "stdout",
     "output_type": "stream",
     "text": [
      "Enter Customer ID: asfdgd\n",
      "Enter Customer Name: fgffd\n",
      "Enter Customer Location: fdgdg\n",
      "Enter Customer Phone Number: dgffg\n",
      "Enter Last Purchase Date: gsgsa\n",
      "Enter Customer ID: gshsh\n",
      "Enter Customer Name: hshsaea\n",
      "Enter Customer Location: ghshsd\n",
      "Enter Customer Phone Number: ghshdhh\n",
      "Enter Last Purchase Date: aaaada\n",
      "Enter Customer ID: sdgdhh\n",
      "Enter Customer Name: szgzdh\n",
      "Enter Customer Location: zghsfh\n",
      "Enter Customer Phone Number: shfhf\n",
      "Enter Last Purchase Date: sgdwewrae\n",
      "Enter Customer ID: hsfawer\n",
      "Enter Customer Name: hsaws\n",
      "Enter Customer Location: gshass\n",
      "Enter Customer Phone Number: hsdgae\n",
      "Enter Last Purchase Date: gdsdsd\n",
      "Enter Customer ID: gdghsee\n",
      "Enter Customer Name: dfsrew\n",
      "Enter Customer Location: gahde\n",
      "Enter Customer Phone Number: eafafa\n",
      "Enter Last Purchase Date: gssf\n",
      "Enter Customer ID: aagdfas\n",
      "Enter Customer Name: ADWEW\n",
      "Enter Customer Location: SGSDFD\n",
      "Enter Customer Phone Number: WFAFAS\n",
      "Enter Last Purchase Date: ASDSD\n",
      "Customer records have been saved to customer_records.txt.\n"
     ]
    }
   ],
   "source": [
    "class CustomerRecord:\n",
    "    \n",
    "    def create_customer_record():\n",
    "        customer_id = input(\"Enter Customer ID: \")\n",
    "        name = input(\"Enter Customer Name: \")\n",
    "        location = input(\"Enter Customer Location: \")\n",
    "        phone_number = input(\"Enter Customer Phone Number: \")\n",
    "        last_purchase_date = input(\"Enter Last Purchase Date: \")\n",
    "        return f\"{customer_id},{name},{location},{phone_number},{last_purchase_date}\\n\"\n",
    "\n",
    "def main():\n",
    "    with open(\"customer_records.txt\", \"w\") as file:\n",
    "        file.write(\"Customer ID,Name,Location,Phone Number,Last Purchase Date\\n\")\n",
    "\n",
    "        for i in range(6):\n",
    "            customer_record = CustomerRecord.create_customer_record()\n",
    "            file.write(customer_record)\n",
    "\n",
    "    print(\"Customer records have been saved to customer_records.txt.\")\n",
    "\n",
    "if __name__ == \"__main__\":\n",
    "    main()\n"
   ]
  },
  {
   "cell_type": "code",
   "execution_count": 1,
   "id": "aeb06309",
   "metadata": {},
   "outputs": [
    {
     "name": "stdout",
     "output_type": "stream",
     "text": [
      "Enter customer name: priya\n",
      "Enter customer location: chennai\n",
      "Enter customer phone number: 87664322321\n",
      "Enter customer last purchase date: 2442343r\n",
      "Enter customer name: erwerre\n",
      "Enter customer location: efgfegg\n",
      "Enter customer phone number: fdggds\n",
      "Enter customer last purchase date: dfgg\n",
      "Enter customer name: dggg\n",
      "Enter customer location: fggg\n",
      "Enter customer phone number: ffgferrj\n",
      "Enter customer last purchase date: fgnndn\n",
      "Enter customer name: gnnnnmm\n",
      "Enter customer location: dsnnn\n",
      "Enter customer phone number: gfmmmg\n",
      "Enter customer last purchase date: mmgmgmd\n",
      "Enter customer name: dmmdnnfn\n",
      "Enter customer location: mgnmdfmm\n",
      "Enter customer phone number: mgmmfm\n",
      "Enter customer last purchase date: mmfmf\n",
      "Enter customer name: mmdmmf\n",
      "Enter customer location: nnngnn\n",
      "Enter customer phone number: \n",
      "Enter customer last purchase date: ndnndn\n",
      "Customer records have been saved to customer_records.txt.\n"
     ]
    }
   ],
   "source": [
    "import random\n",
    "\n",
    "\n",
    "def create_customer_record():\n",
    "    customer_id = generate_unique_customer_id()\n",
    "    name = input(\"Enter customer name: \")\n",
    "    location = input(\"Enter customer location: \")\n",
    "    phone_number = input(\"Enter customer phone number: \")\n",
    "    last_purchase_date = input(\"Enter customer last purchase date: \")\n",
    "    customer_record = (customer_id, name, location, phone_number, last_purchase_date)\n",
    "    return customer_record\n",
    "\n",
    "def save_customer_records(customer_records, filename):\n",
    "    with open(filename, \"w\") as file:\n",
    "        file.write(\"Customer ID,Name,Location,Phone Number,Last Purchase Date\\n\")\n",
    "        for customer_record in customer_records:\n",
    "            file.write(','.join(map(str, customer_record)) + '\\n')\n",
    "\n",
    "def main():\n",
    "    # Create the customer records.\n",
    "    customer_records = []\n",
    "    for i in range(6):\n",
    "        customer_record = create_customer_record()\n",
    "        customer_records.append(customer_record)\n",
    "\n",
    "    # Write the customer records to a file.\n",
    "    save_customer_records(customer_records, \"customer_records.txt\")\n",
    "\n",
    "    print(\"Customer records have been saved to customer_records.txt.\")\n",
    "\n",
    "if __name__ == \"__main__\":\n",
    "    main()\n"
   ]
  },
  {
   "cell_type": "code",
   "execution_count": 10,
   "id": "b17172bb",
   "metadata": {},
   "outputs": [
    {
     "ename": "TypeError",
     "evalue": "write() argument must be str, not None",
     "output_type": "error",
     "traceback": [
      "\u001b[1;31m---------------------------------------------------------------------------\u001b[0m",
      "\u001b[1;31mTypeError\u001b[0m                                 Traceback (most recent call last)",
      "Cell \u001b[1;32mIn[10], line 22\u001b[0m\n\u001b[0;32m     20\u001b[0m     \u001b[38;5;28mprint\u001b[39m(\u001b[38;5;124m\"\u001b[39m\u001b[38;5;124mCustomer records have been saved to customer.txt\u001b[39m\u001b[38;5;124m\"\u001b[39m)\n\u001b[0;32m     21\u001b[0m \u001b[38;5;28;01mif\u001b[39;00m \u001b[38;5;18m__name__\u001b[39m \u001b[38;5;241m==\u001b[39m \u001b[38;5;124m\"\u001b[39m\u001b[38;5;124m__main__\u001b[39m\u001b[38;5;124m\"\u001b[39m:\n\u001b[1;32m---> 22\u001b[0m     main()\n",
      "Cell \u001b[1;32mIn[10], line 18\u001b[0m, in \u001b[0;36mmain\u001b[1;34m()\u001b[0m\n\u001b[0;32m     16\u001b[0m     \u001b[38;5;28;01mfor\u001b[39;00m i \u001b[38;5;129;01min\u001b[39;00m \u001b[38;5;28mrange\u001b[39m(\u001b[38;5;241m6\u001b[39m):\n\u001b[0;32m     17\u001b[0m         customer_record \u001b[38;5;241m=\u001b[39m create_customer_record()\n\u001b[1;32m---> 18\u001b[0m         file\u001b[38;5;241m.\u001b[39mwrite(customer_record)\n\u001b[0;32m     20\u001b[0m \u001b[38;5;28mprint\u001b[39m(\u001b[38;5;124m\"\u001b[39m\u001b[38;5;124mCustomer records have been saved to customer.txt\u001b[39m\u001b[38;5;124m\"\u001b[39m)\n",
      "\u001b[1;31mTypeError\u001b[0m: write() argument must be str, not None"
     ]
    }
   ],
   "source": [
    "def create_customer_record():\n",
    "    outfile = open('customer.txt','w')\n",
    "    outfile.write(\"CustomerID\\tName\\tLocation\\tPhone NUmber\\tLast Purchase Date\\n\")\n",
    "    outfile.write('001\\tJohn\\tNew York\\t123456\\t20/10/23\\n')\n",
    "    outfile.write('002\\tbob\\tChennai\\t345689\\t20/10/23\\n')\n",
    "    outfile.write('003\\tmark\\tBengaluru\\t2345689\\t20/10/23\\n')\n",
    "    outfile.write('004\\tJenny\\tChennai\\t123987\\t20/10/23\\n')\n",
    "    outfile.write('005\\tken\\tMumbai\\t197856\\t20/10/23\\n')\n",
    "    outfile.write('006\\tkyle\\tLondon\\t823456\\t20/10/23\\n')\n",
    "    outfile.close()\n",
    "def main():\n",
    "    \n",
    "    with open(\"customer.txt\", \"w\") as file:\n",
    "        file.write(\"Customer ID,Name,Location,Phone Number,Last Purchase Date\\n\")\n",
    "        \n",
    "        for i in range(6):\n",
    "            customer_record = create_customer_record()\n",
    "            file.write(customer_record)\n",
    "\n",
    "    print(\"Customer records have been saved to customer.txt\")\n",
    "if __name__ == \"__main__\":\n",
    "    main()\n",
    "\n"
   ]
  },
  {
   "cell_type": "code",
   "execution_count": 11,
   "id": "e97fd304",
   "metadata": {},
   "outputs": [
    {
     "name": "stdout",
     "output_type": "stream",
     "text": [
      "Customer records have been saved to customer.txt\n"
     ]
    }
   ],
   "source": [
    "def create_customer_record():\n",
    "    return'001,John,New York,123456,20/10/23\\n' \\\n",
    "           '002,bob,Chennai,345689,20/10/23\\n' \\\n",
    "           '003,mark,Bengaluru,2345689,20/10/23\\n' \\\n",
    "           '004,Jenny,Chennai,123987,20/10/23\\n' \\\n",
    "           '005,ken,Mumbai,197856,20/10/23\\n' \\\n",
    "           '006,kyle,London,823456,20/10/23\\n'\n",
    "\n",
    "def main():\n",
    "    with open(\"customer.txt\", \"w\") as file:\n",
    "        file.write(\"Customer ID,Name,Location,Phone Number,Last Purchase Date\\n\")\n",
    "\n",
    "        for i in range(6):\n",
    "            customer_record = create_customer_record()\n",
    "            file.write(customer_record)\n",
    "\n",
    "    print(\"Customer records have been saved to customer.txt\")\n",
    "\n",
    "if __name__ == \"__main__\":\n",
    "    main()\n"
   ]
  },
  {
   "cell_type": "markdown",
   "id": "51f22264",
   "metadata": {
    "id": "51f22264"
   },
   "source": [
    "### 3. \n",
    "\n",
    "Build a Simple Calculator using Exception Handling (try, except) that solves 4 arithmetic operations like Addition, Subtraction, Multiplication and Division.\n"
   ]
  },
  {
   "cell_type": "code",
   "execution_count": null,
   "id": "5b52eb5c",
   "metadata": {
    "id": "5b52eb5c"
   },
   "outputs": [
    {
     "name": "stdout",
     "output_type": "stream",
     "text": [
      "Options:\n",
      "Enter 'add' for addition\n",
      "Enter 'subtract' for subtraction\n",
      "Enter 'multiply' for multiplication\n",
      "Enter 'divide' for division\n",
      "Enter 'exit' to end the program\n"
     ]
    }
   ],
   "source": [
    "def add(x, y):\n",
    "    return x + y\n",
    "\n",
    "def subtract(x, y):\n",
    "    return x - y\n",
    "\n",
    "def multiply(x, y):\n",
    "    return x * y\n",
    "\n",
    "def divide(x, y):\n",
    "    try:\n",
    "        result = x / y\n",
    "        return result\n",
    "    except ZeroDivisionError:\n",
    "        return \"Division by zero is not allowed.\"\n",
    "\n",
    "while True:\n",
    "    print(\"Options:\")\n",
    "    print(\"Enter 'add' for addition\")\n",
    "    print(\"Enter 'subtract' for subtraction\")\n",
    "    print(\"Enter 'multiply' for multiplication\")\n",
    "    print(\"Enter 'divide' for division\")\n",
    "    print(\"Enter 'exit' to end the program\")\n",
    "\n",
    "    user_input = input(\": \")\n",
    "\n",
    "    if user_input == \"exit\":\n",
    "        break\n",
    "    elif user_input in (\"add\", \"subtract\", \"multiply\", \"divide\"):\n",
    "        num1 = float(input(\"Enter first number: \"))\n",
    "        num2 = float(input(\"Enter second number: \"))\n",
    "\n",
    "        if user_input == \"add\":\n",
    "            try:\n",
    "                result = add(num1, num2)\n",
    "                print(\"Result: \", result)\n",
    "            except Exception as e:\n",
    "                print(\"An error occurred:\", e)\n",
    "        elif user_input == \"subtract\":\n",
    "            try:\n",
    "                result = subtract(num1, num2)\n",
    "                print(\"Result: \", result)\n",
    "            except Exception as e:\n",
    "                print(\"An error occurred:\", e)\n",
    "        elif user_input == \"multiply\":\n",
    "            try:\n",
    "                result = multiply(num1, num2)\n",
    "                print(\"Result: \", result)\n",
    "            except Exception as e:\n",
    "                print(\"An error occurred:\", e)\n",
    "        elif user_input == \"divide\":\n",
    "            result = divide(num1, num2)\n",
    "            print(\"Result: \", result)\n",
    "            if isinstance(result, str):\n",
    "                print(result)\n",
    "    else:\n",
    "        print(\"Invalid input. Please enter a valid operation.\")\n"
   ]
  },
  {
   "cell_type": "code",
   "execution_count": 10,
   "id": "d19eeaf4",
   "metadata": {},
   "outputs": [
    {
     "name": "stdout",
     "output_type": "stream",
     "text": [
      "Options:\n",
      "Enter 'add' for addition\n",
      "Enter 'subtract' for subtraction\n",
      "Enter 'multiply' for multiplication\n",
      "Enter 'divide' for division\n",
      "Enter 'exit' to end the program\n",
      ": multiply\n",
      "Enter first number: 34\n",
      "Enter second number: 66\n",
      "Result: 2244.0\n",
      "Options:\n",
      "Enter 'add' for addition\n",
      "Enter 'subtract' for subtraction\n",
      "Enter 'multiply' for multiplication\n",
      "Enter 'divide' for division\n",
      "Enter 'exit' to end the program\n",
      ": add\n",
      "Enter first number: 87\n",
      "Enter second number: 34\n",
      "Result: 121.0\n",
      "Options:\n",
      "Enter 'add' for addition\n",
      "Enter 'subtract' for subtraction\n",
      "Enter 'multiply' for multiplication\n",
      "Enter 'divide' for division\n",
      "Enter 'exit' to end the program\n",
      ": exit\n"
     ]
    }
   ],
   "source": [
    "    def add(x, y):\n",
    "        return x + y\n",
    "\n",
    "    def subtract(x, y):\n",
    "        return x - y\n",
    "\n",
    "    def multiply(x, y):\n",
    "        return x * y\n",
    "\n",
    "    def divide(x, y):\n",
    "    try:\n",
    "        result = x / y\n",
    "        return result\n",
    "    except ZeroDivisionError:\n",
    "        return \"Division by zero is not allowed.\"\n",
    "\n",
    "calculator = {\n",
    "    'add': add,\n",
    "    'subtract': subtract,\n",
    "    'multiply': multiply,\n",
    "    'divide': divide\n",
    "}\n",
    "\n",
    "while True:\n",
    "    print(\"Options:\")\n",
    "    print(\"Enter 'add' for addition\")\n",
    "    print(\"Enter 'subtract' for subtraction\")\n",
    "    print(\"Enter 'multiply' for multiplication\")\n",
    "    print(\"Enter 'divide' for division\")\n",
    "    print(\"Enter 'exit' to end the program\")\n",
    "\n",
    "    user_input = input(\": \")\n",
    "\n",
    "    if user_input == \"exit\":\n",
    "        break\n",
    "\n",
    "    if user_input in calculations:\n",
    "        num1 = float(input(\"Enter first number: \"))\n",
    "        num2 = float(input(\"Enter second number: \"))\n",
    "        operation = calculations[user_input]\n",
    "\n",
    "        try:\n",
    "            result = operation(num1, num2)\n",
    "            print(\"Result:\", result)\n",
    "        except Exception as e:\n",
    "            print(\"An error occurred:\", e)\n",
    "    else:\n",
    "        print(\"Invalid input. Please enter a valid operation.\")\n"
   ]
  },
  {
   "cell_type": "code",
   "execution_count": 17,
   "id": "2726984d",
   "metadata": {},
   "outputs": [
    {
     "name": "stdout",
     "output_type": "stream",
     "text": [
      "Options:\n",
      "Enter 'add' for addition\n",
      "Enter 'subtract' for subtraction\n",
      "Enter 'multiply' for multiplication\n",
      "Enter 'divide' for division\n",
      "Enter 'exit' to end the program\n",
      ": add\n",
      "Enter first number: 5\n",
      "Enter second number: 6\n",
      "Result: 11.0\n",
      "Options:\n",
      "Enter 'add' for addition\n",
      "Enter 'subtract' for subtraction\n",
      "Enter 'multiply' for multiplication\n",
      "Enter 'divide' for division\n",
      "Enter 'exit' to end the program\n",
      ": exit\n"
     ]
    }
   ],
   "source": [
    "class Calculator:\n",
    "    def add(self, x, y):\n",
    "        return x + y\n",
    "\n",
    "    def subtract(self, x, y):\n",
    "        return x - y\n",
    "\n",
    "    def multiply(self, x, y):\n",
    "        return x * y\n",
    "\n",
    "    def divide(self, x, y):\n",
    "        try:\n",
    "            result = x / y\n",
    "            return result\n",
    "        except ZeroDivisionError:\n",
    "            return \"Division by zero is not allowed.\"\n",
    "\n",
    "    def run_calculator(self):\n",
    "        while True:\n",
    "            print(\"Options:\")\n",
    "            print(\"Enter 'add' for addition\")\n",
    "            print(\"Enter 'subtract' for subtraction\")\n",
    "            print(\"Enter 'multiply' for multiplication\")\n",
    "            print(\"Enter 'divide' for division\")\n",
    "            print(\"Enter 'exit' to end the program\")\n",
    "\n",
    "            user_input = input(\": \")\n",
    "\n",
    "            if user_input == \"exit\":\n",
    "                break\n",
    "\n",
    "            if user_input in ['add', 'subtract', 'multiply', 'divide']:\n",
    "                num1 = float(input(\"Enter first number: \"))\n",
    "                num2 = float(input(\"Enter second number: \"))\n",
    "\n",
    "                # Using getattr to dynamically get the method based on user input\n",
    "                operation = getattr(self, user_input)\n",
    "                \n",
    "                try:\n",
    "                    result = operation(num1, num2)\n",
    "                    print(\"Result:\", result)\n",
    "                except Exception as e:\n",
    "                    print(\"An error occurred:\", e)\n",
    "            else:\n",
    "                print(\"Invalid input. Please enter a valid operation.\")\n",
    "\n",
    "# Create an instance of the Calculator class\n",
    "calculator_instance = Calculator()\n",
    "\n",
    "# Run the calculator\n",
    "calculator_instance.run_calculator()\n"
   ]
  },
  {
   "cell_type": "code",
   "execution_count": null,
   "id": "d89c2023",
   "metadata": {},
   "outputs": [],
   "source": []
  },
  {
   "cell_type": "code",
   "execution_count": null,
   "id": "28957a72",
   "metadata": {},
   "outputs": [],
   "source": []
  }
 ],
 "metadata": {
  "colab": {
   "provenance": []
  },
  "kernelspec": {
   "display_name": "Python 3 (ipykernel)",
   "language": "python",
   "name": "python3"
  },
  "language_info": {
   "codemirror_mode": {
    "name": "ipython",
    "version": 3
   },
   "file_extension": ".py",
   "mimetype": "text/x-python",
   "name": "python",
   "nbconvert_exporter": "python",
   "pygments_lexer": "ipython3",
   "version": "3.11.4"
  }
 },
 "nbformat": 4,
 "nbformat_minor": 5
}
