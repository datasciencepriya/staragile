{
 "cells": [
  {
   "cell_type": "code",
   "execution_count": 71,
   "metadata": {
    "colab": {
     "base_uri": "https://localhost:8080/"
    },
    "execution": {
     "iopub.execute_input": "2024-04-08T07:25:30.636520Z",
     "iopub.status.busy": "2024-04-08T07:25:30.635829Z",
     "iopub.status.idle": "2024-04-08T07:25:47.549787Z",
     "shell.execute_reply": "2024-04-08T07:25:47.547709Z",
     "shell.execute_reply.started": "2024-04-08T07:25:30.636480Z"
    },
    "id": "O_hDLLJlZnXH",
    "outputId": "d2180461-bf18-4c7f-886e-7257a9ea3c11"
   },
   "outputs": [
    {
     "name": "stderr",
     "output_type": "stream",
     "text": [
      "/opt/conda/lib/python3.10/pty.py:89: RuntimeWarning: os.fork() was called. os.fork() is incompatible with multithreaded code, and JAX is multithreaded, so this will likely lead to a deadlock.\n",
      "  pid, fd = os.forkpty()\n"
     ]
    },
    {
     "name": "stdout",
     "output_type": "stream",
     "text": [
      "Requirement already satisfied: autocorrect in /opt/conda/lib/python3.10/site-packages (2.6.1)\n",
      "Note: you may need to restart the kernel to use updated packages.\n"
     ]
    }
   ],
   "source": [
    "pip install autocorrect"
   ]
  },
  {
   "cell_type": "code",
   "execution_count": 72,
   "metadata": {
    "colab": {
     "base_uri": "https://localhost:8080/"
    },
    "execution": {
     "iopub.execute_input": "2024-04-08T07:25:47.554219Z",
     "iopub.status.busy": "2024-04-08T07:25:47.553558Z",
     "iopub.status.idle": "2024-04-08T07:26:04.551253Z",
     "shell.execute_reply": "2024-04-08T07:26:04.549421Z",
     "shell.execute_reply.started": "2024-04-08T07:25:47.554153Z"
    },
    "id": "RjI53g_7ZocG",
    "outputId": "05984910-f3b6-4a8e-9a5a-83c2abe64a66"
   },
   "outputs": [
    {
     "name": "stdout",
     "output_type": "stream",
     "text": [
      "Requirement already satisfied: langdetect in /opt/conda/lib/python3.10/site-packages (1.0.9)\n",
      "Requirement already satisfied: six in /opt/conda/lib/python3.10/site-packages (from langdetect) (1.16.0)\n",
      "Note: you may need to restart the kernel to use updated packages.\n"
     ]
    }
   ],
   "source": [
    "pip install langdetect"
   ]
  },
  {
   "cell_type": "code",
   "execution_count": 73,
   "metadata": {
    "colab": {
     "base_uri": "https://localhost:8080/"
    },
    "execution": {
     "iopub.execute_input": "2024-04-08T07:26:04.555463Z",
     "iopub.status.busy": "2024-04-08T07:26:04.554749Z",
     "iopub.status.idle": "2024-04-08T07:26:22.788103Z",
     "shell.execute_reply": "2024-04-08T07:26:22.785845Z",
     "shell.execute_reply.started": "2024-04-08T07:26:04.555401Z"
    },
    "id": "E0QQPC3KZonA",
    "outputId": "aec1558b-3b3d-479f-d084-fc4c017c996c"
   },
   "outputs": [
    {
     "name": "stdout",
     "output_type": "stream",
     "text": [
      "Requirement already satisfied: langid in /opt/conda/lib/python3.10/site-packages (1.1.6)\n",
      "Requirement already satisfied: numpy in /opt/conda/lib/python3.10/site-packages (from langid) (1.26.4)\n",
      "Note: you may need to restart the kernel to use updated packages.\n"
     ]
    }
   ],
   "source": [
    "pip install langid"
   ]
  },
  {
   "cell_type": "code",
   "execution_count": 74,
   "metadata": {
    "colab": {
     "base_uri": "https://localhost:8080/"
    },
    "execution": {
     "iopub.execute_input": "2024-04-08T07:26:22.793817Z",
     "iopub.status.busy": "2024-04-08T07:26:22.792500Z",
     "iopub.status.idle": "2024-04-08T07:26:40.311393Z",
     "shell.execute_reply": "2024-04-08T07:26:40.309594Z",
     "shell.execute_reply.started": "2024-04-08T07:26:22.793758Z"
    },
    "id": "W2v1mZhLZowh",
    "outputId": "40b17473-9ac5-420c-9d51-92e1cfacbcb9"
   },
   "outputs": [
    {
     "name": "stdout",
     "output_type": "stream",
     "text": [
      "Requirement already satisfied: contractions in /opt/conda/lib/python3.10/site-packages (0.1.73)\n",
      "Requirement already satisfied: textsearch>=0.0.21 in /opt/conda/lib/python3.10/site-packages (from contractions) (0.0.24)\n",
      "Requirement already satisfied: anyascii in /opt/conda/lib/python3.10/site-packages (from textsearch>=0.0.21->contractions) (0.3.2)\n",
      "Requirement already satisfied: pyahocorasick in /opt/conda/lib/python3.10/site-packages (from textsearch>=0.0.21->contractions) (2.1.0)\n",
      "Note: you may need to restart the kernel to use updated packages.\n"
     ]
    }
   ],
   "source": [
    "pip install contractions"
   ]
  },
  {
   "cell_type": "code",
   "execution_count": 75,
   "metadata": {
    "colab": {
     "base_uri": "https://localhost:8080/"
    },
    "execution": {
     "iopub.execute_input": "2024-04-08T07:26:40.313963Z",
     "iopub.status.busy": "2024-04-08T07:26:40.313510Z",
     "iopub.status.idle": "2024-04-08T07:26:40.636258Z",
     "shell.execute_reply": "2024-04-08T07:26:40.634495Z",
     "shell.execute_reply.started": "2024-04-08T07:26:40.313927Z"
    },
    "id": "HjprmGieaTjm",
    "outputId": "a173d9fc-c10a-4ae6-872a-6cc50ba9956b"
   },
   "outputs": [
    {
     "name": "stdout",
     "output_type": "stream",
     "text": [
      "[nltk_data] Downloading package punkt to /usr/share/nltk_data...\n",
      "[nltk_data]   Package punkt is already up-to-date!\n"
     ]
    },
    {
     "data": {
      "text/plain": [
       "True"
      ]
     },
     "execution_count": 75,
     "metadata": {},
     "output_type": "execute_result"
    }
   ],
   "source": [
    "import nltk\n",
    "nltk.download('punkt')"
   ]
  },
  {
   "cell_type": "code",
   "execution_count": 76,
   "metadata": {
    "colab": {
     "base_uri": "https://localhost:8080/"
    },
    "execution": {
     "iopub.execute_input": "2024-04-08T07:26:40.638364Z",
     "iopub.status.busy": "2024-04-08T07:26:40.637779Z",
     "iopub.status.idle": "2024-04-08T07:26:40.651363Z",
     "shell.execute_reply": "2024-04-08T07:26:40.649646Z",
     "shell.execute_reply.started": "2024-04-08T07:26:40.638318Z"
    },
    "id": "HrDz1tGPbKGB",
    "outputId": "4b7b3f18-9107-4b02-d166-9e9017b26e5a"
   },
   "outputs": [
    {
     "name": "stdout",
     "output_type": "stream",
     "text": [
      "[nltk_data] Downloading package stopwords to /usr/share/nltk_data...\n",
      "[nltk_data]   Package stopwords is already up-to-date!\n"
     ]
    },
    {
     "data": {
      "text/plain": [
       "True"
      ]
     },
     "execution_count": 76,
     "metadata": {},
     "output_type": "execute_result"
    }
   ],
   "source": [
    "import nltk\n",
    "nltk.download('stopwords')"
   ]
  },
  {
   "cell_type": "code",
   "execution_count": 77,
   "metadata": {
    "colab": {
     "base_uri": "https://localhost:8080/"
    },
    "execution": {
     "iopub.execute_input": "2024-04-08T07:26:40.653701Z",
     "iopub.status.busy": "2024-04-08T07:26:40.653211Z",
     "iopub.status.idle": "2024-04-08T07:26:40.695576Z",
     "shell.execute_reply": "2024-04-08T07:26:40.693606Z",
     "shell.execute_reply.started": "2024-04-08T07:26:40.653659Z"
    },
    "id": "f4jJkTMzclSI",
    "outputId": "8a6d2835-b132-469d-89c8-c629349c7a22"
   },
   "outputs": [
    {
     "name": "stdout",
     "output_type": "stream",
     "text": [
      "[nltk_data] Downloading package wordnet to /usr/share/nltk_data...\n",
      "[nltk_data]   Package wordnet is already up-to-date!\n"
     ]
    },
    {
     "data": {
      "text/plain": [
       "True"
      ]
     },
     "execution_count": 77,
     "metadata": {},
     "output_type": "execute_result"
    }
   ],
   "source": [
    "import nltk\n",
    "nltk.download('wordnet')"
   ]
  },
  {
   "cell_type": "code",
   "execution_count": 78,
   "metadata": {
    "execution": {
     "iopub.execute_input": "2024-04-08T07:26:40.698073Z",
     "iopub.status.busy": "2024-04-08T07:26:40.697490Z",
     "iopub.status.idle": "2024-04-08T07:26:40.715560Z",
     "shell.execute_reply": "2024-04-08T07:26:40.713985Z",
     "shell.execute_reply.started": "2024-04-08T07:26:40.698023Z"
    },
    "id": "PVxXolaOrKkx"
   },
   "outputs": [],
   "source": [
    "import numpy as np\n",
    "import matplotlib.pyplot as plt\n",
    "import seaborn as sns\n",
    "import tensorflow as tf\n",
    "import pandas as pd\n",
    "import seaborn as sns\n",
    "import re\n",
    "\n",
    "from nltk.corpus import stopwords\n",
    "from nltk.tokenize import word_tokenize\n",
    "from nltk.stem import WordNetLemmatizer\n",
    "from autocorrect import Speller\n",
    "from nltk.stem import PorterStemmer\n",
    "from langdetect import detect\n",
    "import langid\n",
    "import contractions\n",
    "from sklearn.ensemble import RandomForestClassifier\n",
    "from sklearn.model_selection import train_test_split\n",
    "from sklearn.metrics import accuracy_score, classification_report, confusion_matrix\n",
    "from tqdm import tqdm\n",
    "\n",
    "from tensorflow.keras.preprocessing.text import Tokenizer\n",
    "from tensorflow.keras.preprocessing.sequence import pad_sequences\n",
    "import tensorflow_datasets as tfds\n",
    "\n",
    "%matplotlib inline"
   ]
  },
  {
   "cell_type": "code",
   "execution_count": 79,
   "metadata": {
    "execution": {
     "iopub.execute_input": "2024-04-08T07:26:40.719144Z",
     "iopub.status.busy": "2024-04-08T07:26:40.717536Z",
     "iopub.status.idle": "2024-04-08T07:26:41.417576Z",
     "shell.execute_reply": "2024-04-08T07:26:41.416214Z",
     "shell.execute_reply.started": "2024-04-08T07:26:40.719091Z"
    },
    "id": "S5sl5RHtrzaW"
   },
   "outputs": [],
   "source": [
    "\n",
    "df = pd.read_csv('/kaggle/input/imdb-dataset/movie.csv', header=0)"
   ]
  },
  {
   "cell_type": "code",
   "execution_count": 80,
   "metadata": {
    "colab": {
     "base_uri": "https://localhost:8080/",
     "height": 206
    },
    "execution": {
     "iopub.execute_input": "2024-04-08T07:26:41.423930Z",
     "iopub.status.busy": "2024-04-08T07:26:41.423522Z",
     "iopub.status.idle": "2024-04-08T07:26:41.435910Z",
     "shell.execute_reply": "2024-04-08T07:26:41.434843Z",
     "shell.execute_reply.started": "2024-04-08T07:26:41.423900Z"
    },
    "id": "hUkyQjiUrzdE",
    "outputId": "74cbef5b-2dfb-42e3-abbf-678cfabbc966"
   },
   "outputs": [
    {
     "data": {
      "text/html": [
       "<div>\n",
       "<style scoped>\n",
       "    .dataframe tbody tr th:only-of-type {\n",
       "        vertical-align: middle;\n",
       "    }\n",
       "\n",
       "    .dataframe tbody tr th {\n",
       "        vertical-align: top;\n",
       "    }\n",
       "\n",
       "    .dataframe thead th {\n",
       "        text-align: right;\n",
       "    }\n",
       "</style>\n",
       "<table border=\"1\" class=\"dataframe\">\n",
       "  <thead>\n",
       "    <tr style=\"text-align: right;\">\n",
       "      <th></th>\n",
       "      <th>text</th>\n",
       "      <th>label</th>\n",
       "    </tr>\n",
       "  </thead>\n",
       "  <tbody>\n",
       "    <tr>\n",
       "      <th>0</th>\n",
       "      <td>I grew up (b. 1965) watching and loving the Th...</td>\n",
       "      <td>0</td>\n",
       "    </tr>\n",
       "    <tr>\n",
       "      <th>1</th>\n",
       "      <td>When I put this movie in my DVD player, and sa...</td>\n",
       "      <td>0</td>\n",
       "    </tr>\n",
       "    <tr>\n",
       "      <th>2</th>\n",
       "      <td>Why do people who do not know what a particula...</td>\n",
       "      <td>0</td>\n",
       "    </tr>\n",
       "    <tr>\n",
       "      <th>3</th>\n",
       "      <td>Even though I have great interest in Biblical ...</td>\n",
       "      <td>0</td>\n",
       "    </tr>\n",
       "    <tr>\n",
       "      <th>4</th>\n",
       "      <td>Im a die hard Dads Army fan and nothing will e...</td>\n",
       "      <td>1</td>\n",
       "    </tr>\n",
       "  </tbody>\n",
       "</table>\n",
       "</div>"
      ],
      "text/plain": [
       "                                                text  label\n",
       "0  I grew up (b. 1965) watching and loving the Th...      0\n",
       "1  When I put this movie in my DVD player, and sa...      0\n",
       "2  Why do people who do not know what a particula...      0\n",
       "3  Even though I have great interest in Biblical ...      0\n",
       "4  Im a die hard Dads Army fan and nothing will e...      1"
      ]
     },
     "execution_count": 80,
     "metadata": {},
     "output_type": "execute_result"
    }
   ],
   "source": [
    "df.head()"
   ]
  },
  {
   "cell_type": "code",
   "execution_count": 81,
   "metadata": {
    "colab": {
     "base_uri": "https://localhost:8080/"
    },
    "execution": {
     "iopub.execute_input": "2024-04-08T07:26:41.437780Z",
     "iopub.status.busy": "2024-04-08T07:26:41.437304Z",
     "iopub.status.idle": "2024-04-08T07:26:41.453035Z",
     "shell.execute_reply": "2024-04-08T07:26:41.450721Z",
     "shell.execute_reply.started": "2024-04-08T07:26:41.437750Z"
    },
    "id": "F9rKvU8Hyy_Z",
    "outputId": "0cf884ce-a55a-4ca4-faeb-f3136e181f60"
   },
   "outputs": [
    {
     "data": {
      "text/plain": [
       "(40000, 2)"
      ]
     },
     "execution_count": 81,
     "metadata": {},
     "output_type": "execute_result"
    }
   ],
   "source": [
    "df.shape"
   ]
  },
  {
   "cell_type": "code",
   "execution_count": 82,
   "metadata": {
    "colab": {
     "base_uri": "https://localhost:8080/"
    },
    "execution": {
     "iopub.execute_input": "2024-04-08T07:26:41.457071Z",
     "iopub.status.busy": "2024-04-08T07:26:41.455375Z",
     "iopub.status.idle": "2024-04-08T07:26:41.481755Z",
     "shell.execute_reply": "2024-04-08T07:26:41.480057Z",
     "shell.execute_reply.started": "2024-04-08T07:26:41.457016Z"
    },
    "id": "kPTlLHlWyzDA",
    "outputId": "0aa3eb76-e940-4230-87e0-879217aa7d69"
   },
   "outputs": [
    {
     "name": "stdout",
     "output_type": "stream",
     "text": [
      "<class 'pandas.core.frame.DataFrame'>\n",
      "RangeIndex: 40000 entries, 0 to 39999\n",
      "Data columns (total 2 columns):\n",
      " #   Column  Non-Null Count  Dtype \n",
      "---  ------  --------------  ----- \n",
      " 0   text    40000 non-null  object\n",
      " 1   label   40000 non-null  int64 \n",
      "dtypes: int64(1), object(1)\n",
      "memory usage: 625.1+ KB\n"
     ]
    }
   ],
   "source": [
    "df.info()"
   ]
  },
  {
   "cell_type": "code",
   "execution_count": 83,
   "metadata": {
    "colab": {
     "base_uri": "https://localhost:8080/"
    },
    "execution": {
     "iopub.execute_input": "2024-04-08T07:26:41.484130Z",
     "iopub.status.busy": "2024-04-08T07:26:41.483603Z",
     "iopub.status.idle": "2024-04-08T07:26:41.501748Z",
     "shell.execute_reply": "2024-04-08T07:26:41.499972Z",
     "shell.execute_reply.started": "2024-04-08T07:26:41.484087Z"
    },
    "id": "17uy5njsyzFK",
    "outputId": "06e54e1f-31f3-4448-994a-074a64ecc961"
   },
   "outputs": [
    {
     "data": {
      "text/plain": [
       "label\n",
       "0    20019\n",
       "1    19981\n",
       "Name: count, dtype: int64"
      ]
     },
     "execution_count": 83,
     "metadata": {},
     "output_type": "execute_result"
    }
   ],
   "source": [
    "df['label'].value_counts()"
   ]
  },
  {
   "cell_type": "code",
   "execution_count": 84,
   "metadata": {
    "colab": {
     "base_uri": "https://localhost:8080/"
    },
    "execution": {
     "iopub.execute_input": "2024-04-08T07:26:41.504388Z",
     "iopub.status.busy": "2024-04-08T07:26:41.503981Z",
     "iopub.status.idle": "2024-04-08T07:26:41.525517Z",
     "shell.execute_reply": "2024-04-08T07:26:41.524133Z",
     "shell.execute_reply.started": "2024-04-08T07:26:41.504357Z"
    },
    "id": "uaYtNG6syzJh",
    "outputId": "de77a0ae-24e1-444f-ea93-44f2a5dc236c"
   },
   "outputs": [
    {
     "data": {
      "text/plain": [
       "text     0\n",
       "label    0\n",
       "dtype: int64"
      ]
     },
     "execution_count": 84,
     "metadata": {},
     "output_type": "execute_result"
    }
   ],
   "source": [
    "df.isnull().sum()"
   ]
  },
  {
   "cell_type": "code",
   "execution_count": 85,
   "metadata": {
    "execution": {
     "iopub.execute_input": "2024-04-08T07:26:41.528803Z",
     "iopub.status.busy": "2024-04-08T07:26:41.528182Z",
     "iopub.status.idle": "2024-04-08T07:26:41.539644Z",
     "shell.execute_reply": "2024-04-08T07:26:41.538517Z",
     "shell.execute_reply.started": "2024-04-08T07:26:41.528758Z"
    },
    "id": "FLjuqU2x7-rc"
   },
   "outputs": [],
   "source": [
    "# checking the number of rows and columns\n",
    "rows,columns=df.shape[0],df.shape[1]"
   ]
  },
  {
   "cell_type": "code",
   "execution_count": 86,
   "metadata": {
    "execution": {
     "iopub.execute_input": "2024-04-08T07:26:41.541318Z",
     "iopub.status.busy": "2024-04-08T07:26:41.540916Z",
     "iopub.status.idle": "2024-04-08T07:26:41.720732Z",
     "shell.execute_reply": "2024-04-08T07:26:41.719360Z",
     "shell.execute_reply.started": "2024-04-08T07:26:41.541286Z"
    },
    "id": "5mL9c5MR7-vX"
   },
   "outputs": [],
   "source": [
    "# checking for duplicate instances\n",
    "no_of_duplicates=df.duplicated().sum()"
   ]
  },
  {
   "cell_type": "code",
   "execution_count": 87,
   "metadata": {
    "execution": {
     "iopub.execute_input": "2024-04-08T07:26:41.723851Z",
     "iopub.status.busy": "2024-04-08T07:26:41.723427Z",
     "iopub.status.idle": "2024-04-08T07:26:41.881540Z",
     "shell.execute_reply": "2024-04-08T07:26:41.879549Z",
     "shell.execute_reply.started": "2024-04-08T07:26:41.723817Z"
    },
    "id": "zPbaOhUa7--F"
   },
   "outputs": [],
   "source": [
    "# dropping the duplicate values\n",
    "df.drop_duplicates(inplace=True)"
   ]
  },
  {
   "cell_type": "code",
   "execution_count": 88,
   "metadata": {
    "execution": {
     "iopub.execute_input": "2024-04-08T07:26:41.883374Z",
     "iopub.status.busy": "2024-04-08T07:26:41.882930Z",
     "iopub.status.idle": "2024-04-08T07:26:41.901351Z",
     "shell.execute_reply": "2024-04-08T07:26:41.899272Z",
     "shell.execute_reply.started": "2024-04-08T07:26:41.883334Z"
    },
    "id": "mbgPv2dR7_Bz"
   },
   "outputs": [],
   "source": [
    "# checking for NaN values.\n",
    "no_of_nan_values=df.isna().sum()"
   ]
  },
  {
   "cell_type": "code",
   "execution_count": 89,
   "metadata": {
    "execution": {
     "iopub.execute_input": "2024-04-08T07:26:41.903460Z",
     "iopub.status.busy": "2024-04-08T07:26:41.902932Z",
     "iopub.status.idle": "2024-04-08T07:26:42.666078Z",
     "shell.execute_reply": "2024-04-08T07:26:42.664841Z",
     "shell.execute_reply.started": "2024-04-08T07:26:41.903425Z"
    },
    "id": "Rp9ICJ8I7_IP"
   },
   "outputs": [],
   "source": [
    "df['text_word_count']=df['text'].apply(lambda x:len(x.split()))"
   ]
  },
  {
   "cell_type": "code",
   "execution_count": 90,
   "metadata": {
    "colab": {
     "base_uri": "https://localhost:8080/",
     "height": 284
    },
    "execution": {
     "iopub.execute_input": "2024-04-08T07:26:42.667952Z",
     "iopub.status.busy": "2024-04-08T07:26:42.667457Z",
     "iopub.status.idle": "2024-04-08T07:26:43.326011Z",
     "shell.execute_reply": "2024-04-08T07:26:43.323972Z",
     "shell.execute_reply.started": "2024-04-08T07:26:42.667910Z"
    },
    "id": "ZQstwR797_LW",
    "outputId": "d83b6c7f-8542-4281-bfeb-318379909da2"
   },
   "outputs": [
    {
     "name": "stderr",
     "output_type": "stream",
     "text": [
      "/opt/conda/lib/python3.10/site-packages/seaborn/_oldcore.py:1119: FutureWarning: use_inf_as_na option is deprecated and will be removed in a future version. Convert inf values to NaN before operating instead.\n",
      "  with pd.option_context('mode.use_inf_as_na', True):\n"
     ]
    },
    {
     "data": {
      "image/png": "[encoded data removed]",
      "text/plain": [
       "<Figure size 2400x600 with 1 Axes>"
      ]
     },
     "metadata": {},
     "output_type": "display_data"
    }
   ],
   "source": [
    "\n",
    "num_cols = ['text_word_count']  # Ensure it's a list even if it's just one column\n",
    "plt.figure(figsize=(24, 6))\n",
    "\n",
    "for i, col in enumerate(num_cols):\n",
    "  #  plt.subplot(1, 3, i+1)\n",
    "    sns.histplot(data=df, x=col, bins=50)\n",
    "    plt.title(\"Distribution of {}\".format(col))\n",
    "\n",
    "plt.tight_layout()\n",
    "plt.show()\n"
   ]
  },
  {
   "cell_type": "code",
   "execution_count": 91,
   "metadata": {
    "colab": {
     "base_uri": "https://localhost:8080/",
     "height": 607
    },
    "execution": {
     "iopub.execute_input": "2024-04-08T07:26:43.328872Z",
     "iopub.status.busy": "2024-04-08T07:26:43.328356Z",
     "iopub.status.idle": "2024-04-08T07:26:44.108436Z",
     "shell.execute_reply": "2024-04-08T07:26:44.107176Z",
     "shell.execute_reply.started": "2024-04-08T07:26:43.328828Z"
    },
    "id": "OEZlquOb7_OO",
    "outputId": "95a46c1a-8bfa-46d6-acc5-5b8cd2412768"
   },
   "outputs": [
    {
     "name": "stderr",
     "output_type": "stream",
     "text": [
      "/opt/conda/lib/python3.10/site-packages/seaborn/_oldcore.py:1119: FutureWarning: use_inf_as_na option is deprecated and will be removed in a future version. Convert inf values to NaN before operating instead.\n",
      "  with pd.option_context('mode.use_inf_as_na', True):\n",
      "/opt/conda/lib/python3.10/site-packages/seaborn/_oldcore.py:1075: FutureWarning: When grouping with a length-1 list-like, you will need to pass a length-1 tuple to get_group in a future version of pandas. Pass `(name,)` instead of `name` to silence this warning.\n",
      "  data_subset = grouped_data.get_group(pd_key)\n",
      "/opt/conda/lib/python3.10/site-packages/seaborn/_oldcore.py:1075: FutureWarning: When grouping with a length-1 list-like, you will need to pass a length-1 tuple to get_group in a future version of pandas. Pass `(name,)` instead of `name` to silence this warning.\n",
      "  data_subset = grouped_data.get_group(pd_key)\n",
      "/opt/conda/lib/python3.10/site-packages/seaborn/_oldcore.py:1075: FutureWarning: When grouping with a length-1 list-like, you will need to pass a length-1 tuple to get_group in a future version of pandas. Pass `(name,)` instead of `name` to silence this warning.\n",
      "  data_subset = grouped_data.get_group(pd_key)\n"
     ]
    },
    {
     "data": {
      "image/png": "[encoded data removed]",
      "text/plain": [
       "<Figure size 2400x600 with 1 Axes>"
      ]
     },
     "metadata": {},
     "output_type": "display_data"
    }
   ],
   "source": [
    "num_cols = ['text_word_count']\n",
    "plt.figure(figsize=(24,6))\n",
    "for i,col in enumerate(num_cols):\n",
    "    plt.subplot(1,3,i+1)\n",
    "    sns.histplot(data=df,x=col,hue='label',bins=50)\n",
    "    plt.title(f\"Distribution of {col}\")\n",
    "plt.tight_layout()\n",
    "plt.show()"
   ]
  },
  {
   "cell_type": "code",
   "execution_count": 92,
   "metadata": {
    "colab": {
     "base_uri": "https://localhost:8080/",
     "height": 499
    },
    "execution": {
     "iopub.execute_input": "2024-04-08T07:26:44.110310Z",
     "iopub.status.busy": "2024-04-08T07:26:44.109923Z",
     "iopub.status.idle": "2024-04-08T07:26:44.298902Z",
     "shell.execute_reply": "2024-04-08T07:26:44.296954Z",
     "shell.execute_reply.started": "2024-04-08T07:26:44.110279Z"
    },
    "id": "Wuq2bsTv7_R1",
    "outputId": "d7ac9c01-f527-43d2-ebd9-1816b5ae2bff"
   },
   "outputs": [
    {
     "data": {
      "image/png": "[encoded data removed]",
      "text/plain": [
       "<Figure size 1000x600 with 1 Axes>"
      ]
     },
     "metadata": {},
     "output_type": "display_data"
    }
   ],
   "source": [
    "\n",
    "plt.figure(figsize=(10,6))\n",
    "colors=['#c29723','#23c285']\n",
    "plt.pie(df['label'].value_counts(),labels=['Positive','Negative'],autopct='%.2f%%',explode=[0.01,0.01],colors=colors);\n",
    "plt.ylabel('Movie Sentiment');"
   ]
  },
  {
   "cell_type": "code",
   "execution_count": 93,
   "metadata": {
    "execution": {
     "iopub.execute_input": "2024-04-08T07:26:44.302074Z",
     "iopub.status.busy": "2024-04-08T07:26:44.301208Z",
     "iopub.status.idle": "2024-04-08T07:26:44.310996Z",
     "shell.execute_reply": "2024-04-08T07:26:44.309146Z",
     "shell.execute_reply.started": "2024-04-08T07:26:44.302007Z"
    },
    "id": "vgI4JBap7_VM"
   },
   "outputs": [],
   "source": [
    "X= df['text']\n",
    "y= df['label']"
   ]
  },
  {
   "cell_type": "code",
   "execution_count": 94,
   "metadata": {
    "colab": {
     "base_uri": "https://localhost:8080/"
    },
    "execution": {
     "iopub.execute_input": "2024-04-08T07:26:44.315785Z",
     "iopub.status.busy": "2024-04-08T07:26:44.314413Z",
     "iopub.status.idle": "2024-04-08T07:26:44.336206Z",
     "shell.execute_reply": "2024-04-08T07:26:44.334977Z",
     "shell.execute_reply.started": "2024-04-08T07:26:44.315717Z"
    },
    "id": "ZI3yU_6uWP0N",
    "outputId": "99d45584-e9e8-48c4-c253-827816289fcd"
   },
   "outputs": [
    {
     "data": {
      "text/plain": [
       "0    I grew up (b. 1965) watching and loving the Th...\n",
       "1    When I put this movie in my DVD player, and sa...\n",
       "2    Why do people who do not know what a particula...\n",
       "3    Even though I have great interest in Biblical ...\n",
       "4    Im a die hard Dads Army fan and nothing will e...\n",
       "Name: text, dtype: object"
      ]
     },
     "execution_count": 94,
     "metadata": {},
     "output_type": "execute_result"
    }
   ],
   "source": [
    "X.head()"
   ]
  },
  {
   "cell_type": "code",
   "execution_count": 95,
   "metadata": {
    "colab": {
     "base_uri": "https://localhost:8080/"
    },
    "execution": {
     "iopub.execute_input": "2024-04-08T07:26:44.339509Z",
     "iopub.status.busy": "2024-04-08T07:26:44.338550Z",
     "iopub.status.idle": "2024-04-08T07:26:44.352273Z",
     "shell.execute_reply": "2024-04-08T07:26:44.350044Z",
     "shell.execute_reply.started": "2024-04-08T07:26:44.339450Z"
    },
    "id": "3bC91U3ADeNR",
    "outputId": "5a5215f5-a4ea-4859-c055-a21d564f2822"
   },
   "outputs": [
    {
     "data": {
      "text/plain": [
       "0    0\n",
       "1    0\n",
       "2    0\n",
       "3    0\n",
       "4    1\n",
       "Name: label, dtype: int64"
      ]
     },
     "execution_count": 95,
     "metadata": {},
     "output_type": "execute_result"
    }
   ],
   "source": [
    "y.head()"
   ]
  },
  {
   "cell_type": "code",
   "execution_count": 96,
   "metadata": {
    "colab": {
     "base_uri": "https://localhost:8080/"
    },
    "execution": {
     "iopub.execute_input": "2024-04-08T07:26:44.356134Z",
     "iopub.status.busy": "2024-04-08T07:26:44.355037Z",
     "iopub.status.idle": "2024-04-08T07:26:44.371562Z",
     "shell.execute_reply": "2024-04-08T07:26:44.369373Z",
     "shell.execute_reply.started": "2024-04-08T07:26:44.356090Z"
    },
    "id": "3WRRIolXrzph",
    "outputId": "2c5be49b-cdf4-41ef-9211-730f351d9ea0"
   },
   "outputs": [
    {
     "data": {
      "text/plain": [
       "((39723,), (39723,))"
      ]
     },
     "execution_count": 96,
     "metadata": {},
     "output_type": "execute_result"
    }
   ],
   "source": [
    "X.shape, y.shape"
   ]
  },
  {
   "cell_type": "markdown",
   "metadata": {
    "id": "xgb-U--HWhGk"
   },
   "source": [
    "### Text Data Preprocessing"
   ]
  },
  {
   "cell_type": "code",
   "execution_count": 97,
   "metadata": {
    "execution": {
     "iopub.execute_input": "2024-04-08T07:26:44.375685Z",
     "iopub.status.busy": "2024-04-08T07:26:44.374319Z",
     "iopub.status.idle": "2024-04-08T07:26:44.389320Z",
     "shell.execute_reply": "2024-04-08T07:26:44.387900Z",
     "shell.execute_reply.started": "2024-04-08T07:26:44.375636Z"
    },
    "id": "c4o-RT8TWdyp"
   },
   "outputs": [],
   "source": [
    "import re\n",
    "\n",
    "def text_cleaning(text):\n",
    "    # Step 1: Convert text to lowercase\n",
    "    text = text.lower()\n",
    "\n",
    "    # Step 2: Remove HTML tags\n",
    "    text = re.sub(pattern=r'<.*?>', repl='', string=text)\n",
    "\n",
    "    # Step 3: Remove URLs\n",
    "    text = re.sub(pattern=r'http\\S+|www\\S+|ftp\\S+', repl='', string=text)\n",
    "\n",
    "    # Step 4: Remove 'rt'\n",
    "    text = re.sub(pattern=r' rt', repl='', string=text)\n",
    "\n",
    "    # Step 5: Remove words starting with '!'\n",
    "    text = re.sub(pattern=r'!\\S+', repl='', string=text)\n",
    "\n",
    "    # Step 6: Remove mentions starting with '@'\n",
    "    #text = re.sub(pattern=r'@\\S+', repl='', string=text)\n",
    "\n",
    "    # Step 7: Remove Unicode emojis\n",
    "    text = re.sub(pattern=r'&#\\d+;', repl='', string=text)\n",
    "\n",
    "    text = re.sub(pattern=r'&amp', repl='', string=text)\n",
    "\n",
    "    # Step 8: Remove '#' and '$'\n",
    "    text = re.sub(pattern=r'#|\\$', repl='', string=text)\n",
    "\n",
    "    # Step 9: Remove non-alphabetic characters\n",
    "    text = re.sub(r'[^a-zA-Z\\s]', '', text)\n",
    "\n",
    "    # Step 10: Remove numeric digits\n",
    "    text = re.sub(r'\\d+', '', text)\n",
    "\n",
    "    # Step 11: Remove punctuation\n",
    "    text = re.sub(r'[^\\w\\s]', '', text)\n",
    "\n",
    "    # Step 12: Remove single characters\n",
    "    text = re.sub(r'\\b\\w\\b', '', text)\n",
    "\n",
    "    # Step 13: Remove extra whitespaces\n",
    "    text = re.sub(r'\\s+', ' ', text).strip()\n",
    "\n",
    "    return text\n"
   ]
  },
  {
   "cell_type": "code",
   "execution_count": 98,
   "metadata": {
    "execution": {
     "iopub.execute_input": "2024-04-08T07:26:44.399000Z",
     "iopub.status.busy": "2024-04-08T07:26:44.398333Z",
     "iopub.status.idle": "2024-04-08T07:27:01.186850Z",
     "shell.execute_reply": "2024-04-08T07:27:01.184727Z",
     "shell.execute_reply.started": "2024-04-08T07:26:44.398964Z"
    },
    "id": "me3dmKMcWd2U"
   },
   "outputs": [],
   "source": [
    "X= X.apply(text_cleaning)"
   ]
  },
  {
   "cell_type": "code",
   "execution_count": 99,
   "metadata": {
    "colab": {
     "base_uri": "https://localhost:8080/"
    },
    "execution": {
     "iopub.execute_input": "2024-04-08T07:27:01.189683Z",
     "iopub.status.busy": "2024-04-08T07:27:01.189255Z",
     "iopub.status.idle": "2024-04-08T07:27:01.197547Z",
     "shell.execute_reply": "2024-04-08T07:27:01.195674Z",
     "shell.execute_reply.started": "2024-04-08T07:27:01.189653Z"
    },
    "id": "Hx7TvvwHWd41",
    "outputId": "30f50010-4ce1-4c67-c0a7-72959bccef1d"
   },
   "outputs": [
    {
     "name": "stdout",
     "output_type": "stream",
     "text": [
      "<class 'pandas.core.series.Series'>\n"
     ]
    }
   ],
   "source": [
    "print(type(X))"
   ]
  },
  {
   "cell_type": "code",
   "execution_count": 100,
   "metadata": {
    "colab": {
     "base_uri": "https://localhost:8080/"
    },
    "execution": {
     "iopub.execute_input": "2024-04-08T07:27:01.199916Z",
     "iopub.status.busy": "2024-04-08T07:27:01.199491Z",
     "iopub.status.idle": "2024-04-08T07:27:01.214709Z",
     "shell.execute_reply": "2024-04-08T07:27:01.213130Z",
     "shell.execute_reply.started": "2024-04-08T07:27:01.199863Z"
    },
    "id": "ObIO6teGWd8q",
    "outputId": "192fbf21-66d7-4446-9c19-94546b80faeb"
   },
   "outputs": [
    {
     "data": {
      "text/plain": [
       "0    grew up watching and loving the thunderbirds a...\n",
       "1    when put this movie in my dvd player and sat d...\n",
       "2    why do people who do not know what particular ...\n",
       "3    even though have great interest in biblical mo...\n",
       "4    im die hard dads army fan and nothing will eve...\n",
       "Name: text, dtype: object"
      ]
     },
     "execution_count": 100,
     "metadata": {},
     "output_type": "execute_result"
    }
   ],
   "source": [
    "X[:5]"
   ]
  },
  {
   "cell_type": "markdown",
   "metadata": {
    "id": "r9BU47SnXAtd"
   },
   "source": [
    "Stop word removal"
   ]
  },
  {
   "cell_type": "code",
   "execution_count": 101,
   "metadata": {
    "execution": {
     "iopub.execute_input": "2024-04-08T07:27:01.217139Z",
     "iopub.status.busy": "2024-04-08T07:27:01.216571Z",
     "iopub.status.idle": "2024-04-08T07:27:01.228909Z",
     "shell.execute_reply": "2024-04-08T07:27:01.227451Z",
     "shell.execute_reply.started": "2024-04-08T07:27:01.217092Z"
    },
    "id": "omhAsJngWeZ1"
   },
   "outputs": [],
   "source": [
    "def stopwords_removal(text):\n",
    "    words= word_tokenize(text)\n",
    "    stopword= set(stopwords.words('english'))\n",
    "    filtered_text= [word for word in words if word.lower() not in stopword]\n",
    "    return ' '.join(filtered_text)"
   ]
  },
  {
   "cell_type": "markdown",
   "metadata": {
    "id": "HtMo_rNgZGqu"
   },
   "source": []
  },
  {
   "cell_type": "code",
   "execution_count": 102,
   "metadata": {
    "colab": {
     "base_uri": "https://localhost:8080/"
    },
    "execution": {
     "iopub.execute_input": "2024-04-08T07:27:01.232197Z",
     "iopub.status.busy": "2024-04-08T07:27:01.231604Z",
     "iopub.status.idle": "2024-04-08T07:28:38.602762Z",
     "shell.execute_reply": "2024-04-08T07:28:38.601050Z",
     "shell.execute_reply.started": "2024-04-08T07:27:01.232151Z"
    },
    "id": "QYbOWZlOXMXd",
    "outputId": "3b7b6553-17c6-47b6-aca9-7f68f517af45"
   },
   "outputs": [
    {
     "data": {
      "text/plain": [
       "0    grew watching loving thunderbirds mates school...\n",
       "1    put movie dvd player sat coke chips expectatio...\n",
       "2    people know particular time past like feel nee...\n",
       "3    even though great interest biblical movies bor...\n",
       "4    im die hard dads army fan nothing ever change ...\n",
       "Name: text, dtype: object"
      ]
     },
     "execution_count": 102,
     "metadata": {},
     "output_type": "execute_result"
    }
   ],
   "source": [
    "X= X.apply(stopwords_removal)\n",
    "X[:5]"
   ]
  },
  {
   "cell_type": "markdown",
   "metadata": {
    "id": "p1g0Yh6ybppq"
   },
   "source": [
    "### Stemming"
   ]
  },
  {
   "cell_type": "code",
   "execution_count": 103,
   "metadata": {
    "execution": {
     "iopub.execute_input": "2024-04-08T07:28:38.605600Z",
     "iopub.status.busy": "2024-04-08T07:28:38.604578Z",
     "iopub.status.idle": "2024-04-08T07:28:38.612690Z",
     "shell.execute_reply": "2024-04-08T07:28:38.610651Z",
     "shell.execute_reply.started": "2024-04-08T07:28:38.605562Z"
    },
    "id": "Mg-IrEXjaPNf"
   },
   "outputs": [],
   "source": [
    "def stemming(text):\n",
    "    words= word_tokenize(text)\n",
    "    stemmer= PorterStemmer()\n",
    "    stemmed_text= [stemmer.stem(word) for word in words]\n",
    "    return ' '.join(stemmed_text)"
   ]
  },
  {
   "cell_type": "code",
   "execution_count": 104,
   "metadata": {
    "colab": {
     "base_uri": "https://localhost:8080/"
    },
    "execution": {
     "iopub.execute_input": "2024-04-08T07:28:38.615502Z",
     "iopub.status.busy": "2024-04-08T07:28:38.615040Z",
     "iopub.status.idle": "2024-04-08T07:33:01.012403Z",
     "shell.execute_reply": "2024-04-08T07:33:01.011088Z",
     "shell.execute_reply.started": "2024-04-08T07:28:38.615469Z"
    },
    "id": "Gp-hBLCoXMai",
    "outputId": "4eb4000e-b1a1-4bee-934f-6517bdec13ac"
   },
   "outputs": [
    {
     "data": {
      "text/plain": [
       "0    grew watch love thunderbird mate school watch ...\n",
       "1    put movi dvd player sat coke chip expect hope ...\n",
       "2    peopl know particular time past like feel need...\n",
       "3    even though great interest biblic movi bore de...\n",
       "4    im die hard dad armi fan noth ever chang got t...\n",
       "Name: text, dtype: object"
      ]
     },
     "execution_count": 104,
     "metadata": {},
     "output_type": "execute_result"
    }
   ],
   "source": [
    "X1= X.apply(stemming)\n",
    "X1[:5]"
   ]
  },
  {
   "cell_type": "code",
   "execution_count": 105,
   "metadata": {
    "execution": {
     "iopub.execute_input": "2024-04-08T07:33:01.014641Z",
     "iopub.status.busy": "2024-04-08T07:33:01.014263Z",
     "iopub.status.idle": "2024-04-08T07:33:01.019712Z",
     "shell.execute_reply": "2024-04-08T07:33:01.017979Z",
     "shell.execute_reply.started": "2024-04-08T07:33:01.014610Z"
    },
    "id": "-Dt4go23XMeA"
   },
   "outputs": [],
   "source": [
    "### Lemmatization"
   ]
  },
  {
   "cell_type": "code",
   "execution_count": 108,
   "metadata": {
    "execution": {
     "iopub.execute_input": "2024-04-08T07:41:14.389014Z",
     "iopub.status.busy": "2024-04-08T07:41:14.388490Z",
     "iopub.status.idle": "2024-04-08T07:41:14.394955Z",
     "shell.execute_reply": "2024-04-08T07:41:14.393609Z",
     "shell.execute_reply.started": "2024-04-08T07:41:14.388979Z"
    },
    "id": "kU4wGk2mXMhm"
   },
   "outputs": [],
   "source": [
    "#def lemmetizing(text):\n",
    " #   words= word_tokenize(text)\n",
    " # lemmatizer= WordNetLemmatizer()\n",
    " #   lemmatized_text= [lemmatizer.lemmatize(word,pos='v') for word in words]\n",
    "  #  return ' '.join(lemmatized_text)"
   ]
  },
  {
   "cell_type": "code",
   "execution_count": 109,
   "metadata": {
    "execution": {
     "iopub.execute_input": "2024-04-08T07:41:15.044441Z",
     "iopub.status.busy": "2024-04-08T07:41:15.043686Z",
     "iopub.status.idle": "2024-04-08T07:41:15.048896Z",
     "shell.execute_reply": "2024-04-08T07:41:15.047992Z",
     "shell.execute_reply.started": "2024-04-08T07:41:15.044405Z"
    },
    "id": "6_JfjH4KXMoj"
   },
   "outputs": [],
   "source": [
    "#X2= X.apply(lemmetizing)"
   ]
  },
  {
   "cell_type": "code",
   "execution_count": 110,
   "metadata": {
    "colab": {
     "base_uri": "https://localhost:8080/"
    },
    "execution": {
     "iopub.execute_input": "2024-04-08T07:41:16.110731Z",
     "iopub.status.busy": "2024-04-08T07:41:16.109386Z",
     "iopub.status.idle": "2024-04-08T07:41:16.123240Z",
     "shell.execute_reply": "2024-04-08T07:41:16.120962Z",
     "shell.execute_reply.started": "2024-04-08T07:41:16.110687Z"
    },
    "id": "koxi3i39XMvM",
    "outputId": "def98404-af62-41a1-d88e-ed1965c51ff6"
   },
   "outputs": [
    {
     "data": {
      "text/plain": [
       "0    grew watching loving thunderbirds mates school...\n",
       "1    put movie dvd player sat coke chips expectatio...\n",
       "2    people know particular time past like feel nee...\n",
       "3    even though great interest biblical movies bor...\n",
       "4    im die hard dads army fan nothing ever change ...\n",
       "Name: text, dtype: object"
      ]
     },
     "execution_count": 110,
     "metadata": {},
     "output_type": "execute_result"
    }
   ],
   "source": [
    "X.head()"
   ]
  },
  {
   "cell_type": "code",
   "execution_count": 111,
   "metadata": {
    "colab": {
     "base_uri": "https://localhost:8080/"
    },
    "execution": {
     "iopub.execute_input": "2024-04-08T07:41:17.486375Z",
     "iopub.status.busy": "2024-04-08T07:41:17.485969Z",
     "iopub.status.idle": "2024-04-08T07:41:17.496742Z",
     "shell.execute_reply": "2024-04-08T07:41:17.495237Z",
     "shell.execute_reply.started": "2024-04-08T07:41:17.486346Z"
    },
    "id": "xaH8igtyXMyd",
    "outputId": "ae75c524-724f-4217-b713-2082c0470527"
   },
   "outputs": [
    {
     "data": {
      "text/plain": [
       "0    0\n",
       "1    0\n",
       "2    0\n",
       "3    0\n",
       "4    1\n",
       "Name: label, dtype: int64"
      ]
     },
     "execution_count": 111,
     "metadata": {},
     "output_type": "execute_result"
    }
   ],
   "source": [
    "y.head()"
   ]
  },
  {
   "cell_type": "code",
   "execution_count": 114,
   "metadata": {
    "execution": {
     "iopub.execute_input": "2024-04-08T07:41:42.883953Z",
     "iopub.status.busy": "2024-04-08T07:41:42.883474Z",
     "iopub.status.idle": "2024-04-08T07:41:50.305850Z",
     "shell.execute_reply": "2024-04-08T07:41:50.304503Z",
     "shell.execute_reply.started": "2024-04-08T07:41:42.883920Z"
    },
    "id": "h15mQsnfdfCv"
   },
   "outputs": [],
   "source": [
    "from sklearn.feature_extraction.text import TfidfVectorizer\n",
    "\n",
    "tf_idf= TfidfVectorizer()\n",
    "transformed_tf_idf= tf_idf.fit_transform(X1)"
   ]
  },
  {
   "cell_type": "code",
   "execution_count": 115,
   "metadata": {
    "colab": {
     "base_uri": "https://localhost:8080/"
    },
    "execution": {
     "iopub.execute_input": "2024-04-08T07:41:50.309805Z",
     "iopub.status.busy": "2024-04-08T07:41:50.309285Z",
     "iopub.status.idle": "2024-04-08T07:41:50.500004Z",
     "shell.execute_reply": "2024-04-08T07:41:50.498632Z",
     "shell.execute_reply.started": "2024-04-08T07:41:50.309762Z"
    },
    "id": "kfisvsOudfGW",
    "outputId": "cdbc4b2a-f55a-4005-d5cb-3796f829ed4b"
   },
   "outputs": [
    {
     "name": "stdout",
     "output_type": "stream",
     "text": [
      "['aa' 'aaa' 'aaaa' 'aaaaaaaaaaaahhhhhhhhhhhhhh' 'aaaaaaaargh' 'aaaaaaah'\n",
      " 'aaaaaaahhhhhhggg' 'aaaaagh' 'aaaaah' 'aaaaargh'\n",
      " 'aaaaarrrrrrgggggghhhhhh' 'aaaaaw' 'aaaahhhhhh' 'aaaahhhhhhh' 'aaaand'\n",
      " 'aaaggghhhhhhh' 'aaah' 'aaahhhhhhh' 'aaahth' 'aaargh' 'aachen' 'aada'\n",
      " 'aadha' 'aag' 'aagh' 'aaghh' 'aah' 'aahemi' 'aahhhh' 'aaila' 'aailiyah'\n",
      " 'aaip' 'aaja' 'aajala' 'aak' 'aakash' 'aaker' 'aalcc' 'aaliyah' 'aalox'\n",
      " 'aam' 'aamess' 'aamiln' 'aamir' 'aamirso' 'aamr' 'aan' 'aankhen' 'aaoon'\n",
      " 'aap']\n"
     ]
    }
   ],
   "source": [
    "# Assuming tf_idf is your TF-IDF vectorizer\n",
    "feature_names = tf_idf.get_feature_names_out()\n",
    "\n",
    "# Display the first 10 items in the vocabulary\n",
    "print(feature_names[:50])\n"
   ]
  },
  {
   "cell_type": "code",
   "execution_count": 116,
   "metadata": {
    "colab": {
     "base_uri": "https://localhost:8080/",
     "height": 141
    },
    "execution": {
     "iopub.execute_input": "2024-04-08T07:41:52.685894Z",
     "iopub.status.busy": "2024-04-08T07:41:52.684561Z",
     "iopub.status.idle": "2024-04-08T07:41:52.694117Z",
     "shell.execute_reply": "2024-04-08T07:41:52.692598Z",
     "shell.execute_reply.started": "2024-04-08T07:41:52.685821Z"
    },
    "id": "CXSSmWPpdfI3",
    "outputId": "7a37eacc-e7ba-449f-cfde-698422495164"
   },
   "outputs": [
    {
     "data": {
      "text/plain": [
       "(39723, 148621)"
      ]
     },
     "execution_count": 116,
     "metadata": {},
     "output_type": "execute_result"
    }
   ],
   "source": [
    "transformed_tf_idf.shape"
   ]
  },
  {
   "cell_type": "code",
   "execution_count": 117,
   "metadata": {
    "execution": {
     "iopub.execute_input": "2024-04-08T07:41:54.527069Z",
     "iopub.status.busy": "2024-04-08T07:41:54.526642Z",
     "iopub.status.idle": "2024-04-08T07:42:15.430831Z",
     "shell.execute_reply": "2024-04-08T07:42:15.429287Z",
     "shell.execute_reply.started": "2024-04-08T07:41:54.527031Z"
    },
    "id": "30AkalpwdfLf"
   },
   "outputs": [
    {
     "data": {
      "text/plain": [
       "array([0., 0., 0., 0., 0., 0., 0., 0., 0., 0., 0., 0., 0., 0., 0., 0., 0.,\n",
       "       0., 0., 0., 0., 0., 0., 0., 0., 0., 0., 0., 0., 0., 0., 0., 0., 0.,\n",
       "       0., 0., 0., 0., 0., 0., 0., 0., 0., 0., 0., 0., 0., 0., 0., 0., 0.,\n",
       "       0., 0., 0., 0., 0., 0., 0., 0., 0., 0., 0., 0., 0., 0., 0., 0., 0.,\n",
       "       0., 0., 0., 0., 0., 0., 0., 0., 0., 0., 0., 0., 0., 0., 0., 0., 0.,\n",
       "       0., 0., 0., 0., 0., 0., 0., 0., 0., 0., 0., 0., 0., 0., 0.])"
      ]
     },
     "execution_count": 117,
     "metadata": {},
     "output_type": "execute_result"
    }
   ],
   "source": [
    "transformed_tf_idf.toarray()[2,100:200]"
   ]
  },
  {
   "cell_type": "code",
   "execution_count": 119,
   "metadata": {
    "colab": {
     "base_uri": "https://localhost:8080/",
     "height": 158
    },
    "execution": {
     "iopub.execute_input": "2024-04-08T07:42:28.385477Z",
     "iopub.status.busy": "2024-04-08T07:42:28.385054Z",
     "iopub.status.idle": "2024-04-08T07:42:28.429577Z",
     "shell.execute_reply": "2024-04-08T07:42:28.428245Z",
     "shell.execute_reply.started": "2024-04-08T07:42:28.385440Z"
    },
    "id": "Ser2UoCldfOE",
    "outputId": "19d18228-b32f-43d3-8648-1cdb200df745"
   },
   "outputs": [],
   "source": [
    "from sklearn.model_selection import train_test_split\n",
    "X_train,X_test,y_train,y_test= train_test_split(transformed_tf_idf,y,test_size=0.2)"
   ]
  },
  {
   "cell_type": "code",
   "execution_count": 122,
   "metadata": {
    "execution": {
     "iopub.execute_input": "2024-04-08T07:45:06.470763Z",
     "iopub.status.busy": "2024-04-08T07:45:06.470272Z",
     "iopub.status.idle": "2024-04-08T07:45:06.523830Z",
     "shell.execute_reply": "2024-04-08T07:45:06.522556Z",
     "shell.execute_reply.started": "2024-04-08T07:45:06.470728Z"
    },
    "id": "joZ2XbHodfRx"
   },
   "outputs": [
    {
     "data": {
      "text/html": [
       "<style>#sk-container-id-2 {color: black;background-color: white;}#sk-container-id-2 pre{padding: 0;}#sk-container-id-2 div.sk-toggleable {background-color: white;}#sk-container-id-2 label.sk-toggleable__label {cursor: pointer;display: block;width: 100%;margin-bottom: 0;padding: 0.3em;box-sizing: border-box;text-align: center;}#sk-container-id-2 label.sk-toggleable__label-arrow:before {content: \"▸\";float: left;margin-right: 0.25em;color: #696969;}#sk-container-id-2 label.sk-toggleable__label-arrow:hover:before {color: black;}#sk-container-id-2 div.sk-estimator:hover label.sk-toggleable__label-arrow:before {color: black;}#sk-container-id-2 div.sk-toggleable__content {max-height: 0;max-width: 0;overflow: hidden;text-align: left;background-color: #f0f8ff;}#sk-container-id-2 div.sk-toggleable__content pre {margin: 0.2em;color: black;border-radius: 0.25em;background-color: #f0f8ff;}#sk-container-id-2 input.sk-toggleable__control:checked~div.sk-toggleable__content {max-height: 200px;max-width: 100%;overflow: auto;}#sk-container-id-2 input.sk-toggleable__control:checked~label.sk-toggleable__label-arrow:before {content: \"▾\";}#sk-container-id-2 div.sk-estimator input.sk-toggleable__control:checked~label.sk-toggleable__label {background-color: #d4ebff;}#sk-container-id-2 div.sk-label input.sk-toggleable__control:checked~label.sk-toggleable__label {background-color: #d4ebff;}#sk-container-id-2 input.sk-hidden--visually {border: 0;clip: rect(1px 1px 1px 1px);clip: rect(1px, 1px, 1px, 1px);height: 1px;margin: -1px;overflow: hidden;padding: 0;position: absolute;width: 1px;}#sk-container-id-2 div.sk-estimator {font-family: monospace;background-color: #f0f8ff;border: 1px dotted black;border-radius: 0.25em;box-sizing: border-box;margin-bottom: 0.5em;}#sk-container-id-2 div.sk-estimator:hover {background-color: #d4ebff;}#sk-container-id-2 div.sk-parallel-item::after {content: \"\";width: 100%;border-bottom: 1px solid gray;flex-grow: 1;}#sk-container-id-2 div.sk-label:hover label.sk-toggleable__label {background-color: #d4ebff;}#sk-container-id-2 div.sk-serial::before {content: \"\";position: absolute;border-left: 1px solid gray;box-sizing: border-box;top: 0;bottom: 0;left: 50%;z-index: 0;}#sk-container-id-2 div.sk-serial {display: flex;flex-direction: column;align-items: center;background-color: white;padding-right: 0.2em;padding-left: 0.2em;position: relative;}#sk-container-id-2 div.sk-item {position: relative;z-index: 1;}#sk-container-id-2 div.sk-parallel {display: flex;align-items: stretch;justify-content: center;background-color: white;position: relative;}#sk-container-id-2 div.sk-item::before, #sk-container-id-2 div.sk-parallel-item::before {content: \"\";position: absolute;border-left: 1px solid gray;box-sizing: border-box;top: 0;bottom: 0;left: 50%;z-index: -1;}#sk-container-id-2 div.sk-parallel-item {display: flex;flex-direction: column;z-index: 1;position: relative;background-color: white;}#sk-container-id-2 div.sk-parallel-item:first-child::after {align-self: flex-end;width: 50%;}#sk-container-id-2 div.sk-parallel-item:last-child::after {align-self: flex-start;width: 50%;}#sk-container-id-2 div.sk-parallel-item:only-child::after {width: 0;}#sk-container-id-2 div.sk-dashed-wrapped {border: 1px dashed gray;margin: 0 0.4em 0.5em 0.4em;box-sizing: border-box;padding-bottom: 0.4em;background-color: white;}#sk-container-id-2 div.sk-label label {font-family: monospace;font-weight: bold;display: inline-block;line-height: 1.2em;}#sk-container-id-2 div.sk-label-container {text-align: center;}#sk-container-id-2 div.sk-container {/* jupyter's `normalize.less` sets `[hidden] { display: none; }` but bootstrap.min.css set `[hidden] { display: none !important; }` so we also need the `!important` here to be able to override the default hidden behavior on the sphinx rendered scikit-learn.org. See: https://github.com/scikit-learn/scikit-learn/issues/21755 */display: inline-block !important;position: relative;}#sk-container-id-2 div.sk-text-repr-fallback {display: none;}</style><div id=\"sk-container-id-2\" class=\"sk-top-container\"><div class=\"sk-text-repr-fallback\"><pre>MultinomialNB()</pre><b>In a Jupyter environment, please rerun this cell to show the HTML representation or trust the notebook. <br />On GitHub, the HTML representation is unable to render, please try loading this page with nbviewer.org.</b></div><div class=\"sk-container\" hidden><div class=\"sk-item\"><div class=\"sk-estimator sk-toggleable\"><input class=\"sk-toggleable__control sk-hidden--visually\" id=\"sk-estimator-id-2\" type=\"checkbox\" checked><label for=\"sk-estimator-id-2\" class=\"sk-toggleable__label sk-toggleable__label-arrow\">MultinomialNB</label><div class=\"sk-toggleable__content\"><pre>MultinomialNB()</pre></div></div></div></div></div>"
      ],
      "text/plain": [
       "MultinomialNB()"
      ]
     },
     "execution_count": 122,
     "metadata": {},
     "output_type": "execute_result"
    }
   ],
   "source": [
    "from sklearn.naive_bayes import MultinomialNB\n",
    "from sklearn.metrics import accuracy_score, classification_report\n",
    "model = MultinomialNB()\n",
    "model.fit(X_train, y_train)"
   ]
  },
  {
   "cell_type": "code",
   "execution_count": 123,
   "metadata": {
    "execution": {
     "iopub.execute_input": "2024-04-08T07:45:30.121423Z",
     "iopub.status.busy": "2024-04-08T07:45:30.120952Z",
     "iopub.status.idle": "2024-04-08T07:45:30.137774Z",
     "shell.execute_reply": "2024-04-08T07:45:30.135716Z",
     "shell.execute_reply.started": "2024-04-08T07:45:30.121392Z"
    },
    "id": "2xuJP1VvdfUg"
   },
   "outputs": [],
   "source": [
    "y_pred = model.predict(X_test)"
   ]
  },
  {
   "cell_type": "code",
   "execution_count": 124,
   "metadata": {
    "execution": {
     "iopub.execute_input": "2024-04-08T07:45:47.140568Z",
     "iopub.status.busy": "2024-04-08T07:45:47.138901Z",
     "iopub.status.idle": "2024-04-08T07:45:47.194863Z",
     "shell.execute_reply": "2024-04-08T07:45:47.192951Z",
     "shell.execute_reply.started": "2024-04-08T07:45:47.140490Z"
    },
    "id": "P6jmBNledfXC"
   },
   "outputs": [],
   "source": [
    "accuracy = accuracy_score(y_test, y_pred)\n",
    "report = classification_report(y_test, y_pred)"
   ]
  },
  {
   "cell_type": "code",
   "execution_count": 125,
   "metadata": {
    "execution": {
     "iopub.execute_input": "2024-04-08T07:46:00.089546Z",
     "iopub.status.busy": "2024-04-08T07:46:00.088165Z",
     "iopub.status.idle": "2024-04-08T07:46:00.099738Z",
     "shell.execute_reply": "2024-04-08T07:46:00.097215Z",
     "shell.execute_reply.started": "2024-04-08T07:46:00.089502Z"
    },
    "id": "Ni8wvIFgdfcE"
   },
   "outputs": [
    {
     "data": {
      "text/plain": [
       "0.8590308370044053"
      ]
     },
     "execution_count": 125,
     "metadata": {},
     "output_type": "execute_result"
    }
   ],
   "source": [
    "accuracy"
   ]
  },
  {
   "cell_type": "code",
   "execution_count": 127,
   "metadata": {
    "execution": {
     "iopub.execute_input": "2024-04-08T07:46:30.804193Z",
     "iopub.status.busy": "2024-04-08T07:46:30.803091Z",
     "iopub.status.idle": "2024-04-08T07:46:30.810031Z",
     "shell.execute_reply": "2024-04-08T07:46:30.808557Z",
     "shell.execute_reply.started": "2024-04-08T07:46:30.804143Z"
    },
    "id": "j9y8bjKJdfec"
   },
   "outputs": [],
   "source": [
    "### Prediction support"
   ]
  },
  {
   "cell_type": "code",
   "execution_count": 130,
   "metadata": {
    "execution": {
     "iopub.execute_input": "2024-04-08T07:49:14.264637Z",
     "iopub.status.busy": "2024-04-08T07:49:14.264165Z",
     "iopub.status.idle": "2024-04-08T07:49:14.272391Z",
     "shell.execute_reply": "2024-04-08T07:49:14.270544Z",
     "shell.execute_reply.started": "2024-04-08T07:49:14.264606Z"
    }
   },
   "outputs": [],
   "source": [
    "def predict_sentiment(sentence, model, feature_names):\n",
    "    cleaned_sentence = clean_text(sentence) # clear sentence\n",
    "    sentence_vectorized = feature_names.transform([cleaned_sentence]).toarray() # vectorize the sentence\n",
    "    prediction = model.predict(sentence_vectorized) # to predict with use model\n",
    "    return prediction"
   ]
  },
  {
   "cell_type": "code",
   "execution_count": null,
   "metadata": {
    "id": "VsXgTGYadfjZ"
   },
   "outputs": [],
   "source": []
  },
  {
   "cell_type": "markdown",
   "metadata": {},
   "source": [
    "### Performance matrix"
   ]
  },
  {
   "cell_type": "code",
   "execution_count": 135,
   "metadata": {
    "execution": {
     "iopub.execute_input": "2024-04-08T07:54:08.631372Z",
     "iopub.status.busy": "2024-04-08T07:54:08.630863Z",
     "iopub.status.idle": "2024-04-08T07:54:08.832294Z",
     "shell.execute_reply": "2024-04-08T07:54:08.830991Z",
     "shell.execute_reply.started": "2024-04-08T07:54:08.631338Z"
    },
    "id": "d07UaXmcdflp"
   },
   "outputs": [
    {
     "data": {
      "image/png": "[encoded data removed]",
      "text/plain": [
       "<Figure size 800x600 with 1 Axes>"
      ]
     },
     "metadata": {},
     "output_type": "display_data"
    },
    {
     "name": "stdout",
     "output_type": "stream",
     "text": [
      "Accuracy: 0.8590308370044053\n",
      "Rapor:\n",
      "              precision    recall  f1-score   support\n",
      "\n",
      "           0       0.85      0.87      0.86      3956\n",
      "           1       0.87      0.85      0.86      3989\n",
      "\n",
      "    accuracy                           0.86      7945\n",
      "   macro avg       0.86      0.86      0.86      7945\n",
      "weighted avg       0.86      0.86      0.86      7945\n",
      "\n"
     ]
    }
   ],
   "source": [
    "# Model performansını görselleştirme\n",
    "conf_matrix = confusion_matrix(y_test, y_pred)\n",
    "plt.figure(figsize=(8, 6))\n",
    "sns.heatmap(conf_matrix, annot=True, fmt='d', cmap='Blues', cbar=False)\n",
    "\n",
    "plt.show()\n",
    "\n",
    "print(\"Accuracy:\", accuracy)\n",
    "\n",
    "print(report)"
   ]
  },
  {
   "cell_type": "code",
   "execution_count": null,
   "metadata": {
    "id": "vX5JzGs-NZFd"
   },
   "outputs": [],
   "source": []
  },
  {
   "cell_type": "code",
   "execution_count": null,
   "metadata": {
    "id": "XQh568YvFXiq"
   },
   "outputs": [],
   "source": []
  },
  {
   "cell_type": "code",
   "execution_count": null,
   "metadata": {
    "id": "-6ex7ADFEYuB"
   },
   "outputs": [],
   "source": []
  },
  {
   "cell_type": "code",
   "execution_count": null,
   "metadata": {
    "id": "KfT7yPITEYxT"
   },
   "outputs": [],
   "source": []
  },
  {
   "cell_type": "code",
   "execution_count": null,
   "metadata": {
    "id": "H75d_r6zEYzS"
   },
   "outputs": [],
   "source": []
  },
  {
   "cell_type": "code",
   "execution_count": null,
   "metadata": {
    "id": "MguURPIqEY2B"
   },
   "outputs": [],
   "source": []
  },
  {
   "cell_type": "code",
   "execution_count": null,
   "metadata": {
    "id": "BRCMo_A3EY5N"
   },
   "outputs": [],
   "source": []
  },
  {
   "cell_type": "code",
   "execution_count": null,
   "metadata": {
    "id": "NpkmTdKgEY8R"
   },
   "outputs": [],
   "source": []
  },
  {
   "cell_type": "code",
   "execution_count": null,
   "metadata": {
    "id": "PUF2rPUJEZAR"
   },
   "outputs": [],
   "source": []
  },
  {
   "cell_type": "code",
   "execution_count": null,
   "metadata": {
    "id": "IlJltcvJEZDo"
   },
   "outputs": [],
   "source": []
  },
  {
   "cell_type": "code",
   "execution_count": null,
   "metadata": {
    "id": "AseM3BtCrz-U"
   },
   "outputs": [],
   "source": []
  }
 ],
 "metadata": {
  "accelerator": "GPU",
  "colab": {
   "gpuType": "T4",
   "provenance": []
  },
  "kaggle": {
   "accelerator": "none",
   "dataSources": [
    {
     "datasetId": 4754343,
     "sourceId": 8060154,
     "sourceType": "datasetVersion"
    }
   ],
   "dockerImageVersionId": 30673,
   "isGpuEnabled": false,
   "isInternetEnabled": true,
   "language": "python",
   "sourceType": "notebook"
  },
  "kernelspec": {
   "display_name": "Python 3 (ipykernel)",
   "language": "python",
   "name": "python3"
  },
  "language_info": {
   "codemirror_mode": {
    "name": "ipython",
    "version": 3
   },
   "file_extension": ".py",
   "mimetype": "text/x-python",
   "name": "python",
   "nbconvert_exporter": "python",
   "pygments_lexer": "ipython3",
   "version": "3.11.4"
  }
 },
 "nbformat": 4,
 "nbformat_minor": 4
}
